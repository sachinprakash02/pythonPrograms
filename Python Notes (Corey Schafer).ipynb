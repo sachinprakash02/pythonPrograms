{
 "cells": [
  {
   "cell_type": "markdown",
   "metadata": {},
   "source": [
    "<b> Video 2 : Working With Strings <b>"
   ]
  },
  {
   "cell_type": "code",
   "execution_count": 15,
   "metadata": {},
   "outputs": [
    {
     "data": {
      "text/plain": [
       "48"
      ]
     },
     "execution_count": 15,
     "metadata": {},
     "output_type": "execute_result"
    }
   ],
   "source": [
    "eval('2*(4*6)')"
   ]
  },
  {
   "cell_type": "code",
   "execution_count": 18,
   "metadata": {},
   "outputs": [
    {
     "name": "stdout",
     "output_type": "stream",
     "text": [
      "1\n",
      "3\n"
     ]
    }
   ],
   "source": [
    "message = 'hello world'\n",
    "print(message.count('hello'))\n",
    "print(message.count('l'))"
   ]
  },
  {
   "cell_type": "code",
   "execution_count": 19,
   "metadata": {},
   "outputs": [
    {
     "name": "stdout",
     "output_type": "stream",
     "text": [
      "-1\n",
      "6\n"
     ]
    }
   ],
   "source": [
    "\n",
    "print(message.find('Sachin')) # Doesnot exist,returns -1\n",
    "print(message.find('world'))\n"
   ]
  },
  {
   "cell_type": "code",
   "execution_count": 20,
   "metadata": {},
   "outputs": [
    {
     "name": "stdout",
     "output_type": "stream",
     "text": [
      "hello world\n"
     ]
    }
   ],
   "source": [
    "message.replace('world','universe')\n",
    "print(message) # Doesn't do inplace replacment"
   ]
  },
  {
   "cell_type": "code",
   "execution_count": 21,
   "metadata": {},
   "outputs": [
    {
     "name": "stdout",
     "output_type": "stream",
     "text": [
      "Hello, Sachin; Welcome!\n"
     ]
    }
   ],
   "source": [
    "greeting = 'Hello'\n",
    "name = 'Sachin'\n",
    "\n",
    "message1 = '{}, {}; Welcome!'.format(greeting,name)\n",
    "print(message1) \n",
    "# Above approch is more subtle than using + for concat"
   ]
  },
  {
   "cell_type": "code",
   "execution_count": 22,
   "metadata": {},
   "outputs": [
    {
     "name": "stdout",
     "output_type": "stream",
     "text": [
      "Hello, SACHIN; Welcome Home!\n"
     ]
    }
   ],
   "source": [
    "#How to use fstrings in python (3.6 Above)\n",
    "messagef = f'{greeting}, {name.upper()}; Welcome Home!'\n",
    "print(messagef)\n",
    "# In the place holders just put the variable name \n",
    "# can also use methods inside {} using fstrings"
   ]
  },
  {
   "cell_type": "code",
   "execution_count": 23,
   "metadata": {},
   "outputs": [
    {
     "name": "stdout",
     "output_type": "stream",
     "text": [
      "['__add__', '__class__', '__contains__', '__delattr__', '__dir__', '__doc__', '__eq__', '__format__', '__ge__', '__getattribute__', '__getitem__', '__getnewargs__', '__gt__', '__hash__', '__init__', '__init_subclass__', '__iter__', '__le__', '__len__', '__lt__', '__mod__', '__mul__', '__ne__', '__new__', '__reduce__', '__reduce_ex__', '__repr__', '__rmod__', '__rmul__', '__setattr__', '__sizeof__', '__str__', '__subclasshook__', 'capitalize', 'casefold', 'center', 'count', 'encode', 'endswith', 'expandtabs', 'find', 'format', 'format_map', 'index', 'isalnum', 'isalpha', 'isascii', 'isdecimal', 'isdigit', 'isidentifier', 'islower', 'isnumeric', 'isprintable', 'isspace', 'istitle', 'isupper', 'join', 'ljust', 'lower', 'lstrip', 'maketrans', 'partition', 'replace', 'rfind', 'rindex', 'rjust', 'rpartition', 'rsplit', 'rstrip', 'split', 'splitlines', 'startswith', 'strip', 'swapcase', 'title', 'translate', 'upper', 'zfill']\n"
     ]
    }
   ],
   "source": [
    "# The dir() is a inbuild method that shows us access to\n",
    "# all the methods availabe with the variable\n",
    "print(dir(name))"
   ]
  },
  {
   "cell_type": "code",
   "execution_count": 24,
   "metadata": {},
   "outputs": [
    {
     "name": "stdout",
     "output_type": "stream",
     "text": [
      "Help on method_descriptor:\n",
      "\n",
      "lower(self, /)\n",
      "    Return a copy of the string converted to lowercase.\n",
      "\n",
      "None\n"
     ]
    }
   ],
   "source": [
    "# print(help(str))\n",
    "# returns all the method with description\n",
    "\n",
    "print(help(str.lower))\n",
    "# write method name along for specific "
   ]
  },
  {
   "cell_type": "markdown",
   "metadata": {},
   "source": [
    "<b> Video 3 : Working with Numbers <b>"
   ]
  },
  {
   "cell_type": "code",
   "execution_count": 28,
   "metadata": {},
   "outputs": [
    {
     "name": "stdout",
     "output_type": "stream",
     "text": [
      "2\n"
     ]
    }
   ],
   "source": [
    " # Incrementing Numbers\n",
    "num = 1\n",
    "num += 1 #short hand for -> num = num +1\n",
    "print(num)"
   ]
  },
  {
   "cell_type": "code",
   "execution_count": 30,
   "metadata": {},
   "outputs": [
    {
     "name": "stdout",
     "output_type": "stream",
     "text": [
      "3\n"
     ]
    }
   ],
   "source": [
    "# Rounding\n",
    "print(round(3.37))"
   ]
  },
  {
   "cell_type": "code",
   "execution_count": 31,
   "metadata": {},
   "outputs": [
    {
     "name": "stdout",
     "output_type": "stream",
     "text": [
      "4\n"
     ]
    }
   ],
   "source": [
    "print(round(3.57))"
   ]
  },
  {
   "cell_type": "code",
   "execution_count": 40,
   "metadata": {},
   "outputs": [
    {
     "name": "stdout",
     "output_type": "stream",
     "text": [
      "3.74\n"
     ]
    }
   ],
   "source": [
    "print(round(3.743,2))"
   ]
  },
  {
   "cell_type": "code",
   "execution_count": 41,
   "metadata": {},
   "outputs": [
    {
     "name": "stdout",
     "output_type": "stream",
     "text": [
      "3.75\n"
     ]
    }
   ],
   "source": [
    "print(round(3.746,2))"
   ]
  },
  {
   "cell_type": "markdown",
   "metadata": {},
   "source": [
    "<b> Video 4 : List, Sets, Tuples <b>"
   ]
  },
  {
   "cell_type": "code",
   "execution_count": 42,
   "metadata": {},
   "outputs": [
    {
     "name": "stdout",
     "output_type": "stream",
     "text": [
      "CompSci\n"
     ]
    }
   ],
   "source": [
    "# list allow us to work with sequential data\n",
    "# Tuple allow us to work with non-duplicate data\n",
    "\n",
    "courses = ['History','Math','Physics','CompSci']\n",
    "print(courses[-1]) # negative indexing"
   ]
  },
  {
   "cell_type": "code",
   "execution_count": 43,
   "metadata": {},
   "outputs": [
    {
     "name": "stdout",
     "output_type": "stream",
     "text": [
      "['History', 'Math']\n"
     ]
    }
   ],
   "source": [
    "print(courses[0:2]) # SLicing"
   ]
  },
  {
   "cell_type": "code",
   "execution_count": 44,
   "metadata": {},
   "outputs": [
    {
     "name": "stdout",
     "output_type": "stream",
     "text": [
      "['Geography', 'History', 'Math', 'Physics', 'CompSci', 'Arts']\n"
     ]
    }
   ],
   "source": [
    "courses.insert(0,'Geography')\n",
    "courses.append('Arts')\n",
    "print(courses)"
   ]
  },
  {
   "cell_type": "code",
   "execution_count": 47,
   "metadata": {},
   "outputs": [
    {
     "name": "stdout",
     "output_type": "stream",
     "text": [
      "[['Civics', 'Biology'], 'History', 'Math', 'Physics', 'CompSci']\n"
     ]
    }
   ],
   "source": [
    "courses = ['History','Math','Physics','CompSci']\n",
    "courses_2 = ['Civics','Biology']\n",
    "# Using insert to insert as a list\n",
    "courses.insert(0,courses_2)\n",
    "print(courses)"
   ]
  },
  {
   "cell_type": "code",
   "execution_count": 2,
   "metadata": {},
   "outputs": [
    {
     "name": "stdout",
     "output_type": "stream",
     "text": [
      "['History', 'Math', 'Physics', 'CompSci', 'Civics', 'Biology']\n"
     ]
    }
   ],
   "source": [
    "# extend() to add values of both the list\n",
    "courses = ['History','Math','Physics','CompSci']\n",
    "courses_2 = ['Civics','Biology']\n",
    "courses.extend(courses_2)\n",
    "print(courses) # appends in the end"
   ]
  },
  {
   "cell_type": "code",
   "execution_count": 4,
   "metadata": {},
   "outputs": [
    {
     "name": "stdout",
     "output_type": "stream",
     "text": [
      "['History', 'Physics', 'CompSci', 'Civics', 'Biology']\n"
     ]
    }
   ],
   "source": [
    "# remove() to remove the value\n",
    "courses.remove('Math')\n",
    "print(courses)"
   ]
  },
  {
   "cell_type": "code",
   "execution_count": 52,
   "metadata": {},
   "outputs": [
    {
     "name": "stdout",
     "output_type": "stream",
     "text": [
      "Biology\n"
     ]
    }
   ],
   "source": [
    "# pop() returns the value that is removed useful for stacks or queues\n",
    "popped = courses.pop()\n",
    "print(popped)"
   ]
  },
  {
   "cell_type": "code",
   "execution_count": 53,
   "metadata": {},
   "outputs": [
    {
     "name": "stdout",
     "output_type": "stream",
     "text": [
      "['Civics', 'CompSci', 'Physics', 'History']\n"
     ]
    }
   ],
   "source": [
    "courses.reverse() # reverses the order of value within \n",
    "print(courses)"
   ]
  },
  {
   "cell_type": "code",
   "execution_count": 56,
   "metadata": {},
   "outputs": [
    {
     "name": "stdout",
     "output_type": "stream",
     "text": [
      "['Civics', 'CompSci', 'History', 'Physics']\n",
      "Ascending Order: [1, 3, 4, 5]\n",
      "Decending Order: [5, 4, 3, 1]\n"
     ]
    }
   ],
   "source": [
    "# Sorting\n",
    "courses.sort() # sorts in alphabetically order\n",
    "print(courses)\n",
    "# On numbers:\n",
    "num = [1,5,4,3]\n",
    "num.sort() # on ascending order\n",
    "print(\"Ascending Order:\",num)\n",
    "num.sort(reverse=True) # as Decending Order\n",
    "print(\"Decending Order:\",num)"
   ]
  },
  {
   "cell_type": "code",
   "execution_count": 58,
   "metadata": {},
   "outputs": [
    {
     "name": "stdout",
     "output_type": "stream",
     "text": [
      "Original: ['History', 'Math', 'Physics', 'CompSci']\n",
      "Sorted: ['CompSci', 'History', 'Math', 'Physics']\n"
     ]
    }
   ],
   "source": [
    "# to get sorted version without altering the original list\n",
    "courses = ['History','Math','Physics','CompSci']\n",
    "courses_sorted = sorted(courses)\n",
    "print(\"Original:\",courses)\n",
    "print(\"Sorted:\",courses_sorted)"
   ]
  },
  {
   "cell_type": "code",
   "execution_count": 59,
   "metadata": {},
   "outputs": [
    {
     "name": "stdout",
     "output_type": "stream",
     "text": [
      "1\n",
      "5\n",
      "13\n"
     ]
    }
   ],
   "source": [
    "# Min-max-sum value\n",
    "print(min(num))\n",
    "print(max(num))\n",
    "print(sum(num))"
   ]
  },
  {
   "cell_type": "code",
   "execution_count": 61,
   "metadata": {},
   "outputs": [
    {
     "name": "stdout",
     "output_type": "stream",
     "text": [
      "1\n"
     ]
    },
    {
     "ename": "ValueError",
     "evalue": "'Arts' is not in list",
     "output_type": "error",
     "traceback": [
      "\u001b[1;31m---------------------------------------------------------------------------\u001b[0m",
      "\u001b[1;31mValueError\u001b[0m                                Traceback (most recent call last)",
      "\u001b[1;32m<ipython-input-61-da7324e76966>\u001b[0m in \u001b[0;36m<module>\u001b[1;34m\u001b[0m\n\u001b[0;32m      1\u001b[0m \u001b[1;31m# to find the index of a value:\u001b[0m\u001b[1;33m\u001b[0m\u001b[1;33m\u001b[0m\u001b[1;33m\u001b[0m\u001b[0m\n\u001b[0;32m      2\u001b[0m \u001b[0mprint\u001b[0m\u001b[1;33m(\u001b[0m\u001b[0mcourses\u001b[0m\u001b[1;33m.\u001b[0m\u001b[0mindex\u001b[0m\u001b[1;33m(\u001b[0m\u001b[1;34m'Math'\u001b[0m\u001b[1;33m)\u001b[0m\u001b[1;33m)\u001b[0m\u001b[1;33m\u001b[0m\u001b[1;33m\u001b[0m\u001b[0m\n\u001b[1;32m----> 3\u001b[1;33m \u001b[0mprint\u001b[0m\u001b[1;33m(\u001b[0m\u001b[0mcourses\u001b[0m\u001b[1;33m.\u001b[0m\u001b[0mindex\u001b[0m\u001b[1;33m(\u001b[0m\u001b[1;34m'Arts'\u001b[0m\u001b[1;33m)\u001b[0m\u001b[1;33m)\u001b[0m\u001b[1;33m\u001b[0m\u001b[1;33m\u001b[0m\u001b[0m\n\u001b[0m",
      "\u001b[1;31mValueError\u001b[0m: 'Arts' is not in list"
     ]
    }
   ],
   "source": [
    "# to find the index of a value:\n",
    "print(courses.index('Math'))\n",
    "print(courses.index('Arts')) # not in the list\n"
   ]
  },
  {
   "cell_type": "code",
   "execution_count": 62,
   "metadata": {},
   "outputs": [
    {
     "name": "stdout",
     "output_type": "stream",
     "text": [
      "False\n"
     ]
    }
   ],
   "source": [
    "print('Art' in courses) # If 'Art' is in the list"
   ]
  },
  {
   "cell_type": "code",
   "execution_count": 5,
   "metadata": {},
   "outputs": [
    {
     "name": "stdout",
     "output_type": "stream",
     "text": [
      "History\n",
      "Math\n",
      "Physics\n",
      "CompSci\n"
     ]
    }
   ],
   "source": [
    "courses = ['History','Math','Physics','CompSci']\n",
    "\n",
    "for course in courses:\n",
    "    print(course)"
   ]
  },
  {
   "cell_type": "code",
   "execution_count": 8,
   "metadata": {},
   "outputs": [
    {
     "name": "stdout",
     "output_type": "stream",
     "text": [
      "<class 'numpy.ndarray'>\n"
     ]
    }
   ],
   "source": [
    "import numpy as np\n",
    "n_course = np.array(courses)\n",
    "print(type(n_course))"
   ]
  },
  {
   "cell_type": "code",
   "execution_count": 76,
   "metadata": {},
   "outputs": [
    {
     "name": "stdout",
     "output_type": "stream",
     "text": [
      "10 : History\n",
      "11 : Math\n",
      "12 : Physics\n",
      "13 : CompSci\n"
     ]
    }
   ],
   "source": [
    "for idx,course in enumerate(courses,start=10):\n",
    "    print(idx,\":\",course) # starts index from 10"
   ]
  },
  {
   "cell_type": "code",
   "execution_count": 10,
   "metadata": {},
   "outputs": [
    {
     "name": "stdout",
     "output_type": "stream",
     "text": [
      "History--Math--Physics--CompSci\n"
     ]
    }
   ],
   "source": [
    "course_str = \"--\".join(courses)\n",
    "print(course_str)"
   ]
  },
  {
   "cell_type": "code",
   "execution_count": 16,
   "metadata": {},
   "outputs": [
    {
     "name": "stdout",
     "output_type": "stream",
     "text": [
      "History--Math--Physics--CompSci <class 'str'>\n"
     ]
    }
   ],
   "source": [
    "course_lst = course_str.split() # string set at index = 0\n",
    "print(course_lst[0],type(course_lst[0]))"
   ]
  },
  {
   "cell_type": "code",
   "execution_count": 17,
   "metadata": {},
   "outputs": [
    {
     "data": {
      "text/plain": [
       "['History--Math--Physics--CompSci']"
      ]
     },
     "execution_count": 17,
     "metadata": {},
     "output_type": "execute_result"
    }
   ],
   "source": [
    "course_lst"
   ]
  },
  {
   "cell_type": "code",
   "execution_count": 89,
   "metadata": {},
   "outputs": [
    {
     "name": "stdout",
     "output_type": "stream",
     "text": [
      "['History', 'Math', 'Physics', 'CompSci']\n"
     ]
    }
   ],
   "source": [
    "course_lst = course_str.split(\"--\")\n",
    "print(course_lst)"
   ]
  },
  {
   "cell_type": "code",
   "execution_count": 94,
   "metadata": {},
   "outputs": [
    {
     "name": "stdout",
     "output_type": "stream",
     "text": [
      "List 2 also changed as list is mutable: ['History', 'Math', 'Physics', 'CompSci', 'Hindi']\n"
     ]
    }
   ],
   "source": [
    "# Tuples are immutable, they can not be modified\n",
    "courses_1 = ['History','Math','Physics','CompSci']\n",
    "courses_2 = courses_1\n",
    "courses_1.append(\"Hindi\")\n",
    "print(\"List 2 also changed as list is mutable:\",courses_2)"
   ]
  },
  {
   "cell_type": "code",
   "execution_count": 20,
   "metadata": {},
   "outputs": [
    {
     "ename": "AttributeError",
     "evalue": "'tuple' object has no attribute 'append'",
     "output_type": "error",
     "traceback": [
      "\u001b[1;31m---------------------------------------------------------------------------\u001b[0m",
      "\u001b[1;31mAttributeError\u001b[0m                            Traceback (most recent call last)",
      "\u001b[1;32m<ipython-input-20-b4b01522f875>\u001b[0m in \u001b[0;36m<module>\u001b[1;34m\u001b[0m\n\u001b[0;32m      2\u001b[0m \u001b[0mcourses_2\u001b[0m \u001b[1;33m=\u001b[0m \u001b[0mcourses_1\u001b[0m\u001b[1;33m\u001b[0m\u001b[1;33m\u001b[0m\u001b[0m\n\u001b[0;32m      3\u001b[0m \u001b[1;31m# courses_1[0] = \"Hindi\"\u001b[0m\u001b[1;33m\u001b[0m\u001b[1;33m\u001b[0m\u001b[1;33m\u001b[0m\u001b[0m\n\u001b[1;32m----> 4\u001b[1;33m \u001b[0mcourses_2\u001b[0m\u001b[1;33m.\u001b[0m\u001b[0mappend\u001b[0m\u001b[1;33m(\u001b[0m\u001b[1;34m'Hero'\u001b[0m\u001b[1;33m)\u001b[0m\u001b[1;33m\u001b[0m\u001b[1;33m\u001b[0m\u001b[0m\n\u001b[0m\u001b[0;32m      5\u001b[0m \u001b[1;31m# they donot support item assignment\u001b[0m\u001b[1;33m\u001b[0m\u001b[1;33m\u001b[0m\u001b[1;33m\u001b[0m\u001b[0m\n",
      "\u001b[1;31mAttributeError\u001b[0m: 'tuple' object has no attribute 'append'"
     ]
    }
   ],
   "source": [
    "courses_1 = ('History','Math','Physics','CompSci',\"Math\")\n",
    "courses_2 = courses_1\n",
    "courses_1[0] = \"Hindi\"\n",
    "# courses_2.append('Hero')\n",
    "# they donot support item assignment"
   ]
  },
  {
   "cell_type": "code",
   "execution_count": 21,
   "metadata": {},
   "outputs": [
    {
     "name": "stdout",
     "output_type": "stream",
     "text": [
      "True\n",
      "('History', 'Math', 'Physics', 'CompSci', 'Math')\n"
     ]
    }
   ],
   "source": [
    "print(courses_1 is courses_2)\n",
    "print(courses_2)"
   ]
  },
  {
   "cell_type": "code",
   "execution_count": 22,
   "metadata": {},
   "outputs": [
    {
     "name": "stdout",
     "output_type": "stream",
     "text": [
      "{'History', 'Physics', 'CompSci', 'Math'}\n"
     ]
    }
   ],
   "source": [
    "# Sets - used to test if value is part of set or not or removes deuplicates\n",
    "cs_courses = {'History','Math','Physics','CompSci','Math','Math'}\n",
    "print(cs_courses) # order of value is not maintained as input"
   ]
  },
  {
   "cell_type": "code",
   "execution_count": 103,
   "metadata": {},
   "outputs": [
    {
     "name": "stdout",
     "output_type": "stream",
     "text": [
      "True\n"
     ]
    }
   ],
   "source": [
    "print (\"Math\" in cs_courses)"
   ]
  },
  {
   "cell_type": "code",
   "execution_count": 106,
   "metadata": {},
   "outputs": [
    {
     "name": "stdout",
     "output_type": "stream",
     "text": [
      "Intersection/Common: {'Math', 'History'}\n",
      "Diffrence/Not in other: {'Physics', 'CompSci'}\n",
      "Union: {'Math', 'History', 'Art', 'Physics', 'CompSci', 'Design'}\n"
     ]
    }
   ],
   "source": [
    "cs_courses = {'History','Math','Physics','CompSci'}\n",
    "art_courses = {'History','Math','Art','Design'}\n",
    "print(\"Intersection/Common:\",cs_courses.intersection(art_courses))\n",
    "print(\"Diffrence/Not in other:\",cs_courses.difference(art_courses))\n",
    "print(\"Union:\",cs_courses.union(art_courses))\n"
   ]
  },
  {
   "cell_type": "code",
   "execution_count": 107,
   "metadata": {},
   "outputs": [],
   "source": [
    "empty_set = set() # Not {}"
   ]
  },
  {
   "cell_type": "markdown",
   "metadata": {},
   "source": [
    "#### Video 4 : Dictionary"
   ]
  },
  {
   "cell_type": "code",
   "execution_count": 23,
   "metadata": {},
   "outputs": [
    {
     "name": "stdout",
     "output_type": "stream",
     "text": [
      "{'name': 'Sachin', 'age': 27, 'courses': ['Math', 'CompSci']}\n"
     ]
    }
   ],
   "source": [
    "student = {'name' : 'Sachin','age':27, 'courses':[\"Math\",\"CompSci\"]}\n",
    "print(student)"
   ]
  },
  {
   "cell_type": "code",
   "execution_count": 24,
   "metadata": {},
   "outputs": [
    {
     "name": "stdout",
     "output_type": "stream",
     "text": [
      "Sachin\n"
     ]
    }
   ],
   "source": [
    "print(student[\"name\"])"
   ]
  },
  {
   "cell_type": "code",
   "execution_count": 25,
   "metadata": {},
   "outputs": [
    {
     "name": "stdout",
     "output_type": "stream",
     "text": [
      "None\n"
     ]
    }
   ],
   "source": [
    "# keys can be string and integer\n",
    "# To return a default if key is not present\n",
    "print(student.get('phone'))"
   ]
  },
  {
   "cell_type": "code",
   "execution_count": 26,
   "metadata": {},
   "outputs": [
    {
     "name": "stdout",
     "output_type": "stream",
     "text": [
      "Not Found\n"
     ]
    }
   ],
   "source": [
    "print(student.get('phone','Not Found')) # With Default Message"
   ]
  },
  {
   "cell_type": "code",
   "execution_count": 27,
   "metadata": {},
   "outputs": [
    {
     "name": "stdout",
     "output_type": "stream",
     "text": [
      "{'name': 'Sachin', 'age': 27, 'courses': ['Math', 'CompSci'], 'phone': 9972173321}\n"
     ]
    }
   ],
   "source": [
    "student[\"phone\"]=9972173321\n",
    "print(student)"
   ]
  },
  {
   "cell_type": "code",
   "execution_count": 28,
   "metadata": {},
   "outputs": [
    {
     "name": "stdout",
     "output_type": "stream",
     "text": [
      "{'name': 'Prakash', 'age': 27, 'courses': ['Math', 'CompSci'], 'phone': 9972173321, 'city': 'Buxar'}\n"
     ]
    }
   ],
   "source": [
    "# Using update method :\n",
    "student.update({'name':'Prakash','city':\"Buxar\"})\n",
    "print(student)"
   ]
  },
  {
   "cell_type": "code",
   "execution_count": 29,
   "metadata": {},
   "outputs": [
    {
     "name": "stdout",
     "output_type": "stream",
     "text": [
      "{'name': 'Prakash', 'age': 27, 'courses': ['Math', 'CompSci'], 'phone': 9972173321}\n"
     ]
    }
   ],
   "source": [
    "# to delete :\n",
    "del student[\"city\"]\n",
    "print(student)"
   ]
  },
  {
   "cell_type": "code",
   "execution_count": 30,
   "metadata": {},
   "outputs": [
    {
     "name": "stdout",
     "output_type": "stream",
     "text": [
      "27\n"
     ]
    }
   ],
   "source": [
    "popped = student.pop(\"age\")\n",
    "print(popped) # value"
   ]
  },
  {
   "cell_type": "code",
   "execution_count": 32,
   "metadata": {},
   "outputs": [
    {
     "name": "stdout",
     "output_type": "stream",
     "text": [
      "dict_keys(['name', 'courses', 'phone'])\n",
      "dict_values(['Prakash', ['Math', 'CompSci'], 9972173321])\n",
      "dict_items([('name', 'Prakash'), ('courses', ['Math', 'CompSci']), ('phone', 9972173321)])\n"
     ]
    }
   ],
   "source": [
    "print(student.keys())\n",
    "print(student.values())\n",
    "print(student.items())"
   ]
  },
  {
   "cell_type": "code",
   "execution_count": 125,
   "metadata": {},
   "outputs": [
    {
     "name": "stdout",
     "output_type": "stream",
     "text": [
      "This only gives keys: name\n",
      "This only gives keys: courses\n",
      "This only gives keys: phone\n",
      "(Key,Value): ('name', 'Prakash')\n",
      "(Key,Value): ('courses', ['Math', 'CompSci'])\n",
      "(Key,Value): ('phone', 9972173321)\n",
      "name : Prakash\n",
      "courses : ['Math', 'CompSci']\n",
      "phone : 9972173321\n"
     ]
    }
   ],
   "source": [
    "for key in student:\n",
    "    print(\"This only gives keys:\",key)\n",
    "for kv in student.items():\n",
    "    print(\"(Key,Value):\",kv) # as tuple\n",
    "for key,value in student.items():\n",
    "    print(key,\":\",value)"
   ]
  },
  {
   "cell_type": "markdown",
   "metadata": {},
   "source": [
    "#### Conditionals"
   ]
  },
  {
   "cell_type": "code",
   "execution_count": 34,
   "metadata": {},
   "outputs": [
    {
     "name": "stdout",
     "output_type": "stream",
     "text": [
      "a == b True\n",
      "a is b False\n",
      "a is c True\n",
      "a is d False\n",
      "a is e True\n",
      "ID of a 2646166441800\n",
      "ID of e 2646166441800\n",
      "a is e True\n",
      "a: [1, 2, 3, 4]\n",
      "e: [1, 2, 3, 4]\n",
      "ID of e 2646166441800\n",
      "ID of c 2646166441800\n"
     ]
    }
   ],
   "source": [
    "# 'is' keyword is used to check the value identity i.e location in memory\n",
    "# 'not' is just used to switch a boolean True becomes False\n",
    "a = [1,2,3]\n",
    "b = [1,2,3]\n",
    "c = a\n",
    "d = list(a)\n",
    "e = c\n",
    "\n",
    "print(\"a == b\",a == b)\n",
    "print(\"a is b\",a is b)\n",
    "print(\"a is c\",a is c)\n",
    "print(\"a is d\",a is d)\n",
    "print(\"a is e\",a is e)\n",
    "\n",
    "print(\"ID of a\",id(a))\n",
    "print(\"ID of e\",id(e))\n",
    "\n",
    "e.append(4)\n",
    "\n",
    "print(\"a is e\",a is e)\n",
    "print(\"a:\",a)\n",
    "print(\"e:\",e)\n",
    "print(\"ID of e\",id(e))\n",
    "print(\"ID of c\",id(c))"
   ]
  },
  {
   "cell_type": "code",
   "execution_count": 141,
   "metadata": {},
   "outputs": [
    {
     "name": "stdout",
     "output_type": "stream",
     "text": [
      "10\n"
     ]
    }
   ],
   "source": [
    "condition1 = 0\n",
    "condition2 = 10\n",
    "condition3 = []\n",
    "condition4 = {}\n",
    "condition5 = ''\n",
    "\n",
    "if condition1:\n",
    "    print(\"O\")\n",
    "if condition2:\n",
    "    print(\"10\")\n",
    "if condition3:\n",
    "    print(\"10\")\n",
    "if condition4:\n",
    "    print(\"{}\")\n",
    "if condition5:\n",
    "    print(\"''\")\n",
    "# Zero evaluates to False"
   ]
  },
  {
   "cell_type": "markdown",
   "metadata": {},
   "source": [
    "#### Video 7: Loop and Iterator"
   ]
  },
  {
   "cell_type": "code",
   "execution_count": 142,
   "metadata": {},
   "outputs": [],
   "source": [
    "# for loop iterate till maximum number of value\n",
    "# while iterates till condition is true"
   ]
  },
  {
   "cell_type": "markdown",
   "metadata": {},
   "source": [
    "#### Video 8: Functions"
   ]
  },
  {
   "cell_type": "code",
   "execution_count": 35,
   "metadata": {},
   "outputs": [
    {
     "name": "stdout",
     "output_type": "stream",
     "text": [
      "Args: ('Math', 'Art')\n",
      "Math\n",
      "Kwargs: {'name': 'Sachin', 'age': 27}\n"
     ]
    }
   ],
   "source": [
    "# Handling variable length arguments\n",
    "# *args -> arguments\n",
    "# **kwargs -> Keyword Arguments\n",
    "\n",
    "def student_info(*args,**kwargs):\n",
    "    print(\"Args:\",args) #-> tuple when returned\n",
    "    print(args[0])\n",
    "    print(\"Kwargs:\",kwargs) #-> dictionary when returned\n",
    "\n",
    "student_info('Math','Art',name='Sachin',age=27)"
   ]
  },
  {
   "cell_type": "code",
   "execution_count": 148,
   "metadata": {},
   "outputs": [
    {
     "name": "stdout",
     "output_type": "stream",
     "text": [
      "Args: (['Math', 'Art'], {'name': 'sachin', 'age': 27})\n",
      "Kwargs: {}\n"
     ]
    }
   ],
   "source": [
    "# passing a list and dictionary as variable length\n",
    "courses = ['Math','Art']\n",
    "info = {'name':'sachin','age':27}\n",
    "student_info(courses,info) # everythig gets considered as a *args"
   ]
  },
  {
   "cell_type": "code",
   "execution_count": 149,
   "metadata": {
    "scrolled": true
   },
   "outputs": [
    {
     "name": "stdout",
     "output_type": "stream",
     "text": [
      "Args: ('Math', 'Art')\n",
      "Kwargs: {'name': 'sachin', 'age': 27}\n"
     ]
    }
   ],
   "source": [
    "student_info(*courses,**info) # unpacks values"
   ]
  },
  {
   "cell_type": "code",
   "execution_count": null,
   "metadata": {},
   "outputs": [],
   "source": []
  },
  {
   "cell_type": "markdown",
   "metadata": {},
   "source": [
    "#### Video 9: Import"
   ]
  },
  {
   "cell_type": "code",
   "execution_count": 152,
   "metadata": {},
   "outputs": [],
   "source": [
    "# import sys\n",
    "# if module not in the same working directory:\n",
    "# 1. Add that path in the sys.path\n",
    "# print(sys.path)\n",
    "# sys.path.append('/user/...')"
   ]
  },
  {
   "cell_type": "code",
   "execution_count": 153,
   "metadata": {},
   "outputs": [],
   "source": [
    "# 2. change the enviroment variable\n",
    "# Enviroment variable -> User variable -> New -< Name,path"
   ]
  },
  {
   "cell_type": "code",
   "execution_count": 154,
   "metadata": {},
   "outputs": [
    {
     "name": "stdout",
     "output_type": "stream",
     "text": [
      "C:\\Users\\sachin.b.prakash\n"
     ]
    }
   ],
   "source": [
    "import os\n",
    "print(os.getcwd()) # Gives the current working directory"
   ]
  },
  {
   "cell_type": "code",
   "execution_count": 156,
   "metadata": {},
   "outputs": [
    {
     "name": "stdout",
     "output_type": "stream",
     "text": [
      "C:\\Users\\sachin.b.prakash\\AppData\\Local\\Continuum\\anaconda3\\lib\\os.py\n"
     ]
    }
   ],
   "source": [
    "print(os.__file__) # gets location of the os module; a module is asicaaly a python file"
   ]
  },
  {
   "cell_type": "markdown",
   "metadata": {},
   "source": [
    "#### Video 13: pip "
   ]
  },
  {
   "cell_type": "code",
   "execution_count": 157,
   "metadata": {},
   "outputs": [],
   "source": [
    "# pip search PackageName -> Gives description of the package\n",
    "# pip list -> list of all package\n",
    "# pip uninstall PackageName -> uninstall\n",
    "# pip list -o -> list of all outdated package\n",
    "# pip install -U PackageName -> upgrades \n",
    "# pip freeze -> list of packages installed with version\n",
    "# pip install -r file_name.txt -> installs all the modules from a requirement file\n"
   ]
  },
  {
   "cell_type": "markdown",
   "metadata": {},
   "source": [
    "#### Video 14: Virtual Environment"
   ]
  },
  {
   "cell_type": "code",
   "execution_count": 158,
   "metadata": {},
   "outputs": [],
   "source": [
    "# Way of separating diffrent python environments\n",
    "# cmd> virtualenv VirtualEnvName\n",
    "# cmd> source VirtualEnvName/bin/activate\n",
    "# The enviroment name gets added like (VirtualEnvName)\n",
    "# pip install pandas -> installed in VirtualEnvName"
   ]
  },
  {
   "cell_type": "markdown",
   "metadata": {},
   "source": [
    "#### Video 15: Handling Projects"
   ]
  },
  {
   "cell_type": "code",
   "execution_count": 159,
   "metadata": {},
   "outputs": [],
   "source": [
    "# Look on Internet"
   ]
  },
  {
   "cell_type": "markdown",
   "metadata": {},
   "source": [
    "#### Video 18: Variable Scope"
   ]
  },
  {
   "cell_type": "code",
   "execution_count": 160,
   "metadata": {},
   "outputs": [],
   "source": [
    "# LEGB - Local,Enclosing,Global,Built-in\n",
    "# Local are defined inside a function\n",
    "# Enclosing are defined in the enclosing function\n",
    "# Built-in are keywords or preassigned in python"
   ]
  },
  {
   "cell_type": "code",
   "execution_count": 49,
   "metadata": {},
   "outputs": [
    {
     "name": "stdout",
     "output_type": "stream",
     "text": [
      "x outside before test: global x\n",
      "y: local y\n",
      "x inside the func: local x\n",
      "y doesn't exist\n",
      "x outside: local x\n"
     ]
    }
   ],
   "source": [
    "x = 'global x'\n",
    "\n",
    "def test():\n",
    "    global x # -> tell python that we are working with global - overwrite global for all scopes\n",
    "    x = 'local x'\n",
    "    y = 'local y' # Local\n",
    "    print(\"y:\",y)\n",
    "    print(\"x inside the func:\",x) # if not in local goes to global since there is no enclosing scope\n",
    "print('x outside before test:',x)\n",
    "test() # modifies the behaviour of x\n",
    "try:\n",
    "    print(y) # y doesnot live outside the function\n",
    "except:\n",
    "    print(\"y doesn't exist\")\n",
    "    pass\n",
    "print(\"x outside:\",x)"
   ]
  },
  {
   "cell_type": "code",
   "execution_count": 170,
   "metadata": {},
   "outputs": [],
   "source": [
    "# To use the built-in names in pyton : import builtins\n",
    "# in this the control ignores the python defined keywords,variables,methods and looks for user defined ones with same name\n",
    "\n",
    "# import builtins\n",
    "\n",
    "# def min():\n",
    "#     pass\n",
    "# m = min([1,4,5,5])\n",
    "# print(m) # throws error since finction m takes no argument"
   ]
  },
  {
   "cell_type": "code",
   "execution_count": 50,
   "metadata": {},
   "outputs": [
    {
     "name": "stdout",
     "output_type": "stream",
     "text": [
      "Inner Func x: Inner x\n",
      "Outer Func x: Outer x\n",
      "global x\n"
     ]
    }
   ],
   "source": [
    "# Enclosing Scope:\n",
    "x = 'global x'\n",
    "def outer():\n",
    "    x = 'Outer x'\n",
    "    def inner():\n",
    "        x = 'Inner x'\n",
    "        print(\"Inner Func x:\",x) # -inner -> outer->global\n",
    "    inner()\n",
    "    print(\"Outer Func x:\",x)\n",
    "    \n",
    "outer()\n",
    "print(x)"
   ]
  },
  {
   "cell_type": "code",
   "execution_count": 179,
   "metadata": {},
   "outputs": [
    {
     "name": "stdout",
     "output_type": "stream",
     "text": [
      "Inner Func x: Inner x\n",
      "Outer Func x: Inner x\n"
     ]
    }
   ],
   "source": [
    "# Enclosing Scope:\n",
    "\n",
    "def outer():\n",
    "    x = 'Outer x'\n",
    "    def inner():\n",
    "        nonlocal x #-> overwrites the scoping var -'Outer x'\n",
    "        # variable should be preent in the coping function for nonlocal\n",
    "        x = 'Inner x'\n",
    "        print(\"Inner Func x:\",x)\n",
    "    inner()\n",
    "    print(\"Outer Func x:\",x)\n",
    "    \n",
    "outer()"
   ]
  },
  {
   "cell_type": "markdown",
   "metadata": {},
   "source": [
    "#### Video 19: List and String Slicing"
   ]
  },
  {
   "cell_type": "code",
   "execution_count": 51,
   "metadata": {},
   "outputs": [
    {
     "name": "stdout",
     "output_type": "stream",
     "text": [
      "[0, 2, 4]\n"
     ]
    }
   ],
   "source": [
    "lst = [0,1,2,3,4,5,6,7,8,9]\n",
    "print(lst[0:-4:2]) # slicing with step,end is exclusive"
   ]
  },
  {
   "cell_type": "code",
   "execution_count": 58,
   "metadata": {},
   "outputs": [
    {
     "name": "stdout",
     "output_type": "stream",
     "text": [
      "[]\n"
     ]
    }
   ],
   "source": [
    "print(lst[2:-1:-1]) # No way to reach from 2 to -1(9)(going from right to left it can't reach -1) and exclude -1 index"
   ]
  },
  {
   "cell_type": "code",
   "execution_count": 53,
   "metadata": {},
   "outputs": [
    {
     "name": "stdout",
     "output_type": "stream",
     "text": [
      "[9, 8, 7, 6, 5, 4, 3]\n"
     ]
    }
   ],
   "source": [
    "print(lst[-1:2:-1]) # from -1 it moves in reverse direction(right to left) to reach 2"
   ]
  },
  {
   "cell_type": "code",
   "execution_count": 60,
   "metadata": {},
   "outputs": [
    {
     "name": "stdout",
     "output_type": "stream",
     "text": [
      "[9, 8, 7, 6, 5, 4, 3, 2, 1, 0]\n"
     ]
    }
   ],
   "source": [
    "# to print the list in reverse:\n",
    "print(lst[::-1]) # start from beginig go to end in right to left "
   ]
  },
  {
   "cell_type": "markdown",
   "metadata": {},
   "source": [
    "#### Video 20: list,dictionary,sets Comprehension"
   ]
  },
  {
   "cell_type": "code",
   "execution_count": 210,
   "metadata": {},
   "outputs": [
    {
     "name": "stdout",
     "output_type": "stream",
     "text": [
      "[0, 1, 4, 9, 16, 25, 36, 49, 64, 81]\n"
     ]
    }
   ],
   "source": [
    "my_lst = [n*n for n in lst]\n",
    "print(my_lst)"
   ]
  },
  {
   "cell_type": "code",
   "execution_count": 211,
   "metadata": {},
   "outputs": [
    {
     "name": "stdout",
     "output_type": "stream",
     "text": [
      "[0, 4, 16, 36, 64]\n"
     ]
    }
   ],
   "source": [
    "even_lst = [n for n in my_lst if (n%2 == 0)]\n",
    "print(even_lst)"
   ]
  },
  {
   "cell_type": "code",
   "execution_count": 218,
   "metadata": {},
   "outputs": [],
   "source": [
    "map_lst = map(lambda n: n*n, my_lst)"
   ]
  },
  {
   "cell_type": "code",
   "execution_count": 219,
   "metadata": {},
   "outputs": [
    {
     "name": "stdout",
     "output_type": "stream",
     "text": [
      "<map object at 0x000001796E222400>\n"
     ]
    }
   ],
   "source": [
    "print(map_lst)"
   ]
  },
  {
   "cell_type": "code",
   "execution_count": 228,
   "metadata": {},
   "outputs": [
    {
     "name": "stdout",
     "output_type": "stream",
     "text": [
      "<filter object at 0x000001796E933860>\n"
     ]
    }
   ],
   "source": [
    "filter_list = filter(lambda n: n%2 == 0,my_lst)\n",
    "print(filter_list)"
   ]
  },
  {
   "cell_type": "code",
   "execution_count": 223,
   "metadata": {
    "scrolled": true
   },
   "outputs": [
    {
     "name": "stdout",
     "output_type": "stream",
     "text": [
      "{'Bruce': 'Batman', 'Clark': 'Superman', 'Peter': 'Spiderman', 'Logan': 'Wolverine', 'Wade': 'Deadpool'}\n"
     ]
    }
   ],
   "source": [
    "# Dictionary Comprehension\n",
    "names = ['Bruce','Clark','Peter','Logan','Wade']\n",
    "heros = ['Batman','Superman','Spiderman','Wolverine','Deadpool']\n",
    "my_dict = {}\n",
    "for name,hero in zip(names,heros):\n",
    "    my_dict[name] = hero\n",
    "print(my_dict)"
   ]
  },
  {
   "cell_type": "code",
   "execution_count": 226,
   "metadata": {},
   "outputs": [
    {
     "name": "stdout",
     "output_type": "stream",
     "text": [
      "{'Bruce': 'Batman', 'Clark': 'Superman', 'Peter': 'Spiderman', 'Logan': 'Wolverine', 'Wade': 'Deadpool'}\n"
     ]
    }
   ],
   "source": [
    "my_dict2 = {name:hero for name,hero in zip(names,heros) } # name:hero -> acts as key:value for each value returned\n",
    "print(my_dict2)"
   ]
  },
  {
   "cell_type": "code",
   "execution_count": 229,
   "metadata": {},
   "outputs": [
    {
     "name": "stdout",
     "output_type": "stream",
     "text": [
      "{1, 2, 3, 4, 5, 7, 8}\n"
     ]
    }
   ],
   "source": [
    "# Set Comprehension\n",
    "nums = [1,1,2,3,4,5,5,7,8,8]\n",
    "my_set = set()\n",
    "for n in nums:\n",
    "    my_set.add(n)\n",
    "    \n",
    "print(my_set)"
   ]
  },
  {
   "cell_type": "code",
   "execution_count": 230,
   "metadata": {},
   "outputs": [
    {
     "name": "stdout",
     "output_type": "stream",
     "text": [
      "{1, 2, 3, 4, 5, 7, 8}\n"
     ]
    }
   ],
   "source": [
    "my_set2 = {n for n in nums}\n",
    "print(my_set2)"
   ]
  },
  {
   "cell_type": "markdown",
   "metadata": {},
   "source": [
    "#### Video 21: Sorting list,Tuple,Objects"
   ]
  },
  {
   "cell_type": "code",
   "execution_count": 231,
   "metadata": {},
   "outputs": [
    {
     "name": "stdout",
     "output_type": "stream",
     "text": [
      "[1, 2, 3, -4, -5, -6]\n"
     ]
    }
   ],
   "source": [
    "li = [-6,-5,-4,1,2,3]\n",
    "# Sorting based on absolute value\n",
    "s_li = sorted(li,key=abs)\n",
    "print(s_li)"
   ]
  },
  {
   "cell_type": "code",
   "execution_count": 232,
   "metadata": {},
   "outputs": [],
   "source": [
    "# sorting object of a class based on specific class attribute\n",
    "# employee = [obj1,obj2,obj3] # obj1 = Employee('Carl',37,700000)...\n",
    "def e_sort(emp):\n",
    "    return emp.name\n",
    "# s_emp = sorted(employee,key=e_sort,reverse=True) # sorting based on the function instaed of abs like preious example"
   ]
  },
  {
   "cell_type": "markdown",
   "metadata": {},
   "source": [
    "#### Video22: String Formatting"
   ]
  },
  {
   "cell_type": "code",
   "execution_count": 239,
   "metadata": {},
   "outputs": [
    {
     "name": "stdout",
     "output_type": "stream",
     "text": [
      "<b><hello><b>\n"
     ]
    }
   ],
   "source": [
    "html_dict = {'tag':'b'}\n",
    "html_dict2 = {'text':'hello'}\n",
    "sentence = \"<{0[tag]}><{1[text]}><{0[tag]}>\".format(html_dict,html_dict2)\n",
    "print(sentence)"
   ]
  },
  {
   "cell_type": "code",
   "execution_count": 62,
   "metadata": {},
   "outputs": [
    {
     "name": "stdout",
     "output_type": "stream",
     "text": [
      "Pi is equal to 3.14\n"
     ]
    }
   ],
   "source": [
    "pi = 3.14159\n",
    "sentence = 'Pi is equal to {:.2f}'.format(pi)\n",
    "print(sentence)"
   ]
  },
  {
   "cell_type": "code",
   "execution_count": 241,
   "metadata": {},
   "outputs": [
    {
     "name": "stdout",
     "output_type": "stream",
     "text": [
      "1 MB is equal to 1,000,000.00\n"
     ]
    }
   ],
   "source": [
    "sentence = '1 MB is equal to {:,.2f}'.format(1000**2)\n",
    "print(sentence) # comma separated and upto  decimal places"
   ]
  },
  {
   "cell_type": "code",
   "execution_count": 1,
   "metadata": {},
   "outputs": [],
   "source": [
    "# exception handling, file handling, classes and objects."
   ]
  },
  {
   "cell_type": "markdown",
   "metadata": {},
   "source": [
    "#### Video 23: OS Module"
   ]
  },
  {
   "cell_type": "code",
   "execution_count": 3,
   "metadata": {},
   "outputs": [
    {
     "name": "stdout",
     "output_type": "stream",
     "text": [
      "C:\\Users\\sachin.b.prakash\n"
     ]
    }
   ],
   "source": [
    "import os\n",
    "#print(dir(os))\n",
    "print(os.getcwd()) # get current working directory"
   ]
  },
  {
   "cell_type": "code",
   "execution_count": null,
   "metadata": {},
   "outputs": [],
   "source": [
    "#os.chdir('/path/') # change working directory"
   ]
  },
  {
   "cell_type": "code",
   "execution_count": 5,
   "metadata": {},
   "outputs": [],
   "source": [
    "#print(os.listdir()) #list all the files and folders in the cwd"
   ]
  },
  {
   "cell_type": "code",
   "execution_count": 10,
   "metadata": {},
   "outputs": [],
   "source": [
    "# craete a new folder in the cwd\n",
    "os.mkdir('PythonNotesDir4')"
   ]
  },
  {
   "cell_type": "code",
   "execution_count": 11,
   "metadata": {},
   "outputs": [],
   "source": [
    "os.mkdir('PythonNotesDir4/SubDir') "
   ]
  },
  {
   "cell_type": "code",
   "execution_count": 12,
   "metadata": {},
   "outputs": [
    {
     "ename": "FileNotFoundError",
     "evalue": "[WinError 3] The system cannot find the path specified: 'PythonNotesDir5/SubDir'",
     "output_type": "error",
     "traceback": [
      "\u001b[1;31m---------------------------------------------------------------------------\u001b[0m",
      "\u001b[1;31mFileNotFoundError\u001b[0m                         Traceback (most recent call last)",
      "\u001b[1;32m<ipython-input-12-48e182c1fbd8>\u001b[0m in \u001b[0;36m<module>\u001b[1;34m\u001b[0m\n\u001b[1;32m----> 1\u001b[1;33m \u001b[0mos\u001b[0m\u001b[1;33m.\u001b[0m\u001b[0mmkdir\u001b[0m\u001b[1;33m(\u001b[0m\u001b[1;34m'PythonNotesDir5/SubDir'\u001b[0m\u001b[1;33m)\u001b[0m\u001b[1;33m\u001b[0m\u001b[1;33m\u001b[0m\u001b[0m\n\u001b[0m",
      "\u001b[1;31mFileNotFoundError\u001b[0m: [WinError 3] The system cannot find the path specified: 'PythonNotesDir5/SubDir'"
     ]
    }
   ],
   "source": [
    "os.mkdir('PythonNotesDir5/SubDir') # cant together deep directories using mkdir"
   ]
  },
  {
   "cell_type": "code",
   "execution_count": 15,
   "metadata": {},
   "outputs": [],
   "source": [
    "os.makedirs('PythonNotesDir5/SubDir') # os.makedirs can do that"
   ]
  },
  {
   "cell_type": "code",
   "execution_count": 16,
   "metadata": {},
   "outputs": [],
   "source": [
    "# deleting a folder:\n",
    "os.rmdir('PythonNotesDir5/SubDir') # deletes the sub directory, the parent directory remains"
   ]
  },
  {
   "cell_type": "code",
   "execution_count": 17,
   "metadata": {},
   "outputs": [],
   "source": [
    "os.removedirs('PythonNotesDir4/SubDir') # deletes everything"
   ]
  },
  {
   "cell_type": "code",
   "execution_count": 18,
   "metadata": {},
   "outputs": [],
   "source": [
    "os.rename('PythonNotesDir1','PythonNotesDir10') # original folder first and then new folder name"
   ]
  },
  {
   "cell_type": "code",
   "execution_count": 19,
   "metadata": {},
   "outputs": [
    {
     "data": {
      "text/plain": [
       "os.stat_result(st_mode=33206, st_ino=73746443898319519, st_dev=2991957546, st_nlink=1, st_uid=0, st_gid=0, st_size=0, st_atime=1606963324, st_mtime=1606963324, st_ctime=1606963324)"
      ]
     },
     "execution_count": 19,
     "metadata": {},
     "output_type": "execute_result"
    }
   ],
   "source": [
    "print(os.stat('py1.txt')) # information about the file"
   ]
  },
  {
   "cell_type": "code",
   "execution_count": 21,
   "metadata": {},
   "outputs": [
    {
     "name": "stdout",
     "output_type": "stream",
     "text": [
      "2020-12-03 08:12:04.697706\n"
     ]
    }
   ],
   "source": [
    "from datetime import datetime\n",
    "m_time = os.stat('py1.txt').st_mtime # modification timestamp\n",
    "print(datetime.fromtimestamp(m_time))"
   ]
  },
  {
   "cell_type": "code",
   "execution_count": 27,
   "metadata": {},
   "outputs": [],
   "source": [
    "#os.walk()\n",
    "# generates a tuple of three value as it is walking the directory tree \n",
    "# (directorypath,directories within that path,files within that path)"
   ]
  },
  {
   "cell_type": "code",
   "execution_count": 65,
   "metadata": {},
   "outputs": [
    {
     "name": "stdout",
     "output_type": "stream",
     "text": [
      "dirpath: C:/Users/sachin.b.prakash/ProcessManager dirnames: ['ProcessManager'] filename: []\n",
      "dirpath: C:/Users/sachin.b.prakash/ProcessManager\\ProcessManager dirnames: [] filename: ['base_command.py', 'ExecutionEngine.py', 'processComponent.py', 'processJsonDeserialization.py', 'process_variable.py', 'string_assign.py', 'variable_store.py']\n",
      "Found\n"
     ]
    }
   ],
   "source": [
    "import os\n",
    "for dirpath,dirnames,filename in os.walk('C:/Users/sachin.b.prakash/ProcessManager'):\n",
    "    print(\"dirpath:\",dirpath,\"dirnames:\",dirnames,\"filename:\",filename)\n",
    "    if  'process_variable.py' in filename:\n",
    "        print(\"Found\")"
   ]
  },
  {
   "cell_type": "code",
   "execution_count": 29,
   "metadata": {},
   "outputs": [],
   "source": [
    "#os.environ # will fetch all the enironmnt variables in a dictionary"
   ]
  },
  {
   "cell_type": "code",
   "execution_count": 30,
   "metadata": {},
   "outputs": [
    {
     "name": "stdout",
     "output_type": "stream",
     "text": [
      "C:\\Users\\sachin.b.prakash\\AppData\\Roaming\n"
     ]
    }
   ],
   "source": [
    "print(os.environ.get('APPDATA'))"
   ]
  },
  {
   "cell_type": "code",
   "execution_count": 67,
   "metadata": {},
   "outputs": [
    {
     "name": "stdout",
     "output_type": "stream",
     "text": [
      "C:\\Users\\sachin.b.prakash\\AppData\\Roaming\\tes2t.txt\n"
     ]
    }
   ],
   "source": [
    "# creating a file in APPDATA:\n",
    "file_path = os.path.join(os.environ.get('APPDATA'),'tes2t.txt')\n",
    "print(file_path)"
   ]
  },
  {
   "cell_type": "code",
   "execution_count": 32,
   "metadata": {},
   "outputs": [],
   "source": [
    "with open (file_path,'w') as f:\n",
    "    f.write(\"hello\")\n",
    "    "
   ]
  },
  {
   "cell_type": "code",
   "execution_count": 33,
   "metadata": {},
   "outputs": [
    {
     "name": "stdout",
     "output_type": "stream",
     "text": [
      "True\n"
     ]
    }
   ],
   "source": [
    "print(os.path.isdir('C:/Users/sachin.b.prakash/ProcessManager')) \n",
    "# returns true if its a directory"
   ]
  },
  {
   "cell_type": "code",
   "execution_count": 37,
   "metadata": {},
   "outputs": [
    {
     "name": "stdout",
     "output_type": "stream",
     "text": [
      "True\n"
     ]
    }
   ],
   "source": [
    "print(os.path.isfile('C:/Users/sachin.b.prakash/ProcessManager/ProcessManager/process_variable.py')) \n",
    "# returns true if its a directory"
   ]
  },
  {
   "cell_type": "code",
   "execution_count": 38,
   "metadata": {},
   "outputs": [],
   "source": [
    "# sys module,subprocess module"
   ]
  },
  {
   "cell_type": "markdown",
   "metadata": {},
   "source": [
    "#### Video 24: File"
   ]
  },
  {
   "cell_type": "code",
   "execution_count": 69,
   "metadata": {},
   "outputs": [
    {
     "name": "stdout",
     "output_type": "stream",
     "text": [
      "Test1.txt\n",
      "r\n"
     ]
    }
   ],
   "source": [
    "f = open('Test1.txt','r') #defaults to reading\n",
    "print(f.name)\n",
    "print(f.mode)\n",
    "f.close() # Explicitly close the file"
   ]
  },
  {
   "cell_type": "code",
   "execution_count": 5,
   "metadata": {},
   "outputs": [
    {
     "name": "stdout",
     "output_type": "stream",
     "text": [
      "['Hello World\\n', 'Bye Bye\\n', 'Ta Ta']\n",
      "True\n"
     ]
    }
   ],
   "source": [
    "# using a context manager:\n",
    "with open('Test1.txt','r') as f:\n",
    "    f_contents = f.readlines() #-> each line displayed in terms of list element\n",
    "    #f_contents = f.read() #-> each line is read;taken in size to read\n",
    "        \n",
    "    print(f_contents)\n",
    "print(f.closed)"
   ]
  },
  {
   "cell_type": "code",
   "execution_count": 7,
   "metadata": {},
   "outputs": [
    {
     "name": "stdout",
     "output_type": "stream",
     "text": [
      "Hello World\n",
      "\n"
     ]
    }
   ],
   "source": [
    "with open('Test1.txt','r') as f2:\n",
    "    f2_content = f2.readline() # only the first line is displayed\n",
    "    print(f2_content)"
   ]
  },
  {
   "cell_type": "code",
   "execution_count": 11,
   "metadata": {},
   "outputs": [
    {
     "name": "stdout",
     "output_type": "stream",
     "text": [
      "Hello World\n",
      "Bye Bye\n",
      "Ta Ta"
     ]
    }
   ],
   "source": [
    "with open('Test1.txt','r') as f3:\n",
    "    for line in f3:\n",
    "        print(line,end='')"
   ]
  },
  {
   "cell_type": "code",
   "execution_count": 12,
   "metadata": {},
   "outputs": [],
   "source": [
    "# f.tell() -> position of the file\n",
    "# f.seek() -> go to that position\n",
    "# 'w' mode overwrites the file."
   ]
  },
  {
   "cell_type": "code",
   "execution_count": 14,
   "metadata": {},
   "outputs": [],
   "source": [
    "with open('Test1.txt','r') as rf:\n",
    "    with open('Test2.txt','w') as wf:\n",
    "        for line in rf:\n",
    "            wf.write(line)"
   ]
  },
  {
   "cell_type": "code",
   "execution_count": 15,
   "metadata": {},
   "outputs": [
    {
     "name": "stdout",
     "output_type": "stream",
     "text": [
      "Hello World\n",
      "\n",
      "Bye Bye\n",
      "\n",
      "Ta Ta\n"
     ]
    }
   ],
   "source": [
    "with open('Test2.txt','r') as f5:\n",
    "    for line in f5:\n",
    "        print(line)"
   ]
  },
  {
   "cell_type": "markdown",
   "metadata": {},
   "source": [
    "#### Video 25: Parsing Filenames"
   ]
  },
  {
   "cell_type": "code",
   "execution_count": 16,
   "metadata": {},
   "outputs": [],
   "source": [
    "# Scenario: In a directionary multiple files are stored with\n",
    "# File-Name-1.mp4,File-Name-2.mp4...\n",
    "# We need to remove the name and extension\n",
    "\n",
    "# import os\n",
    "# os.chdir('Directory Name...')\n",
    "# for f in os.listdir():\n",
    "#     file_name,file_ext = os.path.splitext(f) # separated\n",
    "#     f_title, f_course, f_num = file_name.split('-')\n",
    "    \n",
    "#     new_name = '{}-{} {}'.format(f_num, f_title, f_ext)\n",
    "#     #Rename the files with the new_name\n",
    "#     os.rename(f,new_name)"
   ]
  },
  {
   "cell_type": "markdown",
   "metadata": {},
   "source": [
    "#### Video31: Exception Handling"
   ]
  },
  {
   "cell_type": "code",
   "execution_count": 37,
   "metadata": {},
   "outputs": [
    {
     "name": "stdout",
     "output_type": "stream",
     "text": [
      "something went worng: name 'bad_var' is not defined\n",
      "Executing finally\n"
     ]
    }
   ],
   "source": [
    "try:\n",
    "    f = open('Test1.txt')\n",
    "    if f.name = \"Currupt.txt\":\n",
    "        raise Exception # goes to the Except line where exception is handled \n",
    "    var = bad_var\n",
    "except FileNotFoundError:\n",
    "    print(\"File was not found\")\n",
    "except Exception as e:\n",
    "    print(\"something went worng:\",e)\n",
    "else: # Contains the piece of code that has to run successfully\n",
    "# if try doesnot raise exception\n",
    "    print(f.read())\n",
    "    f.close()\n",
    "finally: # executes no matter what happens\n",
    "    print(\"Executing finally\")\n"
   ]
  },
  {
   "cell_type": "markdown",
   "metadata": {},
   "source": [
    "#### Video 32: Duck Typing and Asking Forgiveness not permission(EAFP)"
   ]
  },
  {
   "cell_type": "code",
   "execution_count": 38,
   "metadata": {},
   "outputs": [],
   "source": [
    "# We donot ask permission before doing anything; we handle \n",
    "# the exception that come while doing that"
   ]
  },
  {
   "cell_type": "markdown",
   "metadata": {},
   "source": [
    "#### Video 39: Named Tuple"
   ]
  },
  {
   "cell_type": "code",
   "execution_count": 6,
   "metadata": {},
   "outputs": [
    {
     "name": "stdout",
     "output_type": "stream",
     "text": [
      "55\n",
      "55\n",
      "255\n"
     ]
    }
   ],
   "source": [
    "from collections import namedtuple\n",
    "Color = namedtuple('Color',['red','green','blue'])\n",
    "color = Color(55,155,255)\n",
    "print(color[0])\n",
    "print(color.red)\n",
    "white = Color(255,255,255)\n",
    "print(white.red)"
   ]
  },
  {
   "cell_type": "markdown",
   "metadata": {},
   "source": [
    "Named tuples assign meaning to each position in a tuple and allow for more readable, self-documenting code. They can be used wherever regular tuples are used, and they add the ability to access fields by name instead of position index.\n",
    "\n",
    "collections.namedtuple(typename, field_names, *, rename=False, defaults=None, module=None)\n",
    "Returns a new tuple subclass named typename. The new subclass is used to create tuple-like objects that have fields accessible by attribute lookup as well as being indexable and iterable. Instances of the subclass also have a helpful docstring (with typename and field_names) and a helpful __repr__() method which lists the tuple contents in a name=value format."
   ]
  },
  {
   "cell_type": "code",
   "execution_count": 79,
   "metadata": {},
   "outputs": [
    {
     "name": "stdout",
     "output_type": "stream",
     "text": [
      "The Student age using index is : 19\n",
      "The Student name using keyname is : Nandini\n",
      "The Student DOB using getattr() is : 2541997\n",
      "<class 'str'>\n"
     ]
    }
   ],
   "source": [
    "# Python code to demonstrate namedtuple()\n",
    "\n",
    "from collections import namedtuple\n",
    "#\t\n",
    "# Declaring namedtuple()\n",
    "Student = namedtuple('Student',['name','age','DOB'])\n",
    "#\t\n",
    "# Adding values\n",
    "S = Student('Nandini','19','2541997')\n",
    "#\t\n",
    "# Access using index\n",
    "print (\"The Student age using index is : \",end =\"\")\n",
    "print (S[1])\n",
    "#\t\n",
    "# Access using name\n",
    "print (\"The Student name using keyname is : \",end =\"\")\n",
    "print (S.name)\n",
    "\n",
    "# Access using getattr()\n",
    "print (\"The Student DOB using getattr() is : \",end =\"\")\n",
    "print (getattr(S,'DOB'))\n",
    "\n",
    "# print(repr(Student))\n",
    "print(type('Student'))"
   ]
  },
  {
   "cell_type": "markdown",
   "metadata": {},
   "source": [
    "#### Video 40: F String"
   ]
  },
  {
   "cell_type": "code",
   "execution_count": 8,
   "metadata": {},
   "outputs": [
    {
     "name": "stdout",
     "output_type": "stream",
     "text": [
      "Hello, sachin prakash\n"
     ]
    }
   ],
   "source": [
    "first = 'sachin'\n",
    "last = 'prakash'\n",
    "\n",
    "sentence = f'{first} {last}' # can also pass methods in the {}\n",
    "print(\"Hello,\",sentence)"
   ]
  },
  {
   "cell_type": "markdown",
   "metadata": {},
   "source": [
    "#### Video 41: Generators"
   ]
  },
  {
   "cell_type": "code",
   "execution_count": 16,
   "metadata": {},
   "outputs": [],
   "source": [
    "def square_numbers(nums):\n",
    "    for i in nums:\n",
    "        yield (i*i)\n",
    "\n",
    "sq = square_numbers([1,2,3])"
   ]
  },
  {
   "cell_type": "code",
   "execution_count": 17,
   "metadata": {},
   "outputs": [
    {
     "name": "stdout",
     "output_type": "stream",
     "text": [
      "<class 'generator'>\n"
     ]
    }
   ],
   "source": [
    "print(type(sq))"
   ]
  },
  {
   "cell_type": "code",
   "execution_count": 18,
   "metadata": {},
   "outputs": [
    {
     "name": "stdout",
     "output_type": "stream",
     "text": [
      "1\n"
     ]
    }
   ],
   "source": [
    "print(sq.__next__())"
   ]
  },
  {
   "cell_type": "code",
   "execution_count": 19,
   "metadata": {},
   "outputs": [
    {
     "name": "stdout",
     "output_type": "stream",
     "text": [
      "4\n",
      "9\n"
     ]
    },
    {
     "ename": "StopIteration",
     "evalue": "",
     "output_type": "error",
     "traceback": [
      "\u001b[1;31m---------------------------------------------------------------------------\u001b[0m",
      "\u001b[1;31mStopIteration\u001b[0m                             Traceback (most recent call last)",
      "\u001b[1;32m<ipython-input-19-b6fb3b17c9e1>\u001b[0m in \u001b[0;36m<module>\u001b[1;34m\u001b[0m\n\u001b[0;32m      1\u001b[0m \u001b[0mprint\u001b[0m\u001b[1;33m(\u001b[0m\u001b[0msq\u001b[0m\u001b[1;33m.\u001b[0m\u001b[0m__next__\u001b[0m\u001b[1;33m(\u001b[0m\u001b[1;33m)\u001b[0m\u001b[1;33m)\u001b[0m\u001b[1;33m\u001b[0m\u001b[1;33m\u001b[0m\u001b[0m\n\u001b[0;32m      2\u001b[0m \u001b[0mprint\u001b[0m\u001b[1;33m(\u001b[0m\u001b[0msq\u001b[0m\u001b[1;33m.\u001b[0m\u001b[0m__next__\u001b[0m\u001b[1;33m(\u001b[0m\u001b[1;33m)\u001b[0m\u001b[1;33m)\u001b[0m\u001b[1;33m\u001b[0m\u001b[1;33m\u001b[0m\u001b[0m\n\u001b[1;32m----> 3\u001b[1;33m \u001b[0mprint\u001b[0m\u001b[1;33m(\u001b[0m\u001b[0msq\u001b[0m\u001b[1;33m.\u001b[0m\u001b[0m__next__\u001b[0m\u001b[1;33m(\u001b[0m\u001b[1;33m)\u001b[0m\u001b[1;33m)\u001b[0m\u001b[1;33m\u001b[0m\u001b[1;33m\u001b[0m\u001b[0m\n\u001b[0m\u001b[0;32m      4\u001b[0m \u001b[0mprint\u001b[0m\u001b[1;33m(\u001b[0m\u001b[0msq\u001b[0m\u001b[1;33m.\u001b[0m\u001b[0m__next__\u001b[0m\u001b[1;33m(\u001b[0m\u001b[1;33m)\u001b[0m\u001b[1;33m)\u001b[0m\u001b[1;33m\u001b[0m\u001b[1;33m\u001b[0m\u001b[0m\n",
      "\u001b[1;31mStopIteration\u001b[0m: "
     ]
    }
   ],
   "source": [
    "print(sq.__next__())\n",
    "print(sq.__next__())\n",
    "print(sq.__next__())\n",
    "print(sq.__next__())"
   ]
  },
  {
   "cell_type": "code",
   "execution_count": 81,
   "metadata": {},
   "outputs": [
    {
     "name": "stdout",
     "output_type": "stream",
     "text": [
      "<class 'generator'>\n",
      "1\n"
     ]
    }
   ],
   "source": [
    "my_nums = (x*x for x in [1,2,3]) # using list comprehension with generators\n",
    "print(type(my_nums))\n",
    "print(my_nums.__next__())"
   ]
  },
  {
   "cell_type": "markdown",
   "metadata": {},
   "source": [
    "#### Video 37: Decorators"
   ]
  },
  {
   "cell_type": "code",
   "execution_count": 1,
   "metadata": {},
   "outputs": [],
   "source": [
    "# First Class Functions: allow us to treat function like anyother\n",
    "# object like we can pass function as objects or we can assign functions\n",
    "# to variables.\n",
    "# Closure allow us to take advantage of the first class function and return an inner functiion \n",
    "# that has access to the scope of variables in which they were created"
   ]
  },
  {
   "cell_type": "code",
   "execution_count": 7,
   "metadata": {},
   "outputs": [
    {
     "name": "stdout",
     "output_type": "stream",
     "text": [
      "Hi\n",
      "Hi\n"
     ]
    }
   ],
   "source": [
    "def outer_function():\n",
    "    message = 'Hi'\n",
    "    def inner_function():\n",
    "        print(message)\n",
    "    return inner_function\n",
    "\n",
    "my_func = outer_function()\n",
    "my_func()\n",
    "my_func() #my_func is a closure as it remembers the function even\n",
    "# after the function has stopped executing"
   ]
  },
  {
   "cell_type": "code",
   "execution_count": 9,
   "metadata": {},
   "outputs": [
    {
     "name": "stdout",
     "output_type": "stream",
     "text": [
      "hi\n",
      "bye\n"
     ]
    }
   ],
   "source": [
    "def outer_function(msg):\n",
    "    \n",
    "    def inner_function():\n",
    "        print(msg)\n",
    "    return inner_function\n",
    "\n",
    "hi_func = outer_function('hi')\n",
    "bye_func = outer_function('bye')\n",
    "hi_func()\n",
    "bye_func()"
   ]
  },
  {
   "cell_type": "code",
   "execution_count": 10,
   "metadata": {},
   "outputs": [],
   "source": [
    "# Decorator : A decorator is a function that takes some kind of function\n",
    "# as a argument, adds some kind of functionality and returns another\n",
    "# function without altering the source function"
   ]
  },
  {
   "cell_type": "code",
   "execution_count": 86,
   "metadata": {},
   "outputs": [],
   "source": [
    "def decorator_function(original_function):\n",
    "    print(\"Running Decorator Function\")\n",
    "    name = 'sachin'\n",
    "    def wrapper_function(): # wrapper can have its own implementation\n",
    "        print(\"Running Wrapper Function\")\n",
    "        print(name)\n",
    "        return original_function()\n",
    "    return wrapper_function"
   ]
  },
  {
   "cell_type": "code",
   "execution_count": 87,
   "metadata": {},
   "outputs": [
    {
     "name": "stdout",
     "output_type": "stream",
     "text": [
      "Running Decorator Function\n",
      "Running Wrapper Function\n",
      "sachin\n",
      "Display Function Ran\n"
     ]
    }
   ],
   "source": [
    "def display():\n",
    "    print('Display Function Ran')\n",
    "\n",
    "decorated_display = decorator_function(display)\n",
    "decorated_display() # As a closure"
   ]
  },
  {
   "cell_type": "code",
   "execution_count": 88,
   "metadata": {},
   "outputs": [
    {
     "name": "stdout",
     "output_type": "stream",
     "text": [
      "Running Decorator Function\n"
     ]
    }
   ],
   "source": [
    "@decorator_function\n",
    "def another_display():\n",
    "    print(\"Another display function ran\")\n",
    "\n",
    "# even without caliing the print decorator ran-comment it then"
   ]
  },
  {
   "cell_type": "code",
   "execution_count": 89,
   "metadata": {},
   "outputs": [
    {
     "name": "stdout",
     "output_type": "stream",
     "text": [
      "Running Wrapper Function\n",
      "sachin\n",
      "Another display function ran\n"
     ]
    }
   ],
   "source": [
    "another_display() # only executed the wrapper."
   ]
  },
  {
   "cell_type": "code",
   "execution_count": 91,
   "metadata": {},
   "outputs": [
    {
     "name": "stdout",
     "output_type": "stream",
     "text": [
      "Running Decorator Function\n",
      "Running Wrapper Function before one_more_display\n",
      "One more display function\n"
     ]
    }
   ],
   "source": [
    "def decorator_function2(original_function):\n",
    "    print(\"Running Decorator Function\")\n",
    "    def wrapper_function(*args,**kwargs): # wrapper should have arguments in case the decorated function has any arguments\n",
    "        print(f\"Running Wrapper Function before {original_function.__name__}\")\n",
    "        return original_function(*args,**kwargs)\n",
    "    return wrapper_function\n",
    "\n",
    "@decorator_function2 \n",
    "def one_more_display():\n",
    "    print(\"One more display function\")\n",
    "\n",
    "one_more_display() #-> decorator_function2(one_more_display)"
   ]
  },
  {
   "cell_type": "code",
   "execution_count": 92,
   "metadata": {},
   "outputs": [
    {
     "name": "stdout",
     "output_type": "stream",
     "text": [
      "Running Decorator Function\n",
      "Running Wrapper Function before display_info\n",
      "John\n",
      "25\n",
      "None\n"
     ]
    }
   ],
   "source": [
    "@decorator_function2\n",
    "def display_info(name,age):\n",
    "    print(name)\n",
    "    print(age)\n",
    "print(display_info('John',25))\n",
    "    "
   ]
  },
  {
   "cell_type": "code",
   "execution_count": 93,
   "metadata": {},
   "outputs": [],
   "source": [
    "# Decorator Class\n",
    "\n",
    "class decorator_class(object): # goona tie the function with instance of the class\n",
    "    def __init__(self,original_function):\n",
    "        self.original_function = original_function\n",
    "        print(\"inside init\")\n",
    "    def __call__(self,*args,**kwargs): # behaves just like wrapper function\n",
    "        print(f\"Call method executed before {self.original_function.__name__}\")\n",
    "        return self.original_function(*args,**kwargs)"
   ]
  },
  {
   "cell_type": "code",
   "execution_count": 95,
   "metadata": {},
   "outputs": [
    {
     "name": "stdout",
     "output_type": "stream",
     "text": [
      "inside init\n"
     ]
    }
   ],
   "source": [
    "@decorator_class\n",
    "def display_info(name,age):\n",
    "    print(name)\n",
    "    print(age)\n"
   ]
  },
  {
   "cell_type": "code",
   "execution_count": 96,
   "metadata": {},
   "outputs": [
    {
     "name": "stdout",
     "output_type": "stream",
     "text": [
      "Call method executed before display_info\n",
      "John\n",
      "25\n"
     ]
    }
   ],
   "source": [
    "display_info('John',25)"
   ]
  },
  {
   "cell_type": "code",
   "execution_count": 31,
   "metadata": {},
   "outputs": [],
   "source": [
    "# Multiple decorators can be stacked above a function\n",
    "# if we have two decorators: deco1,deco2 and the function is func:\n",
    "\n",
    "# @deco1\n",
    "# @deco2\n",
    "# def func(args):\n",
    "#     pass\n",
    "\n",
    "#Above can be implemented as:\n",
    "# display_info = deco1(deco2(func))\n",
    "#wrapper_function of deco2 is input args to deco1."
   ]
  },
  {
   "cell_type": "code",
   "execution_count": 32,
   "metadata": {},
   "outputs": [],
   "source": [
    "# read about from functools import wraps"
   ]
  },
  {
   "cell_type": "markdown",
   "metadata": {},
   "source": [
    "#### Video 38: Decorators with arguments"
   ]
  },
  {
   "cell_type": "code",
   "execution_count": 39,
   "metadata": {},
   "outputs": [
    {
     "name": "stdout",
     "output_type": "stream",
     "text": [
      "Hello Running Wrapper Function before final_display\n",
      "Final display function\n"
     ]
    }
   ],
   "source": [
    "def prefix_decorator(prefix):\n",
    "    def decorator_function3(original_function):\n",
    "        def wrapper_function(*args,**kwargs): # wrapper should have arguments in case the decorated function has any arguments\n",
    "            print(prefix, f\"Running Wrapper Function before {original_function.__name__}\")\n",
    "            result = original_function(*args,**kwargs)\n",
    "            return result\n",
    "        return wrapper_function\n",
    "    return decorator_function3\n",
    "\n",
    "@prefix_decorator(\"Hello\")  # hello is prefixed \n",
    "def final_display():\n",
    "    print(\"Final display function\")\n",
    "\n",
    "final_display() #-> decorator_function2(one_more_display)"
   ]
  },
  {
   "cell_type": "markdown",
   "metadata": {},
   "source": [
    "#### Video 40,41: Classes and Insatnace"
   ]
  },
  {
   "cell_type": "code",
   "execution_count": 41,
   "metadata": {},
   "outputs": [],
   "source": [
    "# Class variables are defined at the scope of the class and\n",
    "# when used inside a function; can be used using self and outside\n",
    "# the class using object.class_var\n",
    "# To modify the value of a class variable:\n",
    "# Employee.class_var = 1.05 -> changed for all the objects \n",
    "# and can be used outside/inside class\n",
    "# object1.class_var = 1.06 -> changed for only object1"
   ]
  },
  {
   "cell_type": "code",
   "execution_count": 42,
   "metadata": {},
   "outputs": [],
   "source": [
    "# print(object.__dict__)\n",
    "# This prints all the attribute and value related to the object\n",
    "# in foam of a dictionary"
   ]
  },
  {
   "cell_type": "markdown",
   "metadata": {},
   "source": [
    "#### Video 42: Classmethods and staticmethods"
   ]
  },
  {
   "cell_type": "code",
   "execution_count": 43,
   "metadata": {},
   "outputs": [],
   "source": [
    "# Classmethods : instead of self, first argument is cls and have a \n",
    "# decorator @classmethod\n",
    "# These methods can be called by : class_name.cls_method(args) and can be used to \n",
    "# manupulate the class variables."
   ]
  },
  {
   "cell_type": "code",
   "execution_count": 97,
   "metadata": {},
   "outputs": [
    {
     "name": "stdout",
     "output_type": "stream",
     "text": [
      "Rohit\n",
      "Sachin\n",
      "50000\n",
      "52500.0\n",
      "False\n",
      "{'fname': 'Rohit', 'lname': 'Kumar', 'salary': 60000}\n"
     ]
    }
   ],
   "source": [
    "# Class methods can also be used as alternate constructors:\n",
    "\n",
    "class Employee():\n",
    "    raise_amount = 1.05\n",
    "    def __init__(self,fname,lname,salary):\n",
    "        self.fname = fname\n",
    "        self.lname = lname\n",
    "        self.salary = salary\n",
    "    \n",
    "    def sal_raise(self):\n",
    "        self.salary = self.salary * self.raise_amount\n",
    "        \n",
    "    @classmethod\n",
    "    def from_string(cls,emp_str): # if a diffrent type of input is passed\n",
    "        first,last,sal = emp_str.split('-')\n",
    "        return cls(first,last,int(sal)) # return the class object\n",
    "\n",
    "    @staticmethod\n",
    "    def is_workday(day): # statice method ideally doesnt use anything of the class\n",
    "        if day == 5 or day ==6:\n",
    "            return False\n",
    "        return True\n",
    "    \n",
    "    \n",
    "emp_1 = Employee('Rohit','Kumar',60000)\n",
    "print(emp_1.fname)\n",
    "new_emp_1 = Employee.from_string('Sachin-Prakash-50000')\n",
    "print(new_emp_1.fname)\n",
    "print(new_emp_1.salary)\n",
    "new_emp_1.sal_raise()\n",
    "print(new_emp_1.salary)\n",
    "\n",
    "result = Employee.is_workday(5)\n",
    "print(result)\n",
    "\n",
    "print(emp_1.__dict__)"
   ]
  },
  {
   "cell_type": "code",
   "execution_count": 50,
   "metadata": {},
   "outputs": [],
   "source": [
    "# Static method : donot have any compulsary first argument"
   ]
  },
  {
   "cell_type": "markdown",
   "metadata": {},
   "source": [
    "#### Video 43: Inheritance"
   ]
  },
  {
   "cell_type": "code",
   "execution_count": 58,
   "metadata": {},
   "outputs": [
    {
     "name": "stdout",
     "output_type": "stream",
     "text": [
      "350000.0\n"
     ]
    }
   ],
   "source": [
    "class Developers(Employee):\n",
    "    # if init is not present control goes to parent's init\n",
    "    # print(help(Developer)) > shows MRO and other attributes\n",
    "    raise_amount = 5.00 # child class's attribute is used\n",
    "    def __init__(self,fname,lname,salary,prog):\n",
    "        super().__init__(fname,lname,salary)\n",
    "        #Employee.__init__(self,fname,lname,salary)\n",
    "        self.prog = prog\n",
    "\n",
    "    \n",
    "    \n",
    "    \n",
    "dev_1 = Developers('Golu',\"Babu\",70000,'Python')\n",
    "dev_1.sal_raise()\n",
    "print(dev_1.salary)\n",
    "    "
   ]
  },
  {
   "cell_type": "markdown",
   "metadata": {},
   "source": [
    "#### Video 44: Property Decortors"
   ]
  },
  {
   "cell_type": "code",
   "execution_count": 26,
   "metadata": {},
   "outputs": [
    {
     "name": "stdout",
     "output_type": "stream",
     "text": [
      "Jon.Smith@email.com\n",
      "Corey.Schafer@email.com\n",
      "Record Deleted\n",
      "None\n",
      "Employee('Corey','Schafer','78900')\n",
      "Employee('Corey','Schafer','78900')\n",
      "Employee('Corey','78900')\n",
      "Employee('Corey','78900')\n",
      "101000\n",
      "5\n"
     ]
    }
   ],
   "source": [
    "# @property decorator enable us to define an class attribute as a method but that can be accessed like an attribute\n",
    "class Employee():\n",
    "    def __init__(self,fname,lname,salary):\n",
    "        self.fname = fname\n",
    "        self.lname = lname\n",
    "        self.salary = salary\n",
    "    \n",
    "    @property\n",
    "    def email(self):\n",
    "        return '{}.{}@email.com'.format(self.fname,self.lname)\n",
    "    @property\n",
    "    def fullname(self):\n",
    "        return '{} {}'.format(self.fname,self.lname)\n",
    "    @property\n",
    "    def salary_getter(self):\n",
    "        return '{}'.format(self.salary)\n",
    "    \n",
    "    @fullname.setter # fullname is the above function name\n",
    "    def fullname(self,name):\n",
    "        first, last = name.split(' ')\n",
    "        self.fname = first\n",
    "        self.lname = last\n",
    "    @salary_getter.deleter #deleter\n",
    "    def salary_getter(self):\n",
    "        self.salary = None\n",
    "        print(\"Record Deleted\")\n",
    "        \n",
    "    #Special Methods\n",
    "    def __repr__(self):\n",
    "        return \"Employee('{}','{}','{}')\".format(self.fname,self.lname,self.salary)\n",
    "    def __str__(self):\n",
    "        return \"Employee('{}','{}')\".format(self.fname,self.salary)\n",
    "\n",
    "    \n",
    "    def __add__(self,other):\n",
    "        return self.salary + other.salary\n",
    "    \n",
    "    def __len__(self):\n",
    "        return len(self.fname)\n",
    "    \n",
    "emp_1 = Employee('Jon','Smith',78900)\n",
    "emp_2 = Employee('Virat','Kohli',78900)\n",
    "emp_3 = Employee('Rohit','Sharma',22100)\n",
    "\n",
    "print(emp_1.email) # although defined as a method!\n",
    "emp_1.fullname = 'Corey Schafer'\n",
    "print(emp_1.email)\n",
    "\n",
    "del emp_2.salary_getter\n",
    "print(emp_2.salary_getter)\n",
    "\n",
    "print(repr(emp_1)) # useful in recreating the object.\n",
    "print(emp_1.__repr__())\n",
    "print(emp_1) # uses __str__ method\n",
    "print(emp_1.__str__())\n",
    "\n",
    "print(emp_1 + emp_3) # calls __add__()\n",
    "print(len(emp_1)) # calls __len__()"
   ]
  },
  {
   "cell_type": "code",
   "execution_count": 100,
   "metadata": {},
   "outputs": [],
   "source": [
    "# using property class\n",
    "class Celsius:\n",
    "    def __init__(self, temperature=0):\n",
    "        self.temperature = temperature\n",
    "\n",
    "    def to_fahrenheit(self):\n",
    "        return (self.temperature * 1.8) + 32\n",
    "\n",
    "    # getter\n",
    "    def get_temperature(self):\n",
    "        print(\"Getting value...\")\n",
    "        return self._temperature\n",
    "\n",
    "    # setter\n",
    "    def set_temperature(self, value):\n",
    "        print(\"Setting value...\")\n",
    "        if value < -273.15:\n",
    "            raise ValueError(\"Temperature below -273.15 is not possible\")\n",
    "        self._temperature = value\n",
    "\n",
    "    # creating a property object\n",
    "    temperature = property(get_temperature, set_temperature) # property(fget=None, fset=None, fdel=None, doc=\n",
    "#     Simply put, property attaches some code (get_temperature and set_temperature) \n",
    "#     to the member attribute accesses (temperature)."
   ]
  },
  {
   "cell_type": "code",
   "execution_count": 101,
   "metadata": {
    "scrolled": true
   },
   "outputs": [
    {
     "name": "stdout",
     "output_type": "stream",
     "text": [
      "Setting value...\n",
      "Getting value...\n",
      "37\n",
      "Getting value...\n",
      "98.60000000000001\n",
      "Setting value...\n"
     ]
    },
    {
     "ename": "ValueError",
     "evalue": "Temperature below -273.15 is not possible",
     "output_type": "error",
     "traceback": [
      "\u001b[1;31m---------------------------------------------------------------------------\u001b[0m",
      "\u001b[1;31mValueError\u001b[0m                                Traceback (most recent call last)",
      "\u001b[1;32m<ipython-input-101-0b0f24b1e302>\u001b[0m in \u001b[0;36m<module>\u001b[1;34m\u001b[0m\n\u001b[0;32m      5\u001b[0m \u001b[0mprint\u001b[0m\u001b[1;33m(\u001b[0m\u001b[0mhuman\u001b[0m\u001b[1;33m.\u001b[0m\u001b[0mto_fahrenheit\u001b[0m\u001b[1;33m(\u001b[0m\u001b[1;33m)\u001b[0m\u001b[1;33m)\u001b[0m\u001b[1;33m\u001b[0m\u001b[1;33m\u001b[0m\u001b[0m\n\u001b[0;32m      6\u001b[0m \u001b[1;33m\u001b[0m\u001b[0m\n\u001b[1;32m----> 7\u001b[1;33m \u001b[0mhuman\u001b[0m\u001b[1;33m.\u001b[0m\u001b[0mtemperature\u001b[0m \u001b[1;33m=\u001b[0m \u001b[1;33m-\u001b[0m\u001b[1;36m300\u001b[0m\u001b[1;33m\u001b[0m\u001b[1;33m\u001b[0m\u001b[0m\n\u001b[0m",
      "\u001b[1;32m<ipython-input-100-654390af759f>\u001b[0m in \u001b[0;36mset_temperature\u001b[1;34m(self, value)\u001b[0m\n\u001b[0;32m     16\u001b[0m         \u001b[0mprint\u001b[0m\u001b[1;33m(\u001b[0m\u001b[1;34m\"Setting value...\"\u001b[0m\u001b[1;33m)\u001b[0m\u001b[1;33m\u001b[0m\u001b[1;33m\u001b[0m\u001b[0m\n\u001b[0;32m     17\u001b[0m         \u001b[1;32mif\u001b[0m \u001b[0mvalue\u001b[0m \u001b[1;33m<\u001b[0m \u001b[1;33m-\u001b[0m\u001b[1;36m273.15\u001b[0m\u001b[1;33m:\u001b[0m\u001b[1;33m\u001b[0m\u001b[1;33m\u001b[0m\u001b[0m\n\u001b[1;32m---> 18\u001b[1;33m             \u001b[1;32mraise\u001b[0m \u001b[0mValueError\u001b[0m\u001b[1;33m(\u001b[0m\u001b[1;34m\"Temperature below -273.15 is not possible\"\u001b[0m\u001b[1;33m)\u001b[0m\u001b[1;33m\u001b[0m\u001b[1;33m\u001b[0m\u001b[0m\n\u001b[0m\u001b[0;32m     19\u001b[0m         \u001b[0mself\u001b[0m\u001b[1;33m.\u001b[0m\u001b[0m_temperature\u001b[0m \u001b[1;33m=\u001b[0m \u001b[0mvalue\u001b[0m\u001b[1;33m\u001b[0m\u001b[1;33m\u001b[0m\u001b[0m\n\u001b[0;32m     20\u001b[0m \u001b[1;33m\u001b[0m\u001b[0m\n",
      "\u001b[1;31mValueError\u001b[0m: Temperature below -273.15 is not possible"
     ]
    }
   ],
   "source": [
    "human = Celsius(37)\n",
    "\n",
    "print(human.temperature)\n",
    "\n",
    "print(human.to_fahrenheit())\n",
    "\n",
    "human.temperature = -300\n",
    "\n",
    "\n",
    "# any code that retrieves the value of temperature will automatically call get_temperature() \n",
    "# instead of a dictionary (__dict__) look-up -> human.__dict__['temperature']\n",
    "# Similarly, any code that assigns a value to temperature will automatically call set_temperature()."
   ]
  },
  {
   "cell_type": "code",
   "execution_count": 106,
   "metadata": {},
   "outputs": [
    {
     "name": "stdout",
     "output_type": "stream",
     "text": [
      "Setting value...\n",
      "Getting value...\n",
      "37\n",
      "Getting value...\n",
      "98.60000000000001\n"
     ]
    }
   ],
   "source": [
    "# temperature = property(get_temperature,set_temperature)\n",
    "# can be broken down as:\n",
    "\n",
    "# make empty property\n",
    "# temperature = property()\n",
    "# assign fget\n",
    "# temperature = temperature.getter(get_temperature)\n",
    "# assign fset\n",
    "# temperature = temperature.setter(set_temperature)\n",
    "\n",
    "\n",
    "# Using @property decorator\n",
    "class Celsius:\n",
    "    def __init__(self, temperature=0):\n",
    "        self.temperature = temperature\n",
    "\n",
    "    def to_fahrenheit(self):\n",
    "        return (self.temperature * 1.8) + 32\n",
    "\n",
    "    @property\n",
    "    def temperature(self):\n",
    "        print(\"Getting value...\")\n",
    "        return self._temperature\n",
    "\n",
    "    @temperature.setter\n",
    "    def temperature(self, value):\n",
    "        print(\"Setting value...\")\n",
    "        if value < -273.15:\n",
    "            raise ValueError(\"Temperature below -273 is not possible\")\n",
    "        self._temperature = value\n",
    "\n",
    "\n",
    "# create an object\n",
    "human = Celsius(37)\n",
    "\n",
    "print(human.temperature)\n",
    "\n",
    "print(human.to_fahrenheit())\n",
    "\n",
    "\n",
    "# coldest_thing = Celsius(-300)"
   ]
  },
  {
   "cell_type": "markdown",
   "metadata": {},
   "source": [
    "#### Video 45: Special Methods"
   ]
  },
  {
   "cell_type": "code",
   "execution_count": 1,
   "metadata": {},
   "outputs": [],
   "source": [
    "# __repr__ , __str__ -> Dunder Methods\n",
    "# There are all kinds of special methods for mathematics"
   ]
  },
  {
   "cell_type": "markdown",
   "metadata": {},
   "source": [
    "#### Video 56: __main__"
   ]
  },
  {
   "cell_type": "code",
   "execution_count": 2,
   "metadata": {},
   "outputs": [
    {
     "name": "stdout",
     "output_type": "stream",
     "text": [
      "__main__\n"
     ]
    }
   ],
   "source": [
    "print(__name__) # before running any code python sets few special variable,__name__ is one of them"
   ]
  },
  {
   "cell_type": "code",
   "execution_count": 3,
   "metadata": {},
   "outputs": [],
   "source": [
    "# Whenever a module is imported in other file, and we have something like\n",
    "# print(\"Module Name:\",__name__)\n",
    "# then this line executes to print the output as the name of the imported file\n",
    "# but same line when printed within same file it returns __main__"
   ]
  },
  {
   "cell_type": "code",
   "execution_count": 5,
   "metadata": {},
   "outputs": [
    {
     "name": "stdout",
     "output_type": "stream",
     "text": [
      "Inside main\n"
     ]
    }
   ],
   "source": [
    "def main():\n",
    "    print(\"Inside main\")\n",
    "    \n",
    "if __name__ == '__main__':\n",
    "    main()"
   ]
  },
  {
   "cell_type": "code",
   "execution_count": 6,
   "metadata": {},
   "outputs": [],
   "source": [
    "# To ensure that some piece of code is run only when we are running as a main file"
   ]
  },
  {
   "cell_type": "markdown",
   "metadata": {},
   "source": [
    "#### Video 47: JSON"
   ]
  },
  {
   "cell_type": "code",
   "execution_count": 8,
   "metadata": {},
   "outputs": [],
   "source": [
    "import json\n",
    "# # Conversion in python:\n",
    "# json object -> dict\n",
    "# array -> list\n",
    "# string -> str\n",
    "# number -> int,float\n",
    "# true -> True\n",
    "# false -> False\n",
    "# null -> None\n",
    "\n",
    "# data =json.loads(json_string)\n",
    "# print(data)\n",
    "\n",
    "# data is a dictionary in python after parsing"
   ]
  },
  {
   "cell_type": "code",
   "execution_count": 9,
   "metadata": {},
   "outputs": [],
   "source": [
    "# Converting a python's object to json\n",
    "# new_string = json.dumps(data,indent=2,sort_keys = True) \n",
    "# each level in indented twice, keys sorted as per keys\n"
   ]
  },
  {
   "cell_type": "code",
   "execution_count": 107,
   "metadata": {},
   "outputs": [],
   "source": [
    "# json.load(json_file) # loads a file into json object\n",
    "with open('states.json','r')  as f:\n",
    "    data = json.load(f)\n",
    "for state in data['states']:\n",
    "    del state['area_codes']\n",
    "    \n",
    "with open('mew_states.json','w') as f:\n",
    "    json.dump(data,f,indent=2)\n",
    "    "
   ]
  },
  {
   "cell_type": "markdown",
   "metadata": {},
   "source": [
    "#### Video 51: SQL Lite"
   ]
  },
  {
   "cell_type": "code",
   "execution_count": 16,
   "metadata": {},
   "outputs": [],
   "source": [
    "# Small and Medium size database stored on disk or on memory"
   ]
  },
  {
   "cell_type": "code",
   "execution_count": 17,
   "metadata": {},
   "outputs": [],
   "source": [
    "import sqlite3\n",
    "# conn = sqlite3.connect(':memory:memory') # for in memory database\n",
    "conn = sqlite3.connect('employee.db') # creates a file in db"
   ]
  },
  {
   "cell_type": "code",
   "execution_count": 20,
   "metadata": {},
   "outputs": [
    {
     "data": {
      "text/plain": [
       "<sqlite3.Cursor at 0x252c0b76960>"
      ]
     },
     "execution_count": 20,
     "metadata": {},
     "output_type": "execute_result"
    }
   ],
   "source": [
    "c = conn.cursor() #creates a cursor\n",
    "c.execute(\"\"\"CREATE TABLE employee(\n",
    "            first text,\n",
    "            last text,\n",
    "            salary integer)\n",
    "        \"\"\")"
   ]
  },
  {
   "cell_type": "code",
   "execution_count": 21,
   "metadata": {},
   "outputs": [],
   "source": [
    "conn.commit()\n",
    "conn.close()"
   ]
  },
  {
   "cell_type": "code",
   "execution_count": 23,
   "metadata": {},
   "outputs": [
    {
     "data": {
      "text/plain": [
       "<sqlite3.Cursor at 0x252c0b76dc0>"
      ]
     },
     "execution_count": 23,
     "metadata": {},
     "output_type": "execute_result"
    }
   ],
   "source": [
    "conn = sqlite3.connect('employee.db')\n",
    "c = conn.cursor()\n",
    "c.execute(\"INSERT INTO employee VALUES ('Corey','Schafer',50000)\")"
   ]
  },
  {
   "cell_type": "code",
   "execution_count": 24,
   "metadata": {},
   "outputs": [
    {
     "name": "stdout",
     "output_type": "stream",
     "text": [
      "('Corey', 'Schafer', 50000)\n"
     ]
    }
   ],
   "source": [
    "c.execute('SELECT * FROM employee') # provides result which can be iterated\n",
    "result = c.fetchone() # fetches only one row, c.fetchmany(5)-> as list,c.fetchall()-> returns all\n",
    "print(result)"
   ]
  },
  {
   "cell_type": "code",
   "execution_count": 27,
   "metadata": {},
   "outputs": [],
   "source": [
    "emp_10 = Employee('Sachin','Prakash',90000)\n",
    "emp_11 = Employee('Sunny','Kumar',10000)"
   ]
  },
  {
   "cell_type": "code",
   "execution_count": 29,
   "metadata": {},
   "outputs": [
    {
     "data": {
      "text/plain": [
       "<sqlite3.Cursor at 0x252c0b76dc0>"
      ]
     },
     "execution_count": 29,
     "metadata": {},
     "output_type": "execute_result"
    }
   ],
   "source": [
    "c.execute(\"INSERT INTO employee VALUES (?,?,?)\",(emp_10.fname,emp_10.lname,emp_10.salary))"
   ]
  },
  {
   "cell_type": "code",
   "execution_count": 32,
   "metadata": {},
   "outputs": [
    {
     "name": "stdout",
     "output_type": "stream",
     "text": [
      "[('Corey', 'Schafer', 50000), ('Sachin', 'Prakash', 90000)]\n"
     ]
    }
   ],
   "source": [
    "print(c.execute('SELECT * FROM employee').fetchall())"
   ]
  },
  {
   "cell_type": "code",
   "execution_count": 35,
   "metadata": {},
   "outputs": [],
   "source": [
    "with conn: # no need of commit statement\n",
    "    c.execute(\"INSERT INTO employee VALUES (:first,:last,:salary)\",\n",
    "             {'first':emp_11.fname,'last':emp_11.lname,'salary':emp_11.salary})\n",
    "#using placeholder value"
   ]
  },
  {
   "cell_type": "code",
   "execution_count": 36,
   "metadata": {},
   "outputs": [
    {
     "name": "stdout",
     "output_type": "stream",
     "text": [
      "[('Corey', 'Schafer', 50000), ('Sachin', 'Prakash', 90000), ('Sunny', 'Kumar', 10000), ('Sunny', 'Kumar', 10000)]\n"
     ]
    }
   ],
   "source": [
    "print(c.execute('SELECT * FROM employee').fetchall())"
   ]
  },
  {
   "cell_type": "markdown",
   "metadata": {},
   "source": [
    "#### Unit Testing"
   ]
  },
  {
   "cell_type": "code",
   "execution_count": 43,
   "metadata": {},
   "outputs": [],
   "source": [
    "\n",
    "\n",
    "# import unittest\n",
    "# import calc # file to be tested\n",
    "\n",
    "# class TestCalc(unittest.TestCase):\n",
    "#     def test_add(self): # test_ is mandatory else treated as any other function\n",
    "#         result = calc.add(10,5)\n",
    "#         self.assertEqual(result,15) # there are all kinds of assertions\n",
    "#         self.assertEqual(calc.add(-1,1),0)\n",
    "#         self.assertEqual(calc.add(-1,-1),-2) # all these are treated as single test cases\n",
    "\n",
    "#     def test_divide(self):\n",
    "#         self.assertRaises(ValueError,calc.divide,10,2) # will not raise error\n",
    "        \n",
    "        \n",
    "# if __name__ == '__main__':\n",
    "#     unittest.main()"
   ]
  },
  {
   "cell_type": "code",
   "execution_count": 44,
   "metadata": {},
   "outputs": [],
   "source": [
    "# import\n",
    "class TestEmployee(unittest.TestCase):\n",
    "    \n",
    "    @classmethod\n",
    "    def stUpClass(cls): # useful for having some code running at begining of file like populating a db at class level\n",
    "        print(\"setUpClass\")\n",
    "    @classmethod\n",
    "    def tearDownClass(cls): # useful for having some code running at end of file\n",
    "        print(\"tearDownClass\")\n",
    "    \n",
    "    def setUp(self): # this is where we store the repeated codes at instance level\n",
    "        self.emp_1 = Employee('Corey', 'Schafer', 50000)\n",
    "        self.emp_2 = Employee('Sue', 'Smith', 60000)\n",
    "        \n",
    "    def tearDown(self): # function that does the work of deletion after running test case.\n",
    "        pass \n",
    "    \n",
    "    def test_email(self):\n",
    "        self.assertEqual(self.emp_1.email, 'Corey.Schafer@email.com')\n",
    "        self.assertEqual(self.emp_2.email, 'Sue.Smith@email.com')\n",
    "\n",
    "        emp_1.first = 'John'\n",
    "        emp_2.first = 'Jane'\n",
    "\n",
    "        self.assertEqual(self.emp_1.email, 'John.Schafer@email.com')\n",
    "        self.assertEqual(self.emp_2.email, 'Jane.Smith@email.com')\n",
    "\n",
    "    def test_fullname(self):\n",
    "        self.assertEqual(self.emp_1.fullname, 'Corey Schafer')\n",
    "        self.assertEqual(self.emp_2.fullname, 'Sue Smith')\n",
    "\n",
    "        emp_1.first = 'John'\n",
    "        emp_2.first = 'Jane'\n",
    "\n",
    "        self.assertEqual(self.emp_1.fullname, 'John Schafer')\n",
    "        self.assertEqual(self.emp_2.fullname, 'Jane Smith')"
   ]
  },
  {
   "cell_type": "code",
   "execution_count": 45,
   "metadata": {},
   "outputs": [],
   "source": [
    "# Read about mock objects;python website"
   ]
  },
  {
   "cell_type": "markdown",
   "metadata": {},
   "source": [
    "#### Video 76: Set Operations"
   ]
  },
  {
   "cell_type": "code",
   "execution_count": 47,
   "metadata": {},
   "outputs": [
    {
     "name": "stdout",
     "output_type": "stream",
     "text": [
      "{2, 3, 4, 5, 6, 7, 8, 9}\n"
     ]
    }
   ],
   "source": [
    "s1 = {1,2,3,4,5}\n",
    "s1.add(6)\n",
    "s1.update([7,8,9])\n",
    "s1.remove(1) # throws error if the value is not present\n",
    "s1.discard(10) # doesnt throw error\n",
    "print(s1)"
   ]
  },
  {
   "cell_type": "code",
   "execution_count": 53,
   "metadata": {},
   "outputs": [
    {
     "name": "stdout",
     "output_type": "stream",
     "text": [
      "Intersection: {3}\n",
      "Difference present only in s1 but not in s2: {1}\n",
      "Difference present in either s1 or s2: {1, 4}\n"
     ]
    }
   ],
   "source": [
    "s1 = {1,2,3}\n",
    "s2 = {2,3,4}\n",
    "s3 = {3,4,5}\n",
    "\n",
    "print(\"Intersection:\",s1.intersection(s2,s3))\n",
    "print(\"Difference present only in s1 but not in s2:\",s1.difference(s2))\n",
    "print(\"Difference present in either s1 or s2:\",s1.symmetric_difference(s2))\n",
    "\n"
   ]
  },
  {
   "cell_type": "markdown",
   "metadata": {},
   "source": [
    "#### Video 90 : Iterartors and Iterables"
   ]
  },
  {
   "cell_type": "code",
   "execution_count": 7,
   "metadata": {},
   "outputs": [
    {
     "name": "stdout",
     "output_type": "stream",
     "text": [
      "<list_iterator object at 0x0000026DFEDB1C88>\n",
      "<list_iterator object at 0x0000026DFEDB1C50>\n",
      "['__class__', '__delattr__', '__dir__', '__doc__', '__eq__', '__format__', '__ge__', '__getattribute__', '__gt__', '__hash__', '__init__', '__init_subclass__', '__iter__', '__le__', '__length_hint__', '__lt__', '__ne__', '__new__', '__next__', '__reduce__', '__reduce_ex__', '__repr__', '__setattr__', '__setstate__', '__sizeof__', '__str__', '__subclasshook__']\n",
      "1\n",
      "1\n"
     ]
    }
   ],
   "source": [
    "#Iterable : something which can be looped over e.g list,tupel,generators,string\n",
    "nums = [1,2,3]\n",
    "# __iter__() dunder method is assoviated with a iterable\n",
    "# An iterator is an object with a state that remembers its state when its iterated over\n",
    "print(nums.__iter__())\n",
    "print(iter(nums))\n",
    "print(dir(nums.__iter__()))\n",
    "\n",
    "print(next(iter(nums)))\n",
    "print(next(iter(nums)))"
   ]
  },
  {
   "cell_type": "code",
   "execution_count": 8,
   "metadata": {},
   "outputs": [
    {
     "name": "stdout",
     "output_type": "stream",
     "text": [
      "1\n",
      "1\n"
     ]
    }
   ],
   "source": [
    "print(next(iter(nums)))\n",
    "print(next(iter(nums)))# next() prints next value of the list"
   ]
  },
  {
   "cell_type": "code",
   "execution_count": 5,
   "metadata": {},
   "outputs": [
    {
     "name": "stdout",
     "output_type": "stream",
     "text": [
      "1\n",
      "2\n"
     ]
    }
   ],
   "source": [
    "# For loop internally handles next() and the StopIteration exception\n",
    "class MyRange: # creating a range() implementation\n",
    "    def __init__(self,start,end):\n",
    "        self.value = start\n",
    "        self.end = end\n",
    "    def __iter__(self): # to make a class iterable it must have __iter__method\n",
    "        return self\n",
    "    def __next__(self):\n",
    "        if self.value >= self.end:\n",
    "            raise StopIteration\n",
    "        current = self.value\n",
    "        self.value +=1\n",
    "        return current\n",
    "        \n",
    "nums = MyRange(1,3)\n",
    "for num in nums: # iterating over the object.\n",
    "    print(num)\n",
    "        "
   ]
  },
  {
   "cell_type": "code",
   "execution_count": 61,
   "metadata": {},
   "outputs": [
    {
     "ename": "StopIteration",
     "evalue": "",
     "output_type": "error",
     "traceback": [
      "\u001b[1;31m---------------------------------------------------------------------------\u001b[0m",
      "\u001b[1;31mStopIteration\u001b[0m                             Traceback (most recent call last)",
      "\u001b[1;32m<ipython-input-61-ddf9ec797e52>\u001b[0m in \u001b[0;36m<module>\u001b[1;34m\u001b[0m\n\u001b[1;32m----> 1\u001b[1;33m \u001b[0mprint\u001b[0m\u001b[1;33m(\u001b[0m\u001b[0mnext\u001b[0m\u001b[1;33m(\u001b[0m\u001b[0mnums\u001b[0m\u001b[1;33m)\u001b[0m\u001b[1;33m)\u001b[0m\u001b[1;33m\u001b[0m\u001b[1;33m\u001b[0m\u001b[0m\n\u001b[0m",
      "\u001b[1;32m<ipython-input-60-40e0f374f6ea>\u001b[0m in \u001b[0;36m__next__\u001b[1;34m(self)\u001b[0m\n\u001b[0;32m      8\u001b[0m     \u001b[1;32mdef\u001b[0m \u001b[0m__next__\u001b[0m\u001b[1;33m(\u001b[0m\u001b[0mself\u001b[0m\u001b[1;33m)\u001b[0m\u001b[1;33m:\u001b[0m\u001b[1;33m\u001b[0m\u001b[1;33m\u001b[0m\u001b[0m\n\u001b[0;32m      9\u001b[0m         \u001b[1;32mif\u001b[0m \u001b[0mself\u001b[0m\u001b[1;33m.\u001b[0m\u001b[0mvalue\u001b[0m \u001b[1;33m>=\u001b[0m \u001b[0mself\u001b[0m\u001b[1;33m.\u001b[0m\u001b[0mend\u001b[0m\u001b[1;33m:\u001b[0m\u001b[1;33m\u001b[0m\u001b[1;33m\u001b[0m\u001b[0m\n\u001b[1;32m---> 10\u001b[1;33m             \u001b[1;32mraise\u001b[0m \u001b[0mStopIteration\u001b[0m\u001b[1;33m\u001b[0m\u001b[1;33m\u001b[0m\u001b[0m\n\u001b[0m\u001b[0;32m     11\u001b[0m         \u001b[0mcurrent\u001b[0m \u001b[1;33m=\u001b[0m \u001b[0mself\u001b[0m\u001b[1;33m.\u001b[0m\u001b[0mvalue\u001b[0m\u001b[1;33m\u001b[0m\u001b[1;33m\u001b[0m\u001b[0m\n\u001b[0;32m     12\u001b[0m         \u001b[0mself\u001b[0m\u001b[1;33m.\u001b[0m\u001b[0mvalue\u001b[0m \u001b[1;33m+=\u001b[0m\u001b[1;36m1\u001b[0m\u001b[1;33m\u001b[0m\u001b[1;33m\u001b[0m\u001b[0m\n",
      "\u001b[1;31mStopIteration\u001b[0m: "
     ]
    }
   ],
   "source": [
    "print(next(nums)) # already iterated above"
   ]
  },
  {
   "cell_type": "code",
   "execution_count": 9,
   "metadata": {},
   "outputs": [
    {
     "name": "stdout",
     "output_type": "stream",
     "text": [
      "<generator object my_range at 0x0000026DFED631B0>\n",
      "1\n",
      "2\n"
     ]
    }
   ],
   "source": [
    "def my_range(start,end):\n",
    "    current = start\n",
    "    while current < end:\n",
    "        yield current\n",
    "        current +=1\n",
    "nums = my_range(1,3)\n",
    "print(nums)# all values stored in nums;as while loop yeilds all the vals ->creates a generator object.\n",
    "for num in nums:\n",
    "    print(num)"
   ]
  },
  {
   "cell_type": "code",
   "execution_count": 64,
   "metadata": {},
   "outputs": [
    {
     "name": "stdout",
     "output_type": "stream",
     "text": [
      "<class 'generator'>\n"
     ]
    }
   ],
   "source": [
    "print(type(nums))"
   ]
  },
  {
   "cell_type": "code",
   "execution_count": 65,
   "metadata": {},
   "outputs": [],
   "source": [
    "# Iterators can be looped over and an iterator must return a iterator object from a __iter__() method\n",
    "# and a __next_() must be defined for fetching next value!!!"
   ]
  },
  {
   "cell_type": "markdown",
   "metadata": {},
   "source": [
    "#### Video 92: Itertools"
   ]
  },
  {
   "cell_type": "code",
   "execution_count": 69,
   "metadata": {},
   "outputs": [
    {
     "name": "stdout",
     "output_type": "stream",
     "text": [
      "3\n",
      "8\n",
      "13\n"
     ]
    }
   ],
   "source": [
    "import itertools\n",
    "#count() : \n",
    "counter = itertools.count(start=3,step=5) #infinite counter\n",
    "\n",
    "# for num in counter:\n",
    "#     print(num)\n",
    "\n",
    "print(next(counter))\n",
    "print(next(counter))\n",
    "print(next(counter))\n",
    "\n",
    "\n",
    "#can use next() on this iterator"
   ]
  },
  {
   "cell_type": "code",
   "execution_count": 72,
   "metadata": {},
   "outputs": [
    {
     "name": "stdout",
     "output_type": "stream",
     "text": [
      "(18, 100)\n"
     ]
    }
   ],
   "source": [
    "data = [100,200,300,400]\n",
    "daily_data = zip(counter,data) # counter remembers its state\n",
    "print(next(daily_data))"
   ]
  },
  {
   "cell_type": "code",
   "execution_count": 73,
   "metadata": {},
   "outputs": [],
   "source": [
    "# zip() pairs till the shortest value is exhausted\n",
    "#zip_longest() pairs till the longest iterable is exhausted; puts None for shorter ones"
   ]
  },
  {
   "cell_type": "code",
   "execution_count": 75,
   "metadata": {},
   "outputs": [
    {
     "name": "stdout",
     "output_type": "stream",
     "text": [
      "1\n",
      "2\n",
      "3\n",
      "1\n",
      "2\n"
     ]
    }
   ],
   "source": [
    "# cycle(): this infiniteley iterates over the iterable\n",
    "cyc = itertools.cycle([1,2,3])\n",
    "print(next(cyc))\n",
    "print(next(cyc))\n",
    "print(next(cyc))\n",
    "print(next(cyc))\n",
    "print(next(cyc))"
   ]
  },
  {
   "cell_type": "code",
   "execution_count": 76,
   "metadata": {},
   "outputs": [
    {
     "name": "stdout",
     "output_type": "stream",
     "text": [
      "2\n",
      "2\n"
     ]
    },
    {
     "ename": "StopIteration",
     "evalue": "",
     "output_type": "error",
     "traceback": [
      "\u001b[1;31m---------------------------------------------------------------------------\u001b[0m",
      "\u001b[1;31mStopIteration\u001b[0m                             Traceback (most recent call last)",
      "\u001b[1;32m<ipython-input-76-71622a229b96>\u001b[0m in \u001b[0;36m<module>\u001b[1;34m\u001b[0m\n\u001b[0;32m      3\u001b[0m \u001b[0mprint\u001b[0m\u001b[1;33m(\u001b[0m\u001b[0mnext\u001b[0m\u001b[1;33m(\u001b[0m\u001b[0mrep\u001b[0m\u001b[1;33m)\u001b[0m\u001b[1;33m)\u001b[0m\u001b[1;33m\u001b[0m\u001b[1;33m\u001b[0m\u001b[0m\n\u001b[0;32m      4\u001b[0m \u001b[0mprint\u001b[0m\u001b[1;33m(\u001b[0m\u001b[0mnext\u001b[0m\u001b[1;33m(\u001b[0m\u001b[0mrep\u001b[0m\u001b[1;33m)\u001b[0m\u001b[1;33m)\u001b[0m\u001b[1;33m\u001b[0m\u001b[1;33m\u001b[0m\u001b[0m\n\u001b[1;32m----> 5\u001b[1;33m \u001b[0mprint\u001b[0m\u001b[1;33m(\u001b[0m\u001b[0mnext\u001b[0m\u001b[1;33m(\u001b[0m\u001b[0mrep\u001b[0m\u001b[1;33m)\u001b[0m\u001b[1;33m)\u001b[0m\u001b[1;33m\u001b[0m\u001b[1;33m\u001b[0m\u001b[0m\n\u001b[0m",
      "\u001b[1;31mStopIteration\u001b[0m: "
     ]
    }
   ],
   "source": [
    "#repeat() : it infinitely/no of times repeats the input\n",
    "rep = itertools.repeat(2,times=2)\n",
    "print(next(rep))\n",
    "print(next(rep))\n",
    "print(next(rep))"
   ]
  },
  {
   "cell_type": "code",
   "execution_count": 11,
   "metadata": {},
   "outputs": [
    {
     "name": "stdout",
     "output_type": "stream",
     "text": [
      "<map object at 0x0000026DFF34BB00>\n",
      "0\n",
      "1\n",
      "4\n",
      "9\n"
     ]
    }
   ],
   "source": [
    "# map() : takes in a function and iterable as argument to function\n",
    "import itertools\n",
    "sq = map(pow,range(10),itertools.repeat(2))\n",
    "print(sq)\n",
    "print(next(sq))\n",
    "print(next(sq))\n",
    "print(next(sq))\n",
    "print(next(sq))"
   ]
  },
  {
   "cell_type": "code",
   "execution_count": 2,
   "metadata": {},
   "outputs": [
    {
     "name": "stdout",
     "output_type": "stream",
     "text": [
      "[0, 1, 8]\n"
     ]
    }
   ],
   "source": [
    "# starmap : similar to map but takes in list of tuples\n",
    "import itertools\n",
    "sqs = itertools.starmap(pow,[(0,2),(1,2),(2,3)])\n",
    "print(list(sqs))"
   ]
  },
  {
   "cell_type": "code",
   "execution_count": 4,
   "metadata": {},
   "outputs": [
    {
     "name": "stdout",
     "output_type": "stream",
     "text": [
      "('a', 'b')\n",
      "('a', 'c')\n",
      "('b', 'c')\n"
     ]
    }
   ],
   "source": [
    "# combinations and permutations : combinations are ways of grouping certain number of items with a order\n",
    "# permutations are grouping with no orders.\n",
    "\n",
    "letters = ['a','b','c']\n",
    "numbers = [0,1]\n",
    "names = {'fname':'Sachin','lname':'Prakash'}\n",
    "\n",
    "result = itertools.combinations(letters,2)\n",
    "for item in result:\n",
    "    print(item)"
   ]
  },
  {
   "cell_type": "code",
   "execution_count": 91,
   "metadata": {},
   "outputs": [
    {
     "name": "stdout",
     "output_type": "stream",
     "text": [
      "('a', 'b')\n",
      "('a', 'c')\n",
      "('b', 'a')\n",
      "('b', 'c')\n",
      "('c', 'a')\n",
      "('c', 'b')\n"
     ]
    }
   ],
   "source": [
    "result = itertools.permutations(letters,2)\n",
    "for item in result:\n",
    "    print(item)"
   ]
  },
  {
   "cell_type": "code",
   "execution_count": 92,
   "metadata": {},
   "outputs": [
    {
     "name": "stdout",
     "output_type": "stream",
     "text": [
      "('a', 0)\n",
      "('a', 1)\n",
      "('b', 0)\n",
      "('b', 1)\n",
      "('c', 0)\n",
      "('c', 1)\n"
     ]
    }
   ],
   "source": [
    "result = itertools.product(letters,numbers) #cartesian product\n",
    "for item in result:\n",
    "    print(item)"
   ]
  },
  {
   "cell_type": "code",
   "execution_count": 93,
   "metadata": {},
   "outputs": [],
   "source": [
    "#itertools.combination_with_replacement() is also avialable"
   ]
  },
  {
   "cell_type": "code",
   "execution_count": 5,
   "metadata": {},
   "outputs": [
    {
     "name": "stdout",
     "output_type": "stream",
     "text": [
      "<itertools.chain object at 0x0000020C1D3EACF8>\n",
      "a\n",
      "b\n",
      "c\n",
      "0\n",
      "1\n",
      "Sachin\n",
      "Prakash\n"
     ]
    }
   ],
   "source": [
    "combined = itertools.chain(letters,numbers,names.values())\n",
    "print(combined)\n",
    "for item in combined: # chains the iterables together\n",
    "    print(item)"
   ]
  },
  {
   "cell_type": "code",
   "execution_count": 100,
   "metadata": {
    "scrolled": true
   },
   "outputs": [
    {
     "name": "stdout",
     "output_type": "stream",
     "text": [
      "1\n",
      "3\n"
     ]
    }
   ],
   "source": [
    "res = itertools.islice(range(10),1,5,2)\n",
    "for item in res:\n",
    "    print(item)"
   ]
  },
  {
   "cell_type": "code",
   "execution_count": 101,
   "metadata": {},
   "outputs": [
    {
     "name": "stdout",
     "output_type": "stream",
     "text": [
      "['a', 'b']\n"
     ]
    }
   ],
   "source": [
    "# compress() : some data and some selectors;based on selectors we have to filetr down the data\n",
    "selectors = [True,True,False,True]\n",
    "result = itertools.compress(letters,selectors)\n",
    "print(list(result)) # c -> False"
   ]
  },
  {
   "cell_type": "code",
   "execution_count": 113,
   "metadata": {},
   "outputs": [
    {
     "name": "stdout",
     "output_type": "stream",
     "text": [
      "[2, 2]\n"
     ]
    }
   ],
   "source": [
    "#filter() determines based on a condition weather something is True/False\n",
    "numbers = [0,1,2,3,2,1,0]\n",
    "def lt_2(n):\n",
    "    if n == 2:\n",
    "        return True\n",
    "    return False\n",
    "result = filter(lt_2,numbers) # filterfalse is also there that does opposite\n",
    "print(list(result))"
   ]
  },
  {
   "cell_type": "code",
   "execution_count": 8,
   "metadata": {},
   "outputs": [
    {
     "name": "stdout",
     "output_type": "stream",
     "text": [
      "[0, 1, 2, 3, 2, 1, 0]\n"
     ]
    }
   ],
   "source": [
    "def lt_2(n):\n",
    "    if n > 2:\n",
    "        return True\n",
    "    return False\n",
    "numbers = [0,1,2,3,2,1,0]\n",
    "res = itertools.dropwhile(lt_2,numbers)\n",
    "print(list(res))\n",
    "#drops value from a iterable until one of the value retuns true\n",
    "#takewhile does opposite"
   ]
  },
  {
   "cell_type": "code",
   "execution_count": 117,
   "metadata": {},
   "outputs": [
    {
     "name": "stdout",
     "output_type": "stream",
     "text": [
      "[0, 1, 3, 6, 8, 9, 9]\n"
     ]
    }
   ],
   "source": [
    "#accumualate() : takes in a iterable and returns a accumulated sum of items\n",
    "res = itertools.accumulate(numbers)\n",
    "print(list(res))"
   ]
  },
  {
   "cell_type": "code",
   "execution_count": 120,
   "metadata": {},
   "outputs": [
    {
     "name": "stdout",
     "output_type": "stream",
     "text": [
      "Bihar\n",
      "{'name': 'Sachin', 'city': 'Buxar', 'state': 'Bihar'}\n",
      "{'name': 'Prakash', 'city': 'Patna', 'state': 'Bihar'}\n",
      "\n",
      "KA\n",
      "{'name': 'Chandra', 'city': 'BLR', 'state': 'KA'}\n",
      "{'name': 'Minni', 'city': 'MLR', 'state': 'KA'}\n",
      "\n"
     ]
    }
   ],
   "source": [
    "# group(): groups based on key\n",
    "people = [\n",
    "    {\n",
    "        'name':'Sachin',\n",
    "        'city' : 'Buxar',\n",
    "        'state' : 'Bihar',\n",
    "    },\n",
    "    {\n",
    "        'name':'Prakash',\n",
    "        'city' : 'Patna',\n",
    "        'state' : 'Bihar',\n",
    "    },\n",
    "    {\n",
    "        'name':'Chandra',\n",
    "        'city' : 'BLR',\n",
    "        'state' : 'KA',\n",
    "    },\n",
    "    {\n",
    "        'name':'Minni',\n",
    "        'city' : 'MLR',\n",
    "        'state' : 'KA',\n",
    "    }\n",
    "]\n",
    "def get_state(person):\n",
    "    return person['state']\n",
    "\n",
    "person_group = itertools.groupby(people,get_state)\n",
    "\n",
    "for key,group in person_group:\n",
    "    print(key)\n",
    "    for person in group:\n",
    "        print(person)\n",
    "    print()\n",
    "# first it took Bihar then took KA"
   ]
  },
  {
   "cell_type": "code",
   "execution_count": 1,
   "metadata": {},
   "outputs": [],
   "source": [
    "#122,123,124,125"
   ]
  },
  {
   "attachments": {
    "image.png": {
     "image/png": "[encoded data removed]"
    }
   },
   "cell_type": "markdown",
   "metadata": {},
   "source": [
    "#### Multithreading\n",
    "![image.png](attachment:image.png)"
   ]
  },
  {
   "cell_type": "code",
   "execution_count": 9,
   "metadata": {},
   "outputs": [
    {
     "name": "stdout",
     "output_type": "stream",
     "text": [
      "Hello\n",
      "Hello\n",
      "Hello\n",
      "Hello\n",
      "Hello\n",
      "HiBye\n",
      "Hi\n",
      "Hi\n",
      "Hi\n",
      "Hi\n",
      "\n"
     ]
    }
   ],
   "source": [
    "from threading import *\n",
    "from time import sleep\n",
    "class Hello(Thread):\n",
    "    def run(self): # inside thread class we have a method called run;it will not work with any other method\n",
    "        for i in range(5):\n",
    "#             sleep(5)\n",
    "            print(\"Hello\")\n",
    "class Hi(Thread):\n",
    "    def run(self):\n",
    "#         sleep(5)\n",
    "        for i in range(5):\n",
    "            print(\"Hi\")\n",
    "            \n",
    "            \n",
    "# main thread runs single tasks normally\n",
    "\n",
    "# make hello sub-class of thread\n",
    "\n",
    "# To create two diffrent Thread and call start\n",
    "t1 = Hello()\n",
    "t2 = Hi()\n",
    "\n",
    "t1.start()\n",
    "sleep(0.2)\n",
    "t2.start()\n",
    "\n",
    "# these two run simultaneously\n",
    "print(\"Bye\")\n",
    "# To meke main thread wait for completion of other threads:\n",
    "t1.join()\n",
    "t2.join()"
   ]
  },
  {
   "cell_type": "markdown",
   "metadata": {},
   "source": [
    "#### Abstract Class"
   ]
  },
  {
   "cell_type": "code",
   "execution_count": 11,
   "metadata": {},
   "outputs": [
    {
     "name": "stdout",
     "output_type": "stream",
     "text": [
      "process\n"
     ]
    }
   ],
   "source": [
    "from abc import ABC,abstractmethod\n",
    "\n",
    "\n",
    "class Computer(ABC): # Astract class has atleast one abstract method.\n",
    "    \n",
    "    @abstractmethod\n",
    "    def process(self): # Methods only having declaration not any definition\n",
    "        pass\n",
    "    \n",
    "#object of computer cant be created\n",
    "\n",
    "class Laptop(Computer):\n",
    "    \n",
    "    def process(self):\n",
    "        print(\"process\")\n",
    "        \n",
    "        \n",
    "obj = Laptop()\n",
    "obj.process()"
   ]
  },
  {
   "cell_type": "markdown",
   "metadata": {},
   "source": [
    "#### Sockets\n",
    "\n",
    "#1 Ports : Servers have IP address, a machine which provides diffrent services have diffrent port numbers for\n",
    "for diifrent services; like HTTP and mail services. TOMCAT has 8080.\n",
    "\n",
    "#2 Type of connection : TCP and UDP; where TCP is a connection oriented protocol and UDP is connection\n",
    "less protocol i.e based on address it reaches its destination.\n",
    "\n",
    "#3 TCP:"
   ]
  },
  {
   "cell_type": "code",
   "execution_count": null,
   "metadata": {},
   "outputs": [
    {
     "name": "stdout",
     "output_type": "stream",
     "text": [
      "waiting for connection\n"
     ]
    }
   ],
   "source": [
    "import socket\n",
    "# Server Socket: it can accept connections and now we have to bind port numbers \n",
    "s = socket.socket()\n",
    "s.bind(('localhost',9999)) # localhost is the name, it can take IP address of the server instead pf localhost\n",
    "\n",
    "#define the mumber of clients allowed to connect\n",
    "s.listen(3)\n",
    "print('waiting for connection')\n",
    "\n",
    "while True:\n",
    "    c,addr = s.accept() # returns name and address\n",
    "    print(\"Connected with \",addr)\n",
    "    c.send(bytes('Welcome','utf-8'))\n",
    "    c.close()"
   ]
  },
  {
   "cell_type": "code",
   "execution_count": null,
   "metadata": {},
   "outputs": [],
   "source": [
    "# Create a client :\n",
    "import socket\n",
    "# Client socket\n",
    "c = socket.socket()\n",
    "c.connect('localhost',9999) \n",
    "\n",
    "# to receive server data :\n",
    "print(c.recv(1024).decode())"
   ]
  },
  {
   "cell_type": "markdown",
   "metadata": {},
   "source": [
    "#### Map, Reduce, Filter:\n",
    "#1"
   ]
  },
  {
   "cell_type": "code",
   "execution_count": 3,
   "metadata": {},
   "outputs": [
    {
     "name": "stdout",
     "output_type": "stream",
     "text": [
      "[4, 6, 4, 2]\n"
     ]
    }
   ],
   "source": [
    "nums = [3,4,6,1,4,567,35,7,53,2]\n",
    "\n",
    "def is_even(n):\n",
    "    return n%2 == 0 # returns true/false for filter functions\n",
    "        \n",
    "    \n",
    "    \n",
    "evens = list(filter(is_even,nums)) # takes in function and an iterable\n",
    "print(evens)"
   ]
  },
  {
   "cell_type": "code",
   "execution_count": 5,
   "metadata": {},
   "outputs": [
    {
     "name": "stdout",
     "output_type": "stream",
     "text": [
      "[4, 6, 4, 2]\n"
     ]
    }
   ],
   "source": [
    "nums = [3,4,6,1,4,567,35,7,53,2]\n",
    "\n",
    "evens = list(filter(lambda n : n%2==0,nums))\n",
    "print(evens)"
   ]
  },
  {
   "cell_type": "code",
   "execution_count": 6,
   "metadata": {},
   "outputs": [
    {
     "name": "stdout",
     "output_type": "stream",
     "text": [
      "[6, 8, 6, 4]\n"
     ]
    }
   ],
   "source": [
    "doubles = list(map(lambda n : n+2,evens))\n",
    "print(doubles)"
   ]
  },
  {
   "cell_type": "code",
   "execution_count": 9,
   "metadata": {},
   "outputs": [
    {
     "name": "stdout",
     "output_type": "stream",
     "text": [
      "24\n"
     ]
    }
   ],
   "source": [
    "from functools import reduce\n",
    "sum = reduce(lambda a,b : a + b,doubles)\n",
    "print(sum)"
   ]
  },
  {
   "cell_type": "markdown",
   "metadata": {},
   "source": [
    "#### argparse"
   ]
  },
  {
   "cell_type": "code",
   "execution_count": 2,
   "metadata": {},
   "outputs": [],
   "source": [
    "# import argparse\n",
    "# parser = argparse.ArgumentParser()\n",
    "# parser.add_argument(\"square\", type=int,\n",
    "#                     help=\"display a square of a given number\") # named positional argument called \"echo\" is added\n",
    "# parser.add_argument(\"-v\",\"--verbosity\", help=\"increase output verbosity\")\n",
    "# args = parser.parse_args()\n",
    "# print(args.square)\n",
    "# if args.verbosity:\n",
    "#     print(\"verbosity turned on\")"
   ]
  },
  {
   "cell_type": "code",
   "execution_count": 22,
   "metadata": {},
   "outputs": [
    {
     "name": "stdout",
     "output_type": "stream",
     "text": [
      "['C:\\\\Users\\\\sachin.b.prakash\\\\AppData\\\\Local\\\\Continuum\\\\anaconda3', 'C:\\\\Users\\\\sachin.b.prakash\\\\AppData\\\\Local\\\\Continuum\\\\anaconda3\\\\lib\\\\site-packages']\n",
      "<class 'str'>\n",
      "'C:\\\\Users\\\\sachin.b.prakash\\\\AppData\\\\Local\\\\Continuum\\\\anaconda3\\\\lib\\\\site-packages'\n",
      "C:\\Users\\sachin.b.prakash\\AppData\\Local\\Continuum\\anaconda3\\lib\\site-packages\n"
     ]
    }
   ],
   "source": [
    "import site\n",
    "print(site.getsitepackages())\n",
    "path = site.getsitepackages()[1]\n",
    "print(type(path))\n",
    "print(repr(path))\n",
    "print(path)"
   ]
  },
  {
   "cell_type": "markdown",
   "metadata": {},
   "source": [
    "### Collections"
   ]
  },
  {
   "cell_type": "markdown",
   "metadata": {},
   "source": [
    "#### ChainMap"
   ]
  },
  {
   "cell_type": "code",
   "execution_count": 1,
   "metadata": {},
   "outputs": [],
   "source": [
    "import collections"
   ]
  },
  {
   "cell_type": "code",
   "execution_count": 4,
   "metadata": {},
   "outputs": [
    {
     "name": "stdout",
     "output_type": "stream",
     "text": [
      "[{'a': 1, 'b': 2}, {'b': 3, 'c': 4}]\n"
     ]
    }
   ],
   "source": [
    "dict_a = {'a':1,'b':2}\n",
    "dict_b = {'b':3,'c':4}\n",
    "\n",
    "m = collections.ChainMap(dict_a,dict_b)\n",
    "# m = [{},{}] -> values are fetched or updated from first dict inside list when encountered.\n",
    "\n",
    "print(m.maps)"
   ]
  },
  {
   "cell_type": "code",
   "execution_count": 5,
   "metadata": {},
   "outputs": [
    {
     "data": {
      "text/plain": [
       "ChainMap({'a': 1, 'b': 'new_val'}, {'b': 3, 'c': 4})"
      ]
     },
     "execution_count": 5,
     "metadata": {},
     "output_type": "execute_result"
    }
   ],
   "source": [
    "m['b'] = 'new_val'\n",
    "m"
   ]
  },
  {
   "cell_type": "code",
   "execution_count": 6,
   "metadata": {},
   "outputs": [
    {
     "data": {
      "text/plain": [
       "ChainMap({'b': 'hello', 'c': 4}, {'a': 1, 'b': 'new_val'})"
      ]
     },
     "execution_count": 6,
     "metadata": {},
     "output_type": "execute_result"
    }
   ],
   "source": [
    "# reverse the list\n",
    "m.maps = list(reversed(m.maps))\n",
    "m['b'] = 'hello'\n",
    "m"
   ]
  },
  {
   "cell_type": "code",
   "execution_count": 7,
   "metadata": {},
   "outputs": [
    {
     "data": {
      "text/plain": [
       "ChainMap({'b': 'hello', 'c': 4, 'e': 'Hey'}, {'a': 1, 'b': 'new_val'})"
      ]
     },
     "execution_count": 7,
     "metadata": {},
     "output_type": "execute_result"
    }
   ],
   "source": [
    "m['e'] = 'Hey'\n",
    "m"
   ]
  },
  {
   "cell_type": "code",
   "execution_count": 8,
   "metadata": {},
   "outputs": [
    {
     "data": {
      "text/plain": [
       "ChainMap({}, {'b': 'hello', 'c': 4, 'e': 'Hey'}, {'a': 1, 'b': 'new_val'})"
      ]
     },
     "execution_count": 8,
     "metadata": {},
     "output_type": "execute_result"
    }
   ],
   "source": [
    "m2 = m.new_child()\n",
    "m2 # this creates a empty dictionary at begining of the list ; and any new vals are added there only"
   ]
  },
  {
   "cell_type": "markdown",
   "metadata": {},
   "source": [
    "#### Counter \n",
    "It is a container that keeps track of how many times equivalent values are added. It can be used to implement the same algorithms for which other languages commonly use bag or multiset data structures.\n",
    "\n",
    "Initializing\n",
    "Counter supports three forms of initialization. Its constructor can be called with a sequence of items, a dictionary containing keys and counts, or using keyword arguments that map string names to counts."
   ]
  },
  {
   "cell_type": "code",
   "execution_count": 9,
   "metadata": {},
   "outputs": [
    {
     "name": "stdout",
     "output_type": "stream",
     "text": [
      "Counter({'b': 3, 'a': 2, 'c': 1})\n",
      "Counter({'b': 3, 'a': 2, 'c': 1})\n",
      "Counter({'b': 3, 'a': 2, 'c': 1})\n"
     ]
    }
   ],
   "source": [
    "print(collections.Counter(['a', 'b', 'c', 'a', 'b', 'b']))\n",
    "print(collections.Counter({'a': 2, 'b': 3, 'c': 1}))\n",
    "print(collections.Counter(a=2, b=3, c=1)) # returns a Counter object."
   ]
  },
  {
   "cell_type": "code",
   "execution_count": 10,
   "metadata": {},
   "outputs": [
    {
     "name": "stdout",
     "output_type": "stream",
     "text": [
      "Initial : Counter()\n",
      "Sequence: Counter({'a': 3, 'b': 2, 'c': 1, 'd': 1})\n",
      "Dict    : Counter({'d': 6, 'a': 4, 'b': 2, 'c': 1})\n"
     ]
    }
   ],
   "source": [
    "c = collections.Counter()\n",
    "print('Initial :', c)\n",
    "\n",
    "c.update('abcdaab')\n",
    "print('Sequence:', c)\n",
    "\n",
    "c.update({'a': 1, 'd': 5})\n",
    "print('Dict    :', c)"
   ]
  },
  {
   "cell_type": "code",
   "execution_count": 11,
   "metadata": {},
   "outputs": [
    {
     "name": "stdout",
     "output_type": "stream",
     "text": [
      "a : 3\n",
      "b : 2\n",
      "c : 1\n",
      "d : 1\n",
      "e : 0\n"
     ]
    }
   ],
   "source": [
    "# Accessing\n",
    "c = collections.Counter('abcdaab')\n",
    "\n",
    "for letter in 'abcde':\n",
    "    print('{} : {}'.format(letter, c[letter]))"
   ]
  },
  {
   "cell_type": "code",
   "execution_count": 13,
   "metadata": {},
   "outputs": [
    {
     "name": "stdout",
     "output_type": "stream",
     "text": [
      "Counter({'e': 3, 'x': 1, 't': 1, 'r': 1, 'm': 1, 'l': 1, 'y': 1, 'z': 0})\n",
      "['e', 'e', 'e', 'x', 't', 'r', 'm', 'l', 'y']\n"
     ]
    }
   ],
   "source": [
    "c = collections.Counter('extremely')\n",
    "c['z'] = 0\n",
    "print(c)\n",
    "print(list(c.elements())) # only non zero is returned"
   ]
  },
  {
   "cell_type": "code",
   "execution_count": 14,
   "metadata": {},
   "outputs": [
    {
     "name": "stdout",
     "output_type": "stream",
     "text": [
      "e:       3\n",
      "x:       1\n",
      "t:       1\n"
     ]
    }
   ],
   "source": [
    "for letter, count in c.most_common(3):\n",
    "    print('{}: {:>7}'.format(letter, count)) # n most common element"
   ]
  },
  {
   "cell_type": "code",
   "execution_count": 15,
   "metadata": {},
   "outputs": [
    {
     "name": "stdout",
     "output_type": "stream",
     "text": [
      "C1: Counter({'b': 3, 'a': 2, 'c': 1})\n",
      "C2: Counter({'a': 2, 'l': 1, 'p': 1, 'h': 1, 'b': 1, 'e': 1, 't': 1})\n",
      "\n",
      "Combined counts:\n",
      "Counter({'a': 4, 'b': 4, 'c': 1, 'l': 1, 'p': 1, 'h': 1, 'e': 1, 't': 1})\n",
      "\n",
      "Subtraction:\n",
      "Counter({'b': 2, 'c': 1})\n",
      "\n",
      "Intersection (taking positive minimums):\n",
      "Counter({'a': 2, 'b': 1})\n",
      "\n",
      "Union (taking maximums):\n",
      "Counter({'b': 3, 'a': 2, 'c': 1, 'l': 1, 'p': 1, 'h': 1, 'e': 1, 't': 1})\n"
     ]
    }
   ],
   "source": [
    "c1 = collections.Counter(['a', 'b', 'c', 'a', 'b', 'b'])\n",
    "c2 = collections.Counter('alphabet')\n",
    "\n",
    "print('C1:', c1)\n",
    "print('C2:', c2)\n",
    "\n",
    "print('\\nCombined counts:')\n",
    "print(c1 + c2)\n",
    "\n",
    "print('\\nSubtraction:')\n",
    "print(c1 - c2)\n",
    "\n",
    "print('\\nIntersection (taking positive minimums):')\n",
    "print(c1 & c2)\n",
    "\n",
    "print('\\nUnion (taking maximums):')\n",
    "print(c1 | c2)"
   ]
  },
  {
   "cell_type": "markdown",
   "metadata": {},
   "source": [
    "#### DefaultDict"
   ]
  },
  {
   "cell_type": "code",
   "execution_count": 16,
   "metadata": {},
   "outputs": [
    {
     "data": {
      "text/plain": [
       "'default value'"
      ]
     },
     "execution_count": 16,
     "metadata": {},
     "output_type": "execute_result"
    }
   ],
   "source": [
    "def def_return():\n",
    "    return \"default value\"\n",
    "\n",
    "d = collections.defaultdict(def_return,foo='bar',hello=\"world\") # a function which returns a value\n",
    "d['hi']"
   ]
  },
  {
   "cell_type": "code",
   "execution_count": 18,
   "metadata": {},
   "outputs": [
    {
     "data": {
      "text/plain": [
       "'bar'"
      ]
     },
     "execution_count": 18,
     "metadata": {},
     "output_type": "execute_result"
    }
   ],
   "source": [
    "d['foo']"
   ]
  },
  {
   "cell_type": "markdown",
   "metadata": {},
   "source": [
    "#### deque — Double-Ended Queue\n",
    "A double-ended queue, or deque, supports adding and removing elements from either end of the queue. The more commonly used stacks and queues are degenerate forms of deques, where the inputs and outputs are restricted to a single end."
   ]
  },
  {
   "cell_type": "code",
   "execution_count": 19,
   "metadata": {},
   "outputs": [
    {
     "name": "stdout",
     "output_type": "stream",
     "text": [
      "Deque: deque(['a', 'b', 'c', 'd', 'e', 'f', 'g'])\n",
      "Length: 7\n",
      "Left end: a\n",
      "Right end: g\n",
      "remove(c): deque(['a', 'b', 'd', 'e', 'f', 'g'])\n"
     ]
    }
   ],
   "source": [
    "d = collections.deque('abcdefg')\n",
    "print('Deque:', d)\n",
    "print('Length:', len(d))\n",
    "print('Left end:', d[0])\n",
    "print('Right end:', d[-1])\n",
    "\n",
    "d.remove('c')\n",
    "print('remove(c):', d)"
   ]
  },
  {
   "cell_type": "code",
   "execution_count": 20,
   "metadata": {},
   "outputs": [
    {
     "name": "stdout",
     "output_type": "stream",
     "text": [
      "extend    : deque(['a', 'b', 'c', 'd', 'e', 'f', 'g'])\n",
      "append    : deque(['a', 'b', 'c', 'd', 'e', 'f', 'g', 'h'])\n",
      "extendleft: deque([5, 4, 3, 2, 1, 0])\n",
      "appendleft: deque([6, 5, 4, 3, 2, 1, 0])\n"
     ]
    }
   ],
   "source": [
    "d1 = collections.deque()\n",
    "d1.extend('abcdefg')\n",
    "print('extend    :', d1) # insertion from right\n",
    "d1.append('h')\n",
    "print('append    :', d1)\n",
    "\n",
    "# Add to the left\n",
    "d2 = collections.deque()\n",
    "d2.extendleft(range(6))\n",
    "print('extendleft:', d2) # insertion from right\n",
    "d2.appendleft(6)\n",
    "print('appendleft:', d2)"
   ]
  },
  {
   "cell_type": "code",
   "execution_count": 25,
   "metadata": {},
   "outputs": [
    {
     "data": {
      "text/plain": [
       "['a', 'b']"
      ]
     },
     "execution_count": 25,
     "metadata": {},
     "output_type": "execute_result"
    }
   ],
   "source": [
    "dl = collections.deque(['a','b'])\n",
    "list(dl)"
   ]
  },
  {
   "cell_type": "code",
   "execution_count": 26,
   "metadata": {},
   "outputs": [
    {
     "name": "stdout",
     "output_type": "stream",
     "text": [
      "From the right:\n",
      "gfedcba\n",
      "\n",
      "From the left:\n",
      "012345\n"
     ]
    }
   ],
   "source": [
    "#consuming\n",
    "\n",
    "print('From the right:')\n",
    "d = collections.deque('abcdefg')\n",
    "while True:\n",
    "    try:\n",
    "        print(d.pop(), end='')\n",
    "    except IndexError:\n",
    "        break\n",
    "print()\n",
    "\n",
    "print('\\nFrom the left:')\n",
    "d = collections.deque(range(6))\n",
    "while True:\n",
    "    try:\n",
    "        print(d.popleft(), end='')\n",
    "    except IndexError:\n",
    "        break\n",
    "print()"
   ]
  },
  {
   "cell_type": "code",
   "execution_count": 28,
   "metadata": {},
   "outputs": [
    {
     "name": "stdout",
     "output_type": "stream",
     "text": [
      "    Left: 0\n",
      "   Right: 4\n",
      "    Left: 1\n",
      "   Right: 3\n",
      "    Left: 2\n",
      "   Right done\n",
      "    Left done\n"
     ]
    }
   ],
   "source": [
    "# consuming with threading:\n",
    "import collections\n",
    "import threading\n",
    "import time\n",
    "\n",
    "candle = collections.deque(range(5))\n",
    "def burn(direction, nextSource):\n",
    "    while True:\n",
    "        try:\n",
    "            next = nextSource()\n",
    "        except IndexError:\n",
    "            break\n",
    "        else:\n",
    "            print('{:>8}: {}'.format(direction, next))\n",
    "            time.sleep(0.1)\n",
    "    print('{:>8} done'.format(direction))\n",
    "    return\n",
    "\n",
    "\n",
    "left = threading.Thread(target=burn,\n",
    "                        args=('Left', candle.popleft))\n",
    "right = threading.Thread(target=burn,\n",
    "                         args=('Right', candle.pop))\n",
    "\n",
    "left.start()\n",
    "right.start()\n",
    "\n",
    "left.join()\n",
    "right.join()"
   ]
  },
  {
   "cell_type": "code",
   "execution_count": 29,
   "metadata": {},
   "outputs": [
    {
     "name": "stdout",
     "output_type": "stream",
     "text": [
      "Normal        : deque([0, 1, 2, 3, 4, 5, 6, 7, 8, 9])\n",
      "Right rotation: deque([8, 9, 0, 1, 2, 3, 4, 5, 6, 7])\n",
      "Left rotation : deque([2, 3, 4, 5, 6, 7, 8, 9, 0, 1])\n"
     ]
    }
   ],
   "source": [
    "# Rotating i.e. shifting elements by n\n",
    "d = collections.deque(range(10))\n",
    "print('Normal        :', d)\n",
    "\n",
    "d = collections.deque(range(10))\n",
    "d.rotate(2)\n",
    "print('Right rotation:', d)\n",
    "\n",
    "d = collections.deque(range(10))\n",
    "d.rotate(-2)\n",
    "print('Left rotation :', d)"
   ]
  },
  {
   "cell_type": "code",
   "execution_count": 30,
   "metadata": {},
   "outputs": [],
   "source": [
    "# A deque instance can be configured with a maximum length so that it never grows beyond that size.\n",
    "# When the queue reaches the specified length, existing items are discarded as new items are added. \n",
    "# This behavior is useful for finding the last n items in a stream of undetermined length."
   ]
  },
  {
   "cell_type": "code",
   "execution_count": 32,
   "metadata": {},
   "outputs": [
    {
     "name": "stdout",
     "output_type": "stream",
     "text": [
      "n = 17\n",
      "D1: deque([17], maxlen=3)\n",
      "D2: deque([17], maxlen=3)\n",
      "n = 72\n",
      "D1: deque([17, 72], maxlen=3)\n",
      "D2: deque([72, 17], maxlen=3)\n",
      "n = 97\n",
      "D1: deque([17, 72, 97], maxlen=3)\n",
      "D2: deque([97, 72, 17], maxlen=3)\n",
      "n = 8\n",
      "D1: deque([72, 97, 8], maxlen=3)\n",
      "D2: deque([8, 97, 72], maxlen=3)\n",
      "n = 32\n",
      "D1: deque([97, 8, 32], maxlen=3)\n",
      "D2: deque([32, 8, 97], maxlen=3)\n"
     ]
    }
   ],
   "source": [
    "import random\n",
    "random.seed(1)\n",
    "\n",
    "d1 = collections.deque(maxlen=3)\n",
    "d2 = collections.deque(maxlen=3)\n",
    "\n",
    "for i in range(5):\n",
    "    n = random.randint(0, 100)\n",
    "    print('n =', n)\n",
    "    d1.append(n)\n",
    "    d2.appendleft(n)\n",
    "    print('D1:', d1)\n",
    "    print('D2:', d2)"
   ]
  },
  {
   "cell_type": "markdown",
   "metadata": {},
   "source": [
    "#### namedtuple"
   ]
  },
  {
   "cell_type": "code",
   "execution_count": 33,
   "metadata": {},
   "outputs": [
    {
     "name": "stdout",
     "output_type": "stream",
     "text": [
      "Representation: ('Bob', 30, 'male')\n",
      "\n",
      "Field by index: Jane\n",
      "\n",
      "Fields by index:\n",
      "Bob is a 30 year old male\n",
      "Jane is a 29 year old female\n"
     ]
    }
   ],
   "source": [
    "bob = ('Bob', 30, 'male')\n",
    "print('Representation:', bob)\n",
    "\n",
    "jane = ('Jane', 29, 'female')\n",
    "print('\\nField by index:', jane[0])\n",
    "\n",
    "print('\\nFields by index:')\n",
    "for p in [bob, jane]:\n",
    "    print('{} is a {} year old {}'.format(*p))"
   ]
  },
  {
   "cell_type": "code",
   "execution_count": 34,
   "metadata": {},
   "outputs": [],
   "source": [
    "# namedtuple instances are just as memory efficient as regular tuples because \n",
    "# they do not have per-instance dictionaries. Each kind of namedtuple is represented by its own class, \n",
    "# which is created by using the namedtuple() factory function. The arguments are the name of the new class \n",
    "# and a string containing the names of the elements."
   ]
  },
  {
   "cell_type": "code",
   "execution_count": 35,
   "metadata": {},
   "outputs": [
    {
     "name": "stdout",
     "output_type": "stream",
     "text": [
      "\n",
      "Representation: Person(name='Bob', age=30)\n",
      "\n",
      "Field by name: Jane\n",
      "\n",
      "Fields by index:\n",
      "Bob is 30 years old\n",
      "Jane is 29 years old\n"
     ]
    }
   ],
   "source": [
    "Person = collections.namedtuple('Person', 'name age')\n",
    "# initialise namedtuple with a name for class and pass python valid names for indexes.\n",
    "# later new instances can be created using tuple name \n",
    "bob = Person(name='Bob', age=30)\n",
    "print('\\nRepresentation:', bob)\n",
    "\n",
    "jane = Person(name='Jane', age=29)\n",
    "print('\\nField by name:', jane.name)\n",
    "\n",
    "print('\\nFields by index:')\n",
    "for p in [bob, jane]:\n",
    "    print('{} is {} years old'.format(*p))"
   ]
  },
  {
   "cell_type": "code",
   "execution_count": 9,
   "metadata": {},
   "outputs": [
    {
     "name": "stdout",
     "output_type": "stream",
     "text": [
      "('name', '_1', 'age')\n",
      "<class '__main__.Person'>\n",
      "('name', 'age', '_2')\n"
     ]
    }
   ],
   "source": [
    "# In situations where a namedtuple is created based on values outside the control of the program \n",
    "# (such as to represent the rows returned by a database query, where the schema is not known in advance), \n",
    "# the rename option should be set to True so the invalid fields are renamed.\n",
    "import collections\n",
    "\n",
    "with_class = collections.namedtuple(\n",
    "    'Person', 'name class age',\n",
    "    rename=True)\n",
    "print(with_class._fields)\n",
    "print(with_class)\n",
    "two_ages = collections.namedtuple(\n",
    "    'Person', 'name age age',\n",
    "    rename=True)\n",
    "print(two_ages._fields) # invalid or repeat names are replaced with their indexes"
   ]
  },
  {
   "cell_type": "code",
   "execution_count": 37,
   "metadata": {},
   "outputs": [
    {
     "name": "stdout",
     "output_type": "stream",
     "text": [
      "Representation: Person(name='Bob', age=30)\n",
      "As Dictionary: OrderedDict([('name', 'Bob'), ('age', 30)])\n"
     ]
    }
   ],
   "source": [
    "Person = collections.namedtuple('Person', 'name age')\n",
    "\n",
    "bob = Person(name='Bob', age=30)\n",
    "print('Representation:', bob)\n",
    "print('As Dictionary:', bob._asdict())\n"
   ]
  },
  {
   "cell_type": "code",
   "execution_count": 38,
   "metadata": {},
   "outputs": [
    {
     "name": "stdout",
     "output_type": "stream",
     "text": [
      "\n",
      "Before: Person(name='Bob', age=30)\n",
      "After: Person(name='Robert', age=30)\n",
      "Same?: False\n"
     ]
    }
   ],
   "source": [
    "Person = collections.namedtuple('Person', 'name age')\n",
    "# replacing\n",
    "bob = Person(name='Bob', age=30)\n",
    "print('\\nBefore:', bob)\n",
    "bob2 = bob._replace(name='Robert')\n",
    "print('After:', bob2)\n",
    "print('Same?:', bob is bob2)"
   ]
  },
  {
   "cell_type": "markdown",
   "metadata": {},
   "source": [
    "#### OrderedDict — Remember the Order Keys are Added to a Dictionary\n",
    "An OrderedDict is a dictionary subclass that remembers the order in which its contents are added.\n",
    "\n",
    "As orders are matched hence two dictionary having similar element but diffrent order will not be equal."
   ]
  },
  {
   "cell_type": "code",
   "execution_count": 39,
   "metadata": {},
   "outputs": [
    {
     "name": "stdout",
     "output_type": "stream",
     "text": [
      "Regular dictionary:\n",
      "a A\n",
      "b B\n",
      "c C\n",
      "\n",
      "OrderedDict:\n",
      "a A\n",
      "b B\n",
      "c C\n"
     ]
    }
   ],
   "source": [
    "print('Regular dictionary:')\n",
    "d = {}\n",
    "d['a'] = 'A'\n",
    "d['b'] = 'B'\n",
    "d['c'] = 'C'\n",
    "\n",
    "for k, v in d.items():\n",
    "    print(k, v)\n",
    "\n",
    "print('\\nOrderedDict:')\n",
    "d = collections.OrderedDict()\n",
    "d['a'] = 'A'\n",
    "d['b'] = 'B'\n",
    "d['c'] = 'C'\n",
    "\n",
    "for k, v in d.items():\n",
    "    print(k, v)"
   ]
  },
  {
   "cell_type": "markdown",
   "metadata": {},
   "source": [
    "#### functools\n",
    "\n",
    "The primary tool supplied by the functools module is the class partial, which can be used to “wrap” a callable object with default arguments. The resulting object is itself callable and can be treated as though it is the original function. It takes all of the same arguments as the original, and can be invoked with extra positional or named arguments as well. A partial can be used instead of a lambda to provide default arguments to a function, while leaving some arguments unspecified.\n",
    "\n",
    "This example shows two simple partial objects for the function myfunc(). The output of show_details() includes the func, args, and keywords attributes of the partial object."
   ]
  },
  {
   "cell_type": "code",
   "execution_count": 1,
   "metadata": {},
   "outputs": [],
   "source": [
    "import functools\n",
    "\n",
    "\n",
    "def myfunc(a, b=2):\n",
    "    \"Docstring for myfunc().\"\n",
    "    print('  called myfunc with:', (a, b))\n",
    "\n",
    "\n",
    "def show_details(name, f, is_partial=False):\n",
    "    \"Show details of a callable object.\"\n",
    "    print('{}:'.format(name))\n",
    "    print('  object:', f)\n",
    "    if not is_partial:\n",
    "        print('  __name__:', f.__name__)\n",
    "    if is_partial:\n",
    "        print('  func:', f.func)\n",
    "        print('  args:', f.args)\n",
    "        print('  keywords:', f.keywords)\n",
    "    return"
   ]
  },
  {
   "cell_type": "code",
   "execution_count": 2,
   "metadata": {},
   "outputs": [
    {
     "name": "stdout",
     "output_type": "stream",
     "text": [
      "myfunc:\n",
      "  object: <function myfunc at 0x0000015CE1988C80>\n",
      "  __name__: myfunc\n",
      "  called myfunc with: ('a', 3)\n",
      "\n"
     ]
    }
   ],
   "source": [
    "show_details('myfunc', myfunc)\n",
    "myfunc('a', 3)\n",
    "print()"
   ]
  },
  {
   "cell_type": "code",
   "execution_count": 4,
   "metadata": {},
   "outputs": [],
   "source": [
    "# Set a different default value for 'b', but require\n",
    "# the caller to provide 'a'.\n",
    "p1 = functools.partial(myfunc, b=4)"
   ]
  },
  {
   "cell_type": "code",
   "execution_count": 5,
   "metadata": {},
   "outputs": [
    {
     "name": "stdout",
     "output_type": "stream",
     "text": [
      "partial with named default:\n",
      "  object: functools.partial(<function myfunc at 0x0000015CE1988C80>, b=4)\n",
      "  func: <function myfunc at 0x0000015CE1988C80>\n",
      "  args: ()\n",
      "  keywords: {'b': 4}\n"
     ]
    }
   ],
   "source": [
    "show_details('partial with named default', p1, True)"
   ]
  },
  {
   "cell_type": "code",
   "execution_count": 6,
   "metadata": {},
   "outputs": [
    {
     "name": "stdout",
     "output_type": "stream",
     "text": [
      "  called myfunc with: ('passing a', 4)\n"
     ]
    }
   ],
   "source": [
    "p1('passing a')  # calling my_func by only passing a"
   ]
  },
  {
   "cell_type": "code",
   "execution_count": 8,
   "metadata": {},
   "outputs": [
    {
     "name": "stdout",
     "output_type": "stream",
     "text": [
      "  called myfunc with: ('override b', 5)\n",
      "\n"
     ]
    }
   ],
   "source": [
    "p1('override b', b=5) # calling my_func by passing both a and b\n",
    "print()"
   ]
  },
  {
   "cell_type": "code",
   "execution_count": 9,
   "metadata": {},
   "outputs": [
    {
     "name": "stdout",
     "output_type": "stream",
     "text": [
      "partial with defaults:\n",
      "  object: functools.partial(<function myfunc at 0x0000015CE1988C80>, 'default a', b=99)\n",
      "  func: <function myfunc at 0x0000015CE1988C80>\n",
      "  args: ('default a',)\n",
      "  keywords: {'b': 99}\n"
     ]
    }
   ],
   "source": [
    "# Set default values for both 'a' and 'b'.\n",
    "p2 = functools.partial(myfunc, 'default a', b=99) # creating object of partial myfunc\n",
    "show_details('partial with defaults', p2, True)"
   ]
  },
  {
   "cell_type": "code",
   "execution_count": 10,
   "metadata": {},
   "outputs": [
    {
     "name": "stdout",
     "output_type": "stream",
     "text": [
      "  called myfunc with: ('default a', 99)\n"
     ]
    }
   ],
   "source": [
    "p2() # calling"
   ]
  },
  {
   "cell_type": "code",
   "execution_count": 11,
   "metadata": {},
   "outputs": [
    {
     "name": "stdout",
     "output_type": "stream",
     "text": [
      "  called myfunc with: ('default a', 'override b')\n",
      "\n"
     ]
    }
   ],
   "source": [
    "p2(b='override b')\n",
    "print()"
   ]
  },
  {
   "cell_type": "code",
   "execution_count": 12,
   "metadata": {},
   "outputs": [
    {
     "name": "stdout",
     "output_type": "stream",
     "text": [
      "Insufficient arguments:\n"
     ]
    },
    {
     "ename": "TypeError",
     "evalue": "myfunc() missing 1 required positional argument: 'a'",
     "output_type": "error",
     "traceback": [
      "\u001b[1;31m---------------------------------------------------------------------------\u001b[0m",
      "\u001b[1;31mTypeError\u001b[0m                                 Traceback (most recent call last)",
      "\u001b[1;32m<ipython-input-12-3cd3add8f640>\u001b[0m in \u001b[0;36m<module>\u001b[1;34m\u001b[0m\n\u001b[0;32m      1\u001b[0m \u001b[0mprint\u001b[0m\u001b[1;33m(\u001b[0m\u001b[1;34m'Insufficient arguments:'\u001b[0m\u001b[1;33m)\u001b[0m\u001b[1;33m\u001b[0m\u001b[1;33m\u001b[0m\u001b[0m\n\u001b[1;32m----> 2\u001b[1;33m \u001b[0mp1\u001b[0m\u001b[1;33m(\u001b[0m\u001b[1;33m)\u001b[0m\u001b[1;33m\u001b[0m\u001b[1;33m\u001b[0m\u001b[0m\n\u001b[0m",
      "\u001b[1;31mTypeError\u001b[0m: myfunc() missing 1 required positional argument: 'a'"
     ]
    }
   ],
   "source": [
    "print('Insufficient arguments:')\n",
    "p1()"
   ]
  },
  {
   "cell_type": "code",
   "execution_count": 14,
   "metadata": {},
   "outputs": [],
   "source": [
    "from functools import partial\n",
    "\n",
    "# A normal function\n",
    "def f(a, b, c, x):\n",
    "    return a + b + c + x"
   ]
  },
  {
   "cell_type": "code",
   "execution_count": 15,
   "metadata": {},
   "outputs": [
    {
     "name": "stdout",
     "output_type": "stream",
     "text": [
      "13\n"
     ]
    }
   ],
   "source": [
    "# A partial function that calls f with\n",
    "# a as 3, b as 1 and c as 4.\n",
    "g = partial(f, 3, 1, 4)\n",
    "\n",
    "# Calling g() passing x = 5\n",
    "print(g(5))"
   ]
  },
  {
   "cell_type": "code",
   "execution_count": 16,
   "metadata": {},
   "outputs": [
    {
     "ename": "TypeError",
     "evalue": "f() missing 1 required positional argument: 'x'",
     "output_type": "error",
     "traceback": [
      "\u001b[1;31m---------------------------------------------------------------------------\u001b[0m",
      "\u001b[1;31mTypeError\u001b[0m                                 Traceback (most recent call last)",
      "\u001b[1;32m<ipython-input-16-eaf0f31ddb27>\u001b[0m in \u001b[0;36m<module>\u001b[1;34m\u001b[0m\n\u001b[1;32m----> 1\u001b[1;33m \u001b[0mprint\u001b[0m\u001b[1;33m(\u001b[0m\u001b[0mg\u001b[0m\u001b[1;33m(\u001b[0m\u001b[1;33m)\u001b[0m\u001b[1;33m)\u001b[0m\u001b[1;33m\u001b[0m\u001b[1;33m\u001b[0m\u001b[0m\n\u001b[0m",
      "\u001b[1;31mTypeError\u001b[0m: f() missing 1 required positional argument: 'x'"
     ]
    }
   ],
   "source": [
    "print(g())"
   ]
  },
  {
   "cell_type": "code",
   "execution_count": 20,
   "metadata": {},
   "outputs": [
    {
     "name": "stdout",
     "output_type": "stream",
     "text": [
      "17\n"
     ]
    }
   ],
   "source": [
    "print(g(9))"
   ]
  },
  {
   "cell_type": "code",
   "execution_count": 22,
   "metadata": {},
   "outputs": [],
   "source": [
    "def f(a=0, b=0, c=0, x=0):\n",
    "    return a + b + c + x"
   ]
  },
  {
   "cell_type": "code",
   "execution_count": 23,
   "metadata": {},
   "outputs": [
    {
     "name": "stdout",
     "output_type": "stream",
     "text": [
      "10\n"
     ]
    }
   ],
   "source": [
    "h = partial(f,a=1,b=2)\n",
    "print(h(c=3,x=4))"
   ]
  },
  {
   "cell_type": "code",
   "execution_count": 24,
   "metadata": {},
   "outputs": [
    {
     "name": "stdout",
     "output_type": "stream",
     "text": [
      "10\n"
     ]
    }
   ],
   "source": [
    "print(h(c=3,x=4,a=1,b=2))"
   ]
  },
  {
   "cell_type": "code",
   "execution_count": 25,
   "metadata": {},
   "outputs": [
    {
     "name": "stdout",
     "output_type": "stream",
     "text": [
      "instance:\n",
      "  object: <__main__.MyClass object at 0x0000015CE198AB38>\n",
      "  __name__: (no __name__)\n",
      "  __doc__ 'Demonstration class for functools'\n",
      "  called object with: (<__main__.MyClass object at 0x0000015CE198AB38>, 'e goes here', 6)\n",
      "\n",
      "instance wrapper:\n",
      "  object: functools.partial(<__main__.MyClass object at 0x0000015CE198AB38>, e='default for e', f=8)\n",
      "  __name__: (no __name__)\n",
      "  __doc__ 'Demonstration class for functools'\n",
      "  called object with: (<__main__.MyClass object at 0x0000015CE198AB38>, 'default for e', 8)\n"
     ]
    }
   ],
   "source": [
    "# Over a class\n",
    "class MyClass:\n",
    "    \"Demonstration class for functools\"\n",
    "\n",
    "    def __call__(self, e, f=6):\n",
    "        \"Docstring for MyClass.__call__\"\n",
    "        print('  called object with:', (self, e, f))\n",
    "\n",
    "\n",
    "def show_details(name, f):\n",
    "    \"Show details of a callable object.\"\n",
    "    print('{}:'.format(name))\n",
    "    print('  object:', f)\n",
    "    print('  __name__:', end=' ')\n",
    "    try:\n",
    "        print(f.__name__)\n",
    "    except AttributeError:\n",
    "        print('(no __name__)')\n",
    "    print('  __doc__', repr(f.__doc__))\n",
    "    return\n",
    "\n",
    "\n",
    "o = MyClass()\n",
    "\n",
    "show_details('instance', o)\n",
    "o('e goes here')\n",
    "print()\n",
    "\n",
    "p = functools.partial(o, e='default for e', f=8)\n",
    "functools.update_wrapper(p, o)\n",
    "show_details('instance wrapper', p)\n",
    "p()"
   ]
  },
  {
   "cell_type": "markdown",
   "metadata": {},
   "source": [
    "While partial() returns a callable ready to be used directly, partialmethod() returns a callable ready to be used as an unbound method of an object. In the following example, the same standalone function is added as an attribute of MyClass twice, once using partialmethod() as method1() and again using partial() as method2()."
   ]
  },
  {
   "cell_type": "code",
   "execution_count": 26,
   "metadata": {},
   "outputs": [
    {
     "name": "stdout",
     "output_type": "stream",
     "text": [
      "standalone\n",
      "  called standalone with: (None, 1, 2)\n",
      "\n",
      "method1 as partialmethod\n",
      "  called standalone with: (<__main__.MyClass object at 0x0000015CE1A664E0>, 1, 2)\n",
      "  self.attr = instance attribute\n",
      "\n",
      "method2 as partial\n",
      "ERROR: standalone() missing 1 required positional argument: 'self'\n"
     ]
    }
   ],
   "source": [
    "def standalone(self, a=1, b=2):\n",
    "    \"Standalone function\"\n",
    "    print('  called standalone with:', (self, a, b))\n",
    "    if self is not None:\n",
    "        print('  self.attr =', self.attr)\n",
    "\n",
    "\n",
    "class MyClass:\n",
    "    \"Demonstration class for functools\"\n",
    "\n",
    "    def __init__(self):\n",
    "        self.attr = 'instance attribute'\n",
    "\n",
    "    method1 = functools.partialmethod(standalone)\n",
    "    method2 = functools.partial(standalone)\n",
    "\n",
    "\n",
    "o = MyClass()\n",
    "\n",
    "print('standalone')\n",
    "standalone(None)\n",
    "print()\n",
    "\n",
    "print('method1 as partialmethod')\n",
    "o.method1()\n",
    "print()\n",
    "\n",
    "print('method2 as partial')\n",
    "try:\n",
    "    o.method2()\n",
    "except TypeError as err:\n",
    "    print('ERROR: {}'.format(err))"
   ]
  },
  {
   "cell_type": "markdown",
   "metadata": {},
   "source": [
    "##### Comparison\n",
    "Under Python 2, classes could define a __cmp__() method that returns -1, 0, or 1 based on whether the object is less than, equal to, or greater than the item being compared. Python 2.1 introduced the rich comparison methods API (__lt__(), __le__(), __eq__(), __ne__(), __gt__(), and __ge__()), which perform a single comparison operation and return a boolean value. Python 3 deprecated __cmp__() in favor of these new methods and functools provides tools to make it easier to write classes that comply with the new comparison requirements in Python 3.\n",
    "\n",
    "##### Rich Comparison\n",
    "The rich comparison API is designed to allow classes with complex comparisons to implement each test in the most efficient way possible. However, for classes where comparison is relatively simple, there is no point in manually creating each of the rich comparison methods. The total_ordering() class decorator takes a class that provides some of the methods, and adds the rest of them."
   ]
  },
  {
   "cell_type": "code",
   "execution_count": 29,
   "metadata": {},
   "outputs": [
    {
     "name": "stdout",
     "output_type": "stream",
     "text": [
      "Methods:\n",
      "\n",
      "[('__eq__', <function MyObject.__eq__ at 0x0000015CE1A61840>),\n",
      " ('__ge__', <function _ge_from_gt at 0x0000015CDE8D8268>),\n",
      " ('__gt__', <function MyObject.__gt__ at 0x0000015CE1A61AE8>),\n",
      " ('__init__', <function MyObject.__init__ at 0x0000015CE1988950>),\n",
      " ('__le__', <function _le_from_gt at 0x0000015CDE8D82F0>),\n",
      " ('__lt__', <function _lt_from_gt at 0x0000015CDE8D81E0>)]\n",
      "\n",
      "Comparisons:\n",
      "\n",
      "a < b :\n",
      "  testing __gt__(1, 2)\n",
      "  testing __eq__(1, 2)\n",
      "  result of a < b: True\n",
      "\n",
      "a <= b:\n",
      "  testing __gt__(1, 2)\n",
      "  result of a <= b: True\n",
      "\n",
      "a == b:\n",
      "  testing __eq__(1, 2)\n",
      "  result of a == b: False\n",
      "\n",
      "a >= b:\n",
      "  testing __gt__(1, 2)\n",
      "  testing __eq__(1, 2)\n",
      "  result of a >= b: False\n",
      "\n",
      "a > b :\n",
      "  testing __gt__(1, 2)\n",
      "  result of a > b: False\n"
     ]
    }
   ],
   "source": [
    "import inspect\n",
    "from pprint import pprint\n",
    "@functools.total_ordering\n",
    "class MyObject:\n",
    "\n",
    "    def __init__(self, val):\n",
    "        self.val = val\n",
    "\n",
    "    def __eq__(self, other):\n",
    "        print('  testing __eq__({}, {})'.format(\n",
    "            self.val, other.val))\n",
    "        return self.val == other.val\n",
    "\n",
    "    def __gt__(self, other):\n",
    "        print('  testing __gt__({}, {})'.format(\n",
    "            self.val, other.val))\n",
    "        return self.val > other.val\n",
    "\n",
    "\n",
    "print('Methods:\\n')\n",
    "pprint(inspect.getmembers(MyObject, inspect.isfunction))\n",
    "\n",
    "a = MyObject(1)\n",
    "b = MyObject(2)\n",
    "\n",
    "print('\\nComparisons:')\n",
    "for expr in ['a < b', 'a <= b', 'a == b', 'a >= b', 'a > b']:\n",
    "    print('\\n{:<6}:'.format(expr))\n",
    "    result = eval(expr)\n",
    "    print('  result of {}: {}'.format(expr, result))"
   ]
  },
  {
   "cell_type": "code",
   "execution_count": 31,
   "metadata": {},
   "outputs": [],
   "source": [
    "# help(inspect)"
   ]
  },
  {
   "cell_type": "markdown",
   "metadata": {},
   "source": [
    "#### Caching\n",
    "The lru_cache() decorator wraps a function in a least-recently-used cache. Arguments to the function are used to build a hash key, which is then mapped to the result. Subsequent calls with the same arguments will fetch the value from the cache instead of calling the function. The decorator also adds methods to the function to examine the state of the cache (cache_info()) and empty the cache (cache_clear())."
   ]
  },
  {
   "cell_type": "code",
   "execution_count": 32,
   "metadata": {},
   "outputs": [
    {
     "name": "stdout",
     "output_type": "stream",
     "text": [
      "First set of calls:\n",
      "expensive(0, 0)\n",
      "expensive(0, 1)\n",
      "expensive(1, 0)\n",
      "expensive(1, 1)\n",
      "CacheInfo(hits=0, misses=4, maxsize=128, currsize=4)\n",
      "\n",
      "Second set of calls:\n",
      "expensive(0, 2)\n",
      "expensive(1, 2)\n",
      "expensive(2, 0)\n",
      "expensive(2, 1)\n",
      "expensive(2, 2)\n",
      "CacheInfo(hits=4, misses=9, maxsize=128, currsize=9)\n",
      "\n",
      "Clearing cache:\n",
      "CacheInfo(hits=0, misses=0, maxsize=128, currsize=0)\n",
      "\n",
      "Third set of calls:\n",
      "expensive(0, 0)\n",
      "expensive(0, 1)\n",
      "expensive(1, 0)\n",
      "expensive(1, 1)\n",
      "CacheInfo(hits=0, misses=4, maxsize=128, currsize=4)\n"
     ]
    }
   ],
   "source": [
    "@functools.lru_cache()\n",
    "def expensive(a, b):\n",
    "    print('expensive({}, {})'.format(a, b))\n",
    "    return a * b\n",
    "\n",
    "\n",
    "MAX = 2\n",
    "\n",
    "print('First set of calls:')\n",
    "for i in range(MAX):\n",
    "    for j in range(MAX):\n",
    "        expensive(i, j)\n",
    "print(expensive.cache_info())\n",
    "\n",
    "print('\\nSecond set of calls:')\n",
    "for i in range(MAX + 1):\n",
    "    for j in range(MAX + 1):\n",
    "        expensive(i, j)\n",
    "print(expensive.cache_info())\n",
    "\n",
    "print('\\nClearing cache:')\n",
    "expensive.cache_clear()\n",
    "print(expensive.cache_info())\n",
    "\n",
    "print('\\nThird set of calls:')\n",
    "for i in range(MAX):\n",
    "    for j in range(MAX):\n",
    "        expensive(i, j)\n",
    "print(expensive.cache_info())"
   ]
  },
  {
   "cell_type": "markdown",
   "metadata": {},
   "source": [
    "#### Logging Components\n",
    "The logging system is made up of four interacting types of objects. Each module or application that wants to log uses a Logger instance to add information to the logs. Invoking the logger creates a LogRecord, which is used to hold the information in memory until it is processed. A Logger may have a number of Handler objects configured to receive and process log records. The Handler uses a Formatter to turn the log records into output messages.\n",
    "\n",
    "With the logging module imported, you can use something called a “logger” to log messages that you want to see. By default, there are 5 standard levels indicating the severity of events. Each has a corresponding method that can be used to log events at that level of severity. The defined levels, in order of increasing severity, are the following:\n",
    "\n",
    "DEBUG\n",
    "INFO\n",
    "WARNING\n",
    "ERROR\n",
    "CRITICAL"
   ]
  },
  {
   "cell_type": "code",
   "execution_count": 1,
   "metadata": {},
   "outputs": [
    {
     "name": "stderr",
     "output_type": "stream",
     "text": [
      "WARNING:root:This is a warning message\n",
      "ERROR:root:This is an error message\n",
      "CRITICAL:root:This is a critical message\n"
     ]
    }
   ],
   "source": [
    "import logging\n",
    "\n",
    "logging.debug('This is a debug message')\n",
    "logging.info('This is an info message')\n",
    "logging.warning('This is a warning message')\n",
    "logging.error('This is an error message')\n",
    "logging.critical('This is a critical message')"
   ]
  },
  {
   "cell_type": "markdown",
   "metadata": {},
   "source": [
    "The output shows the severity level before each message along with root, which is the name the logging module gives to its default logger. (Loggers are discussed in detail in later sections.) This format, which shows the level, name, and message separated by a colon (:), is the default output format that can be configured to include things like timestamp, line number, and other details.\n",
    "\n",
    "Notice that the debug() and info() messages didn’t get logged. This is because, by default, the logging module logs the messages with a severity level of WARNING or above. You can change that by configuring the logging module to log events of all levels if you want. You can also define your own severity levels by changing configurations, but it is generally not recommended as it can cause confusion with logs of some third-party libraries that you might be using.\n",
    "\n",
    "You can use the basicConfig(**kwargs) method to configure the logging:\n",
    "\n",
    "Some of the commonly used parameters for basicConfig() are the following:\n",
    "\n",
    "level: The root logger will be set to the specified severity level.\n",
    "\n",
    "filename: This specifies the file.\n",
    "\n",
    "filemode: If filename is given, the file is opened in this mode. The default is a, which means append.\n",
    "\n",
    "format: This is the format of the log message."
   ]
  },
  {
   "cell_type": "code",
   "execution_count": 2,
   "metadata": {},
   "outputs": [],
   "source": [
    "logging.basicConfig(level=logging.DEBUG)\n",
    "logging.debug('This will get logged')"
   ]
  },
  {
   "cell_type": "markdown",
   "metadata": {},
   "source": [
    "Similarly, for logging to a file rather than the console, filename and filemode can be used, and you can decide the format of the message using format"
   ]
  },
  {
   "cell_type": "code",
   "execution_count": 3,
   "metadata": {},
   "outputs": [
    {
     "name": "stderr",
     "output_type": "stream",
     "text": [
      "WARNING:root:This will get logged to a file\n"
     ]
    }
   ],
   "source": [
    "logging.basicConfig(filename='app.log', filemode='w', format='%(name)s - %(levelname)s - %(message)s')\n",
    "logging.warning('This will get logged to a file')"
   ]
  },
  {
   "cell_type": "code",
   "execution_count": 5,
   "metadata": {},
   "outputs": [
    {
     "name": "stderr",
     "output_type": "stream",
     "text": [
      "WARNING:root:Admin logged in\n"
     ]
    }
   ],
   "source": [
    "logging.basicConfig(format='%(asctime)s - %(message)s', level=logging.INFO)\n",
    "logging.warning('Admin logged in') # should log time as well"
   ]
  },
  {
   "cell_type": "code",
   "execution_count": 6,
   "metadata": {},
   "outputs": [
    {
     "name": "stderr",
     "output_type": "stream",
     "text": [
      "WARNING:root:Admin logged out\n"
     ]
    }
   ],
   "source": [
    "logging.basicConfig(format='%(asctime)s - %(message)s', datefmt='%d-%b-%y %H:%M:%S')\n",
    "logging.warning('Admin logged out')"
   ]
  },
  {
   "cell_type": "code",
   "execution_count": 7,
   "metadata": {},
   "outputs": [
    {
     "name": "stderr",
     "output_type": "stream",
     "text": [
      "ERROR:root:John raised an error\n"
     ]
    }
   ],
   "source": [
    "name = 'John'\n",
    "\n",
    "logging.error('%s raised an error', name)"
   ]
  },
  {
   "cell_type": "code",
   "execution_count": 8,
   "metadata": {},
   "outputs": [
    {
     "name": "stderr",
     "output_type": "stream",
     "text": [
      "ERROR:root:Exception occurred\n",
      "Traceback (most recent call last):\n",
      "  File \"<ipython-input-8-ee00b4f14263>\", line 5, in <module>\n",
      "    c = a / b\n",
      "ZeroDivisionError: division by zero\n"
     ]
    }
   ],
   "source": [
    "a = 5\n",
    "b = 0\n",
    "\n",
    "try:\n",
    "  c = a / b\n",
    "except Exception as e:\n",
    "  logging.error(\"Exception occurred\", exc_info=True) # exc_info = True ; logs the traceback as well."
   ]
  },
  {
   "cell_type": "markdown",
   "metadata": {},
   "source": [
    "logging.exception(msg, *args, **kwargs)\n",
    "Logs a message with level ERROR on the root logger. The arguments are interpreted as for debug(). Exception info is added to the logging message. This function should only be called from an exception handler."
   ]
  },
  {
   "attachments": {
    "image.png": {
     "image/png": "[encoded data removed]"
    }
   },
   "cell_type": "markdown",
   "metadata": {},
   "source": [
    "![image.png](attachment:image.png)"
   ]
  },
  {
   "attachments": {
    "image.png": {
     "image/png": "[encoded data removed]"
    }
   },
   "cell_type": "markdown",
   "metadata": {},
   "source": [
    "![image.png](attachment:image.png)"
   ]
  },
  {
   "cell_type": "markdown",
   "metadata": {},
   "source": [
    "Classes and Functions\n",
    "\n",
    "So far, we have seen the default logger named root, which is used by the logging module whenever its functions are called directly like this: logging.debug(). You can (and should) define your own logger by creating an object of the Logger class, especially if your application has multiple modules. Let’s have a look at some of the classes and functions in the module.\n",
    "\n",
    "The most commonly used classes defined in the logging module are the following:\n",
    "\n",
    "Logger: This is the class whose objects will be used in the application code directly to call the functions.\n",
    "\n",
    "LogRecord: Loggers automatically create LogRecord objects that have all the information related to the event being logged, like the name of the logger, the function, the line number, the message, and more.\n",
    "\n",
    "Handler: Handlers send the LogRecord to the required output destination, like the console or a file. Handler is a base for subclasses like StreamHandler, FileHandler, SMTPHandler, HTTPHandler, and more. These subclasses send the logging outputs to corresponding destinations, like sys.stdout or a disk file.\n",
    "\n",
    "Formatter: This is where you specify the format of the output by specifying a string format that lists out the attributes that the output should contain."
   ]
  },
  {
   "cell_type": "markdown",
   "metadata": {},
   "source": [
    "Out of these, we mostly deal with the objects of the Logger class, which are instantiated using the module-level function logging.getLogger(name). Multiple calls to getLogger() with the same name will return a reference to the same Logger object, which saves us from passing the logger objects to every part where it’s needed. Here’s an example:"
   ]
  },
  {
   "cell_type": "code",
   "execution_count": 9,
   "metadata": {},
   "outputs": [
    {
     "name": "stderr",
     "output_type": "stream",
     "text": [
      "WARNING:example_logger:This is a warning\n"
     ]
    }
   ],
   "source": [
    "logger = logging.getLogger('example_logger')\n",
    "logger.warning('This is a warning')"
   ]
  },
  {
   "cell_type": "markdown",
   "metadata": {},
   "source": [
    "This creates a custom logger named example_logger, but unlike the root logger, the name of a custom logger is not part of the default output format and has to be added to the configuration.\n",
    "\n",
    "Again, unlike the root logger, a custom logger can’t be configured using basicConfig().\n",
    "\n",
    "##### Using Handlers\n",
    "\n",
    "Handlers come into the picture when you want to configure your own loggers and send the logs to multiple places when they are generated. Handlers send the log messages to configured destinations like the standard output stream or a file or over HTTP or to your email via SMTP."
   ]
  },
  {
   "cell_type": "code",
   "execution_count": 10,
   "metadata": {},
   "outputs": [
    {
     "name": "stderr",
     "output_type": "stream",
     "text": [
      "__main__ - WARNING - This is a warning\n",
      "WARNING:__main__:This is a warning\n",
      "__main__ - ERROR - This is an error\n",
      "ERROR:__main__:This is an error\n"
     ]
    }
   ],
   "source": [
    "# Create a custom logger\n",
    "logger = logging.getLogger(__name__)\n",
    "\n",
    "# Create handlers\n",
    "c_handler = logging.StreamHandler()\n",
    "f_handler = logging.FileHandler('file.log')\n",
    "c_handler.setLevel(logging.WARNING)\n",
    "f_handler.setLevel(logging.ERROR)\n",
    "\n",
    "# Create formatters and add it to handlers\n",
    "c_format = logging.Formatter('%(name)s - %(levelname)s - %(message)s')\n",
    "f_format = logging.Formatter('%(asctime)s - %(name)s - %(levelname)s - %(message)s')\n",
    "c_handler.setFormatter(c_format)\n",
    "f_handler.setFormatter(f_format)\n",
    "\n",
    "# Add handlers to the logger\n",
    "logger.addHandler(c_handler)\n",
    "logger.addHandler(f_handler)\n",
    "\n",
    "logger.warning('This is a warning')\n",
    "logger.error('This is an error')"
   ]
  },
  {
   "cell_type": "markdown",
   "metadata": {},
   "source": [
    "ere, logger.warning() is creating a LogRecord that holds all the information of the event and passing it to all the Handlers that it has: c_handler and f_handler.\n",
    "\n",
    "c_handler is a StreamHandler with level WARNING and takes the info from the LogRecord to generate an output in the format specified and prints it to the console. f_handler is a FileHandler with level ERROR, and it ignores this LogRecord as its level is WARNING.\n",
    "\n",
    "When logger.error() is called, c_handler behaves exactly as before, and f_handler gets a LogRecord at the level of ERROR, so it proceeds to generate an output just like c_handler, but instead of printing it to console, it writes it to the specified file in this format:\n",
    "\n",
    "2018-08-03 16:12:21,723 - __main__ - ERROR - This is an error\n",
    "The name of the logger corresponding to the __name__ variable is logged as __main__, which is the name Python assigns to the module where execution starts. If this file is imported by some other module, then the __name__ variable would correspond to its name logging_example. "
   ]
  },
  {
   "cell_type": "markdown",
   "metadata": {},
   "source": [
    "#### atexit — Program Shutdown Callbacks\n",
    "Purpose:\tRegister function(s) to be called when a program is closing down.\n",
    "The atexit module provides an interface to register functions to be called when a program closes down normally."
   ]
  },
  {
   "cell_type": "code",
   "execution_count": 11,
   "metadata": {},
   "outputs": [
    {
     "data": {
      "text/plain": [
       "<function __main__.my_cleanup(name)>"
      ]
     },
     "execution_count": 11,
     "metadata": {},
     "output_type": "execute_result"
    }
   ],
   "source": [
    "import atexit\n",
    "\n",
    "\n",
    "def my_cleanup(name):\n",
    "    print('my_cleanup({})'.format(name))\n",
    "\n",
    "\n",
    "atexit.register(my_cleanup, 'first')\n",
    "atexit.register(my_cleanup, 'second')\n",
    "atexit.register(my_cleanup, 'third')"
   ]
  },
  {
   "cell_type": "code",
   "execution_count": 12,
   "metadata": {},
   "outputs": [],
   "source": [
    "# my_cleanup(third)\n",
    "# my_cleanup(second)\n",
    "# my_cleanup(first)\n",
    "\n",
    "# they are called in reverse of the order in which they are registered"
   ]
  },
  {
   "cell_type": "code",
   "execution_count": 13,
   "metadata": {},
   "outputs": [
    {
     "name": "stdout",
     "output_type": "stream",
     "text": [
      "starting main program\n"
     ]
    }
   ],
   "source": [
    "# Functions that require no arguments can be registered by using register() as a decorator.\n",
    "# This alternative syntax is convenient for cleanup functions that operate on module-level global data.\n",
    "\n",
    "# atexit_decorator.py\n",
    "# import atexit\n",
    "\n",
    "\n",
    "@atexit.register\n",
    "def all_done():\n",
    "    print('all_done()')\n",
    "\n",
    "\n",
    "print('starting main program')"
   ]
  },
  {
   "cell_type": "code",
   "execution_count": 14,
   "metadata": {},
   "outputs": [],
   "source": [
    "# atexit.unregister(my_cleanup) # to unregister."
   ]
  },
  {
   "cell_type": "markdown",
   "metadata": {},
   "source": [
    "#### sched — Timed Event Scheduler\n",
    "Purpose:\tGeneric event scheduler.\n",
    "The sched module implements a generic event scheduler for running tasks at specific times. The scheduler class uses a time function to learn the current time, and a delay function to wait for a specific period of time. The actual units of time are not important, which makes the interface flexible enough to be used for many purposes.\n",
    "\n",
    "The time function is called without any arguments, and should return a number representing the current time. The delay function is called with a single integer argument, using the same scale as the time function, and should wait that many time units before returning. By default monotonic() and sleep() from time are used, but the examples in this section use time.time(), which also meets the requirements, because it makes the output easier to understand.\n",
    "\n",
    "To support multi-threaded applications, the delay function is called with argument 0 after each event is generated, to ensure that other threads also have a chance to run."
   ]
  },
  {
   "cell_type": "markdown",
   "metadata": {},
   "source": [
    "#### Running Events With a Delay\n",
    "Events can be scheduled to run after a delay, or at a specific time. To schedule them with a delay, use the enter() method, which takes four arguments.\n",
    "\n",
    "A number representing the delay\n",
    "\n",
    "\n",
    "A priority value\n",
    "\n",
    "The function to call\n",
    "\n",
    "A tuple of arguments for the function"
   ]
  },
  {
   "cell_type": "code",
   "execution_count": 15,
   "metadata": {},
   "outputs": [
    {
     "name": "stdout",
     "output_type": "stream",
     "text": [
      "START: Thu May 13 22:58:51 2021\n",
      "EVENT: Thu May 13 22:58:53 2021 elapsed=2 name=first\n",
      "EVENT: Thu May 13 22:58:54 2021 elapsed=3 name=second\n"
     ]
    }
   ],
   "source": [
    "import sched\n",
    "import time\n",
    "\n",
    "scheduler = sched.scheduler(time.time, time.sleep) # Initialize a new instance, passing the time and delay\n",
    "#  |      functions\n",
    "\n",
    "\n",
    "def print_event(name, start):\n",
    "    now = time.time()\n",
    "    elapsed = int(now - start)\n",
    "    print('EVENT: {} elapsed={} name={}'.format(\n",
    "        time.ctime(now), elapsed, name))\n",
    "\n",
    "\n",
    "start = time.time()\n",
    "print('START:', time.ctime(start))\n",
    "scheduler.enter(2, 1, print_event, ('first', start))\n",
    "scheduler.enter(3, 1, print_event, ('second', start))\n",
    "\n",
    "scheduler.run()"
   ]
  },
  {
   "cell_type": "code",
   "execution_count": 16,
   "metadata": {},
   "outputs": [
    {
     "name": "stdout",
     "output_type": "stream",
     "text": [
      "Help on class scheduler in module sched:\n",
      "\n",
      "class scheduler(builtins.object)\n",
      " |  scheduler(timefunc=<built-in function monotonic>, delayfunc=<built-in function sleep>)\n",
      " |  \n",
      " |  Methods defined here:\n",
      " |  \n",
      " |  __init__(self, timefunc=<built-in function monotonic>, delayfunc=<built-in function sleep>)\n",
      " |      Initialize a new instance, passing the time and delay\n",
      " |      functions\n",
      " |  \n",
      " |  cancel(self, event)\n",
      " |      Remove an event from the queue.\n",
      " |      \n",
      " |      This must be presented the ID as returned by enter().\n",
      " |      If the event is not in the queue, this raises ValueError.\n",
      " |  \n",
      " |  empty(self)\n",
      " |      Check whether the queue is empty.\n",
      " |  \n",
      " |  enter(self, delay, priority, action, argument=(), kwargs=<object object at 0x0000022580BBB1C0>)\n",
      " |      A variant that specifies the time as a relative time.\n",
      " |      \n",
      " |      This is actually the more commonly used interface.\n",
      " |  \n",
      " |  enterabs(self, time, priority, action, argument=(), kwargs=<object object at 0x0000022580BBB1C0>)\n",
      " |      Enter a new event in the queue at an absolute time.\n",
      " |      \n",
      " |      Returns an ID for the event which can be used to remove it,\n",
      " |      if necessary.\n",
      " |  \n",
      " |  run(self, blocking=True)\n",
      " |      Execute events until the queue is empty.\n",
      " |      If blocking is False executes the scheduled events due to\n",
      " |      expire soonest (if any) and then return the deadline of the\n",
      " |      next scheduled call in the scheduler.\n",
      " |      \n",
      " |      When there is a positive delay until the first event, the\n",
      " |      delay function is called and the event is left in the queue;\n",
      " |      otherwise, the event is removed from the queue and executed\n",
      " |      (its action function is called, passing it the argument).  If\n",
      " |      the delay function returns prematurely, it is simply\n",
      " |      restarted.\n",
      " |      \n",
      " |      It is legal for both the delay function and the action\n",
      " |      function to modify the queue or to raise an exception;\n",
      " |      exceptions are not caught but the scheduler's state remains\n",
      " |      well-defined so run() may be called again.\n",
      " |      \n",
      " |      A questionable hack is added to allow other threads to run:\n",
      " |      just after an event is executed, a delay of 0 is executed, to\n",
      " |      avoid monopolizing the CPU when other threads are also\n",
      " |      runnable.\n",
      " |  \n",
      " |  ----------------------------------------------------------------------\n",
      " |  Data descriptors defined here:\n",
      " |  \n",
      " |  __dict__\n",
      " |      dictionary for instance variables (if defined)\n",
      " |  \n",
      " |  __weakref__\n",
      " |      list of weak references to the object (if defined)\n",
      " |  \n",
      " |  queue\n",
      " |      An ordered list of upcoming events.\n",
      " |      \n",
      " |      Events are named tuples with fields for:\n",
      " |          time, priority, action, arguments, kwargs\n",
      "\n"
     ]
    }
   ],
   "source": [
    "help(sched.scheduler)"
   ]
  },
  {
   "cell_type": "markdown",
   "metadata": {},
   "source": [
    "#### Overlapping Events\n",
    "The call to run() blocks until all of the events have been processed. Each event is run in the same thread, so if an event takes longer to run than the delay between events, there will be overlap. The overlap is resolved by postponing the later event. No events are lost, but some events may be called later than they were scheduled. In the next example, long_event() sleeps but it could just as easily delay by performing a long calculation or by blocking on I/O."
   ]
  },
  {
   "cell_type": "code",
   "execution_count": 17,
   "metadata": {},
   "outputs": [
    {
     "name": "stdout",
     "output_type": "stream",
     "text": [
      "START: Thu May 13 23:04:31 2021\n",
      "BEGIN EVENT : Thu May 13 23:04:33 2021 first\n",
      "FINISH EVENT: Thu May 13 23:04:35 2021 first\n",
      "BEGIN EVENT : Thu May 13 23:04:35 2021 second\n",
      "FINISH EVENT: Thu May 13 23:04:37 2021 second\n"
     ]
    }
   ],
   "source": [
    "import sched\n",
    "import time\n",
    "\n",
    "scheduler = sched.scheduler(time.time, time.sleep)\n",
    "\n",
    "\n",
    "def long_event(name):\n",
    "    print('BEGIN EVENT :', time.ctime(time.time()), name)\n",
    "    time.sleep(2)\n",
    "    print('FINISH EVENT:', time.ctime(time.time()), name)\n",
    "\n",
    "\n",
    "print('START:', time.ctime(time.time()))\n",
    "scheduler.enter(2, 1, long_event, ('first',))\n",
    "scheduler.enter(3, 1, long_event, ('second',))\n",
    "\n",
    "scheduler.run()"
   ]
  },
  {
   "cell_type": "code",
   "execution_count": 18,
   "metadata": {},
   "outputs": [],
   "source": [
    "# If more than one event is scheduled for the same time their priority values are used to determine the order they are run."
   ]
  },
  {
   "cell_type": "markdown",
   "metadata": {},
   "source": [
    "#### Canceling Events\n",
    "\n",
    "Both enter() and enterabs() return a reference to the event that can be used to cancel it later. Because run() blocks, the event has to be canceled in a different thread. For this example, a thread is started to run the scheduler and the main processing thread is used to cancel the event."
   ]
  },
  {
   "cell_type": "code",
   "execution_count": 19,
   "metadata": {},
   "outputs": [
    {
     "name": "stdout",
     "output_type": "stream",
     "text": [
      "START: Thu May 13 23:18:11 2021\n",
      "EVENT: Thu May 13 23:18:14 2021 E2\n",
      "NOW: 1\n",
      "FINAL: 1\n"
     ]
    }
   ],
   "source": [
    "import sched\n",
    "import threading\n",
    "import time\n",
    "\n",
    "scheduler = sched.scheduler(time.time, time.sleep)\n",
    "\n",
    "# Set up a global to be modified by the threads\n",
    "counter = 0\n",
    "\n",
    "\n",
    "def increment_counter(name):\n",
    "    global counter\n",
    "    print('EVENT:', time.ctime(time.time()), name)\n",
    "    counter += 1\n",
    "    print('NOW:', counter)\n",
    "\n",
    "\n",
    "print('START:', time.ctime(time.time()))\n",
    "e1 = scheduler.enter(2, 1, increment_counter, ('E1',))\n",
    "e2 = scheduler.enter(3, 1, increment_counter, ('E2',))\n",
    "\n",
    "# Start a thread to run the events\n",
    "t = threading.Thread(target=scheduler.run)\n",
    "t.start()\n",
    "\n",
    "# Back in the main thread, cancel the first scheduled event.\n",
    "scheduler.cancel(e1)\n",
    "\n",
    "# Wait for the scheduler to finish running in the thread\n",
    "t.join()\n",
    "\n",
    "print('FINAL:', counter)"
   ]
  },
  {
   "attachments": {
    "image.png": {
     "image/png": "[encoded data removed]"
    }
   },
   "cell_type": "markdown",
   "metadata": {},
   "source": [
    "#### What Is a Python Traceback?\n",
    "A traceback is a report containing the function calls made in your code at a specific point. Tracebacks are known by many names, including stack trace, stack traceback, backtrace, and maybe others. In Python, the term used is traceback.\n",
    "\n",
    "![image.png](attachment:image.png)"
   ]
  },
  {
   "cell_type": "markdown",
   "metadata": {},
   "source": [
    "The high-level API in traceback uses StackSummary and FrameSummary instances to hold the representation of the stack. These classes can be constructed from a traceback or the current execution stack, and then processed in the same ways."
   ]
  },
  {
   "cell_type": "code",
   "execution_count": 20,
   "metadata": {},
   "outputs": [],
   "source": [
    "import traceback\n",
    "import sys\n",
    "\n",
    "\n",
    "def produce_exception(recursion_level=2):\n",
    "    sys.stdout.flush()\n",
    "    if recursion_level:\n",
    "        produce_exception(recursion_level - 1)\n",
    "    else:\n",
    "        raise RuntimeError()\n",
    "\n",
    "\n",
    "def call_function(f, recursion_level=2):\n",
    "    if recursion_level:\n",
    "        return call_function(f, recursion_level - 1)\n",
    "    else:\n",
    "        return f()"
   ]
  },
  {
   "cell_type": "code",
   "execution_count": 21,
   "metadata": {},
   "outputs": [
    {
     "name": "stdout",
     "output_type": "stream",
     "text": [
      "Calling f() directly:\n",
      "  File \"<ipython-input-21-460f9edfa2ef>\", line 3, in f\n",
      "    traceback.walk_stack(None)\n",
      "  File \"<ipython-input-21-460f9edfa2ef>\", line 9, in <module>\n",
      "    f()\n",
      "  File \"C:\\Users\\sachin.b.prakash\\AppData\\Local\\Continuum\\anaconda3\\lib\\site-packages\\IPython\\core\\interactiveshell.py\", line 3296, in run_code\n",
      "    exec(code_obj, self.user_global_ns, self.user_ns)\n",
      "  File \"C:\\Users\\sachin.b.prakash\\AppData\\Local\\Continuum\\anaconda3\\lib\\site-packages\\IPython\\core\\interactiveshell.py\", line 3220, in run_ast_nodes\n",
      "    if (yield from self.run_code(code, result)):\n",
      "  File \"C:\\Users\\sachin.b.prakash\\AppData\\Local\\Continuum\\anaconda3\\lib\\site-packages\\IPython\\core\\interactiveshell.py\", line 3049, in run_cell_async\n",
      "    interactivity=interactivity, compiler=compiler, result=result)\n",
      "  File \"C:\\Users\\sachin.b.prakash\\AppData\\Local\\Continuum\\anaconda3\\lib\\site-packages\\IPython\\core\\async_helpers.py\", line 67, in _pseudo_sync_runner\n",
      "    coro.send(None)\n",
      "  File \"C:\\Users\\sachin.b.prakash\\AppData\\Local\\Continuum\\anaconda3\\lib\\site-packages\\IPython\\core\\interactiveshell.py\", line 2874, in _run_cell\n",
      "    return runner(coro)\n",
      "  File \"C:\\Users\\sachin.b.prakash\\AppData\\Local\\Continuum\\anaconda3\\lib\\site-packages\\IPython\\core\\interactiveshell.py\", line 2848, in run_cell\n",
      "    raw_cell, store_history, silent, shell_futures)\n",
      "  File \"C:\\Users\\sachin.b.prakash\\AppData\\Local\\Continuum\\anaconda3\\lib\\site-packages\\ipykernel\\zmqshell.py\", line 536, in run_cell\n",
      "    return super(ZMQInteractiveShell, self).run_cell(*args, **kwargs)\n",
      "  File \"C:\\Users\\sachin.b.prakash\\AppData\\Local\\Continuum\\anaconda3\\lib\\site-packages\\ipykernel\\ipkernel.py\", line 294, in do_execute\n",
      "    res = shell.run_cell(code, store_history=store_history, silent=silent)\n",
      "  File \"C:\\Users\\sachin.b.prakash\\AppData\\Local\\Continuum\\anaconda3\\lib\\site-packages\\tornado\\gen.py\", line 209, in wrapper\n",
      "    yielded = next(result)\n",
      "  File \"C:\\Users\\sachin.b.prakash\\AppData\\Local\\Continuum\\anaconda3\\lib\\site-packages\\ipykernel\\kernelbase.py\", line 534, in execute_request\n",
      "    user_expressions, allow_stdin,\n",
      "  File \"C:\\Users\\sachin.b.prakash\\AppData\\Local\\Continuum\\anaconda3\\lib\\site-packages\\tornado\\gen.py\", line 209, in wrapper\n",
      "    yielded = next(result)\n",
      "  File \"C:\\Users\\sachin.b.prakash\\AppData\\Local\\Continuum\\anaconda3\\lib\\site-packages\\ipykernel\\kernelbase.py\", line 267, in dispatch_shell\n",
      "    yield gen.maybe_future(handler(stream, idents, msg))\n",
      "  File \"C:\\Users\\sachin.b.prakash\\AppData\\Local\\Continuum\\anaconda3\\lib\\site-packages\\tornado\\gen.py\", line 209, in wrapper\n",
      "    yielded = next(result)\n",
      "  File \"C:\\Users\\sachin.b.prakash\\AppData\\Local\\Continuum\\anaconda3\\lib\\site-packages\\ipykernel\\kernelbase.py\", line 357, in process_one\n",
      "    yield gen.maybe_future(dispatch(*args))\n",
      "  File \"C:\\Users\\sachin.b.prakash\\AppData\\Local\\Continuum\\anaconda3\\lib\\site-packages\\tornado\\gen.py\", line 742, in run\n",
      "    yielded = self.gen.send(value)\n",
      "  File \"C:\\Users\\sachin.b.prakash\\AppData\\Local\\Continuum\\anaconda3\\lib\\site-packages\\tornado\\gen.py\", line 781, in inner\n",
      "    self.run()\n",
      "  File \"C:\\Users\\sachin.b.prakash\\AppData\\Local\\Continuum\\anaconda3\\lib\\site-packages\\tornado\\ioloop.py\", line 743, in _run_callback\n",
      "    ret = callback()\n",
      "  File \"C:\\Users\\sachin.b.prakash\\AppData\\Local\\Continuum\\anaconda3\\lib\\site-packages\\tornado\\ioloop.py\", line 690, in <lambda>\n",
      "    lambda f: self._run_callback(functools.partial(callback, future))\n",
      "  File \"C:\\Users\\sachin.b.prakash\\AppData\\Local\\Continuum\\anaconda3\\lib\\asyncio\\events.py\", line 88, in _run\n",
      "    self._context.run(self._callback, *self._args)\n",
      "  File \"C:\\Users\\sachin.b.prakash\\AppData\\Local\\Continuum\\anaconda3\\lib\\asyncio\\base_events.py\", line 1775, in _run_once\n",
      "    handle._run()\n",
      "  File \"C:\\Users\\sachin.b.prakash\\AppData\\Local\\Continuum\\anaconda3\\lib\\asyncio\\base_events.py\", line 539, in run_forever\n",
      "    self._run_once()\n",
      "  File \"C:\\Users\\sachin.b.prakash\\AppData\\Local\\Continuum\\anaconda3\\lib\\site-packages\\tornado\\platform\\asyncio.py\", line 148, in start\n",
      "    self.asyncio_loop.run_forever()\n",
      "  File \"C:\\Users\\sachin.b.prakash\\AppData\\Local\\Continuum\\anaconda3\\lib\\site-packages\\ipykernel\\kernelapp.py\", line 505, in start\n",
      "    self.io_loop.start()\n",
      "  File \"C:\\Users\\sachin.b.prakash\\AppData\\Local\\Continuum\\anaconda3\\lib\\site-packages\\traitlets\\config\\application.py\", line 658, in launch_instance\n",
      "    app.start()\n",
      "  File \"C:\\Users\\sachin.b.prakash\\AppData\\Local\\Continuum\\anaconda3\\lib\\site-packages\\ipykernel_launcher.py\", line 16, in <module>\n",
      "    app.launch_new_instance()\n",
      "  File \"C:\\Users\\sachin.b.prakash\\AppData\\Local\\Continuum\\anaconda3\\lib\\runpy.py\", line 85, in _run_code\n",
      "    exec(code, run_globals)\n",
      "  File \"C:\\Users\\sachin.b.prakash\\AppData\\Local\\Continuum\\anaconda3\\lib\\runpy.py\", line 193, in _run_module_as_main\n",
      "    \"__main__\", mod_spec)\n",
      "\n"
     ]
    }
   ],
   "source": [
    "def f():\n",
    "    summary = traceback.StackSummary.extract(\n",
    "        traceback.walk_stack(None)\n",
    "    )\n",
    "    print(''.join(summary.format()))\n",
    "\n",
    "\n",
    "print('Calling f() directly:')\n",
    "f()\n",
    "# The StackSummary is an iterable container holding FrameSummary instances."
   ]
  },
  {
   "cell_type": "code",
   "execution_count": 22,
   "metadata": {},
   "outputs": [
    {
     "name": "stdout",
     "output_type": "stream",
     "text": [
      "\n",
      "Calling f() from 3 levels deep:\n",
      "  File \"<ipython-input-21-460f9edfa2ef>\", line 3, in f\n",
      "    traceback.walk_stack(None)\n",
      "  File \"<ipython-input-20-28b39e42edd8>\", line 17, in call_function\n",
      "    return f()\n",
      "  File \"<ipython-input-20-28b39e42edd8>\", line 15, in call_function\n",
      "    return call_function(f, recursion_level - 1)\n",
      "  File \"<ipython-input-20-28b39e42edd8>\", line 15, in call_function\n",
      "    return call_function(f, recursion_level - 1)\n",
      "  File \"<ipython-input-22-e3b5959a28c9>\", line 3, in <module>\n",
      "    call_function(f)\n",
      "  File \"C:\\Users\\sachin.b.prakash\\AppData\\Local\\Continuum\\anaconda3\\lib\\site-packages\\IPython\\core\\interactiveshell.py\", line 3296, in run_code\n",
      "    exec(code_obj, self.user_global_ns, self.user_ns)\n",
      "  File \"C:\\Users\\sachin.b.prakash\\AppData\\Local\\Continuum\\anaconda3\\lib\\site-packages\\IPython\\core\\interactiveshell.py\", line 3220, in run_ast_nodes\n",
      "    if (yield from self.run_code(code, result)):\n",
      "  File \"C:\\Users\\sachin.b.prakash\\AppData\\Local\\Continuum\\anaconda3\\lib\\site-packages\\IPython\\core\\interactiveshell.py\", line 3049, in run_cell_async\n",
      "    interactivity=interactivity, compiler=compiler, result=result)\n",
      "  File \"C:\\Users\\sachin.b.prakash\\AppData\\Local\\Continuum\\anaconda3\\lib\\site-packages\\IPython\\core\\async_helpers.py\", line 67, in _pseudo_sync_runner\n",
      "    coro.send(None)\n",
      "  File \"C:\\Users\\sachin.b.prakash\\AppData\\Local\\Continuum\\anaconda3\\lib\\site-packages\\IPython\\core\\interactiveshell.py\", line 2874, in _run_cell\n",
      "    return runner(coro)\n",
      "  File \"C:\\Users\\sachin.b.prakash\\AppData\\Local\\Continuum\\anaconda3\\lib\\site-packages\\IPython\\core\\interactiveshell.py\", line 2848, in run_cell\n",
      "    raw_cell, store_history, silent, shell_futures)\n",
      "  File \"C:\\Users\\sachin.b.prakash\\AppData\\Local\\Continuum\\anaconda3\\lib\\site-packages\\ipykernel\\zmqshell.py\", line 536, in run_cell\n",
      "    return super(ZMQInteractiveShell, self).run_cell(*args, **kwargs)\n",
      "  File \"C:\\Users\\sachin.b.prakash\\AppData\\Local\\Continuum\\anaconda3\\lib\\site-packages\\ipykernel\\ipkernel.py\", line 294, in do_execute\n",
      "    res = shell.run_cell(code, store_history=store_history, silent=silent)\n",
      "  File \"C:\\Users\\sachin.b.prakash\\AppData\\Local\\Continuum\\anaconda3\\lib\\site-packages\\tornado\\gen.py\", line 209, in wrapper\n",
      "    yielded = next(result)\n",
      "  File \"C:\\Users\\sachin.b.prakash\\AppData\\Local\\Continuum\\anaconda3\\lib\\site-packages\\ipykernel\\kernelbase.py\", line 534, in execute_request\n",
      "    user_expressions, allow_stdin,\n",
      "  File \"C:\\Users\\sachin.b.prakash\\AppData\\Local\\Continuum\\anaconda3\\lib\\site-packages\\tornado\\gen.py\", line 209, in wrapper\n",
      "    yielded = next(result)\n",
      "  File \"C:\\Users\\sachin.b.prakash\\AppData\\Local\\Continuum\\anaconda3\\lib\\site-packages\\ipykernel\\kernelbase.py\", line 267, in dispatch_shell\n",
      "    yield gen.maybe_future(handler(stream, idents, msg))\n",
      "  File \"C:\\Users\\sachin.b.prakash\\AppData\\Local\\Continuum\\anaconda3\\lib\\site-packages\\tornado\\gen.py\", line 209, in wrapper\n",
      "    yielded = next(result)\n",
      "  File \"C:\\Users\\sachin.b.prakash\\AppData\\Local\\Continuum\\anaconda3\\lib\\site-packages\\ipykernel\\kernelbase.py\", line 357, in process_one\n",
      "    yield gen.maybe_future(dispatch(*args))\n",
      "  File \"C:\\Users\\sachin.b.prakash\\AppData\\Local\\Continuum\\anaconda3\\lib\\site-packages\\tornado\\gen.py\", line 742, in run\n",
      "    yielded = self.gen.send(value)\n",
      "  File \"C:\\Users\\sachin.b.prakash\\AppData\\Local\\Continuum\\anaconda3\\lib\\site-packages\\tornado\\gen.py\", line 781, in inner\n",
      "    self.run()\n",
      "  File \"C:\\Users\\sachin.b.prakash\\AppData\\Local\\Continuum\\anaconda3\\lib\\site-packages\\tornado\\ioloop.py\", line 743, in _run_callback\n",
      "    ret = callback()\n",
      "  File \"C:\\Users\\sachin.b.prakash\\AppData\\Local\\Continuum\\anaconda3\\lib\\site-packages\\tornado\\ioloop.py\", line 690, in <lambda>\n",
      "    lambda f: self._run_callback(functools.partial(callback, future))\n",
      "  File \"C:\\Users\\sachin.b.prakash\\AppData\\Local\\Continuum\\anaconda3\\lib\\asyncio\\events.py\", line 88, in _run\n",
      "    self._context.run(self._callback, *self._args)\n",
      "  File \"C:\\Users\\sachin.b.prakash\\AppData\\Local\\Continuum\\anaconda3\\lib\\asyncio\\base_events.py\", line 1775, in _run_once\n",
      "    handle._run()\n",
      "  File \"C:\\Users\\sachin.b.prakash\\AppData\\Local\\Continuum\\anaconda3\\lib\\asyncio\\base_events.py\", line 539, in run_forever\n",
      "    self._run_once()\n",
      "  File \"C:\\Users\\sachin.b.prakash\\AppData\\Local\\Continuum\\anaconda3\\lib\\site-packages\\tornado\\platform\\asyncio.py\", line 148, in start\n",
      "    self.asyncio_loop.run_forever()\n",
      "  File \"C:\\Users\\sachin.b.prakash\\AppData\\Local\\Continuum\\anaconda3\\lib\\site-packages\\ipykernel\\kernelapp.py\", line 505, in start\n",
      "    self.io_loop.start()\n",
      "  File \"C:\\Users\\sachin.b.prakash\\AppData\\Local\\Continuum\\anaconda3\\lib\\site-packages\\traitlets\\config\\application.py\", line 658, in launch_instance\n",
      "    app.start()\n",
      "  File \"C:\\Users\\sachin.b.prakash\\AppData\\Local\\Continuum\\anaconda3\\lib\\site-packages\\ipykernel_launcher.py\", line 16, in <module>\n",
      "    app.launch_new_instance()\n",
      "  File \"C:\\Users\\sachin.b.prakash\\AppData\\Local\\Continuum\\anaconda3\\lib\\runpy.py\", line 85, in _run_code\n",
      "    exec(code, run_globals)\n",
      "  File \"C:\\Users\\sachin.b.prakash\\AppData\\Local\\Continuum\\anaconda3\\lib\\runpy.py\", line 193, in _run_module_as_main\n",
      "    \"__main__\", mod_spec)\n",
      "\n"
     ]
    }
   ],
   "source": [
    "print()\n",
    "print('Calling f() from 3 levels deep:')\n",
    "call_function(f)"
   ]
  },
  {
   "cell_type": "code",
   "execution_count": 23,
   "metadata": {},
   "outputs": [
    {
     "name": "stdout",
     "output_type": "stream",
     "text": [
      "Calling f() directly:\n",
      "<ipython-input-23-b162896e6f71>:10:f:\n",
      "    traceback.walk_stack(None)\n",
      "<ipython-input-23-b162896e6f71>:17:<module>:\n",
      "    f()\n",
      "C:\\Users\\sachin.b.prakash\\AppData\\Local\\Continuum\\anaconda3\\lib\\site-packages\\IPython\\core\\interactiveshell.py:3296:run_code:\n",
      "    exec(code_obj, self.user_global_ns, self.user_ns)\n",
      "C:\\Users\\sachin.b.prakash\\AppData\\Local\\Continuum\\anaconda3\\lib\\site-packages\\IPython\\core\\interactiveshell.py:3220:run_ast_nodes:\n",
      "    if (yield from self.run_code(code, result)):\n",
      "C:\\Users\\sachin.b.prakash\\AppData\\Local\\Continuum\\anaconda3\\lib\\site-packages\\IPython\\core\\interactiveshell.py:3049:run_cell_async:\n",
      "    interactivity=interactivity, compiler=compiler, result=result)\n",
      "C:\\Users\\sachin.b.prakash\\AppData\\Local\\Continuum\\anaconda3\\lib\\site-packages\\IPython\\core\\async_helpers.py:67:_pseudo_sync_runner:\n",
      "    coro.send(None)\n",
      "C:\\Users\\sachin.b.prakash\\AppData\\Local\\Continuum\\anaconda3\\lib\\site-packages\\IPython\\core\\interactiveshell.py:2874:_run_cell:\n",
      "    return runner(coro)\n",
      "C:\\Users\\sachin.b.prakash\\AppData\\Local\\Continuum\\anaconda3\\lib\\site-packages\\IPython\\core\\interactiveshell.py:2848:run_cell:\n",
      "    raw_cell, store_history, silent, shell_futures)\n",
      "C:\\Users\\sachin.b.prakash\\AppData\\Local\\Continuum\\anaconda3\\lib\\site-packages\\ipykernel\\zmqshell.py:536:run_cell:\n",
      "    return super(ZMQInteractiveShell, self).run_cell(*args, **kwargs)\n",
      "C:\\Users\\sachin.b.prakash\\AppData\\Local\\Continuum\\anaconda3\\lib\\site-packages\\ipykernel\\ipkernel.py:294:do_execute:\n",
      "    res = shell.run_cell(code, store_history=store_history, silent=silent)\n",
      "C:\\Users\\sachin.b.prakash\\AppData\\Local\\Continuum\\anaconda3\\lib\\site-packages\\tornado\\gen.py:209:wrapper:\n",
      "    yielded = next(result)\n",
      "C:\\Users\\sachin.b.prakash\\AppData\\Local\\Continuum\\anaconda3\\lib\\site-packages\\ipykernel\\kernelbase.py:534:execute_request:\n",
      "    user_expressions, allow_stdin,\n",
      "C:\\Users\\sachin.b.prakash\\AppData\\Local\\Continuum\\anaconda3\\lib\\site-packages\\tornado\\gen.py:209:wrapper:\n",
      "    yielded = next(result)\n",
      "C:\\Users\\sachin.b.prakash\\AppData\\Local\\Continuum\\anaconda3\\lib\\site-packages\\ipykernel\\kernelbase.py:267:dispatch_shell:\n",
      "    yield gen.maybe_future(handler(stream, idents, msg))\n",
      "C:\\Users\\sachin.b.prakash\\AppData\\Local\\Continuum\\anaconda3\\lib\\site-packages\\tornado\\gen.py:209:wrapper:\n",
      "    yielded = next(result)\n",
      "C:\\Users\\sachin.b.prakash\\AppData\\Local\\Continuum\\anaconda3\\lib\\site-packages\\ipykernel\\kernelbase.py:357:process_one:\n",
      "    yield gen.maybe_future(dispatch(*args))\n",
      "C:\\Users\\sachin.b.prakash\\AppData\\Local\\Continuum\\anaconda3\\lib\\site-packages\\tornado\\gen.py:742:run:\n",
      "    yielded = self.gen.send(value)\n",
      "C:\\Users\\sachin.b.prakash\\AppData\\Local\\Continuum\\anaconda3\\lib\\site-packages\\tornado\\gen.py:781:inner:\n",
      "    self.run()\n",
      "C:\\Users\\sachin.b.prakash\\AppData\\Local\\Continuum\\anaconda3\\lib\\site-packages\\tornado\\ioloop.py:743:_run_callback:\n",
      "    ret = callback()\n",
      "C:\\Users\\sachin.b.prakash\\AppData\\Local\\Continuum\\anaconda3\\lib\\site-packages\\tornado\\ioloop.py:690:<lambda>:\n",
      "    lambda f: self._run_callback(functools.partial(callback, future))\n",
      "C:\\Users\\sachin.b.prakash\\AppData\\Local\\Continuum\\anaconda3\\lib\\asyncio\\events.py:88:_run:\n",
      "    self._context.run(self._callback, *self._args)\n",
      "C:\\Users\\sachin.b.prakash\\AppData\\Local\\Continuum\\anaconda3\\lib\\asyncio\\base_events.py:1775:_run_once:\n",
      "    handle._run()\n",
      "C:\\Users\\sachin.b.prakash\\AppData\\Local\\Continuum\\anaconda3\\lib\\asyncio\\base_events.py:539:run_forever:\n",
      "    self._run_once()\n",
      "C:\\Users\\sachin.b.prakash\\AppData\\Local\\Continuum\\anaconda3\\lib\\site-packages\\tornado\\platform\\asyncio.py:148:start:\n",
      "    self.asyncio_loop.run_forever()\n",
      "C:\\Users\\sachin.b.prakash\\AppData\\Local\\Continuum\\anaconda3\\lib\\site-packages\\ipykernel\\kernelapp.py:505:start:\n",
      "    self.io_loop.start()\n",
      "C:\\Users\\sachin.b.prakash\\AppData\\Local\\Continuum\\anaconda3\\lib\\site-packages\\traitlets\\config\\application.py:658:launch_instance:\n",
      "    app.start()\n",
      "C:\\Users\\sachin.b.prakash\\AppData\\Local\\Continuum\\anaconda3\\lib\\site-packages\\ipykernel_launcher.py:16:<module>:\n",
      "    app.launch_new_instance()\n",
      "C:\\Users\\sachin.b.prakash\\AppData\\Local\\Continuum\\anaconda3\\lib\\runpy.py:85:_run_code:\n",
      "    exec(code, run_globals)\n",
      "C:\\Users\\sachin.b.prakash\\AppData\\Local\\Continuum\\anaconda3\\lib\\runpy.py:193:_run_module_as_main:\n",
      "    \"__main__\", mod_spec)\n"
     ]
    }
   ],
   "source": [
    "# using atemplete to access various attributes of the summary\n",
    "template = (\n",
    "    '{fs.filename:<26}:{fs.lineno}:{fs.name}:\\n'\n",
    "    '    {fs.line}'\n",
    ")\n",
    "\n",
    "\n",
    "def f():\n",
    "    summary = traceback.StackSummary.extract(\n",
    "        traceback.walk_stack(None)\n",
    "    )\n",
    "    for fs in summary:\n",
    "        print(template.format(fs=fs))\n",
    "\n",
    "\n",
    "print('Calling f() directly:')\n",
    "f()"
   ]
  },
  {
   "cell_type": "code",
   "execution_count": 24,
   "metadata": {},
   "outputs": [],
   "source": [
    "# Each FrameSummary describes a frame of the stack,\n",
    "# including information about where in the program source files the execution context is.\n",
    "\n"
   ]
  },
  {
   "cell_type": "markdown",
   "metadata": {},
   "source": [
    "The TracebackException class is a high-level interface for building a StackSummary while processing a traceback.\n",
    "\n"
   ]
  },
  {
   "cell_type": "code",
   "execution_count": 25,
   "metadata": {},
   "outputs": [
    {
     "name": "stdout",
     "output_type": "stream",
     "text": [
      "with no exception:\n",
      "None: None\n",
      "\n"
     ]
    }
   ],
   "source": [
    "print('with no exception:')\n",
    "exc_type, exc_value, exc_tb = sys.exc_info()\n",
    "tbe = traceback.TracebackException(exc_type, exc_value, exc_tb)\n",
    "print(''.join(tbe.format()))"
   ]
  },
  {
   "cell_type": "code",
   "execution_count": 26,
   "metadata": {},
   "outputs": [
    {
     "name": "stdout",
     "output_type": "stream",
     "text": [
      "\n",
      "with exception:\n",
      "Traceback (most recent call last):\n",
      "  File \"<ipython-input-26-a68c5b1339b3>\", line 3, in <module>\n",
      "    produce_exception()\n",
      "  File \"<ipython-input-20-28b39e42edd8>\", line 8, in produce_exception\n",
      "    produce_exception(recursion_level - 1)\n",
      "  File \"<ipython-input-20-28b39e42edd8>\", line 8, in produce_exception\n",
      "    produce_exception(recursion_level - 1)\n",
      "  File \"<ipython-input-20-28b39e42edd8>\", line 10, in produce_exception\n",
      "    raise RuntimeError()\n",
      "RuntimeError\n",
      "\n",
      "\n",
      "exception only:\n",
      "RuntimeError\n",
      "\n"
     ]
    }
   ],
   "source": [
    "print('\\nwith exception:')\n",
    "try:\n",
    "    produce_exception()\n",
    "except Exception as err:\n",
    "    exc_type, exc_value, exc_tb = sys.exc_info()\n",
    "    tbe = traceback.TracebackException(\n",
    "        exc_type, exc_value, exc_tb,\n",
    "    )\n",
    "    print(''.join(tbe.format()))\n",
    "\n",
    "    print('\\nexception only:')\n",
    "    print(''.join(tbe.format_exception_only()))\n",
    "    # The format() method produces a formatted version of the full traceback, \n",
    "#     while format_exception_only() shows only the exception message.\n",
    "\n"
   ]
  },
  {
   "cell_type": "code",
   "execution_count": 27,
   "metadata": {},
   "outputs": [],
   "source": [
    "# formatting output"
   ]
  },
  {
   "cell_type": "code",
   "execution_count": 29,
   "metadata": {},
   "outputs": [
    {
     "name": "stdout",
     "output_type": "stream",
     "text": [
      "format_exception():\n",
      "<class 'RuntimeError'>\n",
      "\n",
      "<ipython-input-29-1c605900a7ce>:8:<module>:\n",
      "    produce_exception()\n",
      "<ipython-input-20-28b39e42edd8>:8:produce_exception():\n",
      "    produce_exception(recursion_level - 1)\n",
      "<ipython-input-20-28b39e42edd8>:8:produce_exception():\n",
      "    produce_exception(recursion_level - 1)\n",
      "<ipython-input-20-28b39e42edd8>:10:produce_exception():\n",
      "    raise RuntimeError()\n"
     ]
    }
   ],
   "source": [
    "import traceback\n",
    "import sys\n",
    "import os\n",
    "\n",
    "template = '{filename:<23}:{linenum}:{funcname}:\\n    {source}'\n",
    "\n",
    "try:\n",
    "    produce_exception()\n",
    "except Exception as err:\n",
    "    print('format_exception():')\n",
    "    exc_type, exc_value, exc_tb = sys.exc_info()\n",
    "    print(exc_type)\n",
    "    print(exc_value)\n",
    "    for tb_info in traceback.extract_tb(exc_tb):\n",
    "        filename, linenum, funcname, source = tb_info\n",
    "        if funcname != '<module>':\n",
    "            funcname = funcname + '()'\n",
    "        print(template.format(\n",
    "            filename=os.path.basename(filename),\n",
    "            linenum=linenum,\n",
    "            source=source,\n",
    "            funcname=funcname)\n",
    "        )"
   ]
  },
  {
   "cell_type": "code",
   "execution_count": 30,
   "metadata": {},
   "outputs": [
    {
     "name": "stdout",
     "output_type": "stream",
     "text": [
      "Calling f() directly:\n",
      "  File \"C:\\Users\\sachin.b.prakash\\AppData\\Local\\Continuum\\anaconda3\\lib\\runpy.py\", line 193, in _run_module_as_main\n",
      "    \"__main__\", mod_spec)\n",
      "  File \"C:\\Users\\sachin.b.prakash\\AppData\\Local\\Continuum\\anaconda3\\lib\\runpy.py\", line 85, in _run_code\n",
      "    exec(code, run_globals)\n",
      "  File \"C:\\Users\\sachin.b.prakash\\AppData\\Local\\Continuum\\anaconda3\\lib\\site-packages\\ipykernel_launcher.py\", line 16, in <module>\n",
      "    app.launch_new_instance()\n",
      "  File \"C:\\Users\\sachin.b.prakash\\AppData\\Local\\Continuum\\anaconda3\\lib\\site-packages\\traitlets\\config\\application.py\", line 658, in launch_instance\n",
      "    app.start()\n",
      "  File \"C:\\Users\\sachin.b.prakash\\AppData\\Local\\Continuum\\anaconda3\\lib\\site-packages\\ipykernel\\kernelapp.py\", line 505, in start\n",
      "    self.io_loop.start()\n",
      "  File \"C:\\Users\\sachin.b.prakash\\AppData\\Local\\Continuum\\anaconda3\\lib\\site-packages\\tornado\\platform\\asyncio.py\", line 148, in start\n",
      "    self.asyncio_loop.run_forever()\n",
      "  File \"C:\\Users\\sachin.b.prakash\\AppData\\Local\\Continuum\\anaconda3\\lib\\asyncio\\base_events.py\", line 539, in run_forever\n",
      "    self._run_once()\n",
      "  File \"C:\\Users\\sachin.b.prakash\\AppData\\Local\\Continuum\\anaconda3\\lib\\asyncio\\base_events.py\", line 1775, in _run_once\n",
      "    handle._run()\n",
      "  File \"C:\\Users\\sachin.b.prakash\\AppData\\Local\\Continuum\\anaconda3\\lib\\asyncio\\events.py\", line 88, in _run\n",
      "    self._context.run(self._callback, *self._args)\n",
      "  File \"C:\\Users\\sachin.b.prakash\\AppData\\Local\\Continuum\\anaconda3\\lib\\site-packages\\tornado\\ioloop.py\", line 690, in <lambda>\n",
      "    lambda f: self._run_callback(functools.partial(callback, future))\n",
      "  File \"C:\\Users\\sachin.b.prakash\\AppData\\Local\\Continuum\\anaconda3\\lib\\site-packages\\tornado\\ioloop.py\", line 743, in _run_callback\n",
      "    ret = callback()\n",
      "  File \"C:\\Users\\sachin.b.prakash\\AppData\\Local\\Continuum\\anaconda3\\lib\\site-packages\\tornado\\gen.py\", line 781, in inner\n",
      "    self.run()\n",
      "  File \"C:\\Users\\sachin.b.prakash\\AppData\\Local\\Continuum\\anaconda3\\lib\\site-packages\\tornado\\gen.py\", line 742, in run\n",
      "    yielded = self.gen.send(value)\n",
      "  File \"C:\\Users\\sachin.b.prakash\\AppData\\Local\\Continuum\\anaconda3\\lib\\site-packages\\ipykernel\\kernelbase.py\", line 357, in process_one\n",
      "    yield gen.maybe_future(dispatch(*args))\n",
      "  File \"C:\\Users\\sachin.b.prakash\\AppData\\Local\\Continuum\\anaconda3\\lib\\site-packages\\tornado\\gen.py\", line 209, in wrapper\n",
      "    yielded = next(result)\n",
      "  File \"C:\\Users\\sachin.b.prakash\\AppData\\Local\\Continuum\\anaconda3\\lib\\site-packages\\ipykernel\\kernelbase.py\", line 267, in dispatch_shell\n",
      "    yield gen.maybe_future(handler(stream, idents, msg))\n",
      "  File \"C:\\Users\\sachin.b.prakash\\AppData\\Local\\Continuum\\anaconda3\\lib\\site-packages\\tornado\\gen.py\", line 209, in wrapper\n",
      "    yielded = next(result)\n",
      "  File \"C:\\Users\\sachin.b.prakash\\AppData\\Local\\Continuum\\anaconda3\\lib\\site-packages\\ipykernel\\kernelbase.py\", line 534, in execute_request\n",
      "    user_expressions, allow_stdin,\n",
      "  File \"C:\\Users\\sachin.b.prakash\\AppData\\Local\\Continuum\\anaconda3\\lib\\site-packages\\tornado\\gen.py\", line 209, in wrapper\n",
      "    yielded = next(result)\n",
      "  File \"C:\\Users\\sachin.b.prakash\\AppData\\Local\\Continuum\\anaconda3\\lib\\site-packages\\ipykernel\\ipkernel.py\", line 294, in do_execute\n",
      "    res = shell.run_cell(code, store_history=store_history, silent=silent)\n",
      "  File \"C:\\Users\\sachin.b.prakash\\AppData\\Local\\Continuum\\anaconda3\\lib\\site-packages\\ipykernel\\zmqshell.py\", line 536, in run_cell\n",
      "    return super(ZMQInteractiveShell, self).run_cell(*args, **kwargs)\n",
      "  File \"C:\\Users\\sachin.b.prakash\\AppData\\Local\\Continuum\\anaconda3\\lib\\site-packages\\IPython\\core\\interactiveshell.py\", line 2848, in run_cell\n",
      "    raw_cell, store_history, silent, shell_futures)\n",
      "  File \"C:\\Users\\sachin.b.prakash\\AppData\\Local\\Continuum\\anaconda3\\lib\\site-packages\\IPython\\core\\interactiveshell.py\", line 2874, in _run_cell\n",
      "    return runner(coro)\n",
      "  File \"C:\\Users\\sachin.b.prakash\\AppData\\Local\\Continuum\\anaconda3\\lib\\site-packages\\IPython\\core\\async_helpers.py\", line 67, in _pseudo_sync_runner\n",
      "    coro.send(None)\n",
      "  File \"C:\\Users\\sachin.b.prakash\\AppData\\Local\\Continuum\\anaconda3\\lib\\site-packages\\IPython\\core\\interactiveshell.py\", line 3049, in run_cell_async\n",
      "    interactivity=interactivity, compiler=compiler, result=result)\n",
      "  File \"C:\\Users\\sachin.b.prakash\\AppData\\Local\\Continuum\\anaconda3\\lib\\site-packages\\IPython\\core\\interactiveshell.py\", line 3214, in run_ast_nodes\n",
      "    if (yield from self.run_code(code, result)):\n",
      "  File \"C:\\Users\\sachin.b.prakash\\AppData\\Local\\Continuum\\anaconda3\\lib\\site-packages\\IPython\\core\\interactiveshell.py\", line 3296, in run_code\n",
      "    exec(code_obj, self.user_global_ns, self.user_ns)\n",
      "  File \"<ipython-input-30-f6a2671f0595>\", line 6, in <module>\n",
      "    f()\n",
      "  File \"<ipython-input-30-f6a2671f0595>\", line 2, in f\n",
      "    traceback.print_stack(file=sys.stdout)\n",
      "\n",
      "Calling f() from 3 levels deep:\n",
      "  File \"C:\\Users\\sachin.b.prakash\\AppData\\Local\\Continuum\\anaconda3\\lib\\runpy.py\", line 193, in _run_module_as_main\n",
      "    \"__main__\", mod_spec)\n",
      "  File \"C:\\Users\\sachin.b.prakash\\AppData\\Local\\Continuum\\anaconda3\\lib\\runpy.py\", line 85, in _run_code\n",
      "    exec(code, run_globals)\n",
      "  File \"C:\\Users\\sachin.b.prakash\\AppData\\Local\\Continuum\\anaconda3\\lib\\site-packages\\ipykernel_launcher.py\", line 16, in <module>\n",
      "    app.launch_new_instance()\n",
      "  File \"C:\\Users\\sachin.b.prakash\\AppData\\Local\\Continuum\\anaconda3\\lib\\site-packages\\traitlets\\config\\application.py\", line 658, in launch_instance\n",
      "    app.start()\n",
      "  File \"C:\\Users\\sachin.b.prakash\\AppData\\Local\\Continuum\\anaconda3\\lib\\site-packages\\ipykernel\\kernelapp.py\", line 505, in start\n",
      "    self.io_loop.start()\n",
      "  File \"C:\\Users\\sachin.b.prakash\\AppData\\Local\\Continuum\\anaconda3\\lib\\site-packages\\tornado\\platform\\asyncio.py\", line 148, in start\n",
      "    self.asyncio_loop.run_forever()\n",
      "  File \"C:\\Users\\sachin.b.prakash\\AppData\\Local\\Continuum\\anaconda3\\lib\\asyncio\\base_events.py\", line 539, in run_forever\n",
      "    self._run_once()\n",
      "  File \"C:\\Users\\sachin.b.prakash\\AppData\\Local\\Continuum\\anaconda3\\lib\\asyncio\\base_events.py\", line 1775, in _run_once\n",
      "    handle._run()\n",
      "  File \"C:\\Users\\sachin.b.prakash\\AppData\\Local\\Continuum\\anaconda3\\lib\\asyncio\\events.py\", line 88, in _run\n",
      "    self._context.run(self._callback, *self._args)\n",
      "  File \"C:\\Users\\sachin.b.prakash\\AppData\\Local\\Continuum\\anaconda3\\lib\\site-packages\\tornado\\ioloop.py\", line 690, in <lambda>\n",
      "    lambda f: self._run_callback(functools.partial(callback, future))\n",
      "  File \"C:\\Users\\sachin.b.prakash\\AppData\\Local\\Continuum\\anaconda3\\lib\\site-packages\\tornado\\ioloop.py\", line 743, in _run_callback\n",
      "    ret = callback()\n",
      "  File \"C:\\Users\\sachin.b.prakash\\AppData\\Local\\Continuum\\anaconda3\\lib\\site-packages\\tornado\\gen.py\", line 781, in inner\n",
      "    self.run()\n",
      "  File \"C:\\Users\\sachin.b.prakash\\AppData\\Local\\Continuum\\anaconda3\\lib\\site-packages\\tornado\\gen.py\", line 742, in run\n",
      "    yielded = self.gen.send(value)\n",
      "  File \"C:\\Users\\sachin.b.prakash\\AppData\\Local\\Continuum\\anaconda3\\lib\\site-packages\\ipykernel\\kernelbase.py\", line 357, in process_one\n",
      "    yield gen.maybe_future(dispatch(*args))\n",
      "  File \"C:\\Users\\sachin.b.prakash\\AppData\\Local\\Continuum\\anaconda3\\lib\\site-packages\\tornado\\gen.py\", line 209, in wrapper\n",
      "    yielded = next(result)\n",
      "  File \"C:\\Users\\sachin.b.prakash\\AppData\\Local\\Continuum\\anaconda3\\lib\\site-packages\\ipykernel\\kernelbase.py\", line 267, in dispatch_shell\n",
      "    yield gen.maybe_future(handler(stream, idents, msg))\n",
      "  File \"C:\\Users\\sachin.b.prakash\\AppData\\Local\\Continuum\\anaconda3\\lib\\site-packages\\tornado\\gen.py\", line 209, in wrapper\n",
      "    yielded = next(result)\n",
      "  File \"C:\\Users\\sachin.b.prakash\\AppData\\Local\\Continuum\\anaconda3\\lib\\site-packages\\ipykernel\\kernelbase.py\", line 534, in execute_request\n",
      "    user_expressions, allow_stdin,\n",
      "  File \"C:\\Users\\sachin.b.prakash\\AppData\\Local\\Continuum\\anaconda3\\lib\\site-packages\\tornado\\gen.py\", line 209, in wrapper\n",
      "    yielded = next(result)\n",
      "  File \"C:\\Users\\sachin.b.prakash\\AppData\\Local\\Continuum\\anaconda3\\lib\\site-packages\\ipykernel\\ipkernel.py\", line 294, in do_execute\n",
      "    res = shell.run_cell(code, store_history=store_history, silent=silent)\n",
      "  File \"C:\\Users\\sachin.b.prakash\\AppData\\Local\\Continuum\\anaconda3\\lib\\site-packages\\ipykernel\\zmqshell.py\", line 536, in run_cell\n",
      "    return super(ZMQInteractiveShell, self).run_cell(*args, **kwargs)\n",
      "  File \"C:\\Users\\sachin.b.prakash\\AppData\\Local\\Continuum\\anaconda3\\lib\\site-packages\\IPython\\core\\interactiveshell.py\", line 2848, in run_cell\n",
      "    raw_cell, store_history, silent, shell_futures)\n",
      "  File \"C:\\Users\\sachin.b.prakash\\AppData\\Local\\Continuum\\anaconda3\\lib\\site-packages\\IPython\\core\\interactiveshell.py\", line 2874, in _run_cell\n",
      "    return runner(coro)\n",
      "  File \"C:\\Users\\sachin.b.prakash\\AppData\\Local\\Continuum\\anaconda3\\lib\\site-packages\\IPython\\core\\async_helpers.py\", line 67, in _pseudo_sync_runner\n",
      "    coro.send(None)\n",
      "  File \"C:\\Users\\sachin.b.prakash\\AppData\\Local\\Continuum\\anaconda3\\lib\\site-packages\\IPython\\core\\interactiveshell.py\", line 3049, in run_cell_async\n",
      "    interactivity=interactivity, compiler=compiler, result=result)\n",
      "  File \"C:\\Users\\sachin.b.prakash\\AppData\\Local\\Continuum\\anaconda3\\lib\\site-packages\\IPython\\core\\interactiveshell.py\", line 3220, in run_ast_nodes\n",
      "    if (yield from self.run_code(code, result)):\n",
      "  File \"C:\\Users\\sachin.b.prakash\\AppData\\Local\\Continuum\\anaconda3\\lib\\site-packages\\IPython\\core\\interactiveshell.py\", line 3296, in run_code\n",
      "    exec(code_obj, self.user_global_ns, self.user_ns)\n",
      "  File \"<ipython-input-30-f6a2671f0595>\", line 10, in <module>\n",
      "    call_function(f)\n",
      "  File \"<ipython-input-20-28b39e42edd8>\", line 15, in call_function\n",
      "    return call_function(f, recursion_level - 1)\n",
      "  File \"<ipython-input-20-28b39e42edd8>\", line 15, in call_function\n",
      "    return call_function(f, recursion_level - 1)\n",
      "  File \"<ipython-input-20-28b39e42edd8>\", line 17, in call_function\n",
      "    return f()\n",
      "  File \"<ipython-input-30-f6a2671f0595>\", line 2, in f\n",
      "    traceback.print_stack(file=sys.stdout)\n"
     ]
    }
   ],
   "source": [
    "def f():\n",
    "    traceback.print_stack(file=sys.stdout)\n",
    "\n",
    "# print_stack() prints the current stack, without generating an exception.\n",
    "print('Calling f() directly:')\n",
    "f()\n",
    "\n",
    "print()\n",
    "print('Calling f() from 3 levels deep:')\n",
    "call_function(f)"
   ]
  },
  {
   "cell_type": "code",
   "execution_count": null,
   "metadata": {},
   "outputs": [],
   "source": []
  },
  {
   "cell_type": "code",
   "execution_count": null,
   "metadata": {},
   "outputs": [],
   "source": []
  },
  {
   "cell_type": "code",
   "execution_count": null,
   "metadata": {},
   "outputs": [],
   "source": []
  },
  {
   "cell_type": "code",
   "execution_count": null,
   "metadata": {},
   "outputs": [],
   "source": []
  },
  {
   "cell_type": "code",
   "execution_count": null,
   "metadata": {},
   "outputs": [],
   "source": []
  },
  {
   "cell_type": "code",
   "execution_count": null,
   "metadata": {},
   "outputs": [],
   "source": []
  },
  {
   "cell_type": "code",
   "execution_count": null,
   "metadata": {},
   "outputs": [],
   "source": []
  },
  {
   "cell_type": "code",
   "execution_count": 1,
   "metadata": {},
   "outputs": [
    {
     "data": {
      "text/plain": [
       "[1, 2, 3, 4]"
      ]
     },
     "execution_count": 1,
     "metadata": {},
     "output_type": "execute_result"
    }
   ],
   "source": [
    "a = [1,2,3]\n",
    "b = a\n",
    "a.append(4)\n",
    "b"
   ]
  },
  {
   "cell_type": "code",
   "execution_count": 2,
   "metadata": {},
   "outputs": [
    {
     "data": {
      "text/plain": [
       "[1, 2, 3, 4]"
      ]
     },
     "execution_count": 2,
     "metadata": {},
     "output_type": "execute_result"
    }
   ],
   "source": [
    "a"
   ]
  },
  {
   "cell_type": "code",
   "execution_count": 3,
   "metadata": {},
   "outputs": [
    {
     "data": {
      "text/plain": [
       "[1, 2, 3, 4]"
      ]
     },
     "execution_count": 3,
     "metadata": {},
     "output_type": "execute_result"
    }
   ],
   "source": [
    "c = list(a)\n",
    "a.append(5)\n",
    "c"
   ]
  },
  {
   "cell_type": "code",
   "execution_count": 4,
   "metadata": {},
   "outputs": [
    {
     "data": {
      "text/plain": [
       "[1, 2, 3, 4, 5]"
      ]
     },
     "execution_count": 4,
     "metadata": {},
     "output_type": "execute_result"
    }
   ],
   "source": [
    "a"
   ]
  },
  {
   "cell_type": "code",
   "execution_count": 6,
   "metadata": {},
   "outputs": [
    {
     "data": {
      "text/plain": [
       "[32, 18]"
      ]
     },
     "execution_count": 6,
     "metadata": {},
     "output_type": "execute_result"
    }
   ],
   "source": [
    "l1 = [33,32,18,25,13]\n",
    "\n",
    "l2 = [x for x in l1 if x%2 == 0]\n",
    "l2"
   ]
  },
  {
   "cell_type": "code",
   "execution_count": 8,
   "metadata": {},
   "outputs": [
    {
     "name": "stdout",
     "output_type": "stream",
     "text": [
      "Even: [32, 18]\n",
      "Odd: [33, 25, 13]\n"
     ]
    }
   ],
   "source": [
    "l2 = []\n",
    "l3 =[] # odd\n",
    "for x in l1:\n",
    "    if x%2 ==0:\n",
    "        l2.append(x)\n",
    "    else:\n",
    "        l3.append(x)\n",
    "        \n",
    "print(\"Even:\",l2)\n",
    "print(\"Odd:\",l3)"
   ]
  },
  {
   "cell_type": "code",
   "execution_count": null,
   "metadata": {},
   "outputs": [],
   "source": [
    "l1.sum()"
   ]
  }
 ],
 "metadata": {
  "kernelspec": {
   "display_name": "Python 3",
   "language": "python",
   "name": "python3"
  },
  "language_info": {
   "codemirror_mode": {
    "name": "ipython",
    "version": 3
   },
   "file_extension": ".py",
   "mimetype": "text/x-python",
   "name": "python",
   "nbconvert_exporter": "python",
   "pygments_lexer": "ipython3",
   "version": "3.7.3"
  }
 },
 "nbformat": 4,
 "nbformat_minor": 2
}
