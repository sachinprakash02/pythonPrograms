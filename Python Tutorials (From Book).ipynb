{
 "cells": [
  {
   "cell_type": "code",
   "execution_count": 3,
   "metadata": {},
   "outputs": [
    {
     "name": "stdout",
     "output_type": "stream",
     "text": [
      "sum = 11\n"
     ]
    }
   ],
   "source": [
    "# compile () -> each line ends in \\n ;within the string is code to be compiled which is then executed using exce()\n",
    "codeInString = 'a = 5\\nb=6\\nsum=a+b\\nprint(\"sum =\",sum)'\n",
    "codeObejct = compile(codeInString, 'sumstring', 'exec') # retrns a code object. # could take 'exce for single line code'\n",
    "#file from which the code was read. If it wasn't read from a file, you can give a name yourself \"sumstring\"\n",
    "exec(codeObejct)"
   ]
  },
  {
   "cell_type": "code",
   "execution_count": 4,
   "metadata": {},
   "outputs": [
    {
     "data": {
      "text/plain": [
       "{'foo': 3, 'bar': 7}"
      ]
     },
     "execution_count": 4,
     "metadata": {},
     "output_type": "execute_result"
    }
   ],
   "source": [
    "# dict([m]) -> creates a dictionary.\n",
    "dict(foo=3,\n",
    "bar=7)"
   ]
  },
  {
   "cell_type": "code",
   "execution_count": 1,
   "metadata": {},
   "outputs": [
    {
     "name": "stdout",
     "output_type": "stream",
     "text": [
      "30\n"
     ]
    }
   ],
   "source": [
    "# exec(code [, global [, locals]])\n",
    "# code is the single line expression or compiled code\n",
    "# global is dictionary holding values from golbal namespace\n",
    "x= 10\n",
    "y = 20\n",
    "res = eval(\"x + y\",{'x':x,'y':y})\n",
    "print(res)"
   ]
  },
  {
   "cell_type": "code",
   "execution_count": 7,
   "metadata": {},
   "outputs": [
    {
     "name": "stdout",
     "output_type": "stream",
     "text": [
      "30\n"
     ]
    }
   ],
   "source": [
    "res = eval(\"x + y\")\n",
    "print(res)"
   ]
  },
  {
   "cell_type": "code",
   "execution_count": 8,
   "metadata": {},
   "outputs": [
    {
     "data": {
      "text/plain": [
       "200"
      ]
     },
     "execution_count": 8,
     "metadata": {},
     "output_type": "execute_result"
    }
   ],
   "source": [
    "eval(\"x + 100\", {}, {\"x\": 100}) # refer second dict values from local namespace"
   ]
  },
  {
   "cell_type": "code",
   "execution_count": 9,
   "metadata": {},
   "outputs": [
    {
     "name": "stdout",
     "output_type": "stream",
     "text": [
      "The filtered vowels are:\n",
      "a\n",
      "e\n",
      "i\n",
      "o\n"
     ]
    }
   ],
   "source": [
    "# filter() Parameters\n",
    "\n",
    "# filter() method takes two parameters:\n",
    "\n",
    "#     function - function that tests if elements of an iterable return true or false\n",
    "#     If None, the function defaults to Identity function - which returns false if any elements are false\n",
    "#     iterable - iterable which is to be filtered, could be sets, lists, tuples, or containers of any iterators\n",
    "\n",
    "letters = ['a', 'b', 'd', 'e', 'i', 'j', 'o']\n",
    "\n",
    "# function that filters vowels\n",
    "def filterVowels(letter):\n",
    "    vowels = ['a', 'e', 'i', 'o', 'u']\n",
    "\n",
    "    if(letter in vowels):\n",
    "        return True\n",
    "    else:\n",
    "        return False\n",
    "\n",
    "filteredVowels = filter(filterVowels, letters)\n",
    "\n",
    "print('The filtered vowels are:')\n",
    "for vowel in filteredVowels:\n",
    "    print(vowel)"
   ]
  },
  {
   "cell_type": "code",
   "execution_count": 3,
   "metadata": {},
   "outputs": [
    {
     "name": "stdout",
     "output_type": "stream",
     "text": [
      "123\n",
      "123.456790\n",
      "1100\n"
     ]
    }
   ],
   "source": [
    "# The built-in format() method returns a formatted representation of the given value controlled by the format specifier.\n",
    "# The format() function is similar to the String format method. Internally,\n",
    "# both methods call __format__() method of an object.\n",
    "\n",
    "# d, f and b are type\n",
    "\n",
    "# integer\n",
    "print(format(123, \"d\"))\n",
    "\n",
    "# float arguments\n",
    "print(format(123.4567898, \"f\"))\n",
    "\n",
    "# binary format\n",
    "print(format(12, \"b\"))"
   ]
  },
  {
   "cell_type": "code",
   "execution_count": 42,
   "metadata": {},
   "outputs": [
    {
     "name": "stdout",
     "output_type": "stream",
     "text": [
      "Before modification: Adam\n",
      "Age is: 23\n",
      "After modification: John\n"
     ]
    }
   ],
   "source": [
    "# The setattr() function sets the value of the attribute of an object.\n",
    "\n",
    "# setattr(object, name, value)\n",
    "\n",
    "class Person:\n",
    "    name = 'Adam'\n",
    "    \n",
    "p = Person()\n",
    "print('Before modification:', p.name)\n",
    "\n",
    "# setting name to 'John'\n",
    "setattr(p, 'name', 'John')\n",
    "# setting an attribute not present in Person\n",
    "setattr(p, 'age', 23)\n",
    "print('Age is:', p.age) # -> AUTO SET.\n",
    "\n",
    "print('After modification:', p.name)"
   ]
  },
  {
   "cell_type": "code",
   "execution_count": 3,
   "metadata": {},
   "outputs": [
    {
     "name": "stdout",
     "output_type": "stream",
     "text": [
      "The age is: 23\n",
      "The sex is: Male\n"
     ]
    },
    {
     "ename": "AttributeError",
     "evalue": "'Person' object has no attribute 'sex'",
     "output_type": "error",
     "traceback": [
      "\u001b[1;31m---------------------------------------------------------------------------\u001b[0m",
      "\u001b[1;31mAttributeError\u001b[0m                            Traceback (most recent call last)",
      "\u001b[1;32m<ipython-input-3-20138558afd6>\u001b[0m in \u001b[0;36m<module>\u001b[1;34m\u001b[0m\n\u001b[0;32m     16\u001b[0m \u001b[1;33m\u001b[0m\u001b[0m\n\u001b[0;32m     17\u001b[0m \u001b[1;31m# when no default value is provided\u001b[0m\u001b[1;33m\u001b[0m\u001b[1;33m\u001b[0m\u001b[1;33m\u001b[0m\u001b[0m\n\u001b[1;32m---> 18\u001b[1;33m \u001b[0mprint\u001b[0m\u001b[1;33m(\u001b[0m\u001b[1;34m'The sex is:'\u001b[0m\u001b[1;33m,\u001b[0m \u001b[0mgetattr\u001b[0m\u001b[1;33m(\u001b[0m\u001b[0mperson\u001b[0m\u001b[1;33m,\u001b[0m \u001b[1;34m'sex'\u001b[0m\u001b[1;33m)\u001b[0m\u001b[1;33m)\u001b[0m \u001b[1;31m# when default is not provided\u001b[0m\u001b[1;33m\u001b[0m\u001b[1;33m\u001b[0m\u001b[0m\n\u001b[0m",
      "\u001b[1;31mAttributeError\u001b[0m: 'Person' object has no attribute 'sex'"
     ]
    }
   ],
   "source": [
    "# The getattr() method returns the value of the named attribute of an object. If not found, \n",
    "# it returns the default value provided to the function.\n",
    "\n",
    "# getattr(object, name[, default])\n",
    "# object.name\n",
    "\n",
    "class Person:\n",
    "    age = 23\n",
    "    name = \"Adam\"\n",
    "\n",
    "person = Person()\n",
    "\n",
    "print('The age is:', getattr(Person(), \"age\"))\n",
    "# when default value is provided\n",
    "print('The sex is:', getattr(person, 'sex', 'Male'))\n",
    "\n",
    "# when no default value is provided\n",
    "print('The sex is:', getattr(person, 'sex')) # when default is not provided"
   ]
  },
  {
   "cell_type": "code",
   "execution_count": 14,
   "metadata": {},
   "outputs": [
    {
     "name": "stdout",
     "output_type": "stream",
     "text": [
      "The age is: 25\n"
     ]
    }
   ],
   "source": [
    "age = 23\n",
    "\n",
    "globals()['age'] = 25\n",
    "print('The age is:', age)"
   ]
  },
  {
   "cell_type": "code",
   "execution_count": 5,
   "metadata": {},
   "outputs": [
    {
     "name": "stdout",
     "output_type": "stream",
     "text": [
      "localsNotPresent: {}\n",
      "localsPresent: {'present': True, 'y': 5}\n"
     ]
    }
   ],
   "source": [
    "# A symbol table is a data structure maintained by a compiler which contains all necessary information about the program.\n",
    "\n",
    "# These include variable names, methods, classes, etc.\n",
    "\n",
    "# There are mainly two kinds of symbol table.\n",
    "\n",
    "#     Global symbol table\n",
    "#     Local symbol table\n",
    "\n",
    "# A Global symbol table stores all information related to the global scope of the program, and is accessed in \n",
    "# Python using globals() method.\n",
    "\n",
    "# The global scope contains all functions, variables which are not associated with any class or function.\n",
    "\n",
    "# Likewise, Local symbol table stores all information related to the local scope of the program, \n",
    "# and is accessed in Python using locals() method.\n",
    "\n",
    "# The local scope could be within a function, within a class, etc.\n",
    "x = 10\n",
    "def localsNotPresent():\n",
    "    return locals()\n",
    "\n",
    "def localsPresent():\n",
    "    present = True\n",
    "    y = 5\n",
    "    return locals()\n",
    "\n",
    "print('localsNotPresent:', localsNotPresent())\n",
    "print('localsPresent:', localsPresent())"
   ]
  },
  {
   "cell_type": "code",
   "execution_count": 17,
   "metadata": {},
   "outputs": [
    {
     "name": "stdout",
     "output_type": "stream",
     "text": [
      "True\n",
      "True\n"
     ]
    }
   ],
   "source": [
    "def localsPresent():\n",
    "    present = True\n",
    "    print(present)\n",
    "    locals()['present'] = False;\n",
    "    print(present)\n",
    "    \n",
    "localsPresent()\n",
    "# Unlike, globals() dictionary which reflects the change to the \n",
    "# actual global table, locals() dictionary may not change the information inside the locals table."
   ]
  },
  {
   "cell_type": "code",
   "execution_count": 18,
   "metadata": {},
   "outputs": [
    {
     "name": "stdout",
     "output_type": "stream",
     "text": [
      "Person has age?: True\n",
      "Person has salary?: False\n"
     ]
    }
   ],
   "source": [
    "# The hasattr() method returns true if an object has the given named attribute and false if it does not\n",
    "\n",
    "class Person:\n",
    "    age = 23\n",
    "    name = 'Adam'\n",
    "\n",
    "person = Person()\n",
    "\n",
    "print('Person has age?:', hasattr(person, 'age'))\n",
    "print('Person has salary?:', hasattr(person, 'salary'))"
   ]
  },
  {
   "cell_type": "code",
   "execution_count": 19,
   "metadata": {},
   "outputs": [
    {
     "name": "stdout",
     "output_type": "stream",
     "text": [
      "Hash for 181 is: 181\n",
      "Hash for 181.23 is: 530343892119126197\n",
      "Hash for Python is: 3994796338313149444\n"
     ]
    }
   ],
   "source": [
    "# The hash() method returns the hash value of an object if it has one.\n",
    "# Hash values are just integers that are used to compare dictionary keys during a dictionary lookup quickly.\n",
    "# Internally, hash() method calls __hash__() method of an object which is set by default for any object.\n",
    "\n",
    "# hash for integer unchanged\n",
    "print('Hash for 181 is:', hash(181))\n",
    "\n",
    "# hash for decimal\n",
    "print('Hash for 181.23 is:',hash(181.23))\n",
    "\n",
    "# hash for string\n",
    "print('Hash for Python is:', hash('Python'))"
   ]
  },
  {
   "cell_type": "code",
   "execution_count": 20,
   "metadata": {},
   "outputs": [
    {
     "name": "stdout",
     "output_type": "stream",
     "text": [
      "The hash is:\n",
      "8830221905075329929\n"
     ]
    }
   ],
   "source": [
    "# As stated above, hash() method internally calls __hash__() method. So, any objects can override __hash__() for custom hash values.\n",
    "\n",
    "# But for correct hash implementation, __hash__() should always return an integer. And, both __eq__() \n",
    "# and __hash__() methods have to be implemented.\n",
    "\n",
    "class Person:\n",
    "    def __init__(self, age, name):\n",
    "        self.age = age\n",
    "        self.name = name\n",
    "\n",
    "    def __eq__(self, other):\n",
    "        return self.age == other.age and self.name == other.name\n",
    "\n",
    "    def __hash__(self):\n",
    "        print('The hash is:')\n",
    "        return hash((self.age, self.name))\n",
    "\n",
    "person = Person(23, 'Adam')\n",
    "print(hash(person))\n",
    "\n",
    "#  You don't have to implement __eq__() method for the hash as it is created by default for all objects."
   ]
  },
  {
   "cell_type": "code",
   "execution_count": 21,
   "metadata": {},
   "outputs": [
    {
     "name": "stdout",
     "output_type": "stream",
     "text": [
      "True\n",
      "False\n",
      "True\n",
      "True\n"
     ]
    }
   ],
   "source": [
    "# The issubclass() function checks if the class argument \n",
    "# (first argument) is a subclass of classinfo class (second argument)\n",
    "\n",
    "# issubclass() takes two parameters:\n",
    "\n",
    "#     class - class to be checked\n",
    "#     classinfo - class, type, or tuple of classes and types\n",
    "\n",
    "class Polygon:\n",
    "    def __init__(polygonType):\n",
    "        print('Polygon is a ', polygonType)\n",
    "\n",
    "class Triangle(Polygon):\n",
    "    def __init__(self):\n",
    "\n",
    "        Polygon.__init__('triangle')\n",
    "    \n",
    "print(issubclass(Triangle, Polygon))\n",
    "print(issubclass(Triangle, list))\n",
    "print(issubclass(Triangle, (list, Polygon)))\n",
    "print(issubclass(Polygon, (list, Polygon)))\n"
   ]
  },
  {
   "cell_type": "code",
   "execution_count": 22,
   "metadata": {},
   "outputs": [
    {
     "name": "stdout",
     "output_type": "stream",
     "text": [
      "a\n",
      "e\n",
      "i\n",
      "o\n",
      "u\n"
     ]
    }
   ],
   "source": [
    "# The Python iter() function returns an iterator for the given object.\n",
    "# The iter() function creates an object which can be iterated one element at a time.\n",
    "# These objects are useful when coupled with loops like for loop, while loop.\n",
    "\n",
    "# list of vowels\n",
    "vowels = ['a', 'e', 'i', 'o', 'u']\n",
    "vowels_iter = iter(vowels)\n",
    "\n",
    "print(next(vowels_iter))    # 'a'\n",
    "print(next(vowels_iter))    # 'e'\n",
    "print(next(vowels_iter))    # 'i'\n",
    "print(next(vowels_iter))    # 'o'\n",
    "print(next(vowels_iter))    # 'u'"
   ]
  },
  {
   "cell_type": "code",
   "execution_count": 23,
   "metadata": {},
   "outputs": [
    {
     "name": "stdout",
     "output_type": "stream",
     "text": [
      "1\n",
      "2\n",
      "3\n"
     ]
    }
   ],
   "source": [
    "# Example 2: iter() for custom objects\n",
    "\n",
    "class PrintNumber:\n",
    "    def __init__(self, max):\n",
    "        self.max = max\n",
    "\n",
    "    def __iter__(self):\n",
    "        self.num = 0\n",
    "        return self\n",
    "\n",
    "    def __next__(self):\n",
    "        if(self.num >= self.max):\n",
    "            raise StopIteration\n",
    "        self.num += 1\n",
    "        return self.num\n",
    "\n",
    "print_num = PrintNumber(3)\n",
    "\n",
    "print_num_iter = iter(print_num)\n",
    "print(next(print_num_iter))  # 1\n",
    "print(next(print_num_iter))  # 2\n",
    "print(next(print_num_iter))  # 3"
   ]
  },
  {
   "cell_type": "code",
   "execution_count": 10,
   "metadata": {},
   "outputs": [
    {
     "name": "stdout",
     "output_type": "stream",
     "text": [
      "2\n",
      "4\n",
      "8\n"
     ]
    }
   ],
   "source": [
    "class DoubleIt:\n",
    "\n",
    "    def __init__(self):\n",
    "        self.start = 1\n",
    "\n",
    "    def __iter__(self):\n",
    "        return self\n",
    "\n",
    "    def __next__(self):\n",
    "        self.start *= 2\n",
    "        return self.start\n",
    "\n",
    "    __call__ = __next__ # for calling using class name directly ; else create object and use next()\n",
    "    \n",
    "my_iter = iter(DoubleIt(), 16) # sentinel parameter -> \n",
    "\n",
    "for x in my_iter:\n",
    "    print(x)\n",
    "\n",
    "\n",
    "# Here, we have implemented a custom iterable object without a StopIteration condition.\n",
    "\n",
    "# However, we can use the iter() method with the sentinel parameter to stop the iteration. If the value returned \n",
    "# from __next__() \n",
    "# is equal to sentinel, StopIteration will be raised, otherwise, the value will be returned."
   ]
  },
  {
   "cell_type": "code",
   "execution_count": 6,
   "metadata": {},
   "outputs": [
    {
     "name": "stdout",
     "output_type": "stream",
     "text": [
      "Instance Created\n",
      "Instance is called via special method\n"
     ]
    }
   ],
   "source": [
    "# Python has a set of built-in methods and __call__ is one of them. The __call__ method enables \n",
    "# Python programmers to write classes where the instances behave like functions and can be called like a function. When the instance is called as a function; if this method is defined,\n",
    "# x(arg1, arg2, ...) is a shorthand for x.__call__(arg1, arg2, ...).\n",
    "\n",
    "class Example:\n",
    "    def __init__(self):\n",
    "        print(\"Instance Created\")\n",
    "      \n",
    "    # Defining __call__ method\n",
    "    def __call__(self):\n",
    "        print(\"Instance is called via special method\")\n",
    "  \n",
    "# Instance created\n",
    "e = Example()\n",
    "  \n",
    "# __call__ method will be called\n",
    "e()"
   ]
  },
  {
   "cell_type": "code",
   "execution_count": 8,
   "metadata": {},
   "outputs": [
    {
     "name": "stdout",
     "output_type": "stream",
     "text": [
      "Instance Created\n",
      "200\n"
     ]
    }
   ],
   "source": [
    "class Product:\n",
    "    def __init__(self):\n",
    "        print(\"Instance Created\")\n",
    "  \n",
    "    # Defining __call__ method\n",
    "    def __call__(self, a, b):\n",
    "        print(a * b)\n",
    "# Instance created\n",
    "ans = Product()\n",
    "  \n",
    "# __call__ method will be called\n",
    "ans(10, 20) # instance behaving like a function"
   ]
  },
  {
   "cell_type": "code",
   "execution_count": 26,
   "metadata": {},
   "outputs": [
    {
     "name": "stdout",
     "output_type": "stream",
     "text": [
      "<map object at 0x00000247EA12A7B8>\n",
      "{16, 1, 4, 9}\n"
     ]
    }
   ],
   "source": [
    "# The map() function applies a given function to each item of an iterable (list, tuple etc.) \n",
    "# and returns a list of the results.\n",
    "\n",
    "\n",
    "#     function - map() passes each item of the iterable to this function.\n",
    "#     iterable - iterable which is to be mapped\n",
    "\n",
    "def calculateSquare(n):\n",
    "    return n*n\n",
    "\n",
    "\n",
    "numbers = (1, 2, 3, 4)\n",
    "result = map(calculateSquare, numbers)\n",
    "print(result) # returns a map object\n",
    "\n",
    "# converting map object to set\n",
    "numbersSquare = set(result)\n",
    "print(numbersSquare)"
   ]
  },
  {
   "cell_type": "code",
   "execution_count": 12,
   "metadata": {},
   "outputs": [
    {
     "name": "stdout",
     "output_type": "stream",
     "text": [
      "<map object at 0x000001D5D9F0A0B8>\n",
      "[1, 4, 9, 16]\n"
     ]
    }
   ],
   "source": [
    "numbers = (1, 2, 3, 4)\n",
    "result = map(lambda x: x*x, numbers)\n",
    "print(result) # can use next(result)\n",
    "\n",
    "# converting map object to list\n",
    "numbersSquare = list(result)\n",
    "print(numbersSquare)"
   ]
  },
  {
   "cell_type": "code",
   "execution_count": 28,
   "metadata": {},
   "outputs": [
    {
     "name": "stdout",
     "output_type": "stream",
     "text": [
      "[9, 11, 13]\n"
     ]
    }
   ],
   "source": [
    "num1 = [4, 5, 6]\n",
    "num2 = [5, 6, 7]\n",
    "\n",
    "result = map(lambda n1, n2: n1+n2, num1, num2)\n",
    "print(list(result))"
   ]
  },
  {
   "cell_type": "code",
   "execution_count": 29,
   "metadata": {},
   "outputs": [],
   "source": [
    "# writing to file\n",
    "sourceFile = open('python.txt', 'w')\n",
    "print('Pretty cool, huh!', file = sourceFile) # write to file\n",
    "sourceFile.close()"
   ]
  },
  {
   "cell_type": "code",
   "execution_count": 30,
   "metadata": {},
   "outputs": [
    {
     "name": "stdout",
     "output_type": "stream",
     "text": [
      "Getting name\n",
      "Adam\n",
      "Setting name to John\n",
      "Deleting name\n"
     ]
    }
   ],
   "source": [
    "# The property() construct returns the property attribute.\n",
    "# property(fget=None, fset=None, fdel=None, doc=None)\n",
    "\n",
    "# property() Parameters\n",
    "\n",
    "# The property() takes four optional parameters:\n",
    "\n",
    "#     fget (optional) - Function for getting the attribute value. Defaults to None.\n",
    "#     fset (optional) - Function for setting the attribute value. Defaults to None.\n",
    "#     fdel (optional) - Function for deleting the attribute value. Defaults to None.\n",
    "#     doc (optional) - A string that contains the documentation (docstring) for the attribute. Defaults to None.\n",
    "\n",
    "# Return value from property()\n",
    "\n",
    "# property() returns the property attribute from the given getter, setter, and deleter.\n",
    "\n",
    "#     If no arguments are given, property() returns a base property attribute that doesn't contain any getter, \n",
    "# setter or deleter.\n",
    "#     If doc isn't provided, property() takes the docstring of the getter function.\n",
    "\n",
    "class Person:\n",
    "    def __init__(self, name):\n",
    "        self._name = name\n",
    "\n",
    "    def get_name(self):\n",
    "        print('Getting name')\n",
    "        return self._name\n",
    "\n",
    "    def set_name(self, value):\n",
    "        print('Setting name to ' + value)\n",
    "        self._name = value\n",
    "\n",
    "    def del_name(self):\n",
    "        print('Deleting name')\n",
    "        del self._name\n",
    "\n",
    "    # Set property to use get_name, set_name\n",
    "    # and del_name methods\n",
    "    name = property(get_name, set_name, del_name, 'Name property')\n",
    "\n",
    "p = Person('Adam')\n",
    "print(p.name)\n",
    "p.name = 'John'\n",
    "del p.name"
   ]
  },
  {
   "cell_type": "code",
   "execution_count": 31,
   "metadata": {},
   "outputs": [],
   "source": [
    "# Now, we set a new property attribute name by calling the property() method.\n",
    "\n",
    "# As shown in the program, referencing p.name internally calls get_name() as getter, set_name() as setter and del_name() as \n",
    "# deleter through the printed output present inside the methods."
   ]
  },
  {
   "cell_type": "code",
   "execution_count": 32,
   "metadata": {},
   "outputs": [
    {
     "name": "stdout",
     "output_type": "stream",
     "text": [
      "Getting name\n",
      "The name is: Adam\n",
      "Setting name to John\n",
      "Deleting name\n"
     ]
    }
   ],
   "source": [
    "# Instead of using property(), you can use the Python decorator @property to assign the getter, setter, and deleter.\n",
    "\n",
    "class Person:\n",
    "    def __init__(self, name):\n",
    "        self._name = name\n",
    "\n",
    "    @property\n",
    "    def name(self):\n",
    "        print('Getting name')\n",
    "        return self._name\n",
    "\n",
    "    @name.setter\n",
    "    def name(self, value):\n",
    "        print('Setting name to ' + value)\n",
    "        self._name = value\n",
    "\n",
    "    @name.deleter\n",
    "    def name(self):\n",
    "        print('Deleting name')\n",
    "        del self._name\n",
    "\n",
    "p = Person('Adam')\n",
    "print('The name is:', p.name)\n",
    "p.name = 'John'\n",
    "del p.name"
   ]
  },
  {
   "cell_type": "code",
   "execution_count": 33,
   "metadata": {},
   "outputs": [],
   "source": [
    "# Here, instead of using property(), we've used the @property decorator.\n",
    "\n",
    "# First, we specify that name() method is also an attribute of Person. This is done by using\n",
    "# @property before the getter method as shown in the program.\n",
    "\n",
    "# Next, we use the attribute name to specify the setter and the deleter.\n",
    "\n",
    "# This is done by using @name.setter for the setter method and @name.deleter for the deleter method.\n",
    "\n",
    "# Notice, we've used the same method name() with different definitions for defining the getter, setter, and deleter.\n",
    "\n",
    "# Now, whenever we use p.name, it internally calls the appropriate getter, setter, and deleter as \n",
    "# shown by the printed output present inside the method."
   ]
  },
  {
   "cell_type": "code",
   "execution_count": 34,
   "metadata": {},
   "outputs": [
    {
     "name": "stdout",
     "output_type": "stream",
     "text": [
      "37\n",
      "98.60000000000001\n"
     ]
    }
   ],
   "source": [
    "# @property decorator :\n",
    "\n",
    "# Basic method of setting and getting attributes in Python\n",
    "class Celsius:\n",
    "    def __init__(self, temperature=0):\n",
    "        self.temperature = temperature\n",
    "\n",
    "    def to_fahrenheit(self):\n",
    "        return (self.temperature * 1.8) + 32\n",
    "\n",
    "\n",
    "# Create a new object\n",
    "human = Celsius()\n",
    "\n",
    "# Set the temperature\n",
    "human.temperature = 37\n",
    "\n",
    "# Get the temperature attribute\n",
    "print(human.temperature)\n",
    "\n",
    "# Get the to_fahrenheit method\n",
    "print(human.to_fahrenheit())"
   ]
  },
  {
   "cell_type": "code",
   "execution_count": 35,
   "metadata": {},
   "outputs": [
    {
     "data": {
      "text/plain": [
       "{'temperature': 37}"
      ]
     },
     "execution_count": 35,
     "metadata": {},
     "output_type": "execute_result"
    }
   ],
   "source": [
    "human.__dict__ # Whenever we assign or retrieve any object attribute like temperature as shown above, \n",
    "# Python searches it in the object's built-in __dict__ dictionary attribute."
   ]
  },
  {
   "cell_type": "code",
   "execution_count": 36,
   "metadata": {},
   "outputs": [
    {
     "name": "stdout",
     "output_type": "stream",
     "text": [
      "Setting value...\n",
      "Getting value...\n",
      "37\n",
      "Getting value...\n",
      "98.60000000000001\n",
      "Setting value...\n"
     ]
    },
    {
     "ename": "ValueError",
     "evalue": "Temperature below -273 is not possible",
     "output_type": "error",
     "traceback": [
      "\u001b[1;31m---------------------------------------------------------------------------\u001b[0m",
      "\u001b[1;31mValueError\u001b[0m                                Traceback (most recent call last)",
      "\u001b[1;32m<ipython-input-36-aebf63a39376>\u001b[0m in \u001b[0;36m<module>\u001b[1;34m\u001b[0m\n\u001b[0;32m     27\u001b[0m \u001b[0mprint\u001b[0m\u001b[1;33m(\u001b[0m\u001b[0mhuman\u001b[0m\u001b[1;33m.\u001b[0m\u001b[0mto_fahrenheit\u001b[0m\u001b[1;33m(\u001b[0m\u001b[1;33m)\u001b[0m\u001b[1;33m)\u001b[0m\u001b[1;33m\u001b[0m\u001b[1;33m\u001b[0m\u001b[0m\n\u001b[0;32m     28\u001b[0m \u001b[1;33m\u001b[0m\u001b[0m\n\u001b[1;32m---> 29\u001b[1;33m \u001b[0mcoldest_thing\u001b[0m \u001b[1;33m=\u001b[0m \u001b[0mCelsius\u001b[0m\u001b[1;33m(\u001b[0m\u001b[1;33m-\u001b[0m\u001b[1;36m300\u001b[0m\u001b[1;33m)\u001b[0m\u001b[1;33m\u001b[0m\u001b[1;33m\u001b[0m\u001b[0m\n\u001b[0m",
      "\u001b[1;32m<ipython-input-36-aebf63a39376>\u001b[0m in \u001b[0;36m__init__\u001b[1;34m(self, temperature)\u001b[0m\n\u001b[0;32m      2\u001b[0m \u001b[1;32mclass\u001b[0m \u001b[0mCelsius\u001b[0m\u001b[1;33m:\u001b[0m\u001b[1;33m\u001b[0m\u001b[1;33m\u001b[0m\u001b[0m\n\u001b[0;32m      3\u001b[0m     \u001b[1;32mdef\u001b[0m \u001b[0m__init__\u001b[0m\u001b[1;33m(\u001b[0m\u001b[0mself\u001b[0m\u001b[1;33m,\u001b[0m \u001b[0mtemperature\u001b[0m\u001b[1;33m=\u001b[0m\u001b[1;36m0\u001b[0m\u001b[1;33m)\u001b[0m\u001b[1;33m:\u001b[0m\u001b[1;33m\u001b[0m\u001b[1;33m\u001b[0m\u001b[0m\n\u001b[1;32m----> 4\u001b[1;33m         \u001b[0mself\u001b[0m\u001b[1;33m.\u001b[0m\u001b[0mtemperature\u001b[0m \u001b[1;33m=\u001b[0m \u001b[0mtemperature\u001b[0m\u001b[1;33m\u001b[0m\u001b[1;33m\u001b[0m\u001b[0m\n\u001b[0m\u001b[0;32m      5\u001b[0m \u001b[1;33m\u001b[0m\u001b[0m\n\u001b[0;32m      6\u001b[0m     \u001b[1;32mdef\u001b[0m \u001b[0mto_fahrenheit\u001b[0m\u001b[1;33m(\u001b[0m\u001b[0mself\u001b[0m\u001b[1;33m)\u001b[0m\u001b[1;33m:\u001b[0m\u001b[1;33m\u001b[0m\u001b[1;33m\u001b[0m\u001b[0m\n",
      "\u001b[1;32m<ipython-input-36-aebf63a39376>\u001b[0m in \u001b[0;36mtemperature\u001b[1;34m(self, value)\u001b[0m\n\u001b[0;32m     16\u001b[0m         \u001b[0mprint\u001b[0m\u001b[1;33m(\u001b[0m\u001b[1;34m\"Setting value...\"\u001b[0m\u001b[1;33m)\u001b[0m\u001b[1;33m\u001b[0m\u001b[1;33m\u001b[0m\u001b[0m\n\u001b[0;32m     17\u001b[0m         \u001b[1;32mif\u001b[0m \u001b[0mvalue\u001b[0m \u001b[1;33m<\u001b[0m \u001b[1;33m-\u001b[0m\u001b[1;36m273.15\u001b[0m\u001b[1;33m:\u001b[0m\u001b[1;33m\u001b[0m\u001b[1;33m\u001b[0m\u001b[0m\n\u001b[1;32m---> 18\u001b[1;33m             \u001b[1;32mraise\u001b[0m \u001b[0mValueError\u001b[0m\u001b[1;33m(\u001b[0m\u001b[1;34m\"Temperature below -273 is not possible\"\u001b[0m\u001b[1;33m)\u001b[0m\u001b[1;33m\u001b[0m\u001b[1;33m\u001b[0m\u001b[0m\n\u001b[0m\u001b[0;32m     19\u001b[0m         \u001b[0mself\u001b[0m\u001b[1;33m.\u001b[0m\u001b[0m_temperature\u001b[0m \u001b[1;33m=\u001b[0m \u001b[0mvalue\u001b[0m\u001b[1;33m\u001b[0m\u001b[1;33m\u001b[0m\u001b[0m\n\u001b[0;32m     20\u001b[0m \u001b[1;33m\u001b[0m\u001b[0m\n",
      "\u001b[1;31mValueError\u001b[0m: Temperature below -273 is not possible"
     ]
    }
   ],
   "source": [
    "# Using @property decorator\n",
    "class Celsius:\n",
    "    def __init__(self, temperature=0):\n",
    "        self.temperature = temperature\n",
    "\n",
    "    def to_fahrenheit(self):\n",
    "        return (self.temperature * 1.8) + 32\n",
    "\n",
    "    @property\n",
    "    def temperature(self):\n",
    "        print(\"Getting value...\")\n",
    "        return self._temperature\n",
    "\n",
    "    @temperature.setter\n",
    "    def temperature(self, value):\n",
    "        print(\"Setting value...\")\n",
    "        if value < -273.15:\n",
    "            raise ValueError(\"Temperature below -273 is not possible\")\n",
    "        self._temperature = value\n",
    "\n",
    "\n",
    "# create an object\n",
    "human = Celsius(37)\n",
    "\n",
    "print(human.temperature)\n",
    "\n",
    "print(human.to_fahrenheit())\n",
    "\n",
    "coldest_thing = Celsius(-300)"
   ]
  },
  {
   "cell_type": "code",
   "execution_count": 37,
   "metadata": {},
   "outputs": [
    {
     "name": "stdout",
     "output_type": "stream",
     "text": [
      "'foo'\n"
     ]
    }
   ],
   "source": [
    "# The repr() function returns a printable representation of the given object.\n",
    "\n",
    "var = 'foo'\n",
    "\n",
    "print(repr(var))"
   ]
  },
  {
   "cell_type": "code",
   "execution_count": 38,
   "metadata": {},
   "outputs": [
    {
     "name": "stdout",
     "output_type": "stream",
     "text": [
      "'Hello Adam'\n"
     ]
    }
   ],
   "source": [
    "class Person:\n",
    "    name = 'Adam'\n",
    "\n",
    "    def __repr__(self):\n",
    "        return repr('Hello ' + self.name )\n",
    "\n",
    "print(repr(Person()))"
   ]
  },
  {
   "cell_type": "code",
   "execution_count": 14,
   "metadata": {},
   "outputs": [
    {
     "name": "stdout",
     "output_type": "stream",
     "text": [
      "['n', 'o', 'h', 't', 'y', 'P']\n",
      "['n', 'o', 'h', 't', 'y', 'P']\n",
      "[8, 7, 6, 5]\n",
      "[5, 3, 4, 2, 1]\n",
      "<reversed object at 0x000001D5D9F0AE48>\n"
     ]
    }
   ],
   "source": [
    "# The reversed() function returns the reversed iterator of the given sequence.\n",
    "\n",
    "# for string\n",
    "seq_string = 'Python'\n",
    "print(list(reversed(seq_string)))\n",
    "\n",
    "# for tuple\n",
    "seq_tuple = ('P', 'y', 't', 'h', 'o', 'n')\n",
    "print(list(reversed(seq_tuple)))\n",
    "\n",
    "# for range\n",
    "seq_range = range(5, 9)\n",
    "print(list(reversed(seq_range)))\n",
    "\n",
    "# for list\n",
    "seq_list = [1, 2, 4, 3, 5]\n",
    "print(list(reversed(seq_list)))\n",
    "\n",
    "print(reversed(seq_tuple))"
   ]
  },
  {
   "cell_type": "code",
   "execution_count": 40,
   "metadata": {},
   "outputs": [
    {
     "name": "stdout",
     "output_type": "stream",
     "text": [
      "['u', 'o', 'i', 'e', 'a']\n"
     ]
    }
   ],
   "source": [
    "class Vowels:\n",
    "    vowels = ['a', 'e', 'i', 'o', 'u']\n",
    "\n",
    "    def __reversed__(self):\n",
    "        return reversed(self.vowels)\n",
    "\n",
    "v = Vowels()\n",
    "print(list(reversed(v)))"
   ]
  },
  {
   "cell_type": "code",
   "execution_count": 43,
   "metadata": {},
   "outputs": [
    {
     "name": "stdout",
     "output_type": "stream",
     "text": [
      "['u', 'o', 'i', 'e', 'a']\n"
     ]
    }
   ],
   "source": [
    "# The sorted() function returns a sorted list from the items in an iterable.\n",
    "\n",
    "# sorted() can take a maximum of three parameters:\n",
    "\n",
    "#     iterable - A sequence (string, tuple, list) or collection (set, dictionary, frozen set) or any other iterator.\n",
    "#     reverse (Optional) - If True, the sorted list is reversed (or sorted in descending order). Defaults to False if not provided.\n",
    "#     key (Optional) - A function that serves as a key for the sort comparison. Defaults to None.\n",
    "\n",
    "py_dict = {'e': 1, 'a': 2, 'u': 3, 'o': 4, 'i': 5}\n",
    "print(sorted(py_dict, reverse=True))"
   ]
  },
  {
   "cell_type": "code",
   "execution_count": 44,
   "metadata": {},
   "outputs": [
    {
     "name": "stdout",
     "output_type": "stream",
     "text": [
      "Sorted list: [(4, 1), (2, 2), (1, 3), (3, 4)]\n"
     ]
    }
   ],
   "source": [
    "# take the second element for sort\n",
    "def take_second(elem):\n",
    "    return elem[1]\n",
    "\n",
    "\n",
    "# random list\n",
    "random = [(2, 2), (3, 4), (4, 1), (1, 3)]\n",
    "\n",
    "# sort list with key\n",
    "sorted_list = sorted(random, key=take_second)\n",
    "\n",
    "# print list\n",
    "print('Sorted list:', sorted_list)"
   ]
  },
  {
   "cell_type": "code",
   "execution_count": 15,
   "metadata": {},
   "outputs": [
    {
     "name": "stdout",
     "output_type": "stream",
     "text": [
      "{'a': 5, 'b': 10}\n"
     ]
    },
    {
     "data": {
      "text/plain": [
       "{'a': 5, 'b': 10}"
      ]
     },
     "execution_count": 15,
     "metadata": {},
     "output_type": "execute_result"
    }
   ],
   "source": [
    "# The vars() function returns the __dict__ attribute of the given object.\n",
    "\n",
    "# object - can be module, class, instance, or any object having the __dict__ attribute.\n",
    "\n",
    "class Foo:\n",
    "    def __init__(self, a = 5, b = 10):\n",
    "        self.a = a\n",
    "        self.b = b\n",
    "  \n",
    "object1 = Foo()\n",
    "print(vars(object1))\n",
    "object1.__dict__"
   ]
  },
  {
   "cell_type": "code",
   "execution_count": 48,
   "metadata": {},
   "outputs": [
    {
     "name": "stdout",
     "output_type": "stream",
     "text": [
      "2.5\n"
     ]
    }
   ],
   "source": [
    "# The __import__() is a function that is called by the import statement.\n",
    "\n",
    "\n",
    "#     name - the name of the module you want to import\n",
    "#     globals and locals - determines how to interpret name\n",
    "#     fromlist - objects or submodules that should be imported by name\n",
    "#     level - specifies whether to use absolute or relative imports\n",
    "\n",
    "mathematics = __import__('math', globals(), locals(), [], 0)\n",
    "print(mathematics.fabs(-2.5))\n"
   ]
  },
  {
   "cell_type": "code",
   "execution_count": 1,
   "metadata": {},
   "outputs": [
    {
     "name": "stdout",
     "output_type": "stream",
     "text": [
      "4\n",
      "7\n",
      "0\n",
      "3\n"
     ]
    },
    {
     "ename": "StopIteration",
     "evalue": "",
     "output_type": "error",
     "traceback": [
      "\u001b[1;31m---------------------------------------------------------------------------\u001b[0m",
      "\u001b[1;31mStopIteration\u001b[0m                             Traceback (most recent call last)",
      "\u001b[1;32m<ipython-input-1-125b11716c6d>\u001b[0m in \u001b[0;36m<module>\u001b[1;34m\u001b[0m\n\u001b[0;32m     33\u001b[0m \u001b[1;33m\u001b[0m\u001b[0m\n\u001b[0;32m     34\u001b[0m \u001b[1;31m# This will raise error, no items left\u001b[0m\u001b[1;33m\u001b[0m\u001b[1;33m\u001b[0m\u001b[1;33m\u001b[0m\u001b[0m\n\u001b[1;32m---> 35\u001b[1;33m \u001b[0mnext\u001b[0m\u001b[1;33m(\u001b[0m\u001b[0mmy_iter\u001b[0m\u001b[1;33m)\u001b[0m\u001b[1;33m\u001b[0m\u001b[1;33m\u001b[0m\u001b[0m\n\u001b[0m",
      "\u001b[1;31mStopIteration\u001b[0m: "
     ]
    }
   ],
   "source": [
    "# Iterator in Python is simply an object that can be iterated upon. An object which will return data,\n",
    "# one element at a time.\n",
    "\n",
    "# Technically speaking, a Python iterator object must implement two special methods, __iter__() and __next__(), \n",
    "# collectively called the iterator protocol.\n",
    "\n",
    "# An object is called iterable if we can get an iterator from it. Most built-in containers in Python like: list, \n",
    "#     tuple, string etc. are iterables.\n",
    "\n",
    "# The iter() function (which in turn calls the __iter__() method) returns an iterator from them.\n",
    "\n",
    "# define a list\n",
    "my_list = [4, 7, 0, 3]\n",
    "\n",
    "# get an iterator using iter()\n",
    "my_iter = iter(my_list)\n",
    "\n",
    "# iterate through it using next()\n",
    "\n",
    "# Output: 4\n",
    "print(next(my_iter))\n",
    "\n",
    "# Output: 7\n",
    "print(next(my_iter))\n",
    "\n",
    "# next(obj) is same as obj.__next__()\n",
    "\n",
    "# Output: 0\n",
    "print(my_iter.__next__())\n",
    "\n",
    "# Output: 3\n",
    "print(my_iter.__next__())\n",
    "\n",
    "# This will raise error, no items left\n",
    "next(my_iter)"
   ]
  },
  {
   "cell_type": "code",
   "execution_count": 2,
   "metadata": {},
   "outputs": [
    {
     "name": "stdout",
     "output_type": "stream",
     "text": [
      "1\n",
      "2\n",
      "4\n",
      "8\n"
     ]
    },
    {
     "ename": "StopIteration",
     "evalue": "",
     "output_type": "error",
     "traceback": [
      "\u001b[1;31m---------------------------------------------------------------------------\u001b[0m",
      "\u001b[1;31mStopIteration\u001b[0m                             Traceback (most recent call last)",
      "\u001b[1;32m<ipython-input-2-e79078ee3bcd>\u001b[0m in \u001b[0;36m<module>\u001b[1;34m\u001b[0m\n\u001b[0;32m     30\u001b[0m \u001b[0mprint\u001b[0m\u001b[1;33m(\u001b[0m\u001b[0mnext\u001b[0m\u001b[1;33m(\u001b[0m\u001b[0mi\u001b[0m\u001b[1;33m)\u001b[0m\u001b[1;33m)\u001b[0m\u001b[1;33m\u001b[0m\u001b[1;33m\u001b[0m\u001b[0m\n\u001b[0;32m     31\u001b[0m \u001b[0mprint\u001b[0m\u001b[1;33m(\u001b[0m\u001b[0mnext\u001b[0m\u001b[1;33m(\u001b[0m\u001b[0mi\u001b[0m\u001b[1;33m)\u001b[0m\u001b[1;33m)\u001b[0m\u001b[1;33m\u001b[0m\u001b[1;33m\u001b[0m\u001b[0m\n\u001b[1;32m---> 32\u001b[1;33m \u001b[0mprint\u001b[0m\u001b[1;33m(\u001b[0m\u001b[0mnext\u001b[0m\u001b[1;33m(\u001b[0m\u001b[0mi\u001b[0m\u001b[1;33m)\u001b[0m\u001b[1;33m)\u001b[0m\u001b[1;33m\u001b[0m\u001b[1;33m\u001b[0m\u001b[0m\n\u001b[0m",
      "\u001b[1;32m<ipython-input-2-e79078ee3bcd>\u001b[0m in \u001b[0;36m__next__\u001b[1;34m(self)\u001b[0m\n\u001b[0;32m     16\u001b[0m             \u001b[1;32mreturn\u001b[0m \u001b[0mresult\u001b[0m\u001b[1;33m\u001b[0m\u001b[1;33m\u001b[0m\u001b[0m\n\u001b[0;32m     17\u001b[0m         \u001b[1;32melse\u001b[0m\u001b[1;33m:\u001b[0m\u001b[1;33m\u001b[0m\u001b[1;33m\u001b[0m\u001b[0m\n\u001b[1;32m---> 18\u001b[1;33m             \u001b[1;32mraise\u001b[0m \u001b[0mStopIteration\u001b[0m\u001b[1;33m\u001b[0m\u001b[1;33m\u001b[0m\u001b[0m\n\u001b[0m\u001b[0;32m     19\u001b[0m \u001b[1;33m\u001b[0m\u001b[0m\n\u001b[0;32m     20\u001b[0m \u001b[1;33m\u001b[0m\u001b[0m\n",
      "\u001b[1;31mStopIteration\u001b[0m: "
     ]
    }
   ],
   "source": [
    "class PowTwo:\n",
    "    \"\"\"Class to implement an iterator\n",
    "    of powers of two\"\"\"\n",
    "\n",
    "    def __init__(self, max=0):\n",
    "        self.max = max\n",
    "\n",
    "    def __iter__(self):\n",
    "        self.n = 0\n",
    "        return self\n",
    "\n",
    "    def __next__(self):\n",
    "        if self.n <= self.max:\n",
    "            result = 2 ** self.n\n",
    "            self.n += 1\n",
    "            return result\n",
    "        else:\n",
    "            raise StopIteration\n",
    "\n",
    "\n",
    "# create an object\n",
    "numbers = PowTwo(3)\n",
    "\n",
    "# create an iterable from the object\n",
    "i = iter(numbers)\n",
    "\n",
    "# Using next to get to the next iterator element\n",
    "print(next(i))\n",
    "print(next(i))\n",
    "print(next(i))\n",
    "print(next(i))\n",
    "print(next(i))"
   ]
  },
  {
   "cell_type": "code",
   "execution_count": 1,
   "metadata": {},
   "outputs": [],
   "source": [
    "# Built in Exceptions\n",
    "# runtime errors occur, Python creates an exception object. \n",
    "# If not handled properly, it prints a traceback to that error along with some details about why that error occurred."
   ]
  },
  {
   "cell_type": "code",
   "execution_count": 2,
   "metadata": {},
   "outputs": [
    {
     "name": "stdout",
     "output_type": "stream",
     "text": [
      "['ArithmeticError', 'AssertionError', 'AttributeError', 'BaseException', 'BlockingIOError', 'BrokenPipeError', 'BufferError', 'BytesWarning', 'ChildProcessError', 'ConnectionAbortedError', 'ConnectionError', 'ConnectionRefusedError', 'ConnectionResetError', 'DeprecationWarning', 'EOFError', 'Ellipsis', 'EnvironmentError', 'Exception', 'False', 'FileExistsError', 'FileNotFoundError', 'FloatingPointError', 'FutureWarning', 'GeneratorExit', 'IOError', 'ImportError', 'ImportWarning', 'IndentationError', 'IndexError', 'InterruptedError', 'IsADirectoryError', 'KeyError', 'KeyboardInterrupt', 'LookupError', 'MemoryError', 'ModuleNotFoundError', 'NameError', 'None', 'NotADirectoryError', 'NotImplemented', 'NotImplementedError', 'OSError', 'OverflowError', 'PendingDeprecationWarning', 'PermissionError', 'ProcessLookupError', 'RecursionError', 'ReferenceError', 'ResourceWarning', 'RuntimeError', 'RuntimeWarning', 'StopAsyncIteration', 'StopIteration', 'SyntaxError', 'SyntaxWarning', 'SystemError', 'SystemExit', 'TabError', 'TimeoutError', 'True', 'TypeError', 'UnboundLocalError', 'UnicodeDecodeError', 'UnicodeEncodeError', 'UnicodeError', 'UnicodeTranslateError', 'UnicodeWarning', 'UserWarning', 'ValueError', 'Warning', 'WindowsError', 'ZeroDivisionError', '__IPYTHON__', '__build_class__', '__debug__', '__doc__', '__import__', '__loader__', '__name__', '__package__', '__spec__', 'abs', 'all', 'any', 'ascii', 'bin', 'bool', 'breakpoint', 'bytearray', 'bytes', 'callable', 'chr', 'classmethod', 'compile', 'complex', 'copyright', 'credits', 'delattr', 'dict', 'dir', 'display', 'divmod', 'enumerate', 'eval', 'exec', 'filter', 'float', 'format', 'frozenset', 'get_ipython', 'getattr', 'globals', 'hasattr', 'hash', 'help', 'hex', 'id', 'input', 'int', 'isinstance', 'issubclass', 'iter', 'len', 'license', 'list', 'locals', 'map', 'max', 'memoryview', 'min', 'next', 'object', 'oct', 'open', 'ord', 'pow', 'print', 'property', 'range', 'repr', 'reversed', 'round', 'set', 'setattr', 'slice', 'sorted', 'staticmethod', 'str', 'sum', 'super', 'tuple', 'type', 'vars', 'zip']\n"
     ]
    }
   ],
   "source": [
    "print(dir(locals()['__builtins__']))\n",
    "\n",
    "# locals()['__builtins__'] will return a module of built-in exceptions, \n",
    "# functions, and attributes. dir allows us to list these attributes as strings."
   ]
  },
  {
   "cell_type": "code",
   "execution_count": 3,
   "metadata": {},
   "outputs": [],
   "source": [
    "# let us consider a program where we have a function A that calls function B, which in turn calls function C. \n",
    "# If an exception occurs in function C but is not handled in C, the exception passes to B and then to A."
   ]
  },
  {
   "cell_type": "code",
   "execution_count": 18,
   "metadata": {},
   "outputs": [
    {
     "name": "stdout",
     "output_type": "stream",
     "text": [
      "The entry is a\n",
      "Oops! (<class 'ValueError'>, ValueError(\"invalid literal for int() with base 10: 'a'\"), <traceback object at 0x000001D5D9F1E748>) occurred.\n",
      "Next entry.\n",
      "\n",
      "The entry is 0\n",
      "Oops! (<class 'ZeroDivisionError'>, ZeroDivisionError('division by zero'), <traceback object at 0x000001D5D9F1E748>) occurred.\n",
      "Next entry.\n",
      "\n",
      "The entry is 2\n",
      "The reciprocal of 2 is 0.5\n"
     ]
    }
   ],
   "source": [
    "# import module sys to get the type of exception\n",
    "import sys\n",
    "\n",
    "randomList = ['a', 0, 2]\n",
    "\n",
    "for entry in randomList:\n",
    "    try:\n",
    "        print(\"The entry is\", entry)\n",
    "        r = 1/int(entry)\n",
    "        break\n",
    "    except:\n",
    "        print(\"Oops!\", sys.exc_info(), \"occurred.\") # sys.exc_info()[0]\n",
    "        print(\"Next entry.\")\n",
    "        print()\n",
    "print(\"The reciprocal of\", entry, \"is\", r)\n",
    "\n",
    "# sys.exc_info()"
   ]
  },
  {
   "cell_type": "code",
   "execution_count": 6,
   "metadata": {},
   "outputs": [],
   "source": [
    "# we print the name of the exception using the exc_info() \n",
    "# function inside sys module. We can see that a causes ValueError and 0 causes ZeroDivisionError.\n",
    "\n",
    "# print(\"Oops!\", e.__class__, \"occurred.\")"
   ]
  },
  {
   "cell_type": "code",
   "execution_count": 7,
   "metadata": {},
   "outputs": [],
   "source": [
    "# try:\n",
    "#    # do something\n",
    "#    pass\n",
    "\n",
    "# except ValueError:\n",
    "#    # handle ValueError exception\n",
    "#    pass\n",
    "\n",
    "# except (TypeError, ZeroDivisionError):\n",
    "#    # handle multiple exceptions\n",
    "#    # TypeError and ZeroDivisionError\n",
    "#    pass\n",
    "\n",
    "# except:\n",
    "#    # handle all other exceptions\n",
    "#    pass"
   ]
  },
  {
   "cell_type": "code",
   "execution_count": 19,
   "metadata": {},
   "outputs": [
    {
     "name": "stdout",
     "output_type": "stream",
     "text": [
      "Enter a number: 6\n",
      "0.16666666666666666\n"
     ]
    }
   ],
   "source": [
    "# Python try with else clause\n",
    "# In some situations, you might want to run a certain block of code if the code block inside try ran without any errors.\n",
    "# For these cases, you can use the optional else keyword with the try statement\n",
    "\n",
    "# program to print the reciprocal of even numbers\n",
    "\n",
    "try:\n",
    "    num = int(input(\"Enter a number: \"))\n",
    "    assert num % 2 == 0\n",
    "except:\n",
    "    print(\"Not an even number!\")\n",
    "else:\n",
    "    reciprocal = 1/num\n",
    "    print(reciprocal)"
   ]
  },
  {
   "cell_type": "code",
   "execution_count": 10,
   "metadata": {},
   "outputs": [],
   "source": [
    "# The try statement in Python can have an optional finally clause. \n",
    "# This clause is executed no matter what, and is generally used to release external resources.\n",
    "\n",
    "# try:\n",
    "#     f = open(\"test.txt\",encoding = 'utf-8')\n",
    "#    # perform file operations\n",
    "# finally:\n",
    "#     f.close()"
   ]
  },
  {
   "cell_type": "code",
   "execution_count": 21,
   "metadata": {},
   "outputs": [
    {
     "name": "stdout",
     "output_type": "stream",
     "text": [
      "Enter a number: 6\n",
      "(<class '__main__.ValueTooSmallError'>, ValueTooSmallError(), <traceback object at 0x000001D5D9F1A9C8>)\n",
      "This value is too small, try again!\n",
      "\n",
      "Enter a number: 10\n",
      "Congratulations! You guessed it correctly.\n"
     ]
    }
   ],
   "source": [
    "# User defined Exceptions:\n",
    "# define Python user-defined exceptions\n",
    "class Error(Exception):\n",
    "    \"\"\"Base class for other exceptions\"\"\"\n",
    "    pass\n",
    "\n",
    "\n",
    "class ValueTooSmallError(Error):\n",
    "    \"\"\"Raised when the input value is too small\"\"\"\n",
    "    pass\n",
    "\n",
    "\n",
    "class ValueTooLargeError(Error):\n",
    "    \"\"\"Raised when the input value is too large\"\"\"\n",
    "    pass\n",
    "\n",
    "\n",
    "# you need to guess this number\n",
    "number = 10\n",
    "\n",
    "# user guesses a number until he/she gets it right\n",
    "while True:\n",
    "    try:\n",
    "        i_num = int(input(\"Enter a number: \"))\n",
    "        if i_num < number:\n",
    "            raise ValueTooSmallError\n",
    "        elif i_num > number:\n",
    "            raise ValueTooLargeError\n",
    "        break\n",
    "    except ValueTooSmallError:\n",
    "        print(sys.exc_info())\n",
    "        print(\"This value is too small, try again!\")\n",
    "        print()\n",
    "    except ValueTooLargeError:\n",
    "        print(\"This value is too large, try again!\")\n",
    "        print()\n",
    "\n",
    "print(\"Congratulations! You guessed it correctly.\")"
   ]
  },
  {
   "cell_type": "code",
   "execution_count": 23,
   "metadata": {},
   "outputs": [
    {
     "name": "stdout",
     "output_type": "stream",
     "text": [
      "Enter salary amount: 00\n"
     ]
    },
    {
     "ename": "SalaryNotInRangeError",
     "evalue": "Salary is not in (5000, 15000) range",
     "output_type": "error",
     "traceback": [
      "\u001b[1;31m---------------------------------------------------------------------------\u001b[0m",
      "\u001b[1;31mSalaryNotInRangeError\u001b[0m                     Traceback (most recent call last)",
      "\u001b[1;32m<ipython-input-23-f063747f6773>\u001b[0m in \u001b[0;36m<module>\u001b[1;34m\u001b[0m\n\u001b[0;32m     15\u001b[0m \u001b[0msalary\u001b[0m \u001b[1;33m=\u001b[0m \u001b[0mint\u001b[0m\u001b[1;33m(\u001b[0m\u001b[0minput\u001b[0m\u001b[1;33m(\u001b[0m\u001b[1;34m\"Enter salary amount: \"\u001b[0m\u001b[1;33m)\u001b[0m\u001b[1;33m)\u001b[0m\u001b[1;33m\u001b[0m\u001b[1;33m\u001b[0m\u001b[0m\n\u001b[0;32m     16\u001b[0m \u001b[1;32mif\u001b[0m \u001b[1;32mnot\u001b[0m \u001b[1;36m5000\u001b[0m \u001b[1;33m<\u001b[0m \u001b[0msalary\u001b[0m \u001b[1;33m<\u001b[0m \u001b[1;36m15000\u001b[0m\u001b[1;33m:\u001b[0m\u001b[1;33m\u001b[0m\u001b[1;33m\u001b[0m\u001b[0m\n\u001b[1;32m---> 17\u001b[1;33m     \u001b[1;32mraise\u001b[0m \u001b[0mSalaryNotInRangeError\u001b[0m\u001b[1;33m(\u001b[0m\u001b[1;33m)\u001b[0m\u001b[1;33m\u001b[0m\u001b[1;33m\u001b[0m\u001b[0m\n\u001b[0m",
      "\u001b[1;31mSalaryNotInRangeError\u001b[0m: Salary is not in (5000, 15000) range"
     ]
    }
   ],
   "source": [
    "class SalaryNotInRangeError(Exception):\n",
    "    \"\"\"Exception raised for errors in the input salary.\n",
    "\n",
    "    Attributes:\n",
    "        salary -- input salary which caused the error\n",
    "        message -- explanation of the error\n",
    "    \"\"\"\n",
    "\n",
    "    def __init__(self, message=\"Salary is not in (5000, 15000) range\"):\n",
    "#         self.salary = salary\n",
    "        self.message = message\n",
    "        super().__init__(self.message)\n",
    "\n",
    "\n",
    "salary = int(input(\"Enter salary amount: \"))\n",
    "if not 5000 < salary < 15000:\n",
    "    raise SalaryNotInRangeError()"
   ]
  },
  {
   "cell_type": "code",
   "execution_count": 24,
   "metadata": {},
   "outputs": [
    {
     "name": "stdout",
     "output_type": "stream",
     "text": [
      "Enter salary amount: 9\n"
     ]
    },
    {
     "ename": "SalaryNotInRangeError",
     "evalue": "9 -> Salary is not in (5000, 15000) range",
     "output_type": "error",
     "traceback": [
      "\u001b[1;31m---------------------------------------------------------------------------\u001b[0m",
      "\u001b[1;31mSalaryNotInRangeError\u001b[0m                     Traceback (most recent call last)",
      "\u001b[1;32m<ipython-input-24-c454c1331524>\u001b[0m in \u001b[0;36m<module>\u001b[1;34m\u001b[0m\n\u001b[0;32m     18\u001b[0m \u001b[0msalary\u001b[0m \u001b[1;33m=\u001b[0m \u001b[0mint\u001b[0m\u001b[1;33m(\u001b[0m\u001b[0minput\u001b[0m\u001b[1;33m(\u001b[0m\u001b[1;34m\"Enter salary amount: \"\u001b[0m\u001b[1;33m)\u001b[0m\u001b[1;33m)\u001b[0m\u001b[1;33m\u001b[0m\u001b[1;33m\u001b[0m\u001b[0m\n\u001b[0;32m     19\u001b[0m \u001b[1;32mif\u001b[0m \u001b[1;32mnot\u001b[0m \u001b[1;36m5000\u001b[0m \u001b[1;33m<\u001b[0m \u001b[0msalary\u001b[0m \u001b[1;33m<\u001b[0m \u001b[1;36m15000\u001b[0m\u001b[1;33m:\u001b[0m\u001b[1;33m\u001b[0m\u001b[1;33m\u001b[0m\u001b[0m\n\u001b[1;32m---> 20\u001b[1;33m     \u001b[1;32mraise\u001b[0m \u001b[0mSalaryNotInRangeError\u001b[0m\u001b[1;33m(\u001b[0m\u001b[0msalary\u001b[0m\u001b[1;33m)\u001b[0m\u001b[1;33m\u001b[0m\u001b[1;33m\u001b[0m\u001b[0m\n\u001b[0m",
      "\u001b[1;31mSalaryNotInRangeError\u001b[0m: 9 -> Salary is not in (5000, 15000) range"
     ]
    }
   ],
   "source": [
    "class SalaryNotInRangeError(Exception):\n",
    "    \"\"\"Exception raised for errors in the input salary.\n",
    "\n",
    "    Attributes:\n",
    "        salary -- input salary which caused the error\n",
    "        message -- explanation of the error\n",
    "    \"\"\"\n",
    "\n",
    "    def __init__(self, salary, message=\"Salary is not in (5000, 15000) range\"):\n",
    "        self.salary = salary\n",
    "        self.message = message\n",
    "        super().__init__(self.message)\n",
    "\n",
    "    def __str__(self):\n",
    "        return f'{self.salary} -> {self.message}'\n",
    "\n",
    "\n",
    "salary = int(input(\"Enter salary amount: \"))\n",
    "if not 5000 < salary < 15000:\n",
    "    raise SalaryNotInRangeError(salary)"
   ]
  },
  {
   "cell_type": "code",
   "execution_count": 14,
   "metadata": {},
   "outputs": [],
   "source": [
    "# In above using to print message using __str__"
   ]
  },
  {
   "cell_type": "code",
   "execution_count": 15,
   "metadata": {},
   "outputs": [],
   "source": [
    "# Runtime Services :\n"
   ]
  },
  {
   "cell_type": "code",
   "execution_count": 16,
   "metadata": {},
   "outputs": [],
   "source": [
    "# 1. Why use Abstract Base Classes?\n",
    "# Abstract base classes are a form of interface checking more strict than individual hasattr() checks for particular methods.\n",
    "# By defining an abstract base class, a common API can be established for a set of subclasses. This capability is especially \n",
    "# useful in situations where someone less familiar with the source for an application is going to provide plug-in extensions,\n",
    "# but can \n",
    "# also help\n",
    "# when working on a large team or with a\n",
    "# large code-base where keeping track of all of the classes at the same time is difficult or not possible."
   ]
  },
  {
   "cell_type": "code",
   "execution_count": 2,
   "metadata": {},
   "outputs": [],
   "source": [
    "import abc\n",
    "\n",
    "\n",
    "class PluginBase(metaclass=abc.ABCMeta):\n",
    "\n",
    "    @abc.abstractmethod\n",
    "    def load(self, input):\n",
    "        \"\"\"Retrieve data from the input source\n",
    "        and return an object.\n",
    "        \"\"\"\n",
    "\n",
    "    @abc.abstractmethod\n",
    "    def save(self, output, data):\n",
    "        \"\"\"Save the data object to the output.\"\"\""
   ]
  },
  {
   "cell_type": "code",
   "execution_count": 18,
   "metadata": {},
   "outputs": [],
   "source": [
    "# There are two ways to indicate that a concrete class implements an abstract API: either explicitly register the class or \n",
    "# create a new subclass directly from the abstract base. \n",
    "# Use the register() class method as a decorator on a concrete class to add it explicitly when the \n",
    "# class provides the required API, \n",
    "# but is not part of the inheritance tree of the abstract base class."
   ]
  },
  {
   "cell_type": "code",
   "execution_count": null,
   "metadata": {},
   "outputs": [],
   "source": []
  },
  {
   "cell_type": "code",
   "execution_count": 5,
   "metadata": {},
   "outputs": [
    {
     "name": "stdout",
     "output_type": "stream",
     "text": [
      "Subclass: True\n",
      "Instance: True\n"
     ]
    }
   ],
   "source": [
    "import abc\n",
    "\n",
    "\n",
    "class LocalBaseClass:\n",
    "    pass\n",
    "\n",
    "\n",
    "@PluginBase.register\n",
    "class RegisteredImplementation(LocalBaseClass):\n",
    "\n",
    "    def load(self, input):\n",
    "        return input.read()\n",
    "\n",
    "    def save(self, output, data):\n",
    "        return output.write(data)\n",
    "\n",
    "\n",
    "if __name__ == '__main__':\n",
    "    print('Subclass:', issubclass(RegisteredImplementation,\n",
    "                                  PluginBase))\n",
    "    print('Instance:', isinstance(RegisteredImplementation(),\n",
    "                                  PluginBase))"
   ]
  },
  {
   "cell_type": "code",
   "execution_count": 6,
   "metadata": {},
   "outputs": [
    {
     "name": "stdout",
     "output_type": "stream",
     "text": [
      "Subclass: True\n",
      "Instance: True\n"
     ]
    }
   ],
   "source": [
    "import abc\n",
    "\n",
    "class SubclassImplementation(PluginBase): # without registering\n",
    "\n",
    "    def load(self, input):\n",
    "        return input.read()\n",
    "\n",
    "    def save(self, output, data):\n",
    "        return output.write(data)\n",
    "\n",
    "\n",
    "if __name__ == '__main__':\n",
    "    print('Subclass:', issubclass(SubclassImplementation,\n",
    "                                  PluginBase))\n",
    "    print('Instance:', isinstance(SubclassImplementation(),\n",
    "                                  PluginBase))"
   ]
  },
  {
   "cell_type": "code",
   "execution_count": 7,
   "metadata": {},
   "outputs": [],
   "source": [
    "# Another benefit of subclassing directly from the abstract base class is that the subclass cannot be instantiated unless \n",
    "# it fully implements the abstract portion of the API"
   ]
  },
  {
   "cell_type": "code",
   "execution_count": 8,
   "metadata": {},
   "outputs": [],
   "source": [
    "# os module"
   ]
  },
  {
   "cell_type": "code",
   "execution_count": 16,
   "metadata": {},
   "outputs": [
    {
     "name": "stdout",
     "output_type": "stream",
     "text": [
      "Directory Names: C:\\Users\\sachin.b.prakash\\TFS-ProcessManager\\Sprints\\Sprint9\n",
      "sub directory: ['destination', 'source', '__pycache__']\n",
      "its content ['CodeReview-SmartTask_ResourceLocking.xlsx', 'CodeReview-email_actions.xlsx', 'DateTimeConversion.docx', 'NumberFunctionCommand.docx', 'StringReplaceCommand.docx', '__pycache__/', 'copy_packages_test.py', 'date_conversion2.py', 'date_conversion_test.py', 'destination/', 'environment_test.py', 'excel_manager.py', 'file structure.zip', 'number_function_command.py', 'number_to_string_command.py', 'process_component_test.py', 'source/', 'test.py', 'test2.py']\n",
      "  CodeReview-SmartTask_ResourceLocking.xlsx\n",
      "  CodeReview-email_actions.xlsx\n",
      "  DateTimeConversion.docx\n",
      "  NumberFunctionCommand.docx\n",
      "  StringReplaceCommand.docx\n",
      "  __pycache__/\n",
      "  copy_packages_test.py\n",
      "  date_conversion2.py\n",
      "  date_conversion_test.py\n",
      "  destination/\n",
      "  environment_test.py\n",
      "  excel_manager.py\n",
      "  file structure.zip\n",
      "  number_function_command.py\n",
      "  number_to_string_command.py\n",
      "  process_component_test.py\n",
      "  source/\n",
      "  test.py\n",
      "  test2.py\n",
      "\n",
      "Directory Names: C:\\Users\\sachin.b.prakash\\TFS-ProcessManager\\Sprints\\Sprint9\\destination\n",
      "sub directory: ['business_rule', 'numpy', 'numpy-1.19.2.dist-info', 'requests', 'resource_locking']\n",
      "its content ['business_rule/', 'numpy-1.19.2.dist-info/', 'numpy/', 'requests/', 'resource_locking/']\n",
      "  business_rule/\n",
      "  numpy-1.19.2.dist-info/\n",
      "  numpy/\n",
      "  requests/\n",
      "  resource_locking/\n",
      "\n",
      "Directory Names: C:\\Users\\sachin.b.prakash\\TFS-ProcessManager\\Sprints\\Sprint9\\destination\\business_rule\n",
      "sub directory: []\n",
      "its content []\n",
      "\n",
      "Directory Names: C:\\Users\\sachin.b.prakash\\TFS-ProcessManager\\Sprints\\Sprint9\\destination\\numpy\n",
      "sub directory: []\n",
      "its content ['New Text Document.txt']\n",
      "  New Text Document.txt\n",
      "\n",
      "Directory Names: C:\\Users\\sachin.b.prakash\\TFS-ProcessManager\\Sprints\\Sprint9\\destination\\numpy-1.19.2.dist-info\n",
      "sub directory: []\n",
      "its content ['New Bitmap Image.bmp']\n",
      "  New Bitmap Image.bmp\n",
      "\n",
      "Directory Names: C:\\Users\\sachin.b.prakash\\TFS-ProcessManager\\Sprints\\Sprint9\\destination\\requests\n",
      "sub directory: []\n",
      "its content []\n",
      "\n",
      "Directory Names: C:\\Users\\sachin.b.prakash\\TFS-ProcessManager\\Sprints\\Sprint9\\destination\\resource_locking\n",
      "sub directory: []\n",
      "its content []\n",
      "\n",
      "Directory Names: C:\\Users\\sachin.b.prakash\\TFS-ProcessManager\\Sprints\\Sprint9\\source\n",
      "sub directory: ['business_rule', 'business_rule2', 'email_activities', 'excel_activities', 'framework_1.1', 'idna_3.1', 'numpy_1.19.2', 'process_commands_1.1', 'queue_manager_1.1', 'requests_2.24', 'resource_locking_1.1', 'runtime_variablecomputation_command_1.1', 'run_time_lib_command_1.1', 'urllib3_1.26.3']\n",
      "its content ['business_rule/', 'business_rule2/', 'email_activities/', 'excel_activities/', 'framework_1.1/', 'idna_3.1/', 'numpy_1.19.2/', 'process_commands_1.1/', 'queue_manager_1.1/', 'requests_2.24/', 'resource_locking_1.1/', 'run_time_lib_command_1.1/', 'runtime_variablecomputation_command_1.1/', 'urllib3_1.26.3/']\n",
      "  business_rule/\n",
      "  business_rule2/\n",
      "  email_activities/\n",
      "  excel_activities/\n",
      "  framework_1.1/\n",
      "  idna_3.1/\n",
      "  numpy_1.19.2/\n",
      "  process_commands_1.1/\n",
      "  queue_manager_1.1/\n",
      "  requests_2.24/\n",
      "  resource_locking_1.1/\n",
      "  run_time_lib_command_1.1/\n",
      "  runtime_variablecomputation_command_1.1/\n",
      "  urllib3_1.26.3/\n",
      "\n",
      "Directory Names: C:\\Users\\sachin.b.prakash\\TFS-ProcessManager\\Sprints\\Sprint9\\source\\business_rule\n",
      "sub directory: ['Personel_Lines_Home_Quotes']\n",
      "its content ['Personel_Lines_Home_Quotes/']\n",
      "  Personel_Lines_Home_Quotes/\n",
      "\n",
      "Directory Names: C:\\Users\\sachin.b.prakash\\TFS-ProcessManager\\Sprints\\Sprint9\\source\\business_rule\\Personel_Lines_Home_Quotes\n",
      "sub directory: ['Personel_Lines_Home_Quotes']\n",
      "its content ['New Text Document.txt', 'Personel_Lines_Home_Quotes/']\n",
      "  New Text Document.txt\n",
      "  Personel_Lines_Home_Quotes/\n",
      "\n",
      "Directory Names: C:\\Users\\sachin.b.prakash\\TFS-ProcessManager\\Sprints\\Sprint9\\source\\business_rule\\Personel_Lines_Home_Quotes\\Personel_Lines_Home_Quotes\n",
      "sub directory: []\n",
      "its content []\n",
      "\n",
      "Directory Names: C:\\Users\\sachin.b.prakash\\TFS-ProcessManager\\Sprints\\Sprint9\\source\\business_rule2\n",
      "sub directory: []\n",
      "its content []\n",
      "\n",
      "Directory Names: C:\\Users\\sachin.b.prakash\\TFS-ProcessManager\\Sprints\\Sprint9\\source\\email_activities\n",
      "sub directory: []\n",
      "its content []\n",
      "\n",
      "Directory Names: C:\\Users\\sachin.b.prakash\\TFS-ProcessManager\\Sprints\\Sprint9\\source\\excel_activities\n",
      "sub directory: []\n",
      "its content []\n",
      "\n",
      "Directory Names: C:\\Users\\sachin.b.prakash\\TFS-ProcessManager\\Sprints\\Sprint9\\source\\framework_1.1\n",
      "sub directory: ['framework']\n",
      "its content ['Sample.txt', 'framework/']\n",
      "  Sample.txt\n",
      "  framework/\n",
      "\n",
      "Directory Names: C:\\Users\\sachin.b.prakash\\TFS-ProcessManager\\Sprints\\Sprint9\\source\\framework_1.1\\framework\n",
      "sub directory: []\n",
      "its content []\n",
      "\n",
      "Directory Names: C:\\Users\\sachin.b.prakash\\TFS-ProcessManager\\Sprints\\Sprint9\\source\\idna_3.1\n",
      "sub directory: ['idna']\n",
      "its content ['Sample.txt', 'idna/']\n",
      "  Sample.txt\n",
      "  idna/\n",
      "\n",
      "Directory Names: C:\\Users\\sachin.b.prakash\\TFS-ProcessManager\\Sprints\\Sprint9\\source\\idna_3.1\\idna\n",
      "sub directory: []\n",
      "its content []\n",
      "\n",
      "Directory Names: C:\\Users\\sachin.b.prakash\\TFS-ProcessManager\\Sprints\\Sprint9\\source\\numpy_1.19.2\n",
      "sub directory: ['numpy', 'numpy-1.19.2.dist-info']\n",
      "its content ['numpy-1.19.2.dist-info/', 'numpy/']\n",
      "  numpy-1.19.2.dist-info/\n",
      "  numpy/\n",
      "\n",
      "Directory Names: C:\\Users\\sachin.b.prakash\\TFS-ProcessManager\\Sprints\\Sprint9\\source\\numpy_1.19.2\\numpy\n",
      "sub directory: []\n",
      "its content ['New Text Document.txt']\n",
      "  New Text Document.txt\n",
      "\n",
      "Directory Names: C:\\Users\\sachin.b.prakash\\TFS-ProcessManager\\Sprints\\Sprint9\\source\\numpy_1.19.2\\numpy-1.19.2.dist-info\n",
      "sub directory: []\n",
      "its content ['New Bitmap Image.bmp']\n",
      "  New Bitmap Image.bmp\n",
      "\n",
      "Directory Names: C:\\Users\\sachin.b.prakash\\TFS-ProcessManager\\Sprints\\Sprint9\\source\\process_commands_1.1\n",
      "sub directory: ['process_commands']\n",
      "its content ['Sample.txt', 'process_commands/']\n",
      "  Sample.txt\n",
      "  process_commands/\n",
      "\n",
      "Directory Names: C:\\Users\\sachin.b.prakash\\TFS-ProcessManager\\Sprints\\Sprint9\\source\\process_commands_1.1\\process_commands\n",
      "sub directory: []\n",
      "its content []\n",
      "\n",
      "Directory Names: C:\\Users\\sachin.b.prakash\\TFS-ProcessManager\\Sprints\\Sprint9\\source\\queue_manager_1.1\n",
      "sub directory: ['queue_manager']\n",
      "its content ['Sample.txt', 'queue_manager/']\n",
      "  Sample.txt\n",
      "  queue_manager/\n",
      "\n",
      "Directory Names: C:\\Users\\sachin.b.prakash\\TFS-ProcessManager\\Sprints\\Sprint9\\source\\queue_manager_1.1\\queue_manager\n",
      "sub directory: []\n",
      "its content []\n",
      "\n",
      "Directory Names: C:\\Users\\sachin.b.prakash\\TFS-ProcessManager\\Sprints\\Sprint9\\source\\requests_2.24\n",
      "sub directory: ['requests']\n",
      "its content ['Sample.txt', 'requests/']\n",
      "  Sample.txt\n",
      "  requests/\n",
      "\n",
      "Directory Names: C:\\Users\\sachin.b.prakash\\TFS-ProcessManager\\Sprints\\Sprint9\\source\\requests_2.24\\requests\n",
      "sub directory: []\n",
      "its content []\n",
      "\n",
      "Directory Names: C:\\Users\\sachin.b.prakash\\TFS-ProcessManager\\Sprints\\Sprint9\\source\\resource_locking_1.1\n",
      "sub directory: ['resource_locking']\n",
      "its content ['Sample.txt', 'resource_locking/']\n",
      "  Sample.txt\n",
      "  resource_locking/\n",
      "\n",
      "Directory Names: C:\\Users\\sachin.b.prakash\\TFS-ProcessManager\\Sprints\\Sprint9\\source\\resource_locking_1.1\\resource_locking\n",
      "sub directory: []\n",
      "its content []\n",
      "\n",
      "Directory Names: C:\\Users\\sachin.b.prakash\\TFS-ProcessManager\\Sprints\\Sprint9\\source\\runtime_variablecomputation_command_1.1\n",
      "sub directory: ['runtime_variablecomputation_command']\n",
      "its content ['Sample.txt', 'runtime_variablecomputation_command/']\n",
      "  Sample.txt\n",
      "  runtime_variablecomputation_command/\n",
      "\n",
      "Directory Names: C:\\Users\\sachin.b.prakash\\TFS-ProcessManager\\Sprints\\Sprint9\\source\\runtime_variablecomputation_command_1.1\\runtime_variablecomputation_command\n",
      "sub directory: []\n",
      "its content []\n",
      "\n",
      "Directory Names: C:\\Users\\sachin.b.prakash\\TFS-ProcessManager\\Sprints\\Sprint9\\source\\run_time_lib_command_1.1\n",
      "sub directory: ['run_time_lib_command']\n",
      "its content ['Sample.txt', 'run_time_lib_command/']\n",
      "  Sample.txt\n",
      "  run_time_lib_command/\n",
      "\n",
      "Directory Names: C:\\Users\\sachin.b.prakash\\TFS-ProcessManager\\Sprints\\Sprint9\\source\\run_time_lib_command_1.1\\run_time_lib_command\n",
      "sub directory: []\n",
      "its content []\n",
      "\n",
      "Directory Names: C:\\Users\\sachin.b.prakash\\TFS-ProcessManager\\Sprints\\Sprint9\\source\\urllib3_1.26.3\n",
      "sub directory: ['urllib']\n",
      "its content ['Sample.txt', 'urllib/']\n",
      "  Sample.txt\n",
      "  urllib/\n",
      "\n",
      "Directory Names: C:\\Users\\sachin.b.prakash\\TFS-ProcessManager\\Sprints\\Sprint9\\source\\urllib3_1.26.3\\urllib\n",
      "sub directory: []\n",
      "its content []\n",
      "\n",
      "Directory Names: C:\\Users\\sachin.b.prakash\\TFS-ProcessManager\\Sprints\\Sprint9\\__pycache__\n",
      "sub directory: []\n",
      "its content ['environment_test.cpython-36.pyc', 'number_to_string_command.cpython-36.pyc', 'test2.cpython-36.pyc']\n",
      "  environment_test.cpython-36.pyc\n",
      "  number_to_string_command.cpython-36.pyc\n",
      "  test2.cpython-36.pyc\n",
      "\n"
     ]
    }
   ],
   "source": [
    "# os.walk The function walk() traverses a directory recursively and for each subdirectory generates\n",
    "# a tuple containing the directory path, \n",
    "# any immediate sub-directories of that path, and a list of the names of any files in that directory.\n",
    "import os\n",
    "\n",
    "root = r'C:\\Users\\sachin.b.prakash\\TFS-ProcessManager\\Sprints\\Sprint9'\n",
    "\n",
    "for dir_name, sub_dirs, files in os.walk(root):\n",
    "    print(\"Directory Names:\",dir_name)\n",
    "    print(\"sub directory:\",sub_dirs)\n",
    "#     print(\"files\",files)\n",
    "    # Make the subdirectory names stand out with /\n",
    "    sub_dirs = [n + '/' for n in sub_dirs]\n",
    "    # Mix the directory contents together\n",
    "    contents = sub_dirs + files\n",
    "    contents.sort()\n",
    "    print(\"its content\",contents)\n",
    "    # Show the contents\n",
    "    for c in contents:\n",
    "        print('  {}'.format(c))\n",
    "    print()"
   ]
  },
  {
   "cell_type": "code",
   "execution_count": 22,
   "metadata": {},
   "outputs": [
    {
     "ename": "NameError",
     "evalue": "name '__file__' is not defined",
     "output_type": "error",
     "traceback": [
      "\u001b[1;31m---------------------------------------------------------------------------\u001b[0m",
      "\u001b[1;31mNameError\u001b[0m                                 Traceback (most recent call last)",
      "\u001b[1;32m<ipython-input-22-c969db0b2222>\u001b[0m in \u001b[0;36m<module>\u001b[1;34m\u001b[0m\n\u001b[0;32m      1\u001b[0m \u001b[1;31m# os.access : to check access of the file\u001b[0m\u001b[1;33m\u001b[0m\u001b[1;33m\u001b[0m\u001b[1;33m\u001b[0m\u001b[0m\n\u001b[0;32m      2\u001b[0m \u001b[1;33m\u001b[0m\u001b[0m\n\u001b[1;32m----> 3\u001b[1;33m \u001b[0mprint\u001b[0m\u001b[1;33m(\u001b[0m\u001b[1;34m'Testing:'\u001b[0m\u001b[1;33m,\u001b[0m \u001b[0m__file__\u001b[0m\u001b[1;33m)\u001b[0m\u001b[1;33m\u001b[0m\u001b[1;33m\u001b[0m\u001b[0m\n\u001b[0m\u001b[0;32m      4\u001b[0m \u001b[0mprint\u001b[0m\u001b[1;33m(\u001b[0m\u001b[1;34m'Exists:'\u001b[0m\u001b[1;33m,\u001b[0m \u001b[0mos\u001b[0m\u001b[1;33m.\u001b[0m\u001b[0maccess\u001b[0m\u001b[1;33m(\u001b[0m\u001b[0m__file__\u001b[0m\u001b[1;33m,\u001b[0m \u001b[0mos\u001b[0m\u001b[1;33m.\u001b[0m\u001b[0mF_OK\u001b[0m\u001b[1;33m)\u001b[0m\u001b[1;33m)\u001b[0m\u001b[1;33m\u001b[0m\u001b[1;33m\u001b[0m\u001b[0m\n\u001b[0;32m      5\u001b[0m \u001b[0mprint\u001b[0m\u001b[1;33m(\u001b[0m\u001b[1;34m'Readable:'\u001b[0m\u001b[1;33m,\u001b[0m \u001b[0mos\u001b[0m\u001b[1;33m.\u001b[0m\u001b[0maccess\u001b[0m\u001b[1;33m(\u001b[0m\u001b[0m__file__\u001b[0m\u001b[1;33m,\u001b[0m \u001b[0mos\u001b[0m\u001b[1;33m.\u001b[0m\u001b[0mR_OK\u001b[0m\u001b[1;33m)\u001b[0m\u001b[1;33m)\u001b[0m\u001b[1;33m\u001b[0m\u001b[1;33m\u001b[0m\u001b[0m\n",
      "\u001b[1;31mNameError\u001b[0m: name '__file__' is not defined"
     ]
    }
   ],
   "source": [
    "# os.access : to check access of the file\n",
    "\n",
    "print('Testing:', __file__)\n",
    "print('Exists:', os.access(__file__, os.F_OK))\n",
    "print('Readable:', os.access(__file__, os.R_OK))\n",
    "print('Writable:', os.access(__file__, os.W_OK))\n",
    "print('Executable:', os.access(__file__, os.X_OK))"
   ]
  },
  {
   "cell_type": "code",
   "execution_count": 26,
   "metadata": {},
   "outputs": [
    {
     "name": "stdout",
     "output_type": "stream",
     "text": [
      "Creating C:\\Users\\sachin.b.prakash\\TFS-ProcessManager\\Sprints\\Sprint9\\os_directories_example2\n",
      "Creating C:\\Users\\sachin.b.prakash\\TFS-ProcessManager\\Sprints\\Sprint9\\os_directories_example2\\example.txt\n",
      "Cleaning up\n"
     ]
    }
   ],
   "source": [
    "dir_name = r'C:\\Users\\sachin.b.prakash\\TFS-ProcessManager\\Sprints\\Sprint9\\os_directories_example2'\n",
    "\n",
    "print('Creating', dir_name)\n",
    "os.makedirs(dir_name)\n",
    "\n",
    "file_name = os.path.join(dir_name, 'example.txt')\n",
    "print('Creating', file_name)\n",
    "with open(file_name, 'wt') as f:\n",
    "    f.write('example file')\n",
    "\n",
    "print('Cleaning up')\n",
    "os.unlink(file_name)\n",
    "os.rmdir(dir_name)"
   ]
  },
  {
   "cell_type": "code",
   "execution_count": 27,
   "metadata": {},
   "outputs": [],
   "source": [
    "# There are two sets of functions for creating and deleting directories. When creating a new directory \n",
    "# with mkdir(), all of the parent directories must already exist. When removing a directory with rmdir(),\n",
    "# only the leaf directory (the last part of the path) is actually removed. In contrast, makedirs() and removedirs() \n",
    "# operate on all of the nodes in the path. makedirs() will create any parts of the path that do not exist, \n",
    "# and removedirs() will remove all of the parent directories, as long as they are empty"
   ]
  },
  {
   "cell_type": "code",
   "execution_count": 29,
   "metadata": {},
   "outputs": [
    {
     "name": "stdout",
     "output_type": "stream",
     "text": [
      "Starting: ['rename_start.txt']\n",
      "After rename: ['rename_finish.txt']\n",
      "Contents: 'starting as rename_start.txt'\n",
      "After replace: 'ending with contents of rename_new_contents.txt'\n"
     ]
    }
   ],
   "source": [
    "# renaming and replacing :\n",
    "import glob\n",
    "with open('rename_start.txt', 'w') as f:\n",
    "    f.write('starting as rename_start.txt')\n",
    "\n",
    "print('Starting:', glob.glob('rename*.txt'))\n",
    "\n",
    "os.rename('rename_start.txt', 'rename_finish.txt')\n",
    "\n",
    "print('After rename:', glob.glob('rename*.txt'))\n",
    "\n",
    "with open('rename_finish.txt', 'r') as f:\n",
    "    print('Contents:', repr(f.read()))\n",
    "\n",
    "with open('rename_new_contents.txt', 'w') as f:\n",
    "    f.write('ending with contents of rename_new_contents.txt')\n",
    "\n",
    "os.replace('rename_new_contents.txt', 'rename_finish.txt')\n",
    "\n",
    "with open('rename_finish.txt', 'r') as f:\n",
    "    print('After replace:', repr(f.read()))\n",
    "\n",
    "for name in glob.glob('rename*.txt'):\n",
    "    os.unlink(name)"
   ]
  },
  {
   "cell_type": "code",
   "execution_count": 30,
   "metadata": {},
   "outputs": [
    {
     "name": "stdout",
     "output_type": "stream",
     "text": [
      "Initial value: None\n",
      "Child process:\n",
      "\n",
      "Changed value: THIS VALUE WAS CHANGED\n",
      "Child process:\n",
      "\n",
      "Removed value: None\n",
      "Child process:\n"
     ]
    },
    {
     "data": {
      "text/plain": [
       "0"
      ]
     },
     "execution_count": 30,
     "metadata": {},
     "output_type": "execute_result"
    }
   ],
   "source": [
    "# Managing the process environment\n",
    "print('Initial value:', os.environ.get('TESTVAR', None))\n",
    "print('Child process:')\n",
    "os.system('echo $TESTVAR')\n",
    "\n",
    "os.environ['TESTVAR'] = 'THIS VALUE WAS CHANGED'\n",
    "\n",
    "print()\n",
    "print('Changed value:', os.environ['TESTVAR'])\n",
    "print('Child process:')\n",
    "os.system('echo $TESTVAR')\n",
    "\n",
    "del os.environ['TESTVAR']\n",
    "\n",
    "print()\n",
    "print('Removed value:', os.environ.get('TESTVAR', None))\n",
    "print('Child process:')\n",
    "os.system('echo $TESTVAR')"
   ]
  },
  {
   "cell_type": "code",
   "execution_count": 25,
   "metadata": {},
   "outputs": [
    {
     "name": "stdout",
     "output_type": "stream",
     "text": [
      "environ({'ALLUSERSPROFILE': 'C:\\\\ProgramData', 'APPDATA': 'C:\\\\Users\\\\sachin.b.prakash\\\\AppData\\\\Roaming', 'COMMONPROGRAMFILES': 'C:\\\\Program Files\\\\Common Files', 'COMMONPROGRAMFILES(X86)': 'C:\\\\Program Files (x86)\\\\Common Files', 'COMMONPROGRAMW6432': 'C:\\\\Program Files\\\\Common Files', 'COMPUTERNAME': 'BDC6-LX-6296H1W', 'COMSPEC': 'C:\\\\WINDOWS\\\\system32\\\\cmd.exe', 'CONTROLROOMUSERPASSWORD': 'Seventy@1995$$', 'DRIVERDATA': 'C:\\\\Windows\\\\System32\\\\Drivers\\\\DriverData', 'FPS_BROWSER_APP_PROFILE_STRING': 'Internet Explorer', 'FPS_BROWSER_USER_PROFILE_STRING': 'Default', 'HOMEDRIVE': 'C:', 'HOMEPATH': '\\\\Users\\\\sachin.b.prakash', 'LOCALAPPDATA': 'C:\\\\Users\\\\sachin.b.prakash\\\\AppData\\\\Local', 'LOGONSERVER': '\\\\\\\\SGPDC3214', 'NUMBER_OF_PROCESSORS': '4', 'ONEDRIVE': 'C:\\\\Users\\\\sachin.b.prakash\\\\OneDrive - Accenture', 'ONEDRIVECOMMERCIAL': 'C:\\\\Users\\\\sachin.b.prakash\\\\OneDrive - Accenture', 'OS': 'Windows_NT', 'PATH': 'C:\\\\Users\\\\sachin.b.prakash\\\\AppData\\\\Local\\\\Continuum\\\\anaconda3;C:\\\\Users\\\\sachin.b.prakash\\\\AppData\\\\Local\\\\Continuum\\\\anaconda3\\\\Library\\\\mingw-w64\\\\bin;C:\\\\Users\\\\sachin.b.prakash\\\\AppData\\\\Local\\\\Continuum\\\\anaconda3\\\\Library\\\\usr\\\\bin;C:\\\\Users\\\\sachin.b.prakash\\\\AppData\\\\Local\\\\Continuum\\\\anaconda3\\\\Library\\\\bin;C:\\\\Users\\\\sachin.b.prakash\\\\AppData\\\\Local\\\\Continuum\\\\anaconda3\\\\Scripts;C:\\\\Program Files\\\\Broadcom\\\\Broadcom 802.11 Network Adapter;C:\\\\WINDOWS\\\\system32;C:\\\\WINDOWS;C:\\\\WINDOWS\\\\System32\\\\Wbem;C:\\\\WINDOWS\\\\System32\\\\WindowsPowerShell\\\\v1.0\\\\;C:\\\\WINDOWS\\\\System32\\\\OpenSSH\\\\;C:\\\\Program Files\\\\Microsoft SQL Server\\\\Client SDK\\\\ODBC\\\\170\\\\Tools\\\\Binn\\\\;C:\\\\Program Files (x86)\\\\Microsoft SQL Server\\\\150\\\\Tools\\\\Binn\\\\;C:\\\\Program Files\\\\Microsoft SQL Server\\\\150\\\\Tools\\\\Binn\\\\;C:\\\\Program Files\\\\Microsoft SQL Server\\\\150\\\\DTS\\\\Binn\\\\;C:\\\\Program Files (x86)\\\\Microsoft SQL Server\\\\150\\\\DTS\\\\Binn\\\\;C:\\\\Users\\\\sachin.b.prakash\\\\Python\\\\Python36;C:\\\\Users\\\\sachin.b.prakash\\\\AppData\\\\Local\\\\Programs\\\\Git\\\\cmd;C:\\\\Users\\\\sachin.b.prakash\\\\AppData\\\\Local\\\\Programs\\\\Git\\\\bin;C:\\\\Program Files (x86)\\\\Common Files\\\\Pulse Secure\\\\VC142.CRT\\\\X64\\\\;C:\\\\Program Files (x86)\\\\Common Files\\\\Pulse Secure\\\\VC142.CRT\\\\X86\\\\;C:\\\\Program Files (x86)\\\\Symantec\\\\VIP Access Client\\\\;C:\\\\Users\\\\sachin.b.prakash\\\\Python\\\\Python36\\\\Scripts\\\\;C:\\\\Users\\\\sachin.b.prakash\\\\Python\\\\Python36\\\\;C:\\\\Users\\\\sachin.b.prakash\\\\AppData\\\\Local\\\\Microsoft\\\\WindowsApps;C:\\\\Users\\\\sachin.b.prakash\\\\AppData\\\\Local\\\\Programs\\\\Microsoft VS Code\\\\bin;C:\\\\Users\\\\sachin.b.prakash\\\\AppData\\\\Local\\\\Programs\\\\Git\\\\cmd', 'PATHEXT': '.COM;.EXE;.BAT;.CMD;.VBS;.VBE;.JS;.JSE;.WSF;.WSH;.MSC', 'PROCESSOR_ARCHITECTURE': 'AMD64', 'PROCESSOR_IDENTIFIER': 'AMD64 Family 21 Model 48 Stepping 1, AuthenticAMD', 'PROCESSOR_LEVEL': '21', 'PROCESSOR_REVISION': '3001', 'PROGRAMDATA': 'C:\\\\ProgramData', 'PROGRAMFILES': 'C:\\\\Program Files', 'PROGRAMFILES(X86)': 'C:\\\\Program Files (x86)', 'PROGRAMW6432': 'C:\\\\Program Files', 'PSMODULEPATH': 'C:\\\\Program Files\\\\WindowsPowerShell\\\\Modules;C:\\\\WINDOWS\\\\system32\\\\WindowsPowerShell\\\\v1.0\\\\Modules;C:\\\\Program Files (x86)\\\\Microsoft SQL Server\\\\150\\\\Tools\\\\PowerShell\\\\Modules\\\\;C:\\\\Program Files (x86)\\\\Microsoft Azure Information Protection\\\\Powershell', 'PUBLIC': 'C:\\\\Users\\\\Public', 'QIP12548': '0', 'SESSIONNAME': 'Console', 'SYSDRIVE': '%SYSTEMFOLDER%', 'SYSTEMDRIVE': 'C:', 'SYSTEMROOT': 'C:\\\\WINDOWS', 'TEMP': 'C:\\\\Users\\\\SACHIN~1.PRA\\\\AppData\\\\Local\\\\Temp', 'TESSERACT': 'C:\\\\Program Files\\\\Tesseract-OCR', 'TMP': 'C:\\\\Users\\\\SACHIN~1.PRA\\\\AppData\\\\Local\\\\Temp', 'UATDATA': 'C:\\\\WINDOWS\\\\CCM\\\\UATData\\\\D9F8C395-CAB8-491d-B8AC-179A1FE1BE77', 'USERDNSDOMAIN': 'DIR.SVC.ACCENTURE.COM', 'USERDOMAIN': 'DIR', 'USERDOMAIN_ROAMINGPROFILE': 'DIR', 'USERNAME': 'sachin.b.prakash', 'USERPROFILE': 'C:\\\\Users\\\\sachin.b.prakash', 'WINDIR': 'C:\\\\WINDOWS', 'CONDA_PREFIX': 'C:\\\\Users\\\\sachin.b.prakash\\\\AppData\\\\Local\\\\Continuum\\\\anaconda3', 'JPY_INTERRUPT_EVENT': '2884', 'IPY_INTERRUPT_EVENT': '2884', 'JPY_PARENT_PID': '1080', 'TERM': 'xterm-color', 'CLICOLOR': '1', 'PAGER': 'cat', 'GIT_PAGER': 'cat', 'MPLBACKEND': 'module://ipykernel.pylab.backend_inline'})\n"
     ]
    }
   ],
   "source": [
    "import os\n",
    "print(os.environ)"
   ]
  },
  {
   "cell_type": "code",
   "execution_count": 33,
   "metadata": {},
   "outputs": [
    {
     "name": "stdout",
     "output_type": "stream",
     "text": [
      "Starting: C:\\Users\\sachin.b.prakash\n",
      "Moving up one: ..\n"
     ]
    }
   ],
   "source": [
    "# handling working directory :\n",
    "print('Starting:', os.getcwd())\n",
    "\n",
    "print('Moving up one:', os.pardir)\n",
    "# os.chdir(os.pardir)\n",
    "\n",
    "# print('After move:', os.getcwd())\n"
   ]
  },
  {
   "cell_type": "code",
   "execution_count": 26,
   "metadata": {},
   "outputs": [],
   "source": [
    "# subprocess module : \n",
    "\n",
    "import subprocess"
   ]
  },
  {
   "cell_type": "code",
   "execution_count": 29,
   "metadata": {},
   "outputs": [
    {
     "data": {
      "text/plain": [
       "True"
      ]
     },
     "execution_count": 29,
     "metadata": {},
     "output_type": "execute_result"
    }
   ],
   "source": [
    "paintProc = subprocess.Popen('\"C:\\\\WINDOWS\\\\system32\\\\mspaint.exe\"')\n",
    "paintProc.poll() == None # Returns True when paint is opened\n",
    "# If you want to start an external program from your Python script, pass the program’s filename to subprocess.Popen()\n",
    "# The Popen() function will then immediately return. Keep in mind that the launched program \n",
    "# is not run in the same thread as your Python program.\n",
    "# If the program has terminated, it will return the process’s integer exit code. \n",
    "# An exit code is used to indicate whether the process terminated without errors (an exit code of 0) or \n",
    "# whether an error caused the process \n",
    "# to terminate (a nonzero exit code—generally 1, but it may vary depending on the program)"
   ]
  },
  {
   "cell_type": "code",
   "execution_count": 30,
   "metadata": {},
   "outputs": [
    {
     "data": {
      "text/plain": [
       "0"
      ]
     },
     "execution_count": 30,
     "metadata": {},
     "output_type": "execute_result"
    }
   ],
   "source": [
    "paintProc.wait() # returns 0 when paint closes\n",
    "# The wait() method is like waiting until the driver has arrived at your destination. \n",
    "# The wait() method will block until the launched process has terminated.\n",
    "# This is helpful if you want your program to pause until the user finishes with the other program."
   ]
  },
  {
   "cell_type": "code",
   "execution_count": 54,
   "metadata": {},
   "outputs": [
    {
     "data": {
      "text/plain": [
       "0"
      ]
     },
     "execution_count": 54,
     "metadata": {},
     "output_type": "execute_result"
    }
   ],
   "source": [
    "paintProc.poll()"
   ]
  },
  {
   "cell_type": "code",
   "execution_count": 32,
   "metadata": {},
   "outputs": [
    {
     "data": {
      "text/plain": [
       "<subprocess.Popen at 0x1d5d9f1f208>"
      ]
     },
     "execution_count": 32,
     "metadata": {},
     "output_type": "execute_result"
    }
   ],
   "source": [
    "# \"C:\\WINDOWS\\system32\\notepad.exe\"\n",
    "subprocess.Popen(['C:\\\\WINDOWS\\\\system32\\\\notepad.exe', 'C:\\\\Users\\\\sachin.b.prakash\\\\TFS-ProcessManager\\\\Sprints\\\\Sprint9\\\\Test.txt'])"
   ]
  },
  {
   "cell_type": "code",
   "execution_count": 56,
   "metadata": {},
   "outputs": [
    {
     "data": {
      "text/plain": [
       "'You can pass command line arguments to processes you create with Popen(). \\nTo do so, you pass a list as the sole argument to Popen(). The first string in this list will be \\nthe executable filename of the program you want to launch; \\nall the subsequent strings will be the command line arguments to pass to the program when it starts.'"
      ]
     },
     "execution_count": 56,
     "metadata": {},
     "output_type": "execute_result"
    }
   ],
   "source": [
    "\"\"\"You can pass command line arguments to processes you create with Popen(). \n",
    "To do so, you pass a list as the sole argument to Popen(). The first string in this list will be \n",
    "the executable filename of the program you want to launch; \n",
    "all the subsequent strings will be the command line arguments to pass to the program when it starts.\"\"\""
   ]
  },
  {
   "cell_type": "code",
   "execution_count": 57,
   "metadata": {},
   "outputs": [
    {
     "data": {
      "text/plain": [
       "'You can launch a Python script from Python just like any other application. \\nSimply pass the python.exe executable to Popen() and the filename of the .py script you want to run as its argument.\\nFor example, the following would run the hello.py'"
      ]
     },
     "execution_count": 57,
     "metadata": {},
     "output_type": "execute_result"
    }
   ],
   "source": [
    "\"\"\"You can launch a Python script from Python just like any other application. \n",
    "Simply pass the python.exe executable to Popen() and the filename of the .py script you want to run as its argument.\n",
    "For example, the following would run the hello.py\"\"\""
   ]
  },
  {
   "cell_type": "code",
   "execution_count": 58,
   "metadata": {},
   "outputs": [],
   "source": [
    "# subprocess.Popen(['C:\\\\Users\\\\<YOUR USERNAME>\\\\AppData\\\\Local\\\\Programs\\\\\n",
    "# Python\\\\Python38\\\\python.exe', 'hello.py'])"
   ]
  },
  {
   "cell_type": "code",
   "execution_count": 59,
   "metadata": {},
   "outputs": [
    {
     "data": {
      "text/plain": [
       "<subprocess.Popen at 0x226e1633198>"
      ]
     },
     "execution_count": 59,
     "metadata": {},
     "output_type": "execute_result"
    }
   ],
   "source": [
    "subprocess.Popen(['start', 'Test.txt'], shell=True)"
   ]
  },
  {
   "cell_type": "code",
   "execution_count": 63,
   "metadata": {},
   "outputs": [
    {
     "name": "stdout",
     "output_type": "stream",
     "text": [
      "stdout: ocean\n",
      "\n",
      "stderr: \n"
     ]
    }
   ],
   "source": [
    "result = subprocess.run(\n",
    "    [sys.executable, \"-c\", \"print('ocean')\"], capture_output=True, text=True\n",
    ")\n",
    "print(\"stdout:\", result.stdout)\n",
    "print(\"stderr:\", result.stderr)"
   ]
  },
  {
   "cell_type": "code",
   "execution_count": 64,
   "metadata": {},
   "outputs": [
    {
     "name": "stdout",
     "output_type": "stream",
     "text": [
      "stdout: \n",
      "stderr: Traceback (most recent call last):\n",
      "  File \"<string>\", line 1, in <module>\n",
      "Exception\n",
      "\n"
     ]
    }
   ],
   "source": [
    "result = subprocess.run(\n",
    "    [sys.executable, \"-c\", \"raise Exception\"], capture_output=True, text=True\n",
    ")\n",
    "print(\"stdout:\", result.stdout)\n",
    "print(\"stderr:\", result.stderr)"
   ]
  },
  {
   "cell_type": "code",
   "execution_count": 65,
   "metadata": {},
   "outputs": [
    {
     "data": {
      "text/plain": [
       "'subprocess.run returns a subprocess.CompletedProcess object that is bound to result.\\nThe subprocess.CompletedProcess object includes details about the external program’s exit code and \\nits output. capture_output=True ensures that result.stdout and result.stderr are filled in with the \\ncorresponding output from the external program. By default, result.stdout and result.stderr are bound as bytes, \\nbut the text=True keyword argument instructs Python to instead decode the bytes into strings'"
      ]
     },
     "execution_count": 65,
     "metadata": {},
     "output_type": "execute_result"
    }
   ],
   "source": [
    "\"\"\"subprocess.run returns a subprocess.CompletedProcess object that is bound to result.\n",
    "The subprocess.CompletedProcess object includes details about the external program’s exit code and \n",
    "its output. capture_output=True ensures that result.stdout and result.stderr are filled in with the \n",
    "corresponding output from the external program. By default, result.stdout and result.stderr are bound as bytes, \n",
    "but the text=True keyword argument instructs Python to instead decode the bytes into strings\"\"\""
   ]
  },
  {
   "cell_type": "code",
   "execution_count": 66,
   "metadata": {},
   "outputs": [
    {
     "name": "stderr",
     "output_type": "stream",
     "text": [
      "DEBUG:root:Pizza created: artichoke ($15)\n",
      "DEBUG:root:Made 1 artichoke pizza(s)\n",
      "DEBUG:root:Ate 1 pizza(s)\n",
      "DEBUG:root:Pizza created: margherita ($12)\n",
      "DEBUG:root:Made 2 margherita pizza(s)\n",
      "DEBUG:root:Ate 1 pizza(s)\n"
     ]
    }
   ],
   "source": [
    "# Logging :\n",
    "import logging\n",
    "\n",
    "logging.basicConfig(level=logging.DEBUG) # level could be warning as well.\n",
    "\n",
    "\n",
    "class Pizza():\n",
    "    def __init__(self, name, price):\n",
    "        self.name = name\n",
    "        self.price = price\n",
    "        logging.debug(\"Pizza created: {} (${})\".format(self.name, self.price)) # returned to the console.\n",
    "\n",
    "    def make(self, quantity=1):\n",
    "        logging.debug(\"Made {} {} pizza(s)\".format(quantity, self.name))\n",
    "\n",
    "    def eat(self, quantity=1):\n",
    "        logging.debug(\"Ate {} pizza(s)\".format(quantity, self.name))\n",
    "\n",
    "pizza_01 = Pizza(\"artichoke\", 15)\n",
    "pizza_01.make()\n",
    "pizza_01.eat()\n",
    "\n",
    "pizza_02 = Pizza(\"margherita\", 12)\n",
    "pizza_02.make(2)\n",
    "pizza_02.eat()"
   ]
  },
  {
   "cell_type": "code",
   "execution_count": 67,
   "metadata": {},
   "outputs": [],
   "source": [
    "# Logging Messages to a File\n",
    "\n",
    "# logging.basicConfig(filename=\"test.log\", level=logging.DEBUG)\n",
    "\n"
   ]
  },
  {
   "cell_type": "code",
   "execution_count": 68,
   "metadata": {},
   "outputs": [],
   "source": [
    "# Primarily, we would like to add a human-readable time stamp that tells us when the LogRecord was created.\n",
    "\n",
    "\n",
    "# logging.basicConfig(\n",
    "#     filename=\"test.log\",\n",
    "#     level=logging.DEBUG,\n",
    "#     format=\"%(asctime)s:%(levelname)s:%(message)s\"\n",
    "#     )"
   ]
  },
  {
   "cell_type": "code",
   "execution_count": 69,
   "metadata": {},
   "outputs": [],
   "source": [
    "# Level\tNumeric Value\tFunction\tUsed to\n",
    "# CRITICAL\t50\tlogging.critical()\tShow a serious error, the program may be unable to continue running\n",
    "# ERROR\t40\tlogging.error()\tShow a more serious problem\n",
    "# WARNING\t30\tlogging.warning()\tIndicate something unexpected happened, or could happen\n",
    "# INFO\t20\tlogging.info()\tConfirm that things are working as expected\n",
    "# DEBUG\t10\tlogging.debug()\tDiagnose problems, show detailed information"
   ]
  },
  {
   "cell_type": "code",
   "execution_count": 70,
   "metadata": {},
   "outputs": [
    {
     "data": {
      "text/plain": [
       "'\\nThe first set of functions in os.path can be used to parse strings representing filenames into their component parts. \\nIt is important to realize that these functions do not depend on the paths actually existing; they operate solely \\non the strings.\\n\\nPath parsing depends on a few variable defined in os:\\n\\nos.sep - The separator between portions of the path (e.g., “/” or “\\\\”).\\nos.extsep - The separator between a filename and the file “extension” (e.g., “.”).\\nos.pardir - The path component that means traverse the directory tree up one level (e.g., “..”).\\nos.curdir - The path component that refers to the current directory (e.g., “.”).\\n'"
      ]
     },
     "execution_count": 70,
     "metadata": {},
     "output_type": "execute_result"
    }
   ],
   "source": [
    "# os.path\n",
    "\"\"\"\n",
    "The first set of functions in os.path can be used to parse strings representing filenames into their component parts. \n",
    "It is important to realize that these functions do not depend on the paths actually existing; they operate solely \n",
    "on the strings.\n",
    "\n",
    "Path parsing depends on a few variable defined in os:\n",
    "\n",
    "os.sep - The separator between portions of the path (e.g., “/” or “\\”).\n",
    "os.extsep - The separator between a filename and the file “extension” (e.g., “.”).\n",
    "os.pardir - The path component that means traverse the directory tree up one level (e.g., “..”).\n",
    "os.curdir - The path component that refers to the current directory (e.g., “.”).\n",
    "\"\"\""
   ]
  },
  {
   "cell_type": "code",
   "execution_count": 71,
   "metadata": {},
   "outputs": [
    {
     "name": "stdout",
     "output_type": "stream",
     "text": [
      " '/one/two/three' : ('/one/two', 'three')\n",
      "'/one/two/three/' : ('/one/two/three', '')\n",
      "              '/' : ('/', '')\n",
      "              '.' : ('', '.')\n",
      "               '' : ('', '')\n"
     ]
    }
   ],
   "source": [
    "PATHS = [\n",
    "    '/one/two/three',\n",
    "    '/one/two/three/',\n",
    "    '/',\n",
    "    '.',\n",
    "    '',\n",
    "]\n",
    "\n",
    "for path in PATHS:\n",
    "    print('{!r:>17} : {}'.format(path, os.path.split(path)))"
   ]
  },
  {
   "cell_type": "code",
   "execution_count": 72,
   "metadata": {},
   "outputs": [
    {
     "name": "stdout",
     "output_type": "stream",
     "text": [
      " '/one/two/three' : 'three'\n",
      "'/one/two/three/' : ''\n",
      "              '/' : ''\n",
      "              '.' : '.'\n",
      "               '' : ''\n"
     ]
    }
   ],
   "source": [
    "PATHS = [\n",
    "    '/one/two/three',\n",
    "    '/one/two/three/',\n",
    "    '/',\n",
    "    '.',\n",
    "    '',\n",
    "]\n",
    "\n",
    "for path in PATHS:\n",
    "    print('{!r:>17} : {!r}'.format(path, os.path.basename(path))) # returns the base path"
   ]
  },
  {
   "cell_type": "code",
   "execution_count": 73,
   "metadata": {},
   "outputs": [
    {
     "name": "stdout",
     "output_type": "stream",
     "text": [
      " '/one/two/three' : '/one/two'\n",
      "'/one/two/three/' : '/one/two/three'\n",
      "              '/' : '/'\n",
      "              '.' : ''\n",
      "               '' : ''\n"
     ]
    }
   ],
   "source": [
    "PATHS = [\n",
    "    '/one/two/three',\n",
    "    '/one/two/three/',\n",
    "    '/',\n",
    "    '.',\n",
    "    '',\n",
    "]\n",
    "\n",
    "for path in PATHS:\n",
    "    print('{!r:>17} : {!r}'.format(path, os.path.dirname(path))) # returns the directory anme from the path"
   ]
  },
  {
   "cell_type": "code",
   "execution_count": 74,
   "metadata": {},
   "outputs": [
    {
     "name": "stdout",
     "output_type": "stream",
     "text": [
      "       'filename.txt' : ('filename', '.txt')\n",
      "           'filename' : ('filename', '')\n",
      "'/path/to/filename.txt' : ('/path/to/filename', '.txt')\n",
      "                  '/' : ('/', '')\n",
      "                   '' : ('', '')\n",
      "  'my-archive.tar.gz' : ('my-archive.tar', '.gz')\n",
      "      'no-extension.' : ('no-extension', '.')\n"
     ]
    }
   ],
   "source": [
    "PATHS = [\n",
    "    'filename.txt',\n",
    "    'filename',\n",
    "    '/path/to/filename.txt',\n",
    "    '/',\n",
    "    '',\n",
    "    'my-archive.tar.gz',\n",
    "    'no-extension.',\n",
    "]\n",
    "\n",
    "for path in PATHS:\n",
    "    print('{!r:>21} : {!r}'.format(path, os.path.splitext(path))) # splits the path based on separator name"
   ]
  },
  {
   "cell_type": "code",
   "execution_count": 75,
   "metadata": {},
   "outputs": [
    {
     "name": "stdout",
     "output_type": "stream",
     "text": [
      "PATH: /one/two/three/four\n",
      "PATH: /one/two/threefold\n",
      "PATH: /one/two/three/\n",
      "\n",
      "PREFIX: /one/two/three\n"
     ]
    }
   ],
   "source": [
    "paths = ['/one/two/three/four',\n",
    "         '/one/two/threefold',\n",
    "         '/one/two/three/',\n",
    "         ]\n",
    "for path in paths:\n",
    "    print('PATH:', path)\n",
    "\n",
    "print()\n",
    "print('PREFIX:', os.path.commonprefix(paths))\n",
    "\n",
    "#commonprefix() takes a list of paths as an argument and returns a single string that represents \n",
    "# a common prefix present in all of the paths. The value may represent a path that does not actually exist, \n",
    "# and the path separator is \n",
    "# not included in the consideration, so the prefix might not stop on a separator boundary."
   ]
  },
  {
   "cell_type": "code",
   "execution_count": 76,
   "metadata": {},
   "outputs": [
    {
     "name": "stdout",
     "output_type": "stream",
     "text": [
      "PATH: /one/two/three/four\n",
      "PATH: /one/two/threefold\n",
      "PATH: /one/two/three/\n",
      "\n",
      "PREFIX: \\one\\two\n"
     ]
    }
   ],
   "source": [
    "# commonpath() does honor path separators, and returns a prefix that does not include partial path values.\n",
    "\n",
    "paths = ['/one/two/three/four',\n",
    "         '/one/two/threefold',\n",
    "         '/one/two/three/',\n",
    "         ]\n",
    "for path in paths:\n",
    "    print('PATH:', path)\n",
    "\n",
    "print()\n",
    "print('PREFIX:', os.path.commonpath(paths))"
   ]
  },
  {
   "cell_type": "code",
   "execution_count": 89,
   "metadata": {},
   "outputs": [
    {
     "name": "stdout",
     "output_type": "stream",
     "text": [
      "seven : 's\\\\e\\\\v\\\\e\\\\n'\n",
      "['four', 'five'] : 'four\\\\five'\n",
      "('one', 'two', 'three') : 'one\\\\two\\\\three'\n",
      "('/', 'one', 'two', 'three') : '/one\\\\two\\\\three'\n",
      "('\\\\one', '/two', '/three') : '/three'\n"
     ]
    }
   ],
   "source": [
    "PATHS = ['seven',['four','five'],\n",
    "    ('one', 'two', 'three'),\n",
    "    ('/', 'one', 'two', 'three'),\n",
    "    ('\\one', '/two', '/three'), # If any argument to join begins with os.sep like /, all of\n",
    "    #the previous arguments are discarded and the new one becomes the beginning of the return value.\n",
    "]\n",
    "\n",
    "for parts in PATHS:\n",
    "    print('{} : {!r}'.format(parts, os.path.join(*parts))) # * for anytype of argument\n",
    "    \n",
    "# Besides taking existing paths apart, it is frequently necessary to build paths from other strings. \n",
    "# To combine several path components into a single value, use join():"
   ]
  },
  {
   "cell_type": "code",
   "execution_count": 90,
   "metadata": {},
   "outputs": [
    {
     "name": "stdout",
     "output_type": "stream",
     "text": [
      "            '~' : 'C:\\\\Users\\\\sachin.b.prakash'\n",
      "   '~dhellmann' : 'C:\\\\Users\\\\dhellmann'\n",
      "  '~nosuchuser' : 'C:\\\\Users\\\\nosuchuser'\n"
     ]
    }
   ],
   "source": [
    "# It is also possible to work with paths that include “variable” components that can be expanded automatically.\n",
    "# For example, expanduser() converts the tilde (~) \n",
    "# character to the name of a user’s home directory.\n",
    "\n",
    "for user in ['', 'dhellmann', 'nosuchuser']:\n",
    "    lookup = '~' + user\n",
    "    print('{!r:>15} : {!r}'.format(\n",
    "        lookup, os.path.expanduser(lookup))) # If the user’s home directory cannot be found,\n",
    "    # the string is returned unchanged, as with ~nosuchuser in this example.\n",
    "\n"
   ]
  },
  {
   "cell_type": "code",
   "execution_count": 91,
   "metadata": {},
   "outputs": [
    {
     "name": "stdout",
     "output_type": "stream",
     "text": [
      "     'one//two//three' : 'one\\\\two\\\\three'\n",
      "   'one/./two/./three' : 'one\\\\two\\\\three'\n",
      "'one/../alt/two/three' : 'alt\\\\two\\\\three'\n"
     ]
    }
   ],
   "source": [
    "PATHS = [\n",
    "    'one//two//three',\n",
    "    'one/./two/./three',\n",
    "    'one/../alt/two/three',\n",
    "]\n",
    "\n",
    "for path in PATHS:\n",
    "    print('{!r:>22} : {!r}'.format(path, os.path.normpath(path))) # normalises the path\n",
    "\n",
    "# Paths assembled from separate strings using join() or with embedded variables might end up with extra \n",
    "# separators or relative path components. Use normpath() to clean them up:"
   ]
  },
  {
   "cell_type": "code",
   "execution_count": 39,
   "metadata": {},
   "outputs": [
    {
     "data": {
      "text/plain": [
       "'C:\\\\Sprint10\\\\log_test.py'"
      ]
     },
     "execution_count": 39,
     "metadata": {},
     "output_type": "execute_result"
    }
   ],
   "source": [
    "os.path.join(r'C:\\Users\\sachin.b.prakash\\TFS-ProcessManager\\Sprints','\\Sprint10\\\\','log_test.py')"
   ]
  },
  {
   "cell_type": "code",
   "execution_count": 44,
   "metadata": {},
   "outputs": [
    {
     "data": {
      "text/plain": [
       "'C:\\\\Users\\\\sachin.b.prakash\\\\TFS-ProcessManager\\\\Sprints\\\\Sprint10\\\\log_test.py'"
      ]
     },
     "execution_count": 44,
     "metadata": {},
     "output_type": "execute_result"
    }
   ],
   "source": [
    "os.path.abspath(r\"C:\\Users\\sachin.b.prakash\\TFS-ProcessManager\\Sprints\\Sprint10\\log_test.py\")"
   ]
  },
  {
   "cell_type": "code",
   "execution_count": 45,
   "metadata": {},
   "outputs": [
    {
     "name": "stdout",
     "output_type": "stream",
     "text": [
      "                  '.' : 'C:\\\\Users\\\\sachin.b.prakash'\n",
      "                 '..' : 'C:\\\\Users'\n",
      "    './one/two/three' : 'C:\\\\Users\\\\sachin.b.prakash\\\\one\\\\two\\\\three'\n",
      "   '../one/two/three' : 'C:\\\\Users\\\\one\\\\two\\\\three'\n"
     ]
    }
   ],
   "source": [
    "# To convert a relative path to an absolute filename, use abspath().\n",
    "\n",
    "# os.chdir('/usr') # put relevant path\n",
    "\n",
    "PATHS = [\n",
    "    '.',\n",
    "    '..',\n",
    "    './one/two/three',\n",
    "    '../one/two/three',\n",
    "]\n",
    "\n",
    "for path in PATHS:\n",
    "    print('{!r:>21} : {!r}'.format(path, os.path.abspath(path)))"
   ]
  },
  {
   "cell_type": "code",
   "execution_count": 95,
   "metadata": {},
   "outputs": [
    {
     "ename": "SyntaxError",
     "evalue": "invalid syntax (<ipython-input-95-d213c9d32a24>, line 9)",
     "output_type": "error",
     "traceback": [
      "\u001b[1;36m  File \u001b[1;32m\"<ipython-input-95-d213c9d32a24>\"\u001b[1;36m, line \u001b[1;32m9\u001b[0m\n\u001b[1;33m    print('Size         :', os.path.getsize(__file__)))\u001b[0m\n\u001b[1;37m                                                      ^\u001b[0m\n\u001b[1;31mSyntaxError\u001b[0m\u001b[1;31m:\u001b[0m invalid syntax\n"
     ]
    }
   ],
   "source": [
    "# File Time\n",
    "\n",
    "import time\n",
    "\n",
    "print('File         :', __file__)\n",
    "print('Access time  :', time.ctime(os.path.getatime(__file__)))\n",
    "print('Modified time:', time.ctime(os.path.getmtime(__file__)))\n",
    "print('Change time  :', time.ctime(os.path.getctime(__file__)))\n",
    "print('Size         :', os.path.getsize(__file__))"
   ]
  },
  {
   "cell_type": "code",
   "execution_count": 96,
   "metadata": {},
   "outputs": [],
   "source": [
    "# glob — Filename Pattern Matching\n",
    "\n",
    "# It is useful in any situation where a program needs to look for a list of files on the file system with names\n",
    "# matching a pattern. To create a list of filenames that all have a certain extension, prefix, or any common string in\n",
    "# the middle, \n",
    "# use glob instead of writing custom code to scan the directory contents."
   ]
  },
  {
   "cell_type": "code",
   "execution_count": 97,
   "metadata": {},
   "outputs": [
    {
     "data": {
      "text/plain": [
       "'The examples in this section assume the following test files are present in the current working directory.\\n\\n$ python3 glob_maketestdata.py\\n\\ndir\\ndir/file.txt\\ndir/file1.txt\\ndir/file2.txt\\ndir/filea.txt\\ndir/fileb.txt\\ndir/file?.txt\\ndir/file*.txt\\ndir/file[.txt\\ndir/subdir\\ndir/subdir/subfile.txt'"
      ]
     },
     "execution_count": 97,
     "metadata": {},
     "output_type": "execute_result"
    }
   ],
   "source": [
    "\"\"\"The examples in this section assume the following test files are present in the current working directory.\n",
    "\n",
    "$ python3 glob_maketestdata.py\n",
    "\n",
    "dir\n",
    "dir/file.txt\n",
    "dir/file1.txt\n",
    "dir/file2.txt\n",
    "dir/filea.txt\n",
    "dir/fileb.txt\n",
    "dir/file?.txt\n",
    "dir/file*.txt\n",
    "dir/file[.txt\n",
    "dir/subdir\n",
    "dir/subdir/subfile.txt\"\"\""
   ]
  },
  {
   "cell_type": "code",
   "execution_count": null,
   "metadata": {},
   "outputs": [],
   "source": [
    "import glob\n",
    "for name in sorted(glob.glob('dir/*')):\n",
    "    print(name)\n",
    "    \n",
    "# The pattern matches every path name (file or directory) in the directory dir, \n",
    "# without recursing further into subdirectories. The data returned by glob() is not sorted,\n",
    "# so the examples here sort it to make studying the results easier.\n",
    "\"\"\"\n",
    "dir/file*.txt\n",
    "dir/file.txt\n",
    "dir/file1.txt\n",
    "dir/file2.txt\n",
    "dir/file?.txt\n",
    "dir/file[.txt\n",
    "dir/filea.txt\n",
    "dir/fileb.txt\n",
    "dir/subdir\"\"\""
   ]
  },
  {
   "cell_type": "code",
   "execution_count": 49,
   "metadata": {},
   "outputs": [],
   "source": [
    "import glob"
   ]
  },
  {
   "cell_type": "code",
   "execution_count": 50,
   "metadata": {},
   "outputs": [
    {
     "name": "stdout",
     "output_type": "stream",
     "text": [
      "Named explicitly:\n",
      "  C:\\Users\\sachin.b.prakash\\TFS-ProcessManager\\Sprints\\Sprint10\\1.0\n",
      "  C:\\Users\\sachin.b.prakash\\TFS-ProcessManager\\Sprints\\Sprint10\\22-03-2021.xlsx\n",
      "  C:\\Users\\sachin.b.prakash\\TFS-ProcessManager\\Sprints\\Sprint10\\Bangalore.xlsx\n",
      "  C:\\Users\\sachin.b.prakash\\TFS-ProcessManager\\Sprints\\Sprint10\\Code_Review_String_Concatenation.xlsx\n",
      "  C:\\Users\\sachin.b.prakash\\TFS-ProcessManager\\Sprints\\Sprint10\\Excel Activities TDD.docx\n",
      "  C:\\Users\\sachin.b.prakash\\TFS-ProcessManager\\Sprints\\Sprint10\\Excel Activities TDD1.0.docx\n",
      "  C:\\Users\\sachin.b.prakash\\TFS-ProcessManager\\Sprints\\Sprint10\\Excel Activities TDD1.1.docx\n",
      "  C:\\Users\\sachin.b.prakash\\TFS-ProcessManager\\Sprints\\Sprint10\\ExcelActivities v1.0.pptx\n",
      "  C:\\Users\\sachin.b.prakash\\TFS-ProcessManager\\Sprints\\Sprint10\\ExcelManager.docx\n",
      "  C:\\Users\\sachin.b.prakash\\TFS-ProcessManager\\Sprints\\Sprint10\\Excel_activities_debug_2021-03-11.log\n",
      "  C:\\Users\\sachin.b.prakash\\TFS-ProcessManager\\Sprints\\Sprint10\\FillTemplate.docx\n",
      "  C:\\Users\\sachin.b.prakash\\TFS-ProcessManager\\Sprints\\Sprint10\\IPLData.xlsx\n",
      "  C:\\Users\\sachin.b.prakash\\TFS-ProcessManager\\Sprints\\Sprint10\\March22.xlsx\n",
      "  C:\\Users\\sachin.b.prakash\\TFS-ProcessManager\\Sprints\\Sprint10\\Mumbai.xlsx\n",
      "  C:\\Users\\sachin.b.prakash\\TFS-ProcessManager\\Sprints\\Sprint10\\PerformanceSelfInputs.docx\n",
      "  C:\\Users\\sachin.b.prakash\\TFS-ProcessManager\\Sprints\\Sprint10\\Resource Locking TDD.docx\n",
      "  C:\\Users\\sachin.b.prakash\\TFS-ProcessManager\\Sprints\\Sprint10\\ResourceLocking v1.0.pptx\n",
      "  C:\\Users\\sachin.b.prakash\\TFS-ProcessManager\\Sprints\\Sprint10\\StringConcatenation-Testing.docx\n",
      "  C:\\Users\\sachin.b.prakash\\TFS-ProcessManager\\Sprints\\Sprint10\\StringReplaceCommand.docx\n",
      "  C:\\Users\\sachin.b.prakash\\TFS-ProcessManager\\Sprints\\Sprint10\\Target File.docx\n",
      "  C:\\Users\\sachin.b.prakash\\TFS-ProcessManager\\Sprints\\Sprint10\\TargetFile.docx\n",
      "  C:\\Users\\sachin.b.prakash\\TFS-ProcessManager\\Sprints\\Sprint10\\TargetTemplate19.docx\n",
      "  C:\\Users\\sachin.b.prakash\\TFS-ProcessManager\\Sprints\\Sprint10\\TargetTemplate20.docx\n",
      "  C:\\Users\\sachin.b.prakash\\TFS-ProcessManager\\Sprints\\Sprint10\\Test.xlsx\n",
      "  C:\\Users\\sachin.b.prakash\\TFS-ProcessManager\\Sprints\\Sprint10\\TestFile.xlsx\n",
      "  C:\\Users\\sachin.b.prakash\\TFS-ProcessManager\\Sprints\\Sprint10\\TestTargetFile.xlsx\n",
      "  C:\\Users\\sachin.b.prakash\\TFS-ProcessManager\\Sprints\\Sprint10\\TestTargetFile2.xlsx\n",
      "  C:\\Users\\sachin.b.prakash\\TFS-ProcessManager\\Sprints\\Sprint10\\TestTemplate.docx\n",
      "  C:\\Users\\sachin.b.prakash\\TFS-ProcessManager\\Sprints\\Sprint10\\TestTemplate3.docx\n",
      "  C:\\Users\\sachin.b.prakash\\TFS-ProcessManager\\Sprints\\Sprint10\\WordTemplate v1.0.pptx\n",
      "  C:\\Users\\sachin.b.prakash\\TFS-ProcessManager\\Sprints\\Sprint10\\__pycache__\n",
      "  C:\\Users\\sachin.b.prakash\\TFS-ProcessManager\\Sprints\\Sprint10\\dict_remove_test.py\n",
      "  C:\\Users\\sachin.b.prakash\\TFS-ProcessManager\\Sprints\\Sprint10\\excel_activities_user manual.docx\n",
      "  C:\\Users\\sachin.b.prakash\\TFS-ProcessManager\\Sprints\\Sprint10\\excel_activities_user manual1.0.docx\n",
      "  C:\\Users\\sachin.b.prakash\\TFS-ProcessManager\\Sprints\\Sprint10\\excel_datetime_test.py\n",
      "  C:\\Users\\sachin.b.prakash\\TFS-ProcessManager\\Sprints\\Sprint10\\excel_manager.py\n",
      "  C:\\Users\\sachin.b.prakash\\TFS-ProcessManager\\Sprints\\Sprint10\\excel_smart_task.zip\n",
      "  C:\\Users\\sachin.b.prakash\\TFS-ProcessManager\\Sprints\\Sprint10\\excel_test.py\n",
      "  C:\\Users\\sachin.b.prakash\\TFS-ProcessManager\\Sprints\\Sprint10\\list_remove_all_item.py\n",
      "  C:\\Users\\sachin.b.prakash\\TFS-ProcessManager\\Sprints\\Sprint10\\list_remove_test.py\n",
      "  C:\\Users\\sachin.b.prakash\\TFS-ProcessManager\\Sprints\\Sprint10\\log_test.py\n",
      "  C:\\Users\\sachin.b.prakash\\TFS-ProcessManager\\Sprints\\Sprint10\\resource_lock_user manual.docx\n",
      "  C:\\Users\\sachin.b.prakash\\TFS-ProcessManager\\Sprints\\Sprint10\\resource_locking_smart_task.zip\n",
      "  C:\\Users\\sachin.b.prakash\\TFS-ProcessManager\\Sprints\\Sprint10\\resource_test.py\n",
      "  C:\\Users\\sachin.b.prakash\\TFS-ProcessManager\\Sprints\\Sprint10\\test.py\n",
      "  C:\\Users\\sachin.b.prakash\\TFS-ProcessManager\\Sprints\\Sprint10\\test2.py\n",
      "  C:\\Users\\sachin.b.prakash\\TFS-ProcessManager\\Sprints\\Sprint10\\word_template.zip\n",
      "  C:\\Users\\sachin.b.prakash\\TFS-ProcessManager\\Sprints\\Sprint10\\word_template2.py\n",
      "  C:\\Users\\sachin.b.prakash\\TFS-ProcessManager\\Sprints\\Sprint10\\word_template_smart_task.zip\n",
      "Named with wildcard:\n",
      "  C:\\Users\\sachin.b.prakash\\TFS-ProcessManager\\Sprints\\AZ DevOps S2\\AABOTIntegrator_69485\n",
      "  C:\\Users\\sachin.b.prakash\\TFS-ProcessManager\\Sprints\\AZ DevOps S3 New Repo 1 Dec\\AABOTIntegrator_69485\n",
      "  C:\\Users\\sachin.b.prakash\\TFS-ProcessManager\\Sprints\\AZ DevOps S3\\AABOTIntegrator_69485\n",
      "  C:\\Users\\sachin.b.prakash\\TFS-ProcessManager\\Sprints\\AZ DevOps S6\\AABOTIntegrator_69485\n",
      "  C:\\Users\\sachin.b.prakash\\TFS-ProcessManager\\Sprints\\AZ DevOps S9\\AABOTIntegrator_69485\n",
      "  C:\\Users\\sachin.b.prakash\\TFS-ProcessManager\\Sprints\\BRManager\\Personel_Lines_Home_Quotes\n",
      "  C:\\Users\\sachin.b.prakash\\TFS-ProcessManager\\Sprints\\Sprint 22-Feb\\AABOTIntegrator_69485\n",
      "  C:\\Users\\sachin.b.prakash\\TFS-ProcessManager\\Sprints\\Sprint10\\1.0\n",
      "  C:\\Users\\sachin.b.prakash\\TFS-ProcessManager\\Sprints\\Sprint10\\22-03-2021.xlsx\n",
      "  C:\\Users\\sachin.b.prakash\\TFS-ProcessManager\\Sprints\\Sprint10\\Bangalore.xlsx\n",
      "  C:\\Users\\sachin.b.prakash\\TFS-ProcessManager\\Sprints\\Sprint10\\Code_Review_String_Concatenation.xlsx\n",
      "  C:\\Users\\sachin.b.prakash\\TFS-ProcessManager\\Sprints\\Sprint10\\Excel Activities TDD.docx\n",
      "  C:\\Users\\sachin.b.prakash\\TFS-ProcessManager\\Sprints\\Sprint10\\Excel Activities TDD1.0.docx\n",
      "  C:\\Users\\sachin.b.prakash\\TFS-ProcessManager\\Sprints\\Sprint10\\Excel Activities TDD1.1.docx\n",
      "  C:\\Users\\sachin.b.prakash\\TFS-ProcessManager\\Sprints\\Sprint10\\ExcelActivities v1.0.pptx\n",
      "  C:\\Users\\sachin.b.prakash\\TFS-ProcessManager\\Sprints\\Sprint10\\ExcelManager.docx\n",
      "  C:\\Users\\sachin.b.prakash\\TFS-ProcessManager\\Sprints\\Sprint10\\Excel_activities_debug_2021-03-11.log\n",
      "  C:\\Users\\sachin.b.prakash\\TFS-ProcessManager\\Sprints\\Sprint10\\FillTemplate.docx\n",
      "  C:\\Users\\sachin.b.prakash\\TFS-ProcessManager\\Sprints\\Sprint10\\IPLData.xlsx\n",
      "  C:\\Users\\sachin.b.prakash\\TFS-ProcessManager\\Sprints\\Sprint10\\March22.xlsx\n",
      "  C:\\Users\\sachin.b.prakash\\TFS-ProcessManager\\Sprints\\Sprint10\\Mumbai.xlsx\n",
      "  C:\\Users\\sachin.b.prakash\\TFS-ProcessManager\\Sprints\\Sprint10\\PerformanceSelfInputs.docx\n",
      "  C:\\Users\\sachin.b.prakash\\TFS-ProcessManager\\Sprints\\Sprint10\\Resource Locking TDD.docx\n",
      "  C:\\Users\\sachin.b.prakash\\TFS-ProcessManager\\Sprints\\Sprint10\\ResourceLocking v1.0.pptx\n",
      "  C:\\Users\\sachin.b.prakash\\TFS-ProcessManager\\Sprints\\Sprint10\\StringConcatenation-Testing.docx\n",
      "  C:\\Users\\sachin.b.prakash\\TFS-ProcessManager\\Sprints\\Sprint10\\StringReplaceCommand.docx\n",
      "  C:\\Users\\sachin.b.prakash\\TFS-ProcessManager\\Sprints\\Sprint10\\Target File.docx\n",
      "  C:\\Users\\sachin.b.prakash\\TFS-ProcessManager\\Sprints\\Sprint10\\TargetFile.docx\n",
      "  C:\\Users\\sachin.b.prakash\\TFS-ProcessManager\\Sprints\\Sprint10\\TargetTemplate19.docx\n",
      "  C:\\Users\\sachin.b.prakash\\TFS-ProcessManager\\Sprints\\Sprint10\\TargetTemplate20.docx\n",
      "  C:\\Users\\sachin.b.prakash\\TFS-ProcessManager\\Sprints\\Sprint10\\Test.xlsx\n",
      "  C:\\Users\\sachin.b.prakash\\TFS-ProcessManager\\Sprints\\Sprint10\\TestFile.xlsx\n",
      "  C:\\Users\\sachin.b.prakash\\TFS-ProcessManager\\Sprints\\Sprint10\\TestTargetFile.xlsx\n",
      "  C:\\Users\\sachin.b.prakash\\TFS-ProcessManager\\Sprints\\Sprint10\\TestTargetFile2.xlsx\n",
      "  C:\\Users\\sachin.b.prakash\\TFS-ProcessManager\\Sprints\\Sprint10\\TestTemplate.docx\n",
      "  C:\\Users\\sachin.b.prakash\\TFS-ProcessManager\\Sprints\\Sprint10\\TestTemplate3.docx\n",
      "  C:\\Users\\sachin.b.prakash\\TFS-ProcessManager\\Sprints\\Sprint10\\WordTemplate v1.0.pptx\n",
      "  C:\\Users\\sachin.b.prakash\\TFS-ProcessManager\\Sprints\\Sprint10\\__pycache__\n",
      "  C:\\Users\\sachin.b.prakash\\TFS-ProcessManager\\Sprints\\Sprint10\\dict_remove_test.py\n",
      "  C:\\Users\\sachin.b.prakash\\TFS-ProcessManager\\Sprints\\Sprint10\\excel_activities_user manual.docx\n",
      "  C:\\Users\\sachin.b.prakash\\TFS-ProcessManager\\Sprints\\Sprint10\\excel_activities_user manual1.0.docx\n",
      "  C:\\Users\\sachin.b.prakash\\TFS-ProcessManager\\Sprints\\Sprint10\\excel_datetime_test.py\n",
      "  C:\\Users\\sachin.b.prakash\\TFS-ProcessManager\\Sprints\\Sprint10\\excel_manager.py\n",
      "  C:\\Users\\sachin.b.prakash\\TFS-ProcessManager\\Sprints\\Sprint10\\excel_smart_task.zip\n",
      "  C:\\Users\\sachin.b.prakash\\TFS-ProcessManager\\Sprints\\Sprint10\\excel_test.py\n",
      "  C:\\Users\\sachin.b.prakash\\TFS-ProcessManager\\Sprints\\Sprint10\\list_remove_all_item.py\n",
      "  C:\\Users\\sachin.b.prakash\\TFS-ProcessManager\\Sprints\\Sprint10\\list_remove_test.py\n",
      "  C:\\Users\\sachin.b.prakash\\TFS-ProcessManager\\Sprints\\Sprint10\\log_test.py\n",
      "  C:\\Users\\sachin.b.prakash\\TFS-ProcessManager\\Sprints\\Sprint10\\resource_lock_user manual.docx\n",
      "  C:\\Users\\sachin.b.prakash\\TFS-ProcessManager\\Sprints\\Sprint10\\resource_locking_smart_task.zip\n",
      "  C:\\Users\\sachin.b.prakash\\TFS-ProcessManager\\Sprints\\Sprint10\\resource_test.py\n",
      "  C:\\Users\\sachin.b.prakash\\TFS-ProcessManager\\Sprints\\Sprint10\\test.py\n",
      "  C:\\Users\\sachin.b.prakash\\TFS-ProcessManager\\Sprints\\Sprint10\\test2.py\n",
      "  C:\\Users\\sachin.b.prakash\\TFS-ProcessManager\\Sprints\\Sprint10\\word_template.zip\n",
      "  C:\\Users\\sachin.b.prakash\\TFS-ProcessManager\\Sprints\\Sprint10\\word_template2.py\n",
      "  C:\\Users\\sachin.b.prakash\\TFS-ProcessManager\\Sprints\\Sprint10\\word_template_smart_task.zip\n",
      "  C:\\Users\\sachin.b.prakash\\TFS-ProcessManager\\Sprints\\Sprint11(25-Marc)\\ExecuteBusinessRuleUtility-AABot.docx\n",
      "  C:\\Users\\sachin.b.prakash\\TFS-ProcessManager\\Sprints\\Sprint11(25-Marc)\\Latest_Base_Class&Util\n",
      "  C:\\Users\\sachin.b.prakash\\TFS-ProcessManager\\Sprints\\Sprint11(25-Marc)\\__pycache__\n",
      "  C:\\Users\\sachin.b.prakash\\TFS-ProcessManager\\Sprints\\Sprint11(25-Marc)\\business_rule_main_file.py\n",
      "  C:\\Users\\sachin.b.prakash\\TFS-ProcessManager\\Sprints\\Sprint11(25-Marc)\\bussiness_rule_main_test.py\n",
      "  C:\\Users\\sachin.b.prakash\\TFS-ProcessManager\\Sprints\\Sprint11(25-Marc)\\client_info_validation.py\n",
      "  C:\\Users\\sachin.b.prakash\\TFS-ProcessManager\\Sprints\\Sprint11(25-Marc)\\guarantor_validation.py\n",
      "  C:\\Users\\sachin.b.prakash\\TFS-ProcessManager\\Sprints\\Sprint11(25-Marc)\\loan_details_validator.py\n",
      "  C:\\Users\\sachin.b.prakash\\TFS-ProcessManager\\Sprints\\Sprint11\\ExecuteBusinessRuleUtility-AABot.docx\n",
      "  C:\\Users\\sachin.b.prakash\\TFS-ProcessManager\\Sprints\\Sprint11\\Latest_Base_Class&Util\n",
      "  C:\\Users\\sachin.b.prakash\\TFS-ProcessManager\\Sprints\\Sprint11\\__pycache__\n",
      "  C:\\Users\\sachin.b.prakash\\TFS-ProcessManager\\Sprints\\Sprint11\\business_rule_main_file.py\n",
      "  C:\\Users\\sachin.b.prakash\\TFS-ProcessManager\\Sprints\\Sprint11\\bussiness_rule_main_test.py\n",
      "  C:\\Users\\sachin.b.prakash\\TFS-ProcessManager\\Sprints\\Sprint11\\client_info_validation.py\n",
      "  C:\\Users\\sachin.b.prakash\\TFS-ProcessManager\\Sprints\\Sprint11\\guarantor_validation.py\n",
      "  C:\\Users\\sachin.b.prakash\\TFS-ProcessManager\\Sprints\\Sprint11\\loan_details_validator.py\n",
      "  C:\\Users\\sachin.b.prakash\\TFS-ProcessManager\\Sprints\\Sprint11\\test.py\n",
      "  C:\\Users\\sachin.b.prakash\\TFS-ProcessManager\\Sprints\\Sprint1\\AABotIntegrator.log\n",
      "  C:\\Users\\sachin.b.prakash\\TFS-ProcessManager\\Sprints\\Sprint1\\process_engine.py\n",
      "  C:\\Users\\sachin.b.prakash\\TFS-ProcessManager\\Sprints\\Sprint1\\process_engine_startup_script.py\n",
      "  C:\\Users\\sachin.b.prakash\\TFS-ProcessManager\\Sprints\\Sprint1\\process_json_database.py\n",
      "  C:\\Users\\sachin.b.prakash\\TFS-ProcessManager\\Sprints\\Sprint1\\process_json_deserialization.py\n",
      "  C:\\Users\\sachin.b.prakash\\TFS-ProcessManager\\Sprints\\Sprint1\\string_assign.py\n",
      "  C:\\Users\\sachin.b.prakash\\TFS-ProcessManager\\Sprints\\Sprint1\\string_lowercase.py\n",
      "  C:\\Users\\sachin.b.prakash\\TFS-ProcessManager\\Sprints\\Sprint2\\condition.py\n",
      "  C:\\Users\\sachin.b.prakash\\TFS-ProcessManager\\Sprints\\Sprint2\\condition.txt\n",
      "  C:\\Users\\sachin.b.prakash\\TFS-ProcessManager\\Sprints\\Sprint2\\condition_builder.txt\n",
      "  C:\\Users\\sachin.b.prakash\\TFS-ProcessManager\\Sprints\\Sprint2\\condition_builder_future_scope.py\n",
      "  C:\\Users\\sachin.b.prakash\\TFS-ProcessManager\\Sprints\\Sprint2\\condition_builder_inputs.py\n",
      "  C:\\Users\\sachin.b.prakash\\TFS-ProcessManager\\Sprints\\Sprint2\\condition_builder_v1.py\n",
      "  C:\\Users\\sachin.b.prakash\\TFS-ProcessManager\\Sprints\\Sprint2\\if_command.py\n",
      "  C:\\Users\\sachin.b.prakash\\TFS-ProcessManager\\Sprints\\Sprint2\\if_command_from_repos.py\n",
      "  C:\\Users\\sachin.b.prakash\\TFS-ProcessManager\\Sprints\\Sprint2\\list_add_item.py\n",
      "  C:\\Users\\sachin.b.prakash\\TFS-ProcessManager\\Sprints\\Sprint2\\list_add_item_from_repos.py\n",
      "  C:\\Users\\sachin.b.prakash\\TFS-ProcessManager\\Sprints\\Sprint2\\list_get_item.py\n",
      "  C:\\Users\\sachin.b.prakash\\TFS-ProcessManager\\Sprints\\Sprint2\\list_get_item_from_repos.py\n",
      "  C:\\Users\\sachin.b.prakash\\TFS-ProcessManager\\Sprints\\Sprint2\\test.py\n",
      "  C:\\Users\\sachin.b.prakash\\TFS-ProcessManager\\Sprints\\Sprint2\\while_loop.py\n",
      "  C:\\Users\\sachin.b.prakash\\TFS-ProcessManager\\Sprints\\Sprint2\\while_loop_from_repos.py\n",
      "  C:\\Users\\sachin.b.prakash\\TFS-ProcessManager\\Sprints\\Sprint3\\DateCommandsInitial\n",
      "  C:\\Users\\sachin.b.prakash\\TFS-ProcessManager\\Sprints\\Sprint3\\DateDiffrence\n",
      "  C:\\Users\\sachin.b.prakash\\TFS-ProcessManager\\Sprints\\Sprint3\\DateTimeUtility.py\n",
      "  C:\\Users\\sachin.b.prakash\\TFS-ProcessManager\\Sprints\\Sprint3\\__pycache__\n",
      "  C:\\Users\\sachin.b.prakash\\TFS-ProcessManager\\Sprints\\Sprint3\\datetime_add_test.py\n",
      "  C:\\Users\\sachin.b.prakash\\TFS-ProcessManager\\Sprints\\Sprint3\\dictionary_get_item.py\n",
      "  C:\\Users\\sachin.b.prakash\\TFS-ProcessManager\\Sprints\\Sprint3\\dictionary_remove_item.py\n",
      "  C:\\Users\\sachin.b.prakash\\TFS-ProcessManager\\Sprints\\Sprint3\\string_sub_string_enhancement.py\n",
      "  C:\\Users\\sachin.b.prakash\\TFS-ProcessManager\\Sprints\\Sprint3\\test.py\n",
      "  C:\\Users\\sachin.b.prakash\\TFS-ProcessManager\\Sprints\\Sprint3\\test2.py\n",
      "  C:\\Users\\sachin.b.prakash\\TFS-ProcessManager\\Sprints\\Sprint4\\LockManager\n",
      "  C:\\Users\\sachin.b.prakash\\TFS-ProcessManager\\Sprints\\Sprint4\\QueueManager\n",
      "  C:\\Users\\sachin.b.prakash\\TFS-ProcessManager\\Sprints\\Sprint4\\__pycache__\n",
      "  C:\\Users\\sachin.b.prakash\\TFS-ProcessManager\\Sprints\\Sprint4\\add_delete_get_queue_main.py\n",
      "  C:\\Users\\sachin.b.prakash\\TFS-ProcessManager\\Sprints\\Sprint4\\datatable_assign.py\n",
      "  C:\\Users\\sachin.b.prakash\\TFS-ProcessManager\\Sprints\\Sprint4\\lock_unlock_main.py\n",
      "  C:\\Users\\sachin.b.prakash\\TFS-ProcessManager\\Sprints\\Sprint4\\pyodbc_wrapper.py\n",
      "  C:\\Users\\sachin.b.prakash\\TFS-ProcessManager\\Sprints\\Sprint4\\queue_manager.py\n",
      "  C:\\Users\\sachin.b.prakash\\TFS-ProcessManager\\Sprints\\Sprint4\\resource_lock.py\n",
      "  C:\\Users\\sachin.b.prakash\\TFS-ProcessManager\\Sprints\\Sprint4\\sql_enum.py\n",
      "  C:\\Users\\sachin.b.prakash\\TFS-ProcessManager\\Sprints\\Sprint4\\test.py\n",
      "  C:\\Users\\sachin.b.prakash\\TFS-ProcessManager\\Sprints\\Sprint5\\__pycache__\n",
      "  C:\\Users\\sachin.b.prakash\\TFS-ProcessManager\\Sprints\\Sprint5\\lock_command.py\n",
      "  C:\\Users\\sachin.b.prakash\\TFS-ProcessManager\\Sprints\\Sprint5\\prepare_input.py\n",
      "  C:\\Users\\sachin.b.prakash\\TFS-ProcessManager\\Sprints\\Sprint5\\resource_lock.py\n",
      "  C:\\Users\\sachin.b.prakash\\TFS-ProcessManager\\Sprints\\Sprint5\\test.py\n",
      "  C:\\Users\\sachin.b.prakash\\TFS-ProcessManager\\Sprints\\Sprint5\\unlock_command.py\n",
      "  C:\\Users\\sachin.b.prakash\\TFS-ProcessManager\\Sprints\\Sprint6\\Code Review\n",
      "  C:\\Users\\sachin.b.prakash\\TFS-ProcessManager\\Sprints\\Sprint6\\Documents\n",
      "  C:\\Users\\sachin.b.prakash\\TFS-ProcessManager\\Sprints\\Sprint6\\Latest_Base_Class&Util\n",
      "  C:\\Users\\sachin.b.prakash\\TFS-ProcessManager\\Sprints\\Sprint6\\SampleJSON\n",
      "  C:\\Users\\sachin.b.prakash\\TFS-ProcessManager\\Sprints\\Sprint6\\Tasks Done.xlsx\n",
      "  C:\\Users\\sachin.b.prakash\\TFS-ProcessManager\\Sprints\\Sprint6\\Test Results\n",
      "  C:\\Users\\sachin.b.prakash\\TFS-ProcessManager\\Sprints\\Sprint6\\__pycache__\n",
      "  C:\\Users\\sachin.b.prakash\\TFS-ProcessManager\\Sprints\\Sprint6\\bussiness_rule_main.py\n",
      "  C:\\Users\\sachin.b.prakash\\TFS-ProcessManager\\Sprints\\Sprint6\\bussiness_rule_wrapper.py\n",
      "  C:\\Users\\sachin.b.prakash\\TFS-ProcessManager\\Sprints\\Sprint6\\client_info_validation.py\n",
      "  C:\\Users\\sachin.b.prakash\\TFS-ProcessManager\\Sprints\\Sprint6\\end_if.py\n",
      "  C:\\Users\\sachin.b.prakash\\TFS-ProcessManager\\Sprints\\Sprint6\\end_loop.py\n",
      "  C:\\Users\\sachin.b.prakash\\TFS-ProcessManager\\Sprints\\Sprint6\\guarantor_validation.py\n",
      "  C:\\Users\\sachin.b.prakash\\TFS-ProcessManager\\Sprints\\Sprint6\\loan_details_validator.py\n",
      "  C:\\Users\\sachin.b.prakash\\TFS-ProcessManager\\Sprints\\Sprint7\\CodeReview\n",
      "  C:\\Users\\sachin.b.prakash\\TFS-ProcessManager\\Sprints\\Sprint7\\Documents\n",
      "  C:\\Users\\sachin.b.prakash\\TFS-ProcessManager\\Sprints\\Sprint7\\Testing\n",
      "  C:\\Users\\sachin.b.prakash\\TFS-ProcessManager\\Sprints\\Sprint7\\__pycache__\n",
      "  C:\\Users\\sachin.b.prakash\\TFS-ProcessManager\\Sprints\\Sprint7\\end_transaction_command.py\n",
      "  C:\\Users\\sachin.b.prakash\\TFS-ProcessManager\\Sprints\\Sprint7\\end_transaction_command_package.zip\n",
      "  C:\\Users\\sachin.b.prakash\\TFS-ProcessManager\\Sprints\\Sprint7\\end_transaction_command_test1.py\n",
      "  C:\\Users\\sachin.b.prakash\\TFS-ProcessManager\\Sprints\\Sprint7\\end_transaction_command_test2.py\n",
      "  C:\\Users\\sachin.b.prakash\\TFS-ProcessManager\\Sprints\\Sprint7\\rest_api_call.py\n",
      "  C:\\Users\\sachin.b.prakash\\TFS-ProcessManager\\Sprints\\Sprint7\\roc_api_call.py\n",
      "  C:\\Users\\sachin.b.prakash\\TFS-ProcessManager\\Sprints\\Sprint7\\roc_api_parameter.py\n",
      "  C:\\Users\\sachin.b.prakash\\TFS-ProcessManager\\Sprints\\Sprint7\\variable_store.py\n",
      "  C:\\Users\\sachin.b.prakash\\TFS-ProcessManager\\Sprints\\Sprint8\\Code_Review_ExecutionEngineShouldGetFileFromConfig.xlsx\n",
      "  C:\\Users\\sachin.b.prakash\\TFS-ProcessManager\\Sprints\\Sprint8\\ExcelManager.docx\n",
      "  C:\\Users\\sachin.b.prakash\\TFS-ProcessManager\\Sprints\\Sprint8\\excel_manager.py\n",
      "  C:\\Users\\sachin.b.prakash\\TFS-ProcessManager\\Sprints\\Sprint8\\excel_manager_test.py\n",
      "  C:\\Users\\sachin.b.prakash\\TFS-ProcessManager\\Sprints\\Sprint8\\from_file.xlsx\n",
      "  C:\\Users\\sachin.b.prakash\\TFS-ProcessManager\\Sprints\\Sprint8\\sample.xlsx\n",
      "  C:\\Users\\sachin.b.prakash\\TFS-ProcessManager\\Sprints\\Sprint8\\sample1.xls\n",
      "  C:\\Users\\sachin.b.prakash\\TFS-ProcessManager\\Sprints\\Sprint8\\sample2.xlsx\n",
      "  C:\\Users\\sachin.b.prakash\\TFS-ProcessManager\\Sprints\\Sprint8\\sample24.xlsx\n",
      "  C:\\Users\\sachin.b.prakash\\TFS-ProcessManager\\Sprints\\Sprint8\\sample25.xlsx\n",
      "  C:\\Users\\sachin.b.prakash\\TFS-ProcessManager\\Sprints\\Sprint8\\sample26.xlsx\n",
      "  C:\\Users\\sachin.b.prakash\\TFS-ProcessManager\\Sprints\\Sprint8\\sample27.xlsx\n",
      "  C:\\Users\\sachin.b.prakash\\TFS-ProcessManager\\Sprints\\Sprint8\\sample28.xlsx\n",
      "  C:\\Users\\sachin.b.prakash\\TFS-ProcessManager\\Sprints\\Sprint8\\sample29.xlsx\n",
      "  C:\\Users\\sachin.b.prakash\\TFS-ProcessManager\\Sprints\\Sprint8\\sample30.xlsx\n",
      "  C:\\Users\\sachin.b.prakash\\TFS-ProcessManager\\Sprints\\Sprint8\\sample31.xlsx\n",
      "  C:\\Users\\sachin.b.prakash\\TFS-ProcessManager\\Sprints\\Sprint8\\sample32.xlsx\n",
      "  C:\\Users\\sachin.b.prakash\\TFS-ProcessManager\\Sprints\\Sprint8\\sample33.xlsx\n",
      "  C:\\Users\\sachin.b.prakash\\TFS-ProcessManager\\Sprints\\Sprint8\\sample909.xlsx\n",
      "  C:\\Users\\sachin.b.prakash\\TFS-ProcessManager\\Sprints\\Sprint8\\sample99.xlsx\n",
      "  C:\\Users\\sachin.b.prakash\\TFS-ProcessManager\\Sprints\\Sprint8\\smart1.xlsx\n",
      "  C:\\Users\\sachin.b.prakash\\TFS-ProcessManager\\Sprints\\Sprint8\\smart2.xlsx\n",
      "  C:\\Users\\sachin.b.prakash\\TFS-ProcessManager\\Sprints\\Sprint8\\smart_task.py\n",
      "  C:\\Users\\sachin.b.prakash\\TFS-ProcessManager\\Sprints\\Sprint8\\smart_task_command.py\n",
      "  C:\\Users\\sachin.b.prakash\\TFS-ProcessManager\\Sprints\\Sprint8\\to_file - Copy.xlsx\n",
      "  C:\\Users\\sachin.b.prakash\\TFS-ProcessManager\\Sprints\\Sprint8\\to_file.xlsx\n",
      "  C:\\Users\\sachin.b.prakash\\TFS-ProcessManager\\Sprints\\Sprint9\\CodeReview-SmartTask_ResourceLocking.xlsx\n",
      "  C:\\Users\\sachin.b.prakash\\TFS-ProcessManager\\Sprints\\Sprint9\\CodeReview-email_actions.xlsx\n",
      "  C:\\Users\\sachin.b.prakash\\TFS-ProcessManager\\Sprints\\Sprint9\\DateTimeConversion.docx\n",
      "  C:\\Users\\sachin.b.prakash\\TFS-ProcessManager\\Sprints\\Sprint9\\NumberFunctionCommand.docx\n",
      "  C:\\Users\\sachin.b.prakash\\TFS-ProcessManager\\Sprints\\Sprint9\\StringReplaceCommand.docx\n",
      "  C:\\Users\\sachin.b.prakash\\TFS-ProcessManager\\Sprints\\Sprint9\\Test.txt\n",
      "  C:\\Users\\sachin.b.prakash\\TFS-ProcessManager\\Sprints\\Sprint9\\__pycache__\n",
      "  C:\\Users\\sachin.b.prakash\\TFS-ProcessManager\\Sprints\\Sprint9\\copy_packages_test.py\n",
      "  C:\\Users\\sachin.b.prakash\\TFS-ProcessManager\\Sprints\\Sprint9\\date_conversion2.py\n",
      "  C:\\Users\\sachin.b.prakash\\TFS-ProcessManager\\Sprints\\Sprint9\\date_conversion_test.py\n",
      "  C:\\Users\\sachin.b.prakash\\TFS-ProcessManager\\Sprints\\Sprint9\\destination\n",
      "  C:\\Users\\sachin.b.prakash\\TFS-ProcessManager\\Sprints\\Sprint9\\environment_test.py\n",
      "  C:\\Users\\sachin.b.prakash\\TFS-ProcessManager\\Sprints\\Sprint9\\excel_manager.py\n",
      "  C:\\Users\\sachin.b.prakash\\TFS-ProcessManager\\Sprints\\Sprint9\\file structure.zip\n",
      "  C:\\Users\\sachin.b.prakash\\TFS-ProcessManager\\Sprints\\Sprint9\\number_function_command.py\n",
      "  C:\\Users\\sachin.b.prakash\\TFS-ProcessManager\\Sprints\\Sprint9\\number_to_string_command.py\n",
      "  C:\\Users\\sachin.b.prakash\\TFS-ProcessManager\\Sprints\\Sprint9\\os_directories_example\n",
      "  C:\\Users\\sachin.b.prakash\\TFS-ProcessManager\\Sprints\\Sprint9\\process_component_test.py\n",
      "  C:\\Users\\sachin.b.prakash\\TFS-ProcessManager\\Sprints\\Sprint9\\source\n",
      "  C:\\Users\\sachin.b.prakash\\TFS-ProcessManager\\Sprints\\Sprint9\\test.py\n",
      "  C:\\Users\\sachin.b.prakash\\TFS-ProcessManager\\Sprints\\Sprint9\\test2.py\n",
      "  C:\\Users\\sachin.b.prakash\\TFS-ProcessManager\\Sprints\\Test2\\shutil_copy.txt\n",
      "  C:\\Users\\sachin.b.prakash\\TFS-ProcessManager\\Sprints\\Test\\shutil_copy.txt\n"
     ]
    },
    {
     "data": {
      "text/plain": [
       "'\\nNamed explicitly:\\n  dir/subdir/subfile.txt\\nNamed with wildcard:\\n  dir/subdir/subfile.txt'"
      ]
     },
     "execution_count": 50,
     "metadata": {},
     "output_type": "execute_result"
    }
   ],
   "source": [
    "print('Named explicitly:')\n",
    "for name in sorted(glob.glob(r'C:\\Users\\sachin.b.prakash\\TFS-ProcessManager\\Sprints\\Sprint10\\*')):\n",
    "    print('  {}'.format(name))\n",
    "\n",
    "print('Named with wildcard:')\n",
    "for name in sorted(glob.glob(r'C:\\Users\\sachin.b.prakash\\TFS-ProcessManager\\Sprints\\*\\*')):\n",
    "    print('  {}'.format(name))\n",
    "\n",
    "\"\"\"\n",
    "Named explicitly:\n",
    "  dir/subdir/subfile.txt\n",
    "Named with wildcard:\n",
    "  dir/subdir/subfile.txt\"\"\""
   ]
  },
  {
   "cell_type": "code",
   "execution_count": null,
   "metadata": {},
   "outputs": [],
   "source": [
    "# A question mark (?) is another wildcard character. It matches any single character in that position in the name.\n",
    "\n",
    "for name in sorted(glob.glob('dir/file?.txt')):\n",
    "    print(name)\n",
    "    \n",
    "\"\"\"dir/file*.txt\n",
    "dir/file1.txt\n",
    "dir/file2.txt\n",
    "dir/file?.txt\n",
    "dir/file[.txt\n",
    "dir/filea.txt\n",
    "dir/fileb.txt\"\"\""
   ]
  },
  {
   "cell_type": "code",
   "execution_count": null,
   "metadata": {},
   "outputs": [],
   "source": [
    "# Use a character range ([a-z]) instead of a question mark to match one of several characters. \n",
    "# This example finds all of the files with a digit in the name before the extension.\n",
    "\n",
    "import glob\n",
    "for name in sorted(glob.glob('dir/*[0-9].*')):\n",
    "    print(name)\n",
    "\n",
    "# The character range [0-9] matches any single digit. The range is ordered based on the character code for each letter/digit,\n",
    "# and the dash indicates an unbroken range of sequential characters. The same range value could be written [0123456789].\n",
    "\n",
    "# $ python3 glob_charrange.py\n",
    "\"\"\"\n",
    "dir/file1.txt\n",
    "dir/file2.txt\"\"\""
   ]
  },
  {
   "cell_type": "code",
   "execution_count": 52,
   "metadata": {},
   "outputs": [
    {
     "name": "stdout",
     "output_type": "stream",
     "text": [
      "BEFORE: ['shutil_one.txt']\n",
      "AFTER: ['shutil_copyfile.py.copy', 'shutil_copyfile.py.copytwo', 'shutil_copyfile.txt', 'shutil_one.txt']\n"
     ]
    }
   ],
   "source": [
    "# shutil copy file :\n",
    "\n",
    "import glob\n",
    "import shutil\n",
    "\n",
    "print('BEFORE:', glob.glob('shutil_one.*'))\n",
    "\n",
    "shutil.copyfile('shutil_one.txt', 'shutil_copyfile.txt') # dest file is auto craeted\n",
    "\n",
    "print('AFTER:', glob.glob('shutil*.*'))"
   ]
  },
  {
   "cell_type": "code",
   "execution_count": 111,
   "metadata": {},
   "outputs": [
    {
     "name": "stdout",
     "output_type": "stream",
     "text": [
      "BEFORE: ['C:\\\\Users\\\\sachin.b.prakash\\\\TFS-ProcessManager\\\\Sprints\\\\Test2']\n",
      "AFTER : ['C:\\\\Users\\\\sachin.b.prakash\\\\TFS-ProcessManager\\\\Sprints\\\\Test2']\n"
     ]
    },
    {
     "data": {
      "text/plain": [
       "\"\\nBEFORE: []\\nAFTER : ['example/shutil_copy.py']\\n\""
      ]
     },
     "execution_count": 111,
     "metadata": {},
     "output_type": "execute_result"
    }
   ],
   "source": [
    "# The copy() function interprets the output name like the Unix command line tool cp. \n",
    "# If the named destination refers to a directory instead of a file, a new file is created in the directory using the \n",
    "# base name of the source.\n",
    "\n",
    "# shutil_copy.py\n",
    "import glob\n",
    "import os\n",
    "import shutil\n",
    "\n",
    "os.chdir(r'C:\\Users\\sachin.b.prakash\\TFS-ProcessManager\\Sprints\\Test')\n",
    "os.mkdir(r'C:\\Users\\sachin.b.prakash\\TFS-ProcessManager\\Sprints\\Test2')\n",
    "print('BEFORE:', glob.glob(r'C:\\Users\\sachin.b.prakash\\TFS-ProcessManager\\Sprints\\Test2*'))\n",
    "\n",
    "shutil.copy('shutil_copy.txt', r'C:\\Users\\sachin.b.prakash\\TFS-ProcessManager\\Sprints\\Test2')\n",
    "\n",
    "print('AFTER :', glob.glob(r'C:\\Users\\sachin.b.prakash\\TFS-ProcessManager\\Sprints\\Test2*'))\n",
    "# The permissions of the file are copied along with the contents.\n",
    "\n"
   ]
  },
  {
   "cell_type": "code",
   "execution_count": null,
   "metadata": {},
   "outputs": [],
   "source": [
    "# shutil includes three functions for working with directory trees. To copy a directory from one place to another,\n",
    "# use copytree(). It recurses through the source directory tree, copying files to the destination. \n",
    "# The destination directory must not exist in advance.\n",
    "\n",
    "# shutil_copytree.py\n",
    "import glob\n",
    "import pprint\n",
    "import shutil\n",
    "\n",
    "print('BEFORE:')\n",
    "pprint.pprint(glob.glob('/tmp/example/*'))\n",
    "\n",
    "shutil.copytree('../shutil', '/tmp/example')\n",
    "\n",
    "print('\\nAFTER:')\n",
    "pprint.pprint(glob.glob('/tmp/example/*'))\n",
    "\n",
    "\"\"\"\n",
    "BEFORE:\n",
    "[]\n",
    "\n",
    "AFTER:\n",
    "['/tmp/example/example',\n",
    " '/tmp/example/example.out',\n",
    " '/tmp/example/file_to_change.txt',\n",
    " '/tmp/example/index.rst',\n",
    " '/tmp/example/shutil_copy.py',\n",
    " '/tmp/example/shutil_copy2.py',\n",
    " '/tmp/example/shutil_copyfile.py',\n",
    " '/tmp/example/shutil_copyfile.py.copy',\n",
    " '/tmp/example/shutil_copyfileobj.py',\n",
    " '/tmp/example/shutil_copymode.py',\n",
    " '/tmp/example/shutil_copystat.py',\n",
    " '/tmp/example/shutil_copytree.py',\n",
    " '/tmp/example/shutil_copytree_verbose.py',\n",
    " '/tmp/example/shutil_disk_usage.py',\n",
    " '/tmp/example/shutil_get_archive_formats.py',\n",
    " '/tmp/example/shutil_get_unpack_formats.py',\n",
    " '/tmp/example/shutil_make_archive.py',\n",
    " '/tmp/example/shutil_move.py',\n",
    " '/tmp/example/shutil_rmtree.py',\n",
    " '/tmp/example/shutil_unpack_archive.py',\n",
    " '/tmp/example/shutil_which.py',\n",
    " '/tmp/example/shutil_which_regular_file.py']\"\"\""
   ]
  },
  {
   "cell_type": "code",
   "execution_count": null,
   "metadata": {},
   "outputs": [],
   "source": [
    "# To remove a directory and its contents, use rmtree().\n",
    "\n",
    "# shutil_rmtree.py\n",
    "\n",
    "import glob\n",
    "import pprint\n",
    "import shutil\n",
    "\n",
    "print('BEFORE:')\n",
    "pprint.pprint(glob.glob('/tmp/example/*'))\n",
    "\n",
    "shutil.rmtree('/tmp/example')\n",
    "\n",
    "print('\\nAFTER:')\n",
    "pprint.pprint(glob.glob('/tmp/example/*'))"
   ]
  },
  {
   "cell_type": "code",
   "execution_count": null,
   "metadata": {},
   "outputs": [],
   "source": [
    "# To move a file or directory from one place to another, use move().\n",
    "\n",
    "# shutil_move.py\n",
    "import glob\n",
    "import shutil\n",
    "\n",
    "with open('example.txt', 'wt') as f:\n",
    "    f.write('contents')\n",
    "\n",
    "print('BEFORE: ', glob.glob('example*'))\n",
    "\n",
    "shutil.move('example.txt', 'example.out')\n",
    "\n",
    "print('AFTER : ', glob.glob('example*'))\n",
    "\n",
    "\"\"\"\n",
    "BEFORE:  ['example.txt']\n",
    "AFTER :  ['example.out']\"\"\""
   ]
  },
  {
   "cell_type": "code",
   "execution_count": 112,
   "metadata": {},
   "outputs": [
    {
     "name": "stdout",
     "output_type": "stream",
     "text": [
      "workerThread-10 Starting\n",
      " Starting\n",
      "my_service Starting\n",
      "worker Exiting\n",
      "Thread-10 Exiting\n",
      "my_service Exiting\n"
     ]
    }
   ],
   "source": [
    "# Threading : Using threads allows a program to run multiple operations concurrently in the same process space.\n",
    "\n",
    "import threading\n",
    "import time\n",
    "\n",
    "\n",
    "def worker():\n",
    "    print(threading.current_thread().getName(), 'Starting')\n",
    "    time.sleep(0.2)\n",
    "    print(threading.current_thread().getName(), 'Exiting')\n",
    "\n",
    "\n",
    "def my_service():\n",
    "    print(threading.current_thread().getName(), 'Starting')\n",
    "    time.sleep(0.3)\n",
    "    print(threading.current_thread().getName(), 'Exiting')\n",
    "\n",
    "\n",
    "t = threading.Thread(name='my_service', target=my_service)\n",
    "w = threading.Thread(name='worker', target=worker)\n",
    "w2 = threading.Thread(target=worker)  # use default name\n",
    "\n",
    "w.start()\n",
    "w2.start()\n",
    "t.start()"
   ]
  },
  {
   "cell_type": "code",
   "execution_count": 113,
   "metadata": {},
   "outputs": [
    {
     "name": "stderr",
     "output_type": "stream",
     "text": [
      "DEBUG:root:Starting\n",
      "DEBUG:root:Starting\n",
      "DEBUG:root:Starting\n",
      "DEBUG:root:Exiting\n",
      "DEBUG:root:Exiting\n",
      "DEBUG:root:Exiting\n"
     ]
    }
   ],
   "source": [
    "# using logging module can use threadname to write logs\n",
    "\n",
    "import logging\n",
    "import threading\n",
    "import time\n",
    "\n",
    "\n",
    "def worker():\n",
    "    logging.debug('Starting')\n",
    "    time.sleep(0.2)\n",
    "    logging.debug('Exiting')\n",
    "\n",
    "\n",
    "def my_service():\n",
    "    logging.debug('Starting')\n",
    "    time.sleep(0.3)\n",
    "    logging.debug('Exiting')\n",
    "\n",
    "\n",
    "logging.basicConfig(\n",
    "    level=logging.DEBUG,\n",
    "    format='[%(levelname)s] (%(threadName)-10s) %(message)s',\n",
    ")\n",
    "\n",
    "t = threading.Thread(name='my_service', target=my_service)\n",
    "w = threading.Thread(name='worker', target=worker)\n",
    "w2 = threading.Thread(target=worker)  # use default name\n",
    "\n",
    "w.start()\n",
    "w2.start()\n",
    "t.start()"
   ]
  },
  {
   "cell_type": "code",
   "execution_count": 116,
   "metadata": {},
   "outputs": [
    {
     "name": "stderr",
     "output_type": "stream",
     "text": [
      "DEBUG:root:d Starting\n",
      "DEBUG:root:Starting\n",
      "DEBUG:root:Exiting\n",
      "DEBUG:root:d Exiting\n"
     ]
    }
   ],
   "source": [
    "# Daemon vs. Non-Daemon Threads\n",
    "# Up to this point, the example programs have implicitly waited to exit until all threads have completed their work. \n",
    "# Sometimes programs spawn a thread as a daemon that runs without blocking the main program from exiting. Using daemon \n",
    "# threads is useful for services where there may not be an easy way to interrupt the thread, or where letting the thread\n",
    "# die in the middle of its work does not lose or corrupt data (for example, a thread that generates “heart beats” \n",
    "# service monitoring tool). To mark a thread as a daemon, pass daemon=True when constructing it or call its set_daemon()\n",
    "# method with True. The default is for threads to not be daemons.\n",
    "\n",
    "# threading_daemon.py\n",
    "import threading\n",
    "import time\n",
    "import logging\n",
    "\n",
    "\n",
    "def daemon():\n",
    "    logging.debug('d Starting')\n",
    "    time.sleep(0.2)\n",
    "    logging.debug('d Exiting')\n",
    "\n",
    "\n",
    "def non_daemon():\n",
    "    logging.debug('Starting')\n",
    "    logging.debug('Exiting')\n",
    "\n",
    "\n",
    "logging.basicConfig(\n",
    "    level=logging.DEBUG,\n",
    "    format='(%(threadName)-10s) %(message)s',\n",
    ")\n",
    "\n",
    "d = threading.Thread(name='daemon', target=daemon, daemon=True)\n",
    "\n",
    "t = threading.Thread(name='non-daemon', target=non_daemon)\n",
    "\n",
    "d.start()\n",
    "t.start()\n",
    "# all of the non-daemon threads (including the main thread) exit before the daemon thread wakes up from the sleep() call."
   ]
  },
  {
   "cell_type": "code",
   "execution_count": 117,
   "metadata": {},
   "outputs": [
    {
     "name": "stderr",
     "output_type": "stream",
     "text": [
      "DEBUG:root:d Starting\n",
      "DEBUG:root:Starting\n",
      "DEBUG:root:Exiting\n",
      "DEBUG:root:d Exiting\n"
     ]
    }
   ],
   "source": [
    "# To wait until a daemon thread has completed its work, use the join() method.\n",
    "\n",
    "import threading\n",
    "import time\n",
    "import logging\n",
    "\n",
    "\n",
    "def daemon():\n",
    "    logging.debug('d Starting')\n",
    "    time.sleep(0.2)\n",
    "    logging.debug('d Exiting')\n",
    "\n",
    "\n",
    "def non_daemon():\n",
    "    logging.debug('Starting')\n",
    "    logging.debug('Exiting')\n",
    "\n",
    "\n",
    "logging.basicConfig(\n",
    "    level=logging.DEBUG,\n",
    "    format='(%(threadName)-10s) %(message)s',\n",
    ")\n",
    "\n",
    "d = threading.Thread(name='daemon', target=daemon, daemon=True)\n",
    "\n",
    "t = threading.Thread(name='non-daemon', target=non_daemon)\n",
    "\n",
    "d.start()\n",
    "t.start()\n",
    "\n",
    "d.join()\n",
    "t.join()\n",
    "# Waiting for the daemon thread to exit using join() means it has a chance to produce its \"Exiting\" message."
   ]
  },
  {
   "cell_type": "code",
   "execution_count": 118,
   "metadata": {},
   "outputs": [
    {
     "name": "stderr",
     "output_type": "stream",
     "text": [
      "DEBUG:root:d Starting\n",
      "DEBUG:root:Starting\n",
      "DEBUG:root:Exiting\n"
     ]
    },
    {
     "name": "stdout",
     "output_type": "stream",
     "text": [
      "d.isAlive() True\n"
     ]
    },
    {
     "name": "stderr",
     "output_type": "stream",
     "text": [
      "DEBUG:root: dExiting\n"
     ]
    }
   ],
   "source": [
    "# By default, join() blocks indefinitely. It is also possible to pass a float value representing \n",
    "# the number of seconds to wait for the thread to become inactive. If the thread does not complete\n",
    "# within the timeout period, join() returns anyway.\n",
    "\n",
    "# threading_daemon_join_timeout.py\n",
    "import threading\n",
    "import time\n",
    "import logging\n",
    "\n",
    "\n",
    "def daemon():\n",
    "    logging.debug('d Starting')\n",
    "    time.sleep(0.2)\n",
    "    logging.debug(' dExiting')\n",
    "\n",
    "\n",
    "def non_daemon():\n",
    "    logging.debug('Starting')\n",
    "    logging.debug('Exiting')\n",
    "\n",
    "\n",
    "logging.basicConfig(\n",
    "    level=logging.DEBUG,\n",
    "    format='(%(threadName)-10s) %(message)s',\n",
    ")\n",
    "\n",
    "d = threading.Thread(name='daemon', target=daemon, daemon=True)\n",
    "\n",
    "t = threading.Thread(name='non-daemon', target=non_daemon)\n",
    "\n",
    "d.start()\n",
    "t.start()\n",
    "\n",
    "d.join(0.1)\n",
    "print('d.isAlive()', d.isAlive())\n",
    "t.join()\n",
    "# Since the timeout passed is less than the amount of time the daemon thread sleeps, \n",
    "# the thread is still “alive” after join() returns"
   ]
  },
  {
   "cell_type": "code",
   "execution_count": null,
   "metadata": {},
   "outputs": [
    {
     "name": "stderr",
     "output_type": "stream",
     "text": [
      "DEBUG:root:sleeping 0.30\n",
      "DEBUG:root:sleeping 0.30\n",
      "DEBUG:root:sleeping 0.50\n",
      "DEBUG:root:joining Thread-4\n",
      "DEBUG:root:ending\n",
      "DEBUG:root:ending\n",
      "DEBUG:root:ending\n"
     ]
    }
   ],
   "source": [
    "# Enumerating All Threads\n",
    "# It is not necessary to retain an explicit handle to all of the daemon threads in order to ensure they have \n",
    "# completed before exiting the main process. enumerate() returns a list of active Thread instances.\n",
    "# The list includes the current thread, and since joining the current thread introduces a deadlock situation, \n",
    "# it must be skipped.\n",
    "\n",
    "# threading_enumerate.py\n",
    "import random\n",
    "import threading\n",
    "import time\n",
    "import logging\n",
    "\n",
    "\n",
    "def worker():\n",
    "    \"\"\"thread worker function\"\"\"\n",
    "    pause = random.randint(1, 5) / 10\n",
    "    logging.debug('sleeping %0.2f', pause)\n",
    "    time.sleep(pause)\n",
    "    logging.debug('ending')\n",
    "\n",
    "\n",
    "logging.basicConfig(\n",
    "    level=logging.DEBUG,\n",
    "    format='(%(threadName)-10s) %(message)s',\n",
    ")\n",
    "\n",
    "for i in range(3):\n",
    "    t = threading.Thread(target=worker, daemon=True)\n",
    "    t.start()\n",
    "\n",
    "main_thread = threading.main_thread()\n",
    "for t in threading.enumerate():\n",
    "    if t is main_thread:\n",
    "        continue\n",
    "    logging.debug('joining %s', t.getName())\n",
    "    t.join()\n",
    "# Because the worker is sleeping for a random amount of time, the output from this program may vary"
   ]
  },
  {
   "cell_type": "code",
   "execution_count": null,
   "metadata": {},
   "outputs": [],
   "source": [
    "# To wait until a daemon thread has completed its work, use the join() method.\n",
    "# because the main thread finsishes even though the demon has not"
   ]
  },
  {
   "cell_type": "code",
   "execution_count": null,
   "metadata": {},
   "outputs": [],
   "source": [
    "# Subclassing Thread\n",
    "# At start-up, a Thread does some basic initialization and then calls its run() method, \n",
    "# which calls the target function passed to the constructor. To create a subclass of Thread, \n",
    "# override run() to do whatever is necessary.\n",
    "\n",
    "# threading_subclass.py\n",
    "import threading\n",
    "import logging\n",
    "\n",
    "\n",
    "class MyThread(threading.Thread):\n",
    "\n",
    "    def run(self):\n",
    "        logging.debug('running')\n",
    "\n",
    "\n",
    "logging.basicConfig(\n",
    "    level=logging.DEBUG,\n",
    "    format='(%(threadName)-10s) %(message)s',\n",
    ")\n",
    "\n",
    "for i in range(5):\n",
    "    t = MyThread()\n",
    "    t.start()"
   ]
  },
  {
   "cell_type": "code",
   "execution_count": 1,
   "metadata": {},
   "outputs": [
    {
     "name": "stderr",
     "output_type": "stream",
     "text": [
      "(Thread-6  ) running with (0,) and {'a': 'A', 'b': 'B'}\n",
      "(Thread-7  ) running with (1,) and {'a': 'A', 'b': 'B'}\n",
      "(Thread-8  ) running with (2,) and {'a': 'A', 'b': 'B'}\n",
      "(Thread-9  ) running with (3,) and {'a': 'A', 'b': 'B'}\n",
      "(Thread-10 ) running with (4,) and {'a': 'A', 'b': 'B'}\n"
     ]
    }
   ],
   "source": [
    "# Because the args and kwargs values passed to the Thread constructor are saved in private variables using names prefixed \n",
    "# with '__', they are not easily accessed from a subclass. To pass arguments to a custom thread type, redefine the \n",
    "# constructor to save the values in an instance attribute that can be seen in the subclass.\n",
    "\n",
    "# threading_subclass_args.py\n",
    "import threading\n",
    "import logging\n",
    "\n",
    "\n",
    "class MyThreadWithArgs(threading.Thread):\n",
    "\n",
    "    def __init__(self, group=None, target=None, name=None,\n",
    "                 args=(), kwargs=None, *, daemon=None):\n",
    "        super().__init__(group=group, target=target, name=name,\n",
    "                         daemon=daemon)\n",
    "        self.args = args\n",
    "        self.kwargs = kwargs\n",
    "\n",
    "    def run(self):\n",
    "        logging.debug('running with %s and %s',\n",
    "                      self.args, self.kwargs)\n",
    "\n",
    "\n",
    "logging.basicConfig(\n",
    "    level=logging.DEBUG,\n",
    "    format='(%(threadName)-10s) %(message)s',\n",
    ")\n",
    "\n",
    "for i in range(5):\n",
    "    t = MyThreadWithArgs(args=(i,), kwargs={'a': 'A', 'b': 'B'})\n",
    "    t.start()\n",
    "# MyThreadWithArgs uses the same API as Thread, but another class \n",
    "# could easily change the constructor method to take more or different arguments more directly related to the \n",
    "# purpose of the thread, as with any other class."
   ]
  },
  {
   "cell_type": "code",
   "execution_count": 2,
   "metadata": {},
   "outputs": [
    {
     "data": {
      "text/plain": [
       "\"importlib.__import__(name, globals=None, locals=None, fromlist=(), level=0)\\nAn implementation of the built-in __import__() function.\\n\\nNote Programmatic importing of modules should use import_module() instead of this function.\\nimportlib.import_module(name, package=None)\\nImport a module. The name argument specifies what module to import in absolute or relative terms\\n(e.g. either pkg.mod or ..mod). If the name is specified in relative terms, then the package argument must \\nbe set to the name of the package which is to act as the anchor for resolving the package name \\n(e.g. import_module('..mod', 'pkg.subpkg') will import pkg.mod).\\n\\nThe import_module() function acts as a simplifying wrapper around importlib.__import__(). \\nThis means all semantics of the function are derived from importlib.__import__(). \\nThe most important difference between these two functions is that import_module() \\nreturns the specified package or module (e.g. pkg.mod), while __import__() returns the top-level package or module \\n(e.g. pkg)\""
      ]
     },
     "execution_count": 2,
     "metadata": {},
     "output_type": "execute_result"
    }
   ],
   "source": [
    "# importlib package :\n",
    "\"\"\"The purpose of the importlib package is two-fold. One is to provide the implementation of the import statement \n",
    "(and thus, by extension, the __import__() function)\n",
    "in Python source code. This provides an implementation of import which is portable to any Python interpreter.\n",
    "This also provides an implementation which is easier to comprehend than one implemented in a programming language other than Python.\n",
    "\n",
    "Two, the components to implement import are exposed in this package, making it easier for users to create their own \n",
    "custom objects (known generically as an importer) to participate in the import process.\"\"\"\n",
    "\n",
    "\"\"\"importlib.__import__(name, globals=None, locals=None, fromlist=(), level=0)\n",
    "An implementation of the built-in __import__() function.\n",
    "\n",
    "Note Programmatic importing of modules should use import_module() instead of this function.\n",
    "importlib.import_module(name, package=None)\n",
    "Import a module. The name argument specifies what module to import in absolute or relative terms\n",
    "(e.g. either pkg.mod or ..mod). If the name is specified in relative terms, then the package argument must \n",
    "be set to the name of the package which is to act as the anchor for resolving the package name \n",
    "(e.g. import_module('..mod', 'pkg.subpkg') will import pkg.mod).\n",
    "\n",
    "The import_module() function acts as a simplifying wrapper around importlib.__import__(). \n",
    "This means all semantics of the function are derived from importlib.__import__(). \n",
    "The most important difference between these two functions is that import_module() \n",
    "returns the specified package or module (e.g. pkg.mod), while __import__() returns the top-level package or module \n",
    "(e.g. pkg)\"\"\""
   ]
  },
  {
   "cell_type": "code",
   "execution_count": 3,
   "metadata": {},
   "outputs": [
    {
     "name": "stdout",
     "output_type": "stream",
     "text": [
      "This is the main program.\n",
      "recurse(2)\n",
      "recurse(1)\n",
      "recurse(0)\n"
     ]
    }
   ],
   "source": [
    "def recurse(level):\n",
    "    print('recurse({})'.format(level))\n",
    "    if level:\n",
    "        recurse(level - 1)\n",
    "\n",
    "\n",
    "def not_called():\n",
    "    print('This function is never called.')\n",
    "    \n",
    "    \n",
    "def main():\n",
    "    print('This is the main program.')\n",
    "    recurse(2)\n",
    "\n",
    "\n",
    "if __name__ == '__main__':\n",
    "    main()"
   ]
  },
  {
   "cell_type": "code",
   "execution_count": null,
   "metadata": {},
   "outputs": [],
   "source": [
    "# Trace : It is easy use trace directly from the command line. \n",
    "# The statements being executed as the program runs are printed when the --trace option is given.\n",
    "# This example also ignores the location of the Python standard library to avoid tracing into importlib and \n",
    "# other modules that might be more interesting in another example, but that clutter up the output in this simple example.\n",
    "\n",
    " python3 -m trace --ignore-dir=.../lib/python3.7 \\\n",
    "--trace trace_example/main.py\n",
    "\n",
    " --- modulename: main, funcname: <module>\n",
    "main.py(7): \"\"\"\n",
    "main.py(10): from recurse import recurse\n",
    " --- modulename: recurse, funcname: <module>\n",
    "recurse.py(7): \"\"\"\n",
    "recurse.py(11): def recurse(level):\n",
    "recurse.py(17): def not_called():\n",
    "main.py(13): def main():\n",
    "main.py(18): if __name__ == '__main__':\n",
    "main.py(19):     main()\n",
    " --- modulename: main, funcname: main\n",
    "main.py(14):     print('This is the main program.')\n",
    "This is the main program.\n",
    "main.py(15):     recurse(2)\n",
    " --- modulename: recurse, funcname: recurse\n",
    "recurse.py(12):     print('recurse({})'.format(level))\n",
    "recurse(2)\n",
    "recurse.py(13):     if level:\n",
    "recurse.py(14):         recurse(level - 1)\n",
    " --- modulename: recurse, funcname: recurse\n",
    "recurse.py(12):     print('recurse({})'.format(level))\n",
    "recurse(1)\n",
    "recurse.py(13):     if level:\n",
    "recurse.py(14):         recurse(level - 1)\n",
    " --- modulename: recurse, funcname: recurse\n",
    "recurse.py(12):     print('recurse({})'.format(level))\n",
    "recurse(0)\n",
    "recurse.py(13):     if level:"
   ]
  },
  {
   "attachments": {
    "image.png": {
     "image/png": "[encoded data removed]"
    }
   },
   "cell_type": "markdown",
   "metadata": {},
   "source": [
    "![image.png](attachment:image.png)"
   ]
  },
  {
   "cell_type": "markdown",
   "metadata": {},
   "source": [
    "#### traceback :\n",
    "The traceback module works with the call stack to produce error messages. A traceback is a stack trace \n",
    "from the point of an exception handler down the call chain to the \n",
    "point where the exception was raised. Tracebacks also can be accessed from the current call stack up \n",
    "from the point of a call (and without the context of an error), which is useful for finding out the paths being \n",
    "followed into a function.\n",
    "\n",
    "The high-level API in traceback uses StackSummary and FrameSummary instances to hold the representation of the stack. \n",
    "These classes can be constructed from a traceback or the current execution stack, and then processed in the same ways.\n",
    "\n",
    "StackSummary objects represent a call stack ready for formatting\n",
    "\n",
    "FrameSummary objects represent a single frame in a traceback.\n",
    "\n",
    "traceback.walk_stack(f)\n",
    "Walk a stack following f.f_back from the given frame, yielding the frame and line number for each frame. If f is None, the current stack is used. This helper is used with StackSummary.extract().\n",
    "\n",
    "traceback.print_tb(tb, limit=None, file=None)\n",
    "Print up to limit stack trace entries from traceback object tb (starting from the caller’s frame) if limit is positive. Otherwise, print the last abs(limit) entries. If limit is omitted or None, all entries are printed. If file is omitted or None, the output goes to sys.stderr; otherwise it should be an open file or file-like object to receive the output.\n",
    "\n",
    "Changed in version 3.5: Added negative limit support.\n",
    "\n",
    "traceback.print_exception(etype, value, tb, limit=None, file=None, chain=True)\n",
    "Print exception information and stack trace entries from traceback object tb to file. This differs from print_tb() in the following ways:\n",
    "\n",
    "if tb is not None, it prints a header Traceback (most recent call last):\n",
    "\n",
    "it prints the exception etype and value after the stack trace\n",
    "\n",
    "if type(value) is SyntaxError and value has the appropriate format, it prints the line where the syntax error occurred with a caret indicating the approximate position of the error.\n",
    "\n",
    "The optional limit argument has the same meaning as for print_tb(). If chain is true (the default), then chained exceptions (the __cause__ or __context__ attributes of the exception) will be printed as well, like the interpreter itself does when printing an unhandled exception."
   ]
  },
  {
   "cell_type": "code",
   "execution_count": null,
   "metadata": {},
   "outputs": [],
   "source": [
    "import traceback\n",
    "import sys\n",
    "\n",
    "def produce_exception(recursion_level=2):\n",
    "    sys.stdout.flush()\n",
    "    if recursion_level:\n",
    "        produce_exception(recursion_level - 1)\n",
    "    else:\n",
    "        raise RuntimeError()\n",
    "\n",
    "\n",
    "def call_function(f, recursion_level=2):\n",
    "    print(\"Inside Call Function\")\n",
    "    if recursion_level:\n",
    "        return call_function(f, recursion_level - 1)\n",
    "    else:\n",
    "        return f()\n",
    "\n",
    "\n",
    "def f():\n",
    "    print(\"Inside F\")\n",
    "    summary = traceback.StackSummary.extract(\n",
    "        traceback.walk_stack(None)\n",
    "    )\n",
    "    print(''.join(summary.format()))\n",
    "\n",
    "\n",
    "print('Calling f() directly:')\n",
    "f()\n",
    "\n",
    "print()\n",
    "print('Calling f() from 3 levels deep:')\n",
    "call_function(f)\n",
    "\n",
    "\n",
    "if __name__ == '__main__':\n",
    "    f()"
   ]
  },
  {
   "attachments": {
    "image.png": {
     "image/png": "[encoded data removed]"
    }
   },
   "cell_type": "markdown",
   "metadata": {},
   "source": [
    "![image.png](attachment:image.png)"
   ]
  },
  {
   "cell_type": "code",
   "execution_count": null,
   "metadata": {},
   "outputs": [],
   "source": [
    "# The StackSummary is an iterable container holding FrameSummary instances.\n",
    "\n",
    "# formatting output\n",
    "import traceback\n",
    "import sys\n",
    "\n",
    "from traceback_example import call_function\n",
    "\n",
    "template = (\n",
    "    '{fs.filename:<26}:{fs.lineno}:{fs.name}:\\n'\n",
    "    '    {fs.line}'\n",
    ")\n",
    "\n",
    "\n",
    "def f():\n",
    "    summary = traceback.StackSummary.extract(\n",
    "        traceback.walk_stack(None)\n",
    "    )\n",
    "    for fs in summary:\n",
    "        print(template.format(fs=fs))\n",
    "\n",
    "\n",
    "print('Calling f() directly:')\n",
    "f()\n",
    "\n",
    "print()\n",
    "print('Calling f() from 3 levels deep:')\n",
    "call_function(f)"
   ]
  },
  {
   "cell_type": "markdown",
   "metadata": {},
   "source": [
    "$ python3 traceback_framesummary.py\n",
    "\n",
    "Calling f() directly:\n",
    "traceback_framesummary.py :23:f:\n",
    "    traceback.walk_stack(None)\n",
    "traceback_framesummary.py :30:<module>:\n",
    "    f()\n",
    "\n",
    "Calling f() from 3 levels deep:\n",
    "traceback_framesummary.py :23:f:\n",
    "    traceback.walk_stack(None)\n",
    ".../traceback_example.py:26:call_function:\n",
    "    return f()\n",
    ".../traceback_example.py:24:call_function:\n",
    "    return call_function(f, recursion_level - 1)\n",
    ".../traceback_example.py:24:call_function:\n",
    "    return call_function(f, recursion_level - 1)\n",
    "traceback_framesummary.py :34:<module>:\n",
    "    call_function(f)"
   ]
  },
  {
   "cell_type": "code",
   "execution_count": null,
   "metadata": {},
   "outputs": [],
   "source": [
    "# raising exceptions\n",
    "import traceback\n",
    "import sys\n",
    "import os\n",
    "from traceback_example import produce_exception\n",
    "\n",
    "template = '{filename:<23}:{linenum}:{funcname}:\\n    {source}'\n",
    "\n",
    "try:\n",
    "    produce_exception()\n",
    "except Exception as err:\n",
    "    print('format_exception():')\n",
    "    exc_type, exc_value, exc_tb = sys.exc_info()\n",
    "    for tb_info in traceback.extract_tb(exc_tb):\n",
    "        filename, linenum, funcname, source = tb_info\n",
    "        if funcname != '<module>':\n",
    "            funcname = funcname + '()'\n",
    "        print(template.format(\n",
    "            filename=os.path.basename(filename),\n",
    "            linenum=linenum,\n",
    "            source=source,\n",
    "            funcname=funcname)\n",
    "        )\n",
    "# The return value is a list of entries from each level of the stack represented by the traceback. \n",
    "# Each entry is a tuple with four parts: the name of the source file, the line number in that file, the name of the function,\n",
    "# and the source text from that line with whitespace stripped (if the source is available).\n",
    "\"\"\"\n",
    "$ python3 traceback_extract_tb.py\n",
    "\n",
    "format_exception():\n",
    "traceback_extract_tb.py:18:<module>:\n",
    "    produce_exception()\n",
    "traceback_example.py   :17:produce_exception():\n",
    "    produce_exception(recursion_level - 1)\n",
    "traceback_example.py   :17:produce_exception():\n",
    "    produce_exception(recursion_level - 1)\n",
    "traceback_example.py   :19:produce_exception():\n",
    "    raise RuntimeError()\n",
    "    \"\"\""
   ]
  },
  {
   "cell_type": "markdown",
   "metadata": {},
   "source": [
    "### functools : \n",
    "The functools module is for higher-order functions: functions that act on or return other functions. In general, \n",
    "any callable object can be treated as a function for the purposes of this module.\n",
    "\n",
    "1. @functools.lru_cache(maxsize=128, typed=False)\n",
    "Decorator to wrap a function with a memoizing callable that saves up to the maxsize most recent calls. It can save time when an expensive or I/O bound function is periodically called with the same arguments.\n",
    "\n",
    "Since a dictionary is used to cache results, the positional and keyword arguments to the function must be hashable.\n",
    "\n",
    "If maxsize is set to None, the LRU feature is disabled and the cache can grow without bound. The LRU feature performs best when maxsize is a power-of-two.\n",
    "\n",
    "If typed is set to true, function arguments of different types will be cached separately. For example, f(3) and f(3.0) will be treated as distinct calls with distinct results.\n",
    "\n",
    "To help measure the effectiveness of the cache and tune the maxsize parameter, the wrapped function is instrumented with a cache_info() function that returns a named tuple showing hits, misses, maxsize and currsize. In a multi-threaded environment, the hits and misses are approximate.\n",
    "\n",
    "The decorator also provides a cache_clear() function for clearing or invalidating the cache.\n",
    "\n",
    "The original underlying function is accessible through the __wrapped__ attribute. This is useful for introspection, for bypassing the cache, or for rewrapping the function with a different cache.\n",
    "\n",
    "An LRU (least recently used) cache works best when the most recent calls are the best predictors of upcoming calls (for example, the most popular articles on a news server tend to change each day). The cache’s size limit assures that the cache does not grow without bound on long-running processes such as web servers"
   ]
  },
  {
   "cell_type": "code",
   "execution_count": 11,
   "metadata": {},
   "outputs": [
    {
     "data": {
      "text/plain": [
       "[0, 1, 1, 2, 3, 5, 8, 13, 21, 34, 55, 89, 144, 233, 377, 610]"
      ]
     },
     "execution_count": 11,
     "metadata": {},
     "output_type": "execute_result"
    }
   ],
   "source": [
    "import functools\n",
    "\n",
    "@functools.lru_cache(maxsize=None)\n",
    "def fib(n):\n",
    "    if n < 2:\n",
    "        return n\n",
    "    return fib(n-1) + fib(n-2)\n",
    "\n",
    "[fib(n) for n in range(16)]"
   ]
  },
  {
   "cell_type": "code",
   "execution_count": 12,
   "metadata": {},
   "outputs": [
    {
     "data": {
      "text/plain": [
       "CacheInfo(hits=28, misses=16, maxsize=None, currsize=16)"
      ]
     },
     "execution_count": 12,
     "metadata": {},
     "output_type": "execute_result"
    }
   ],
   "source": [
    "fib.cache_info()"
   ]
  },
  {
   "cell_type": "markdown",
   "metadata": {},
   "source": [
    "functools.partial(func, *args, **keywords)\n",
    "Return a new partial object which when called will behave like func called with the positional arguments args and keyword arguments keywords. If more arguments are supplied to the call, they are appended to args. If additional keyword arguments are supplied, they extend and override keywords. Roughly equivalent to:\n",
    "\n"
   ]
  },
  {
   "cell_type": "code",
   "execution_count": null,
   "metadata": {},
   "outputs": [],
   "source": [
    "\"\"\"def partial(func, *args, **keywords):\n",
    "    def newfunc(*fargs, **fkeywords):\n",
    "        newkeywords = keywords.copy()\n",
    "        newkeywords.update(fkeywords)\n",
    "        return func(*args, *fargs, **newkeywords)\n",
    "    newfunc.func = func\n",
    "    newfunc.args = args\n",
    "    newfunc.keywords = keywords\n",
    "    return newfunc\n",
    "\n",
    "The partial() is used for partial function application which “freezes” some portion of a function’s arguments \n",
    "and/or keywords resulting in a new object with a simplified signature\"\"\""
   ]
  },
  {
   "cell_type": "code",
   "execution_count": 13,
   "metadata": {},
   "outputs": [
    {
     "name": "stdout",
     "output_type": "stream",
     "text": [
      "myfunc:\n",
      "  object: <function myfunc at 0x0000023263E6D378>\n",
      "  __name__: myfunc\n"
     ]
    }
   ],
   "source": [
    "import functools\n",
    "\n",
    "\n",
    "def myfunc(a, b=2):\n",
    "    \"Docstring for myfunc().\"\n",
    "    print('  called myfunc with:', (a, b))\n",
    "\n",
    "\n",
    "def show_details(name, f, is_partial=False):\n",
    "    \"Show details of a callable object.\"\n",
    "    print('{}:'.format(name))\n",
    "    print('  object:', f)\n",
    "    if not is_partial:\n",
    "        print('  __name__:', f.__name__)\n",
    "    if is_partial:\n",
    "        print('  func:', f.func)\n",
    "        print('  args:', f.args)\n",
    "        print('  keywords:', f.keywords)\n",
    "    return\n",
    "\n",
    "\n",
    "show_details('myfunc', myfunc)"
   ]
  },
  {
   "cell_type": "code",
   "execution_count": 14,
   "metadata": {},
   "outputs": [
    {
     "name": "stdout",
     "output_type": "stream",
     "text": [
      "  called myfunc with: ('a', 3)\n"
     ]
    }
   ],
   "source": [
    "myfunc('a', 3)"
   ]
  },
  {
   "cell_type": "code",
   "execution_count": 15,
   "metadata": {},
   "outputs": [],
   "source": [
    "# creating a partial of myfunc\n",
    "p1 = functools.partial(myfunc, b=4)"
   ]
  },
  {
   "cell_type": "code",
   "execution_count": 16,
   "metadata": {},
   "outputs": [
    {
     "name": "stdout",
     "output_type": "stream",
     "text": [
      "partial with named default:\n",
      "  object: functools.partial(<function myfunc at 0x0000023263E6D378>, b=4)\n",
      "  func: <function myfunc at 0x0000023263E6D378>\n",
      "  args: ()\n",
      "  keywords: {'b': 4}\n"
     ]
    }
   ],
   "source": [
    "show_details('partial with named default', p1, True)"
   ]
  },
  {
   "cell_type": "code",
   "execution_count": 17,
   "metadata": {},
   "outputs": [
    {
     "name": "stdout",
     "output_type": "stream",
     "text": [
      "  called myfunc with: ('passing a', 4)\n"
     ]
    }
   ],
   "source": [
    "p1('passing a') # retains value of b."
   ]
  },
  {
   "cell_type": "code",
   "execution_count": 18,
   "metadata": {},
   "outputs": [
    {
     "name": "stdout",
     "output_type": "stream",
     "text": [
      "  called myfunc with: ('override b', 5)\n"
     ]
    }
   ],
   "source": [
    "p1('override b', b=5)"
   ]
  },
  {
   "cell_type": "code",
   "execution_count": 20,
   "metadata": {},
   "outputs": [
    {
     "name": "stdout",
     "output_type": "stream",
     "text": [
      "partial with defaults:\n",
      "  object: functools.partial(<function myfunc at 0x0000023263E6D378>, 'default a', b=99)\n",
      "  func: <function myfunc at 0x0000023263E6D378>\n",
      "  args: ('default a',)\n",
      "  keywords: {'b': 99}\n"
     ]
    }
   ],
   "source": [
    "p2 = functools.partial(myfunc, 'default a', b=99)\n",
    "show_details('partial with defaults', p2, True)"
   ]
  },
  {
   "cell_type": "code",
   "execution_count": 21,
   "metadata": {},
   "outputs": [
    {
     "name": "stdout",
     "output_type": "stream",
     "text": [
      "  called myfunc with: ('default a', 99)\n"
     ]
    }
   ],
   "source": [
    "p2()\n"
   ]
  },
  {
   "cell_type": "code",
   "execution_count": 22,
   "metadata": {},
   "outputs": [
    {
     "name": "stdout",
     "output_type": "stream",
     "text": [
      "  called myfunc with: ('default a', 'override b')\n"
     ]
    }
   ],
   "source": [
    "p2(b='override b')"
   ]
  },
  {
   "cell_type": "code",
   "execution_count": 23,
   "metadata": {},
   "outputs": [
    {
     "name": "stdout",
     "output_type": "stream",
     "text": [
      "Insufficient arguments:\n"
     ]
    },
    {
     "ename": "TypeError",
     "evalue": "myfunc() missing 1 required positional argument: 'a'",
     "output_type": "error",
     "traceback": [
      "\u001b[1;31m---------------------------------------------------------------------------\u001b[0m",
      "\u001b[1;31mTypeError\u001b[0m                                 Traceback (most recent call last)",
      "\u001b[1;32m<ipython-input-23-3cd3add8f640>\u001b[0m in \u001b[0;36m<module>\u001b[1;34m\u001b[0m\n\u001b[0;32m      1\u001b[0m \u001b[0mprint\u001b[0m\u001b[1;33m(\u001b[0m\u001b[1;34m'Insufficient arguments:'\u001b[0m\u001b[1;33m)\u001b[0m\u001b[1;33m\u001b[0m\u001b[1;33m\u001b[0m\u001b[0m\n\u001b[1;32m----> 2\u001b[1;33m \u001b[0mp1\u001b[0m\u001b[1;33m(\u001b[0m\u001b[1;33m)\u001b[0m\u001b[1;33m\u001b[0m\u001b[1;33m\u001b[0m\u001b[0m\n\u001b[0m",
      "\u001b[1;31mTypeError\u001b[0m: myfunc() missing 1 required positional argument: 'a'"
     ]
    }
   ],
   "source": [
    "print('Insufficient arguments:')\n",
    "p1()"
   ]
  },
  {
   "cell_type": "code",
   "execution_count": 24,
   "metadata": {},
   "outputs": [
    {
     "name": "stdout",
     "output_type": "stream",
     "text": [
      "myfunc:\n",
      "  object: <function myfunc at 0x0000023263E38F28>\n",
      "  __name__: myfunc\n",
      "  __doc__ 'Docstring for myfunc().'\n",
      "\n",
      "raw wrapper:\n",
      "  object: functools.partial(<function myfunc at 0x0000023263E38F28>, b=4)\n",
      "  __name__: (no __name__)\n",
      "  __doc__ 'partial(func, *args, **keywords) - new function with partial application\\n    of the given arguments and keywords.\\n'\n",
      "\n",
      "Updating wrapper:\n",
      "  assign: ('__module__', '__name__', '__qualname__', '__doc__', '__annotations__')\n",
      "  update: ('__dict__',)\n",
      "\n",
      "updated wrapper:\n",
      "  object: functools.partial(<function myfunc at 0x0000023263E38F28>, b=4)\n",
      "  __name__: myfunc\n",
      "  __doc__ 'Docstring for myfunc().'\n",
      "\n"
     ]
    }
   ],
   "source": [
    "# Acquiring Function Properties\n",
    "# The partial object does not have __name__ or __doc__ attributes by default, \n",
    "# and without those attributes, decorated functions are more difficult to debug. Using update_wrapper(), \n",
    "# copies or adds attributes from the original function to the partial object.\n",
    "\n",
    "# functools_update_wrapper.py\n",
    "import functools\n",
    "\n",
    "\n",
    "def myfunc(a, b=2):\n",
    "    \"Docstring for myfunc().\"\n",
    "    print('  called myfunc with:', (a, b))\n",
    "\n",
    "\n",
    "def show_details(name, f):\n",
    "    \"Show details of a callable object.\"\n",
    "    print('{}:'.format(name))\n",
    "    print('  object:', f)\n",
    "    print('  __name__:', end=' ')\n",
    "    try:\n",
    "        print(f.__name__)\n",
    "    except AttributeError:\n",
    "        print('(no __name__)')\n",
    "    print('  __doc__', repr(f.__doc__))\n",
    "    print()\n",
    "\n",
    "\n",
    "show_details('myfunc', myfunc)\n",
    "\n",
    "p1 = functools.partial(myfunc, b=4)\n",
    "show_details('raw wrapper', p1)\n",
    "\n",
    "print('Updating wrapper:')\n",
    "print('  assign:', functools.WRAPPER_ASSIGNMENTS)\n",
    "print('  update:', functools.WRAPPER_UPDATES)\n",
    "print()\n",
    "\n",
    "functools.update_wrapper(p1, myfunc)\n",
    "show_details('updated wrapper', p1)"
   ]
  },
  {
   "cell_type": "code",
   "execution_count": 25,
   "metadata": {},
   "outputs": [
    {
     "name": "stdout",
     "output_type": "stream",
     "text": [
      "instance:\n",
      "  object: <__main__.MyClass object at 0x0000023263E8D5C0>\n",
      "  __name__: (no __name__)\n",
      "  __doc__ 'Demonstration class for functools'\n",
      "  called object with: (<__main__.MyClass object at 0x0000023263E8D5C0>, 'e goes here', 6)\n",
      "\n"
     ]
    }
   ],
   "source": [
    "class MyClass:\n",
    "    \"Demonstration class for functools\"\n",
    "\n",
    "    def __call__(self, e, f=6):\n",
    "        \"Docstring for MyClass.__call__\"\n",
    "        print('  called object with:', (self, e, f))\n",
    "\n",
    "\n",
    "def show_details(name, f):\n",
    "    \"Show details of a callable object.\"\n",
    "    print('{}:'.format(name))\n",
    "    print('  object:', f)\n",
    "    print('  __name__:', end=' ')\n",
    "    try:\n",
    "        print(f.__name__)\n",
    "    except AttributeError:\n",
    "        print('(no __name__)')\n",
    "    print('  __doc__', repr(f.__doc__))\n",
    "    return\n",
    "\n",
    "\n",
    "o = MyClass()\n",
    "\n",
    "show_details('instance', o)\n",
    "o('e goes here')\n",
    "print()\n",
    "\n"
   ]
  },
  {
   "cell_type": "code",
   "execution_count": 26,
   "metadata": {},
   "outputs": [
    {
     "name": "stdout",
     "output_type": "stream",
     "text": [
      "instance wrapper:\n",
      "  object: functools.partial(<__main__.MyClass object at 0x0000023263E8D5C0>, e='default for e', f=8)\n",
      "  __name__: (no __name__)\n",
      "  __doc__ 'Demonstration class for functools'\n",
      "  called object with: (<__main__.MyClass object at 0x0000023263E8D5C0>, 'default for e', 8)\n"
     ]
    }
   ],
   "source": [
    "p = functools.partial(o, e='default for e', f=8)\n",
    "functools.update_wrapper(p, o)\n",
    "show_details('instance wrapper', p)\n",
    "p()"
   ]
  },
  {
   "cell_type": "code",
   "execution_count": 27,
   "metadata": {},
   "outputs": [],
   "source": [
    "def standalone(self, a=1, b=2):\n",
    "    \"Standalone function\"\n",
    "    print('  called standalone with:', (self, a, b))\n",
    "    if self is not None:\n",
    "        print('  self.attr =', self.attr)\n",
    "\n",
    "\n",
    "class MyClass:\n",
    "    \"Demonstration class for functools\"\n",
    "\n",
    "    def __init__(self):\n",
    "        self.attr = 'instance attribute'\n",
    "\n",
    "    method1 = functools.partialmethod(standalone)\n",
    "    method2 = functools.partial(standalone)"
   ]
  },
  {
   "cell_type": "markdown",
   "metadata": {},
   "source": [
    "Methods and Functions\n",
    "While partial() returns a callable ready to be used directly, partialmethod() returns a callable ready to be used as an unbound method of an object. In the following example, the same standalone function is added as an attribute of MyClass twice, once using partialmethod() as method1() and again using partial() as method2()."
   ]
  },
  {
   "cell_type": "code",
   "execution_count": 30,
   "metadata": {},
   "outputs": [
    {
     "name": "stdout",
     "output_type": "stream",
     "text": [
      "standalone\n",
      "  called standalone with: (None, 1, 2)\n",
      "\n",
      "method1 as partialmethod\n",
      "  called standalone with: (<__main__.MyClass object at 0x0000023263E8DA20>, 1, 2)\n",
      "  self.attr = instance attribute\n",
      "\n",
      "method2 as partial\n",
      "ERROR: standalone() missing 1 required positional argument: 'self'\n"
     ]
    }
   ],
   "source": [
    "o = MyClass()\n",
    "\n",
    "print('standalone')\n",
    "standalone(None)\n",
    "print()\n",
    "\n",
    "print('method1 as partialmethod')\n",
    "o.method1()\n",
    "print()\n",
    "\n",
    "print('method2 as partial')\n",
    "try:\n",
    "    o.method2()\n",
    "except TypeError as err:\n",
    "    print('ERROR: {}'.format(err))"
   ]
  },
  {
   "cell_type": "markdown",
   "metadata": {},
   "source": [
    "Rich Comparison\n",
    "The rich comparison API is designed to allow classes with complex comparisons to implement each test in the most efficient way possible. However, for classes where comparison is relatively simple, there is no point in manually creating each of the rich comparison methods. The total_ordering() class decorator takes a class that provides some of the methods, and adds the rest of them"
   ]
  },
  {
   "cell_type": "code",
   "execution_count": 31,
   "metadata": {},
   "outputs": [],
   "source": [
    "import functools\n",
    "import inspect\n",
    "from pprint import pprint\n",
    "\n",
    "\n",
    "@functools.total_ordering\n",
    "class MyObject:\n",
    "\n",
    "    def __init__(self, val):\n",
    "        self.val = val\n",
    "\n",
    "    def __eq__(self, other):\n",
    "        print('  testing __eq__({}, {})'.format(\n",
    "            self.val, other.val))\n",
    "        return self.val == other.val\n",
    "\n",
    "    def __gt__(self, other):\n",
    "        print('  testing __gt__({}, {})'.format(\n",
    "            self.val, other.val))\n",
    "        return self.val > other.val"
   ]
  },
  {
   "cell_type": "code",
   "execution_count": 32,
   "metadata": {},
   "outputs": [
    {
     "name": "stdout",
     "output_type": "stream",
     "text": [
      "Methods:\n",
      "\n",
      "[('__eq__', <function MyObject.__eq__ at 0x0000023263E6DEA0>),\n",
      " ('__ge__', <function _ge_from_gt at 0x0000023260DD8268>),\n",
      " ('__gt__', <function MyObject.__gt__ at 0x0000023263E6D620>),\n",
      " ('__init__', <function MyObject.__init__ at 0x0000023263E6DC80>),\n",
      " ('__le__', <function _le_from_gt at 0x0000023260DD82F0>),\n",
      " ('__lt__', <function _lt_from_gt at 0x0000023260DD81E0>)]\n"
     ]
    }
   ],
   "source": [
    "print('Methods:\\n')\n",
    "pprint(inspect.getmembers(MyObject, inspect.isfunction))"
   ]
  },
  {
   "cell_type": "code",
   "execution_count": 33,
   "metadata": {},
   "outputs": [
    {
     "name": "stdout",
     "output_type": "stream",
     "text": [
      "\n",
      "Comparisons:\n",
      "\n",
      "a < b :\n",
      "  testing __gt__(1, 2)\n",
      "  testing __eq__(1, 2)\n",
      "  result of a < b: True\n",
      "\n",
      "a <= b:\n",
      "  testing __gt__(1, 2)\n",
      "  result of a <= b: True\n",
      "\n",
      "a == b:\n",
      "  testing __eq__(1, 2)\n",
      "  result of a == b: False\n",
      "\n",
      "a >= b:\n",
      "  testing __gt__(1, 2)\n",
      "  testing __eq__(1, 2)\n",
      "  result of a >= b: False\n",
      "\n",
      "a > b :\n",
      "  testing __gt__(1, 2)\n",
      "  result of a > b: False\n"
     ]
    }
   ],
   "source": [
    "a = MyObject(1)\n",
    "b = MyObject(2)\n",
    "\n",
    "print('\\nComparisons:')\n",
    "for expr in ['a < b', 'a <= b', 'a == b', 'a >= b', 'a > b']:\n",
    "    print('\\n{:<6}:'.format(expr))\n",
    "    result = eval(expr)\n",
    "    print('  result of {}: {}'.format(expr, result))"
   ]
  },
  {
   "cell_type": "code",
   "execution_count": 55,
   "metadata": {},
   "outputs": [],
   "source": [
    "import pandas as pd\n",
    "# df = pd.read_excel(r\"C:\\Users\\sachin.b.prakash\\TFS-ProcessManager\\Sprints\\Sprint10\\TestFile.xlsx\")\n",
    "file_name = r\"C:\\Users\\sachin.b.prakash\\TFS-ProcessManager\\Sprints\\Sprint10\\TestFile.xlsx\"\n",
    "df = pd.read_excel(file_name,parse_dates=False)"
   ]
  },
  {
   "cell_type": "code",
   "execution_count": 52,
   "metadata": {},
   "outputs": [
    {
     "data": {
      "text/plain": [
       "3"
      ]
     },
     "execution_count": 52,
     "metadata": {},
     "output_type": "execute_result"
    }
   ],
   "source": [
    "len(df)"
   ]
  },
  {
   "cell_type": "code",
   "execution_count": 56,
   "metadata": {},
   "outputs": [
    {
     "data": {
      "text/html": [
       "<div>\n",
       "<style scoped>\n",
       "    .dataframe tbody tr th:only-of-type {\n",
       "        vertical-align: middle;\n",
       "    }\n",
       "\n",
       "    .dataframe tbody tr th {\n",
       "        vertical-align: top;\n",
       "    }\n",
       "\n",
       "    .dataframe thead th {\n",
       "        text-align: right;\n",
       "    }\n",
       "</style>\n",
       "<table border=\"1\" class=\"dataframe\">\n",
       "  <thead>\n",
       "    <tr style=\"text-align: right;\">\n",
       "      <th></th>\n",
       "      <th>Text</th>\n",
       "      <th>Number</th>\n",
       "      <th>Date</th>\n",
       "    </tr>\n",
       "  </thead>\n",
       "  <tbody>\n",
       "    <tr>\n",
       "      <th>0</th>\n",
       "      <td>prakash</td>\n",
       "      <td>456.000</td>\n",
       "      <td>15/3/2021</td>\n",
       "    </tr>\n",
       "    <tr>\n",
       "      <th>1</th>\n",
       "      <td>ravi</td>\n",
       "      <td>789.666</td>\n",
       "      <td>15-3-2021 14:45:44</td>\n",
       "    </tr>\n",
       "    <tr>\n",
       "      <th>2</th>\n",
       "      <td>pankaj</td>\n",
       "      <td>344.000</td>\n",
       "      <td>2021-03-16 00:00:00</td>\n",
       "    </tr>\n",
       "  </tbody>\n",
       "</table>\n",
       "</div>"
      ],
      "text/plain": [
       "      Text   Number                 Date\n",
       "0  prakash  456.000            15/3/2021\n",
       "1     ravi  789.666   15-3-2021 14:45:44\n",
       "2   pankaj  344.000  2021-03-16 00:00:00"
      ]
     },
     "execution_count": 56,
     "metadata": {},
     "output_type": "execute_result"
    }
   ],
   "source": [
    "df"
   ]
  },
  {
   "cell_type": "code",
   "execution_count": 57,
   "metadata": {},
   "outputs": [
    {
     "data": {
      "text/plain": [
       "Timestamp('2021-03-16 00:00:00')"
      ]
     },
     "execution_count": 57,
     "metadata": {},
     "output_type": "execute_result"
    }
   ],
   "source": [
    "df.iloc[2,2]"
   ]
  },
  {
   "cell_type": "code",
   "execution_count": 59,
   "metadata": {},
   "outputs": [],
   "source": [
    "df2 = pd.read_excel(file_name,parse_dates=False)"
   ]
  },
  {
   "cell_type": "code",
   "execution_count": 60,
   "metadata": {},
   "outputs": [
    {
     "data": {
      "text/plain": [
       "{'Text': {0: 'prakash', 1: 'ravi', 2: 'pankaj'},\n",
       " 'Number': {0: 456.0, 1: 789.666, 2: 344.0},\n",
       " 'Date': {0: '15/3/2021',\n",
       "  1: '15-3-2021 14:45:44',\n",
       "  2: datetime.datetime(2021, 3, 16, 0, 0)}}"
      ]
     },
     "execution_count": 60,
     "metadata": {},
     "output_type": "execute_result"
    }
   ],
   "source": [
    "df2.to_dict()"
   ]
  },
  {
   "cell_type": "markdown",
   "metadata": {},
   "source": [
    "#### Itertools"
   ]
  },
  {
   "cell_type": "code",
   "execution_count": 61,
   "metadata": {},
   "outputs": [
    {
     "name": "stdout",
     "output_type": "stream",
     "text": [
      "1 2 3 a b c \n"
     ]
    }
   ],
   "source": [
    "# The chain() function takes several iterators as arguments and returns a single iterator \n",
    "# that produces the contents of all of the inputs as though they came from a single iterator.\n",
    "\n",
    "# itertools_chain.py\n",
    "from itertools import *\n",
    "\n",
    "for i in chain([1, 2, 3], ['a', 'b', 'c']):\n",
    "    print(i, end=' ')\n",
    "print()"
   ]
  },
  {
   "cell_type": "code",
   "execution_count": 62,
   "metadata": {},
   "outputs": [
    {
     "name": "stdout",
     "output_type": "stream",
     "text": [
      "(1, 'a')\n",
      "(2, 'b')\n",
      "(3, 'c')\n"
     ]
    }
   ],
   "source": [
    "# The built-in function zip() returns an iterator that combines the elements of several iterators into tuples.\n",
    "\n",
    "# itertools_zip.py\n",
    "for i in zip([1, 2, 3], ['a', 'b', 'c']):\n",
    "    print(i)"
   ]
  },
  {
   "cell_type": "code",
   "execution_count": 63,
   "metadata": {},
   "outputs": [
    {
     "name": "stdout",
     "output_type": "stream",
     "text": [
      "zip stops early:\n",
      "[(0, 0), (1, 1)]\n",
      "\n",
      "zip_longest processes all of the values:\n",
      "[(0, 0), (1, 1), (2, None)]\n"
     ]
    }
   ],
   "source": [
    "# zip() stops when the first input iterator is exhausted. To process all of the inputs, \n",
    "# even if the iterators produce different numbers of values, use zip_longest().\n",
    "\n",
    "# itertools_zip_longest.py\n",
    "from itertools import *\n",
    "\n",
    "r1 = range(3)\n",
    "r2 = range(2)\n",
    "\n",
    "print('zip stops early:')\n",
    "print(list(zip(r1, r2)))\n",
    "\n",
    "r1 = range(3)\n",
    "r2 = range(2)\n",
    "\n",
    "print('\\nzip_longest processes all of the values:')\n",
    "print(list(zip_longest(r1, r2)))\n",
    "# By default, zip_longest() substitutes None for any missing values. Use the fillvalue argument\n",
    "# to use a different substitute value."
   ]
  },
  {
   "cell_type": "code",
   "execution_count": 64,
   "metadata": {},
   "outputs": [
    {
     "name": "stdout",
     "output_type": "stream",
     "text": [
      "Stop at 5:\n",
      "0 1 2 3 4 \n",
      "\n",
      "Start at 5, Stop at 10:\n",
      "5 6 7 8 9 \n",
      "\n",
      "By tens to 100:\n",
      "0 10 20 30 40 50 60 70 80 90 \n",
      "\n"
     ]
    }
   ],
   "source": [
    "# The islice() function returns an iterator which returns selected items from the input iterator, by index.\n",
    "\n",
    "# itertools_islice.py\n",
    "from itertools import *\n",
    "\n",
    "print('Stop at 5:')\n",
    "for i in islice(range(100), 5):\n",
    "    print(i, end=' ')\n",
    "print('\\n')\n",
    "\n",
    "print('Start at 5, Stop at 10:')\n",
    "for i in islice(range(100), 5, 10):\n",
    "    print(i, end=' ')\n",
    "print('\\n')\n",
    "\n",
    "print('By tens to 100:')\n",
    "for i in islice(range(100), 0, 100, 10):\n",
    "    print(i, end=' ')\n",
    "print('\\n')\n",
    "# islice() takes the same arguments as the slice operator for lists: start, stop, and step.\n",
    "#     The start and step arguments are optional."
   ]
  },
  {
   "cell_type": "code",
   "execution_count": 65,
   "metadata": {},
   "outputs": [
    {
     "name": "stdout",
     "output_type": "stream",
     "text": [
      "i1: [0, 1, 2, 3, 4, 5, 6]\n",
      "i2: [0, 1, 2, 3, 4, 5, 6]\n"
     ]
    }
   ],
   "source": [
    "# The tee() function returns several independent iterators (defaults to 2) based on a single original input.\n",
    "\n",
    "# itertools_tee.py\n",
    "from itertools import *\n",
    "\n",
    "r = islice(count(), 7)\n",
    "i1, i2 = tee(r)\n",
    "\n",
    "print('i1:', list(i1))\n",
    "print('i2:', list(i2))"
   ]
  },
  {
   "cell_type": "code",
   "execution_count": 66,
   "metadata": {},
   "outputs": [
    {
     "name": "stdout",
     "output_type": "stream",
     "text": [
      "r: 0 1 2 \n",
      "i1: [3, 4]\n",
      "i2: [3, 4]\n"
     ]
    }
   ],
   "source": [
    "# The new iterators created by tee() share their input, so the original iterator should not\n",
    "# be used after the new ones are created.\n",
    "\n",
    "# itertools_tee_error.py\n",
    "from itertools import *\n",
    "\n",
    "r = islice(count(), 5)\n",
    "i1, i2 = tee(r)\n",
    "\n",
    "print('r:', end=' ')\n",
    "for i in r:\n",
    "    print(i, end=' ')\n",
    "    if i > 1:\n",
    "        break\n",
    "print()\n",
    "\n",
    "print('i1:', list(i1))\n",
    "print('i2:', list(i2))\n",
    "# If values are consumed from the original input, the new iterators will not produce those values:"
   ]
  },
  {
   "cell_type": "code",
   "execution_count": 67,
   "metadata": {},
   "outputs": [
    {
     "name": "stdout",
     "output_type": "stream",
     "text": [
      "Doubles:\n",
      "0\n",
      "2\n",
      "4\n",
      "6\n",
      "8\n",
      "\n",
      "Multiples:\n",
      "0 * 5 = 0\n",
      "1 * 6 = 6\n",
      "2 * 7 = 14\n",
      "3 * 8 = 24\n",
      "4 * 9 = 36\n",
      "\n",
      "Stopping:\n",
      "(0, 0, 0)\n",
      "(1, 1, 1)\n"
     ]
    }
   ],
   "source": [
    "# The built-in map() function returns an iterator that calls a function on the values in the input iterators, \n",
    "# and returns the results. It stops when any input iterator is exhausted.\n",
    "\n",
    "# itertools_map.py\n",
    "\n",
    "def times_two(x):\n",
    "    return 2 * x\n",
    "\n",
    "\n",
    "def multiply(x, y):\n",
    "    return (x, y, x * y)\n",
    "\n",
    "\n",
    "print('Doubles:')\n",
    "for i in map(times_two, range(5)):\n",
    "    print(i)\n",
    "\n",
    "print('\\nMultiples:')\n",
    "r1 = range(5)\n",
    "r2 = range(5, 10)\n",
    "for i in map(multiply, r1, r2):\n",
    "    print('{:d} * {:d} = {:d}'.format(*i))\n",
    "\n",
    "print('\\nStopping:')\n",
    "r1 = range(5)\n",
    "r2 = range(2)\n",
    "for i in map(multiply, r1, r2):\n",
    "    print(i)\n",
    "\n",
    "# In the first example, the lambda function multiplies the input values by 2.\n",
    "# In a second example, the lambda function multiplies two arguments, \n",
    "# taken from separate iterators, and returns a tuple with the original arguments and the computed value. \n",
    "# The third example stops after producing two tuples because the second range is exhausted."
   ]
  },
  {
   "cell_type": "code",
   "execution_count": 60,
   "metadata": {},
   "outputs": [
    {
     "ename": "SyntaxError",
     "evalue": "invalid syntax (<ipython-input-60-e4bc1af30331>, line 1)",
     "output_type": "error",
     "traceback": [
      "\u001b[1;36m  File \u001b[1;32m\"<ipython-input-60-e4bc1af30331>\"\u001b[1;36m, line \u001b[1;32m1\u001b[0m\n\u001b[1;33m    y = lambda x : x*x for x in range(5)\u001b[0m\n\u001b[1;37m                         ^\u001b[0m\n\u001b[1;31mSyntaxError\u001b[0m\u001b[1;31m:\u001b[0m invalid syntax\n"
     ]
    }
   ],
   "source": [
    "y = lambda x : x*x for x in range(5)\n",
    "print(y([2,4]))"
   ]
  },
  {
   "cell_type": "code",
   "execution_count": 68,
   "metadata": {},
   "outputs": [
    {
     "name": "stdout",
     "output_type": "stream",
     "text": [
      "(1, 'a')\n",
      "(2, 'b')\n",
      "(3, 'c')\n"
     ]
    }
   ],
   "source": [
    "# The count() function returns an iterator that produces consecutive integers, indefinitely. \n",
    "# The first number can be passed as an argument (the default is zero). \n",
    "# There is no upper bound argument (see the built-in range() for more control over the result set).\n",
    "\n",
    "# itertools_count.py\n",
    "from itertools import *\n",
    "\n",
    "for i in zip(count(1), ['a', 'b', 'c']):\n",
    "    print(i)"
   ]
  },
  {
   "cell_type": "code",
   "execution_count": 69,
   "metadata": {},
   "outputs": [
    {
     "name": "stdout",
     "output_type": "stream",
     "text": [
      "1/3: a\n",
      "2/3: b\n",
      "1: c\n"
     ]
    }
   ],
   "source": [
    "# The start and step arguments to count() can be any numerical values that can be added together.\n",
    "\n",
    "# itertools_count_step.py\n",
    "import fractions\n",
    "from itertools import *\n",
    "\n",
    "start = fractions.Fraction(1, 3)\n",
    "step = fractions.Fraction(1, 3)\n",
    "\n",
    "for i in zip(count(start, step), ['a', 'b', 'c']):\n",
    "    print('{}: {}'.format(*i))"
   ]
  },
  {
   "cell_type": "code",
   "execution_count": 70,
   "metadata": {},
   "outputs": [
    {
     "name": "stdout",
     "output_type": "stream",
     "text": [
      "(0, 'a')\n",
      "(1, 'b')\n",
      "(2, 'c')\n",
      "(3, 'a')\n",
      "(4, 'b')\n",
      "(5, 'c')\n",
      "(6, 'a')\n"
     ]
    }
   ],
   "source": [
    "# The cycle() function returns an iterator that repeats the contents of the arguments it is given indefinitely. \n",
    "# Since it has to remember the entire contents of the input iterator, it may consume quite a bit of memory if \n",
    "# the iterator is long.\n",
    "\n",
    "# itertools_cycle.py\n",
    "from itertools import *\n",
    "\n",
    "for i in zip(range(7), cycle(['a', 'b', 'c'])):\n",
    "    print(i)"
   ]
  },
  {
   "cell_type": "code",
   "execution_count": 71,
   "metadata": {},
   "outputs": [
    {
     "name": "stdout",
     "output_type": "stream",
     "text": [
      "over-and-over\n",
      "over-and-over\n",
      "over-and-over\n",
      "over-and-over\n",
      "over-and-over\n"
     ]
    }
   ],
   "source": [
    "# The repeat() function returns an iterator that produces the same value each time it is accessed.\n",
    "\n",
    "# itertools_repeat.py\n",
    "from itertools import *\n",
    "\n",
    "for i in repeat('over-and-over', 5):\n",
    "    print(i)"
   ]
  },
  {
   "cell_type": "code",
   "execution_count": 72,
   "metadata": {},
   "outputs": [
    {
     "name": "stdout",
     "output_type": "stream",
     "text": [
      "0 over-and-over\n",
      "1 over-and-over\n",
      "2 over-and-over\n",
      "3 over-and-over\n",
      "4 over-and-over\n"
     ]
    }
   ],
   "source": [
    "for i in zip(count(), repeat('over-and-over', 5)):\n",
    "    print(*i)"
   ]
  },
  {
   "cell_type": "code",
   "execution_count": 73,
   "metadata": {},
   "outputs": [
    {
     "name": "stdout",
     "output_type": "stream",
     "text": [
      "Testing: -1\n",
      "Testing: 0\n",
      "Testing: 1\n",
      "Yielding: 1\n",
      "Yielding: 2\n",
      "Yielding: -2\n"
     ]
    }
   ],
   "source": [
    "# The dropwhile() function returns an iterator that produces elements of the input iterator after a \n",
    "# condition becomes false for the first time.\n",
    "\n",
    "# itertools_dropwhile.py\n",
    "from itertools import *\n",
    "\n",
    "\n",
    "def should_drop(x):\n",
    "    print('Testing:', x)\n",
    "    return x < 1\n",
    "\n",
    "\n",
    "for i in dropwhile(should_drop, [-1, 0, 1, 2, -2]):\n",
    "    print('Yielding:', i)\n",
    "# dropwhile() does not filter every item of the input; after the condition is false the first time, \n",
    "# all of the remaining items in the input are returned.\n"
   ]
  },
  {
   "cell_type": "code",
   "execution_count": 74,
   "metadata": {},
   "outputs": [
    {
     "name": "stdout",
     "output_type": "stream",
     "text": [
      "Testing: -1\n",
      "Yielding: -1\n",
      "Testing: 0\n",
      "Yielding: 0\n",
      "Testing: 1\n",
      "Yielding: 1\n",
      "Testing: 2\n"
     ]
    }
   ],
   "source": [
    "# The opposite of dropwhile() is takewhile(). It returns an iterator that returns items from the input\n",
    "# iterator as long as the test function returns true.\n",
    "\n",
    "# itertools_takewhile.py\n",
    "from itertools import *\n",
    "\n",
    "\n",
    "def should_take(x):\n",
    "    print('Testing:', x)\n",
    "    return x < 2\n",
    "\n",
    "\n",
    "for i in takewhile(should_take, [-1, 0, 1, 2, -2]):\n",
    "    print('Yielding:', i)"
   ]
  },
  {
   "cell_type": "code",
   "execution_count": 75,
   "metadata": {},
   "outputs": [
    {
     "name": "stdout",
     "output_type": "stream",
     "text": [
      "Testing: -1\n",
      "Yielding: -1\n",
      "Testing: 0\n",
      "Yielding: 0\n",
      "Testing: 1\n",
      "Testing: 2\n",
      "Testing: -2\n",
      "Yielding: -2\n"
     ]
    }
   ],
   "source": [
    "# The built-in function filter() returns an iterator that includes only items for which the test function returns true.\n",
    "\n",
    "# itertools_filter.py\n",
    "from itertools import *\n",
    "\n",
    "\n",
    "def check_item(x):\n",
    "    print('Testing:', x)\n",
    "    return x < 1\n",
    "\n",
    "\n",
    "for i in filter(check_item, [-1, 0, 1, 2, -2]):\n",
    "    print('Yielding:', i)"
   ]
  },
  {
   "cell_type": "code",
   "execution_count": 1,
   "metadata": {},
   "outputs": [],
   "source": [
    "# https://pymotw.com/3/\n",
    "# Read collections,contextlib, enum, bisect from link."
   ]
  },
  {
   "cell_type": "markdown",
   "metadata": {},
   "source": [
    "#### queue — Thread-Safe FIFO Implementation¶\n",
    "Purpose:\tProvides a thread-safe FIFO implementation\n",
    "The queue module provides a first-in, first-out (FIFO) data structure suitable for multi-threaded programming. It can be used to pass messages or other data between producer and consumer threads safely. Locking is handled for the caller, so many threads can work with the same Queue instance safely and easily. The size of a Queue (the number of elements it contains) may be restricted to throttle memory usage or processing."
   ]
  },
  {
   "cell_type": "code",
   "execution_count": 2,
   "metadata": {},
   "outputs": [
    {
     "name": "stdout",
     "output_type": "stream",
     "text": [
      "0 1 2 3 4 \n"
     ]
    }
   ],
   "source": [
    "# Basic FIFO Queue\n",
    "# The Queue class implements a basic first-in, first-out container. \n",
    "# Elements are added to one “end” of the sequence using put(), and removed from the other end using get().\n",
    "\n",
    "# queue_fifo.py\n",
    "import queue\n",
    "\n",
    "q = queue.Queue()\n",
    "\n",
    "for i in range(5):\n",
    "    q.put(i)\n",
    "\n",
    "while not q.empty():\n",
    "    print(q.get(), end=' ')\n",
    "print()"
   ]
  },
  {
   "cell_type": "code",
   "execution_count": 3,
   "metadata": {},
   "outputs": [
    {
     "name": "stdout",
     "output_type": "stream",
     "text": [
      "4 3 2 1 0 \n"
     ]
    }
   ],
   "source": [
    "# LIFO Queue\n",
    "# In contrast to the standard FIFO implementation of Queue, the LifoQueue uses last-in, \n",
    "# first-out ordering (normally associated with a stack data structure).\n",
    "\n",
    "# queue_lifo.py\n",
    "import queue\n",
    "\n",
    "q = queue.LifoQueue()\n",
    "\n",
    "for i in range(5):\n",
    "    q.put(i)\n",
    "\n",
    "while not q.empty():\n",
    "    print(q.get(), end=' ')\n",
    "print()"
   ]
  },
  {
   "cell_type": "markdown",
   "metadata": {},
   "source": [
    "#### Inspect"
   ]
  },
  {
   "cell_type": "markdown",
   "metadata": {},
   "source": [
    "The inspect module provides functions for learning about live objects, including modules, classes, instances, functions, and methods. The functions in this module can be used to retrieve the original source code for a function, look at the arguments to a method on the stack, and extract the sort of information useful for producing library documentation for source code."
   ]
  },
  {
   "cell_type": "code",
   "execution_count": null,
   "metadata": {},
   "outputs": [],
   "source": [
    "Inspect\n",
    "The inspect module provides functions for learning about live objects, including modules, classes, instances, functions, and methods. The functions in this module can be used to retrieve the original source code for a function, look at the arguments to a method on the stack, and extract the sort of information useful for producing library documentation for source code.\n",
    "\n",
    "example.py\n",
    "\n",
    "# This comment appears first\n",
    "# and spans 2 lines.\n",
    "\n",
    "# This comment does not show up in the output of getcomments().\n",
    "\n",
    "\"\"\"Sample file to serve as the basis for inspect examples.\n",
    "\n",
    "\"\"\"\n",
    "def module_level_function(arg1, arg2='default', *args, **kwargs):\n",
    "13\n",
    "    \"\"\"This function is declared in the module.\"\"\"\n",
    "14\n",
    "    local_variable = arg1 * 2\n",
    "15\n",
    "    return local_variable\n",
    "16\n",
    "​\n",
    "17\n",
    "​\n",
    "18\n",
    "class A(object):\n",
    "19\n",
    "    \"\"\"The A class.\"\"\"\n",
    "20\n",
    "​\n",
    "21\n",
    "    def __init__(self, name):\n",
    "22\n",
    "        self.name = name\n",
    "23\n",
    "​\n",
    "24\n",
    "    def get_name(self):\n",
    "25\n",
    "        \"Returns the name of the instance.\"\n",
    "26\n",
    "        return self.name\n",
    "27\n",
    "​\n",
    "28\n",
    "​\n",
    "29\n",
    "instance_of_a = A('sample_instance')\n",
    "30\n",
    "​\n",
    "31\n",
    "​\n",
    "32\n",
    "class B(A):\n",
    "33\n",
    "    \"\"\"This is the B class.\n",
    "34\n",
    "    It is derived from A.\n",
    "35\n",
    "    \"\"\"\n",
    "36\n",
    "​\n",
    "37\n",
    "    # This method is not part of A.\n",
    "38\n",
    "    def do_something(self):\n",
    "39\n",
    "        \"\"\"Does some work\"\"\"\n",
    "40\n",
    "​\n",
    "41\n",
    "    def get_name(self):\n",
    "42\n",
    "        \"Overrides version from A\"\n",
    "43\n",
    "        return 'B(' + self.name + ')'\n",
    "44\n",
    "        \"\"\"\n",
    " "
   ]
  },
  {
   "cell_type": "code",
   "execution_count": null,
   "metadata": {},
   "outputs": [],
   "source": [
    "Use getmembers() to discover the member attributes of object. The types of members that might be returned depend on the type of object scanned. Modules can contain classes and functions; classes can contain methods and attributes; and so on.\n",
    "\n",
    "The arguments to getmembers() are an object to scan (a module, class, or instance) and an optional predicate function that is used to filter the objects returned. The return value is a list of tuples with two values: the name of the member, and the type of the member. The inspect module includes several such predicate functions with names like ismodule(), isclass(), etc.\n",
    "\n",
    "1\n",
    "# importing example.py from cell above.\n",
    "2\n",
    "import inspect\n",
    "3\n",
    "​\n",
    "4\n",
    "import example\n",
    "5\n",
    "​\n",
    "6\n",
    "for name, data in inspect.getmembers(example):\n",
    "7\n",
    "    if name.startswith('__'):\n",
    "8\n",
    "        continue\n",
    "9\n",
    "    print('{} : {!r}'.format(name, data))\n",
    "10\n",
    "    \n",
    "11\n",
    "\"\"\"\n",
    "12\n",
    "A : <class 'example.A'>\n",
    "13\n",
    "B : <class 'example.B'>\n",
    "14\n",
    "instance_of_a : <example.A object at 0x1045a6978>\n",
    "15\n",
    "module_level_function : <function module_level_function at\n",
    "16\n",
    "0x1045be8c8>\n",
    "17\n",
    "\"\"\"\n",
    "18"
   ]
  },
  {
   "cell_type": "code",
   "execution_count": null,
   "metadata": {},
   "outputs": [],
   "source": [
    "\n",
    "import inspect\n",
    "\n",
    "import example\n",
    "\n",
    "for name, data in inspect.getmembers(example, inspect.isclass):\n",
    "\n",
    "    print('{} : {!r}'.format(name, data))\n",
    "\n",
    "\"\"\"\n",
    "\n",
    "A : <class 'example.A'>\n",
    "\n",
    "B : <class 'example.B'>\n",
    "\n",
    "\"\"\""
   ]
  },
  {
   "cell_type": "code",
   "execution_count": null,
   "metadata": {},
   "outputs": [],
   "source": [
    "\n",
    "pprint(inspect.getmembers(example.A), width=65)\n",
    "\n",
    "pprint(inspect.getmembers(example.A, inspect.isfunction))\n",
    "\n",
    "a = example.A(name='inspect_getmembers')\n",
    "\n",
    "pprint(inspect.getmembers(a, inspect.ismethod))"
   ]
  },
  {
   "cell_type": "code",
   "execution_count": null,
   "metadata": {},
   "outputs": [],
   "source": [
    "\n",
    "print('B.__doc__:')\n",
    "\n",
    "print(example.B.__doc__)\n",
    "\n",
    "print()\n",
    "\n",
    "print('getdoc(B):')\n",
    "\n",
    "print(inspect.getdoc(example.B))"
   ]
  },
  {
   "cell_type": "code",
   "execution_count": 3,
   "metadata": {},
   "outputs": [],
   "source": [
    "# the data above is pasted from some where please bear."
   ]
  },
  {
   "cell_type": "code",
   "execution_count": null,
   "metadata": {},
   "outputs": [],
   "source": [
    "print(inspect.getcomments(example.B.do_something))"
   ]
  },
  {
   "cell_type": "code",
   "execution_count": null,
   "metadata": {},
   "outputs": [],
   "source": [
    "# If the .py file is available for a module, the original source code for the class or \n",
    "# method can be retrieved using getsource() and getsourcelines().\n",
    "\n",
    "print(inspect.getsource(example.A))"
   ]
  },
  {
   "cell_type": "code",
   "execution_count": null,
   "metadata": {},
   "outputs": [],
   "source": [
    "print(inspect.getsource(example.A.get_name))"
   ]
  },
  {
   "cell_type": "code",
   "execution_count": null,
   "metadata": {},
   "outputs": [],
   "source": [
    "# The other function for working with class hierarchies is getmro(), which returns a tuple of classes in the order they should be scanned when resolving an attribute that might be inherited from a base class using the Method Resolution Order (MRO).\n",
    "# Each class in the sequence appears only once.\n",
    "\n",
    "import inspect\n",
    "import example\n",
    "\n",
    "\n",
    "class C(object):\n",
    "    pass\n",
    "\n",
    "\n",
    "class C_First(C, example.B):\n",
    "    pass\n",
    "\n",
    "\n",
    "class B_First(example.B, C):\n",
    "    pass\n",
    "\n",
    "\n",
    "print('B_First:')\n",
    "for c in inspect.getmro(B_First):\n",
    "    print('  {}'.format(c.__name__))\n",
    "print()\n",
    "print('C_First:')\n",
    "for c in inspect.getmro(C_First):\n",
    "    print('  {}'.format(c.__name__))\n",
    "\n",
    "# This output demonstrates the “depth-first” nature of the MRO search. For B_First,\n",
    "# A also comes before C in the search order, because B is derived from A.\n",
    "\"\"\"\n",
    "$ python3 inspect_getmro.py\n",
    "\n",
    "B_First:\n",
    "  B_First\n",
    "  B\n",
    "  A\n",
    "  C\n",
    "  object\n",
    "\n",
    "C_First:\n",
    "  C_First\n",
    "  C\n",
    "  B\n",
    "  A\n",
    "  object\n",
    "\"\"\""
   ]
  },
  {
   "cell_type": "markdown",
   "metadata": {},
   "source": [
    "In addition to introspection of code objects, inspect includes functions for inspecting the runtime environment while a program is being executed. Most of these functions work with the call stack, and operate on call frames. Frame objects hold the current execution context, including references to the code being run, the operation being executed, as well as the values of local and global variables. Typically such information is used to build tracebacks when exceptions are raised. It can also be useful for logging or when debugging programs, since the stack frames can be interrogated to discover the argument values passed into the functions."
   ]
  },
  {
   "cell_type": "code",
   "execution_count": 4,
   "metadata": {},
   "outputs": [
    {
     "name": "stdout",
     "output_type": "stream",
     "text": [
      "line 9 of <ipython-input-4-d52136f9aae2>\n",
      "locals:\n",
      "{'frame': <frame at 0x0000016EDF2EF258, file '<ipython-input-4-d52136f9aae2>', line 12, code recurse>,\n",
      " 'keyword': 'changed value of argument',\n",
      " 'kwonly': 'must be named',\n",
      " 'limit': 2,\n",
      " 'local_variable': '..'}\n",
      "\n",
      "line 9 of <ipython-input-4-d52136f9aae2>\n",
      "locals:\n",
      "{'frame': <frame at 0x0000016EDF80D418, file '<ipython-input-4-d52136f9aae2>', line 12, code recurse>,\n",
      " 'keyword': 'changed value of argument',\n",
      " 'kwonly': 'must be named',\n",
      " 'limit': 1,\n",
      " 'local_variable': '.'}\n",
      "\n",
      "line 9 of <ipython-input-4-d52136f9aae2>\n",
      "locals:\n",
      "{'frame': <frame at 0x0000016EDF810438, file '<ipython-input-4-d52136f9aae2>', line 12, code recurse>,\n",
      " 'keyword': 'changed value of argument',\n",
      " 'kwonly': 'must be named',\n",
      " 'limit': 0,\n",
      " 'local_variable': ''}\n",
      "\n"
     ]
    }
   ],
   "source": [
    "import inspect\n",
    "import pprint\n",
    "\n",
    "\n",
    "def recurse(limit, keyword='default', *, kwonly='must be named'):\n",
    "    local_variable = '.' * limit\n",
    "    keyword = 'changed value of argument'\n",
    "    frame = inspect.currentframe()\n",
    "    print('line {} of {}'.format(frame.f_lineno,\n",
    "                                 frame.f_code.co_filename))\n",
    "    print('locals:')\n",
    "    pprint.pprint(frame.f_locals)\n",
    "    print()\n",
    "    if limit <= 0:\n",
    "        return\n",
    "    recurse(limit - 1)\n",
    "    return local_variable\n",
    "\n",
    "if __name__ == '__main__':\n",
    "    recurse(2)\n"
   ]
  },
  {
   "cell_type": "code",
   "execution_count": null,
   "metadata": {},
   "outputs": [],
   "source": []
  }
 ],
 "metadata": {
  "kernelspec": {
   "display_name": "Python 3",
   "language": "python",
   "name": "python3"
  },
  "language_info": {
   "codemirror_mode": {
    "name": "ipython",
    "version": 3
   },
   "file_extension": ".py",
   "mimetype": "text/x-python",
   "name": "python",
   "nbconvert_exporter": "python",
   "pygments_lexer": "ipython3",
   "version": "3.7.3"
  }
 },
 "nbformat": 4,
 "nbformat_minor": 2
}
